{
 "cells": [
  {
   "cell_type": "markdown",
   "id": "74218085",
   "metadata": {},
   "source": [
    "Imports and Initializations"
   ]
  },
  {
   "cell_type": "code",
   "execution_count": 13,
   "id": "52f763aa",
   "metadata": {},
   "outputs": [
    {
     "name": "stdout",
     "output_type": "stream",
     "text": [
      "C:\\Users\\chmat\\Desktop\\THESIS\n",
      "EnergyPlus, Version 9.6.0-f420c06a69, YMD=2022.04.14 13:46\n",
      "EnergyPlus, Version 9.6.0-f420c06a69, YMD=2022.04.14 13:46\n",
      "PythonLinkage: Linked to Python Version: \"3.9.7 (tags/v3.9.7:1016ef3, Aug 30 2021, 20:19:38) [MSC v.1929 64 bit (AMD64)]\"\n",
      "Built on Platform: Windows_x86_64\n",
      "Usage: energyplus [options] [input-file]\n",
      "Options:\n",
      "  -a, --annual                 Force annual simulation\n",
      "  -c, --convert                Output IDF->epJSON or epJSON->IDF, dependent on\n",
      "                               input file type\n",
      "  -d, --output-directory ARG   Output directory path (default: current\n",
      "                               directory)\n",
      "  -D, --design-day             Force design-day-only simulation\n",
      "  -h, --help                   Display help information\n",
      "  -i, --idd ARG                Input data dictionary path (default: Energy+.idd\n",
      "                               in executable directory)\n",
      "  -j, --jobs ARG               Multi-thread with N threads; 1 thread with no\n",
      "                               arg. (Currently only for G-Function generation)\n",
      "  -m, --epmacro                Run EPMacro prior to simulation\n",
      "  -p, --output-prefix ARG      Prefix for output file names (default: eplus)\n",
      "  -r, --readvars               Run ReadVarsESO after simulation\n",
      "  -s, --output-suffix ARG      Suffix style for output file names (default: L)\n",
      "                                  L: Legacy (e.g., eplustbl.csv)\n",
      "                                  C: Capital (e.g., eplusTable.csv)\n",
      "                                  D: Dash (e.g., eplus-table.csv)\n",
      "  -v, --version                Display version information\n",
      "  -w, --weather ARG            Weather file path (default: in.epw in current\n",
      "                               directory)\n",
      "  -x, --expandobjects          Run ExpandObjects prior to simulation\n",
      "--convert-only                 Only convert IDF->epJSON or epJSON->IDF,\n",
      "                               dependent on input file type. No simulation\n",
      "Example: energyplus -w weather.epw -r input.idf\n"
     ]
    }
   ],
   "source": [
    "!cd\n",
    "!C:\\EnergyPlusV9-6-0\\EnergyPlus -v\n",
    "!C:\\EnergyPlusV9-6-0\\EnergyPlus -h\n",
    "import os\n",
    "import opyplus as op\n",
    "import numpy as np\n",
    "import matplotlib.pyplot as plt\n",
    "import scipy.sparse as sp\n",
    "import pandas as pd\n",
    "eplus_dir_path = op.get_eplus_base_dir_path((9, 6, 0))\n",
    "# print(\"Baseline Filepath:\")\n",
    "# filepath1 = input()\n",
    "# print(\"Optimized Filepath:\")\n",
    "# filepath2 = input()\n",
    "idf_path = \"C:\\\\Users\\\\chmat\\\\Documents\\\\GenOpt\\\\9112\\\\backup\\\\0009112.idf\"\n",
    "idf_path2 = \"C:\\\\Users\\\\chmat\\\\Documents\\\\GenOpt\\\\9112\\\\output\\\\output.idf\"\n",
    "#idf_path3 = \"C:\\\\Users\\\\chmat\\\\Documents\\\\GenOpt\\\\2068\\\\test\\\\test.expidf\"\n",
    "epw_path = os.path.join(\"-w\",\n",
    "    eplus_dir_path,\n",
    "    \"WeatherData\",\n",
    "    \"USA_CO_Denver-Aurora-Buckley.AFB.724695_TMY3.epw\")\n",
    "\n",
    "PricePerKwh = pd.read_excel (r'C:\\\\Users\\\\chmat\\\\Desktop\\\\THESIS\\\\Optimization Files\\\\TimeofDayPricing.xlsx')"
   ]
  },
  {
   "cell_type": "markdown",
   "id": "b304ba92",
   "metadata": {},
   "source": [
    "BASELINE"
   ]
  },
  {
   "cell_type": "code",
   "execution_count": 14,
   "id": "c2eccffc",
   "metadata": {
    "scrolled": true
   },
   "outputs": [],
   "source": [
    "# # # run simulation\n",
    "# s = op.simulate(idf_path, epw_path, \"Baseline\")\n",
    "# print(f\"status: {s.get_status()}\\n\")\n",
    "# print(f\"Eplus .err file:\\n{s.get_out_err().get_content()}\")\n",
    "# # eso = s.get_out_eso()\n",
    "# # print(eso.get_info())"
   ]
  },
  {
   "cell_type": "markdown",
   "id": "f1658733",
   "metadata": {},
   "source": [
    "OPTIMIZED"
   ]
  },
  {
   "cell_type": "code",
   "execution_count": 15,
   "id": "7af1e241",
   "metadata": {},
   "outputs": [],
   "source": [
    "# # # run simulation\n",
    "# s2 = op.simulate(idf_path2, epw_path, \"Optimized\")\n",
    "# print(f\"status: {s2.get_status()}\\n\")\n",
    "# print(f\"Eplus .err file:\\n{s2.get_out_err().get_content()}\")"
   ]
  },
  {
   "cell_type": "markdown",
   "id": "02fe4296",
   "metadata": {},
   "source": [
    "TEST"
   ]
  },
  {
   "cell_type": "code",
   "execution_count": 16,
   "id": "569d88ba",
   "metadata": {},
   "outputs": [],
   "source": [
    "# # # run simulation\n",
    "# s3 = op.simulate(idf_path3, epw_path, \"Test\")\n",
    "# print(f\"status: {s3.get_status()}\\n\")\n",
    "# print(f\"Eplus .err file:\\n{s3.get_out_err().get_content()}\")"
   ]
  },
  {
   "cell_type": "markdown",
   "id": "b03d30cf",
   "metadata": {},
   "source": [
    "PULL DATA"
   ]
  },
  {
   "cell_type": "code",
   "execution_count": 17,
   "id": "49e33416",
   "metadata": {},
   "outputs": [
    {
     "ename": "EmptyDataError",
     "evalue": "No columns to parse from file",
     "output_type": "error",
     "traceback": [
      "\u001b[1;31m---------------------------------------------------------------------------\u001b[0m",
      "\u001b[1;31mEmptyDataError\u001b[0m                            Traceback (most recent call last)",
      "\u001b[1;32m<ipython-input-17-00b99aca7c00>\u001b[0m in \u001b[0;36m<module>\u001b[1;34m\u001b[0m\n\u001b[0;32m      1\u001b[0m \u001b[0mdf\u001b[0m \u001b[1;33m=\u001b[0m \u001b[0mpd\u001b[0m\u001b[1;33m.\u001b[0m\u001b[0mread_csv\u001b[0m\u001b[1;33m(\u001b[0m\u001b[0midf_path\u001b[0m\u001b[1;33m[\u001b[0m\u001b[1;36m0\u001b[0m\u001b[1;33m:\u001b[0m\u001b[1;33m-\u001b[0m\u001b[1;36m3\u001b[0m\u001b[1;33m]\u001b[0m\u001b[1;33m+\u001b[0m\u001b[1;34m'csv'\u001b[0m\u001b[1;33m)\u001b[0m\u001b[1;33m\u001b[0m\u001b[1;33m\u001b[0m\u001b[0m\n\u001b[1;32m----> 2\u001b[1;33m \u001b[0mdf2\u001b[0m \u001b[1;33m=\u001b[0m \u001b[0mpd\u001b[0m\u001b[1;33m.\u001b[0m\u001b[0mread_csv\u001b[0m\u001b[1;33m(\u001b[0m\u001b[0midf_path2\u001b[0m\u001b[1;33m[\u001b[0m\u001b[1;36m0\u001b[0m\u001b[1;33m:\u001b[0m\u001b[1;33m-\u001b[0m\u001b[1;36m3\u001b[0m\u001b[1;33m]\u001b[0m\u001b[1;33m+\u001b[0m\u001b[1;34m'csv'\u001b[0m\u001b[1;33m)\u001b[0m\u001b[1;33m\u001b[0m\u001b[1;33m\u001b[0m\u001b[0m\n\u001b[0m\u001b[0;32m      3\u001b[0m \u001b[1;31m#df3 = pd.read_csv('C:\\\\Users\\\\chmat\\\\Documents\\\\GenOpt\\\\1\\\\test\\\\REFBLDG1.csv')\u001b[0m\u001b[1;33m\u001b[0m\u001b[1;33m\u001b[0m\u001b[1;33m\u001b[0m\u001b[0m\n",
      "\u001b[1;32m~\\anaconda3\\lib\\site-packages\\pandas\\io\\parsers.py\u001b[0m in \u001b[0;36mread_csv\u001b[1;34m(filepath_or_buffer, sep, delimiter, header, names, index_col, usecols, squeeze, prefix, mangle_dupe_cols, dtype, engine, converters, true_values, false_values, skipinitialspace, skiprows, skipfooter, nrows, na_values, keep_default_na, na_filter, verbose, skip_blank_lines, parse_dates, infer_datetime_format, keep_date_col, date_parser, dayfirst, cache_dates, iterator, chunksize, compression, thousands, decimal, lineterminator, quotechar, quoting, doublequote, escapechar, comment, encoding, dialect, error_bad_lines, warn_bad_lines, delim_whitespace, low_memory, memory_map, float_precision, storage_options)\u001b[0m\n\u001b[0;32m    608\u001b[0m     \u001b[0mkwds\u001b[0m\u001b[1;33m.\u001b[0m\u001b[0mupdate\u001b[0m\u001b[1;33m(\u001b[0m\u001b[0mkwds_defaults\u001b[0m\u001b[1;33m)\u001b[0m\u001b[1;33m\u001b[0m\u001b[1;33m\u001b[0m\u001b[0m\n\u001b[0;32m    609\u001b[0m \u001b[1;33m\u001b[0m\u001b[0m\n\u001b[1;32m--> 610\u001b[1;33m     \u001b[1;32mreturn\u001b[0m \u001b[0m_read\u001b[0m\u001b[1;33m(\u001b[0m\u001b[0mfilepath_or_buffer\u001b[0m\u001b[1;33m,\u001b[0m \u001b[0mkwds\u001b[0m\u001b[1;33m)\u001b[0m\u001b[1;33m\u001b[0m\u001b[1;33m\u001b[0m\u001b[0m\n\u001b[0m\u001b[0;32m    611\u001b[0m \u001b[1;33m\u001b[0m\u001b[0m\n\u001b[0;32m    612\u001b[0m \u001b[1;33m\u001b[0m\u001b[0m\n",
      "\u001b[1;32m~\\anaconda3\\lib\\site-packages\\pandas\\io\\parsers.py\u001b[0m in \u001b[0;36m_read\u001b[1;34m(filepath_or_buffer, kwds)\u001b[0m\n\u001b[0;32m    460\u001b[0m \u001b[1;33m\u001b[0m\u001b[0m\n\u001b[0;32m    461\u001b[0m     \u001b[1;31m# Create the parser.\u001b[0m\u001b[1;33m\u001b[0m\u001b[1;33m\u001b[0m\u001b[1;33m\u001b[0m\u001b[0m\n\u001b[1;32m--> 462\u001b[1;33m     \u001b[0mparser\u001b[0m \u001b[1;33m=\u001b[0m \u001b[0mTextFileReader\u001b[0m\u001b[1;33m(\u001b[0m\u001b[0mfilepath_or_buffer\u001b[0m\u001b[1;33m,\u001b[0m \u001b[1;33m**\u001b[0m\u001b[0mkwds\u001b[0m\u001b[1;33m)\u001b[0m\u001b[1;33m\u001b[0m\u001b[1;33m\u001b[0m\u001b[0m\n\u001b[0m\u001b[0;32m    463\u001b[0m \u001b[1;33m\u001b[0m\u001b[0m\n\u001b[0;32m    464\u001b[0m     \u001b[1;32mif\u001b[0m \u001b[0mchunksize\u001b[0m \u001b[1;32mor\u001b[0m \u001b[0miterator\u001b[0m\u001b[1;33m:\u001b[0m\u001b[1;33m\u001b[0m\u001b[1;33m\u001b[0m\u001b[0m\n",
      "\u001b[1;32m~\\anaconda3\\lib\\site-packages\\pandas\\io\\parsers.py\u001b[0m in \u001b[0;36m__init__\u001b[1;34m(self, f, engine, **kwds)\u001b[0m\n\u001b[0;32m    817\u001b[0m             \u001b[0mself\u001b[0m\u001b[1;33m.\u001b[0m\u001b[0moptions\u001b[0m\u001b[1;33m[\u001b[0m\u001b[1;34m\"has_index_names\"\u001b[0m\u001b[1;33m]\u001b[0m \u001b[1;33m=\u001b[0m \u001b[0mkwds\u001b[0m\u001b[1;33m[\u001b[0m\u001b[1;34m\"has_index_names\"\u001b[0m\u001b[1;33m]\u001b[0m\u001b[1;33m\u001b[0m\u001b[1;33m\u001b[0m\u001b[0m\n\u001b[0;32m    818\u001b[0m \u001b[1;33m\u001b[0m\u001b[0m\n\u001b[1;32m--> 819\u001b[1;33m         \u001b[0mself\u001b[0m\u001b[1;33m.\u001b[0m\u001b[0m_engine\u001b[0m \u001b[1;33m=\u001b[0m \u001b[0mself\u001b[0m\u001b[1;33m.\u001b[0m\u001b[0m_make_engine\u001b[0m\u001b[1;33m(\u001b[0m\u001b[0mself\u001b[0m\u001b[1;33m.\u001b[0m\u001b[0mengine\u001b[0m\u001b[1;33m)\u001b[0m\u001b[1;33m\u001b[0m\u001b[1;33m\u001b[0m\u001b[0m\n\u001b[0m\u001b[0;32m    820\u001b[0m \u001b[1;33m\u001b[0m\u001b[0m\n\u001b[0;32m    821\u001b[0m     \u001b[1;32mdef\u001b[0m \u001b[0mclose\u001b[0m\u001b[1;33m(\u001b[0m\u001b[0mself\u001b[0m\u001b[1;33m)\u001b[0m\u001b[1;33m:\u001b[0m\u001b[1;33m\u001b[0m\u001b[1;33m\u001b[0m\u001b[0m\n",
      "\u001b[1;32m~\\anaconda3\\lib\\site-packages\\pandas\\io\\parsers.py\u001b[0m in \u001b[0;36m_make_engine\u001b[1;34m(self, engine)\u001b[0m\n\u001b[0;32m   1048\u001b[0m             )\n\u001b[0;32m   1049\u001b[0m         \u001b[1;31m# error: Too many arguments for \"ParserBase\"\u001b[0m\u001b[1;33m\u001b[0m\u001b[1;33m\u001b[0m\u001b[1;33m\u001b[0m\u001b[0m\n\u001b[1;32m-> 1050\u001b[1;33m         \u001b[1;32mreturn\u001b[0m \u001b[0mmapping\u001b[0m\u001b[1;33m[\u001b[0m\u001b[0mengine\u001b[0m\u001b[1;33m]\u001b[0m\u001b[1;33m(\u001b[0m\u001b[0mself\u001b[0m\u001b[1;33m.\u001b[0m\u001b[0mf\u001b[0m\u001b[1;33m,\u001b[0m \u001b[1;33m**\u001b[0m\u001b[0mself\u001b[0m\u001b[1;33m.\u001b[0m\u001b[0moptions\u001b[0m\u001b[1;33m)\u001b[0m  \u001b[1;31m# type: ignore[call-arg]\u001b[0m\u001b[1;33m\u001b[0m\u001b[1;33m\u001b[0m\u001b[0m\n\u001b[0m\u001b[0;32m   1051\u001b[0m \u001b[1;33m\u001b[0m\u001b[0m\n\u001b[0;32m   1052\u001b[0m     \u001b[1;32mdef\u001b[0m \u001b[0m_failover_to_python\u001b[0m\u001b[1;33m(\u001b[0m\u001b[0mself\u001b[0m\u001b[1;33m)\u001b[0m\u001b[1;33m:\u001b[0m\u001b[1;33m\u001b[0m\u001b[1;33m\u001b[0m\u001b[0m\n",
      "\u001b[1;32m~\\anaconda3\\lib\\site-packages\\pandas\\io\\parsers.py\u001b[0m in \u001b[0;36m__init__\u001b[1;34m(self, src, **kwds)\u001b[0m\n\u001b[0;32m   1896\u001b[0m \u001b[1;33m\u001b[0m\u001b[0m\n\u001b[0;32m   1897\u001b[0m         \u001b[1;32mtry\u001b[0m\u001b[1;33m:\u001b[0m\u001b[1;33m\u001b[0m\u001b[1;33m\u001b[0m\u001b[0m\n\u001b[1;32m-> 1898\u001b[1;33m             \u001b[0mself\u001b[0m\u001b[1;33m.\u001b[0m\u001b[0m_reader\u001b[0m \u001b[1;33m=\u001b[0m \u001b[0mparsers\u001b[0m\u001b[1;33m.\u001b[0m\u001b[0mTextReader\u001b[0m\u001b[1;33m(\u001b[0m\u001b[0mself\u001b[0m\u001b[1;33m.\u001b[0m\u001b[0mhandles\u001b[0m\u001b[1;33m.\u001b[0m\u001b[0mhandle\u001b[0m\u001b[1;33m,\u001b[0m \u001b[1;33m**\u001b[0m\u001b[0mkwds\u001b[0m\u001b[1;33m)\u001b[0m\u001b[1;33m\u001b[0m\u001b[1;33m\u001b[0m\u001b[0m\n\u001b[0m\u001b[0;32m   1899\u001b[0m         \u001b[1;32mexcept\u001b[0m \u001b[0mException\u001b[0m\u001b[1;33m:\u001b[0m\u001b[1;33m\u001b[0m\u001b[1;33m\u001b[0m\u001b[0m\n\u001b[0;32m   1900\u001b[0m             \u001b[0mself\u001b[0m\u001b[1;33m.\u001b[0m\u001b[0mhandles\u001b[0m\u001b[1;33m.\u001b[0m\u001b[0mclose\u001b[0m\u001b[1;33m(\u001b[0m\u001b[1;33m)\u001b[0m\u001b[1;33m\u001b[0m\u001b[1;33m\u001b[0m\u001b[0m\n",
      "\u001b[1;32mpandas\\_libs\\parsers.pyx\u001b[0m in \u001b[0;36mpandas._libs.parsers.TextReader.__cinit__\u001b[1;34m()\u001b[0m\n",
      "\u001b[1;31mEmptyDataError\u001b[0m: No columns to parse from file"
     ]
    }
   ],
   "source": [
    "df = pd.read_csv(idf_path[0:-3]+'csv')\n",
    "df2 = pd.read_csv(idf_path2[0:-3]+'csv')\n",
    "#df3 = pd.read_csv('C:\\\\Users\\\\chmat\\\\Documents\\\\GenOpt\\\\1\\\\test\\\\REFBLDG1.csv')"
   ]
  },
  {
   "cell_type": "code",
   "execution_count": null,
   "id": "4276c6c2",
   "metadata": {},
   "outputs": [],
   "source": [
    "df2"
   ]
  },
  {
   "cell_type": "code",
   "execution_count": 6,
   "id": "fbe13529",
   "metadata": {},
   "outputs": [],
   "source": [
    "# df = df[48:72]\n",
    "# df2 = df2[48:72]\n",
    "# #df3 = df3[48:72]"
   ]
  },
  {
   "cell_type": "code",
   "execution_count": 7,
   "id": "e41fed93",
   "metadata": {},
   "outputs": [
    {
     "ename": "NameError",
     "evalue": "name 'df2' is not defined",
     "output_type": "error",
     "traceback": [
      "\u001b[1;31m---------------------------------------------------------------------------\u001b[0m",
      "\u001b[1;31mNameError\u001b[0m                                 Traceback (most recent call last)",
      "\u001b[1;32m<ipython-input-7-3b9398c9a8bf>\u001b[0m in \u001b[0;36m<module>\u001b[1;34m\u001b[0m\n\u001b[1;32m----> 1\u001b[1;33m \u001b[0mdf2\u001b[0m\u001b[1;33m.\u001b[0m\u001b[0mkeys\u001b[0m\u001b[1;33m(\u001b[0m\u001b[1;33m)\u001b[0m\u001b[1;33m\u001b[0m\u001b[1;33m\u001b[0m\u001b[0m\n\u001b[0m",
      "\u001b[1;31mNameError\u001b[0m: name 'df2' is not defined"
     ]
    }
   ],
   "source": [
    "df2.keys()"
   ]
  },
  {
   "cell_type": "code",
   "execution_count": 9,
   "id": "4ec1f2ad",
   "metadata": {
    "scrolled": true
   },
   "outputs": [],
   "source": [
    "hours =24\n",
    "\n",
    "ZoneT = df[[\"LIVING ZONE:Zone Mean Air Temperature [C](Hourly)\"]]\n",
    "OutsideT = df[\"Environment:Site Outdoor Air Drybulb Temperature [C](Hourly)\"]\n",
    "Heating = df[\"Heating:Electricity [J](Hourly) \"]\n",
    "Setpoint = df[\"LIVING ZONE:Zone Thermostat Heating Setpoint Temperature [C](Hourly)\"]\n",
    "\n",
    "ZoneT2 = df2[[\"LIVING ZONE:Zone Mean Air Temperature [C](Hourly)\"]]\n",
    "OutsideT2 = df2[\"Environment:Site Outdoor Air Drybulb Temperature [C](Hourly)\"]\n",
    "Heating2 = df2[\"Heating:Electricity [J](Hourly) \"]\n",
    "Setpoint2 = df2[\"LIVING ZONE:Zone Thermostat Heating Setpoint Temperature [C](Hourly)\"]\n",
    "\n",
    "# ZoneT3 = df3[[\"LIVING_UNIT1:Zone Mean Air Temperature [C](Hourly)\"]]\n",
    "# OutsideT3 = df3[\"Environment:Site Outdoor Air Drybulb Temperature [C](Hourly)\"]\n",
    "# Heating3 = df3[\"General:Heating:Electricity [J](Hourly) \"]\n",
    "# Setpoint3 = df3[\"LIVING_UNIT1:Zone Thermostat Heating Setpoint Temperature [C](Hourly)\"]\n"
   ]
  },
  {
   "cell_type": "code",
   "execution_count": 10,
   "id": "d3aa29b0",
   "metadata": {},
   "outputs": [],
   "source": [
    "##PRICE\n",
    "### Total Price for Time Period\n",
    "TotPrice = np.vdot(PricePerKwh[0:hours]/3.6E6, Heating[0:hours])+5.60/31\n",
    "TotPrice2 = np.vdot(PricePerKwh[0:hours]/3.6E6, Heating2[0:hours])+5.60/31\n"
   ]
  },
  {
   "cell_type": "code",
   "execution_count": 11,
   "id": "6eb51e2d",
   "metadata": {
    "scrolled": true
   },
   "outputs": [
    {
     "data": {
      "image/png": "[encoded data removed]",
      "text/plain": [
       "<Figure size 432x288 with 2 Axes>"
      ]
     },
     "metadata": {
      "needs_background": "light"
     },
     "output_type": "display_data"
    },
    {
     "data": {
      "image/png": "[encoded data removed]",
      "text/plain": [
       "<Figure size 432x288 with 2 Axes>"
      ]
     },
     "metadata": {
      "needs_background": "light"
     },
     "output_type": "display_data"
    }
   ],
   "source": [
    "## BASELINE SETPOINT AND ACUTAL\n",
    "t = np.arange(0, hours, 1)\n",
    "data1 = ZoneT[0:hours]\n",
    "data2 = Setpoint[0:hours]\n",
    "\n",
    "fig, ax1 = plt.subplots()\n",
    "\n",
    "color = 'tab:red'\n",
    "title = \"Temperature Setpoint & Actual\"\n",
    "ax1.set_xlabel('time (h)')\n",
    "ax1.set_ylabel('Zone T', color=color)\n",
    "ax1.plot(t, data1, color=color)\n",
    "ax1.tick_params(axis='y', labelcolor=color)\n",
    "ax1.set_ylim([16, 24])\n",
    "\n",
    "ax2 = ax1.twinx()  # instantiate a second axes that shares the same x-axis\n",
    "\n",
    "color = 'tab:blue'\n",
    "ax2.set_ylabel('Setpoint T', color=color)  # we already handled the x-label with ax1\n",
    "ax2.plot(t, data2, color=color)\n",
    "ax2.tick_params(axis='y', labelcolor=color)\n",
    "ax2.set_ylim([16, 24])\n",
    "plt.title('Baseline')\n",
    "fig.tight_layout()  # otherwise the right y-label is slightly clipped\n",
    "plt.show()\n",
    "\n",
    "## Optimized\n",
    "t = np.arange(0, hours, 1)\n",
    "data1 = ZoneT2[0:hours]\n",
    "data2 = Setpoint2[0:hours]\n",
    "\n",
    "fig, ax1 = plt.subplots()\n",
    "\n",
    "color = 'tab:red'\n",
    "title = \"Temperature Setpoint & Actual\"\n",
    "ax1.set_xlabel('time (h)')\n",
    "ax1.set_ylabel('Zone T', color=color)\n",
    "ax1.plot(t, data1, color=color)\n",
    "ax1.tick_params(axis='y', labelcolor=color)\n",
    "ax1.set_ylim([16, 24])\n",
    "\n",
    "ax2 = ax1.twinx()  # instantiate a second axes that shares the same x-axis\n",
    "\n",
    "color = 'tab:blue'\n",
    "ax2.set_ylabel('Setpoint T', color=color)  # we already handled the x-label with ax1\n",
    "ax2.plot(t, data2, color=color)\n",
    "ax2.tick_params(axis='y', labelcolor=color)\n",
    "ax2.set_ylim([16, 24])\n",
    "plt.title('Optimized')\n",
    "fig.tight_layout()  # otherwise the right y-label is slightly clipped\n",
    "plt.show()\n",
    "\n",
    "# ## Test\n",
    "# t = np.arange(0, hours, 1)\n",
    "# data1 = ZoneT2[0:hours]\n",
    "# data2 = Setpoint2[0:hours]\n",
    "\n",
    "# fig, ax1 = plt.subplots()\n",
    "\n",
    "# color = 'tab:red'\n",
    "# title = \"Temperature Setpoint & Actual\"\n",
    "# ax1.set_xlabel('time (h)')\n",
    "# ax1.set_ylabel('Zone T', color=color)\n",
    "# ax1.plot(t, data1, color=color)\n",
    "# ax1.tick_params(axis='y', labelcolor=color)\n",
    "# ax1.set_ylim([17, 24])\n",
    "\n",
    "# ax2 = ax1.twinx()  # instantiate a second axes that shares the same x-axis\n",
    "\n",
    "# color = 'tab:blue'\n",
    "# ax2.set_ylabel('Setpoint T', color=color)  # we already handled the x-label with ax1\n",
    "# ax2.plot(t, data2, color=color)\n",
    "# ax2.tick_params(axis='y', labelcolor=color)\n",
    "# ax2.set_ylim([17, 24])\n",
    "# plt.title('Test')\n",
    "# fig.tight_layout()  # otherwise the right y-label is slightly clipped\n",
    "# plt.show()\n",
    "\n"
   ]
  },
  {
   "cell_type": "code",
   "execution_count": 13,
   "id": "5d96d80d",
   "metadata": {},
   "outputs": [
    {
     "data": {
      "image/png": "[encoded data removed]",
      "text/plain": [
       "<Figure size 432x288 with 2 Axes>"
      ]
     },
     "metadata": {
      "needs_background": "light"
     },
     "output_type": "display_data"
    },
    {
     "data": {
      "image/png": "[encoded data removed]",
      "text/plain": [
       "<Figure size 432x288 with 2 Axes>"
      ]
     },
     "metadata": {
      "needs_background": "light"
     },
     "output_type": "display_data"
    }
   ],
   "source": [
    "##HEATING ENERGY AND PRICE COMPARIOSN\n",
    "t = np.arange(1, hours, 1)\n",
    "data1 = Heating[0:hours-1]/3.6E6 ##J to kWh\n",
    "heatingop = Heating2[0:hours-1]/3.6E6\n",
    "data2 = PricePerKwh[0:hours-1]\n",
    "\n",
    "\n",
    "fig, ax1 = plt.subplots()\n",
    "\n",
    "color = 'tab:red'\n",
    "title = \"Temperature and Prices\"\n",
    "ax1.set_xlabel('time (h)')\n",
    "ax1.set_ylabel('Heating kWh', color=color)\n",
    "ax1.plot(t, data1, color=color)\n",
    "ax1.tick_params(axis='y', labelcolor=color)\n",
    "\n",
    "ax2 = ax1.twinx()  # instantiate a second axes that shares the same x-axis\n",
    "color = 'tab:blue'\n",
    "ax2.set_ylabel('$/kWh', color=color)  # we already handled the x-label with ax1\n",
    "ax2.plot(t, data2, color=color)\n",
    "\n",
    "ax2.set_ylim([0, 0.1])\n",
    "ax2.tick_params(axis='y', labelcolor=color)\n",
    "\n",
    "ax2.plot(t,heatingop, color='pink')\n",
    "\n",
    "fig.tight_layout()  # otherwise the right y-label is slightly clipped\n",
    "plt.show()\n",
    "\n",
    "#####Optimized\n",
    "t = np.arange(1, hours, 1)\n",
    "data1 = Heating2[0:hours-1]/3.6E6 ##J to kWh\n",
    "data2 = PricePerKwh[0:hours-1]*3.4E6\n",
    "\n",
    "fig, ax1 = plt.subplots()\n",
    "\n",
    "color = 'tab:red'\n",
    "title = \"Temperature and Prices\"\n",
    "ax1.set_xlabel('time (h)')\n",
    "ax1.set_ylabel('Heating kWh', color=color)\n",
    "ax1.plot(t, data1, color=color)\n",
    "ax1.tick_params(axis='y', labelcolor=color)\n",
    "\n",
    "ax2 = ax1.twinx()  # instantiate a second axes that shares the same x-axis\n",
    "color = 'tab:blue'\n",
    "ax2.set_ylabel('$/kWh', color=color)  # we already handled the x-label with ax1\n",
    "ax2.plot(t, data2, color=color)\n",
    "ax2.tick_params(axis='y', labelcolor=color)\n",
    "\n",
    "fig.tight_layout()  # otherwise the right y-label is slightly clipped\n",
    "plt.show()\n",
    "\n",
    "\n",
    "\n"
   ]
  },
  {
   "cell_type": "code",
   "execution_count": 14,
   "id": "04ad3a84",
   "metadata": {},
   "outputs": [
    {
     "name": "stdout",
     "output_type": "stream",
     "text": [
      "BASELINE: 0.8262400277203417 GJ\n",
      "BASELINE: $11.818506588944391\n",
      "OPTIMIZE: 0.6622163952134784 GJ\n",
      "BASELINE: $9.430778750039625\n"
     ]
    }
   ],
   "source": [
    "##COMPARISON\n",
    "print( 'BASELINE: ' + str(sum (Heating[0:hours]/1000000000)) + ' GJ')\n",
    "print( 'BASELINE: $' + str(TotPrice))\n",
    "#print( str(sum (Heating[0:hours]/3.6e6)) + 'kWh')\n",
    "print( 'OPTIMIZE: ' + str(sum (Heating2[0:hours]/1000000000)) + ' GJ')\n",
    "print( 'BASELINE: $' + str(TotPrice2))\n",
    "#print( 'TEST: ' + str(sum (Heating3[0:hours]/1000000000)) + ' GJ')"
   ]
  },
  {
   "cell_type": "markdown",
   "id": "d60aca57",
   "metadata": {},
   "source": [
    "# RATING ANOTHER SCHEDULE"
   ]
  },
  {
   "cell_type": "code",
   "execution_count": 214,
   "id": "b7b44791",
   "metadata": {},
   "outputs": [
    {
     "name": "stdout",
     "output_type": "stream",
     "text": [
      "5\n"
     ]
    },
    {
     "ename": "KeyError",
     "evalue": "'living_unit1,Zone Mean Air Temperature'",
     "output_type": "error",
     "traceback": [
      "\u001b[1;31m---------------------------------------------------------------------------\u001b[0m",
      "\u001b[1;31mKeyError\u001b[0m                                  Traceback (most recent call last)",
      "\u001b[1;32m~\\anaconda3\\lib\\site-packages\\pandas\\core\\indexes\\base.py\u001b[0m in \u001b[0;36mget_loc\u001b[1;34m(self, key, method, tolerance)\u001b[0m\n\u001b[0;32m   3079\u001b[0m             \u001b[1;32mtry\u001b[0m\u001b[1;33m:\u001b[0m\u001b[1;33m\u001b[0m\u001b[1;33m\u001b[0m\u001b[0m\n\u001b[1;32m-> 3080\u001b[1;33m                 \u001b[1;32mreturn\u001b[0m \u001b[0mself\u001b[0m\u001b[1;33m.\u001b[0m\u001b[0m_engine\u001b[0m\u001b[1;33m.\u001b[0m\u001b[0mget_loc\u001b[0m\u001b[1;33m(\u001b[0m\u001b[0mcasted_key\u001b[0m\u001b[1;33m)\u001b[0m\u001b[1;33m\u001b[0m\u001b[1;33m\u001b[0m\u001b[0m\n\u001b[0m\u001b[0;32m   3081\u001b[0m             \u001b[1;32mexcept\u001b[0m \u001b[0mKeyError\u001b[0m \u001b[1;32mas\u001b[0m \u001b[0merr\u001b[0m\u001b[1;33m:\u001b[0m\u001b[1;33m\u001b[0m\u001b[1;33m\u001b[0m\u001b[0m\n",
      "\u001b[1;32mpandas\\_libs\\index.pyx\u001b[0m in \u001b[0;36mpandas._libs.index.IndexEngine.get_loc\u001b[1;34m()\u001b[0m\n",
      "\u001b[1;32mpandas\\_libs\\index.pyx\u001b[0m in \u001b[0;36mpandas._libs.index.IndexEngine.get_loc\u001b[1;34m()\u001b[0m\n",
      "\u001b[1;32mpandas\\_libs\\hashtable_class_helper.pxi\u001b[0m in \u001b[0;36mpandas._libs.hashtable.PyObjectHashTable.get_item\u001b[1;34m()\u001b[0m\n",
      "\u001b[1;32mpandas\\_libs\\hashtable_class_helper.pxi\u001b[0m in \u001b[0;36mpandas._libs.hashtable.PyObjectHashTable.get_item\u001b[1;34m()\u001b[0m\n",
      "\u001b[1;31mKeyError\u001b[0m: 'living_unit1,Zone Mean Air Temperature'",
      "\nThe above exception was the direct cause of the following exception:\n",
      "\u001b[1;31mKeyError\u001b[0m                                  Traceback (most recent call last)",
      "\u001b[1;32m<ipython-input-214-d3d0db6d8d14>\u001b[0m in \u001b[0;36m<module>\u001b[1;34m\u001b[0m\n\u001b[0;32m     15\u001b[0m \u001b[1;33m\u001b[0m\u001b[0m\n\u001b[0;32m     16\u001b[0m \u001b[1;32mfor\u001b[0m \u001b[0mi\u001b[0m \u001b[1;32min\u001b[0m \u001b[0mrange\u001b[0m \u001b[1;33m(\u001b[0m\u001b[1;36m23\u001b[0m\u001b[1;33m)\u001b[0m\u001b[1;33m:\u001b[0m\u001b[1;33m\u001b[0m\u001b[1;33m\u001b[0m\u001b[0m\n\u001b[1;32m---> 17\u001b[1;33m     \u001b[0mT\u001b[0m \u001b[1;33m=\u001b[0m \u001b[0mZoneT2\u001b[0m\u001b[1;33m[\u001b[0m\u001b[1;34m'living_unit1,Zone Mean Air Temperature'\u001b[0m\u001b[1;33m]\u001b[0m\u001b[1;33m[\u001b[0m\u001b[0mi\u001b[0m\u001b[1;33m]\u001b[0m\u001b[1;33m\u001b[0m\u001b[1;33m\u001b[0m\u001b[0m\n\u001b[0m\u001b[0;32m     18\u001b[0m     \u001b[1;32mif\u001b[0m \u001b[1;33m(\u001b[0m\u001b[0mi\u001b[0m \u001b[1;33m<\u001b[0m\u001b[1;36m7\u001b[0m \u001b[1;32mor\u001b[0m \u001b[0mi\u001b[0m\u001b[1;33m>\u001b[0m\u001b[1;36m17\u001b[0m\u001b[1;33m)\u001b[0m\u001b[1;33m:\u001b[0m\u001b[1;33m\u001b[0m\u001b[1;33m\u001b[0m\u001b[0m\n\u001b[0;32m     19\u001b[0m         \u001b[1;32mif\u001b[0m \u001b[1;33m(\u001b[0m\u001b[1;33m(\u001b[0m\u001b[0mT\u001b[0m\u001b[1;33m-\u001b[0m\u001b[0mPrefT\u001b[0m\u001b[1;33m)\u001b[0m\u001b[1;33m>\u001b[0m \u001b[1;36m1.25\u001b[0m\u001b[1;33m)\u001b[0m\u001b[1;33m:\u001b[0m\u001b[1;33m\u001b[0m\u001b[1;33m\u001b[0m\u001b[0m\n",
      "\u001b[1;32m~\\anaconda3\\lib\\site-packages\\pandas\\core\\frame.py\u001b[0m in \u001b[0;36m__getitem__\u001b[1;34m(self, key)\u001b[0m\n\u001b[0;32m   3022\u001b[0m             \u001b[1;32mif\u001b[0m \u001b[0mself\u001b[0m\u001b[1;33m.\u001b[0m\u001b[0mcolumns\u001b[0m\u001b[1;33m.\u001b[0m\u001b[0mnlevels\u001b[0m \u001b[1;33m>\u001b[0m \u001b[1;36m1\u001b[0m\u001b[1;33m:\u001b[0m\u001b[1;33m\u001b[0m\u001b[1;33m\u001b[0m\u001b[0m\n\u001b[0;32m   3023\u001b[0m                 \u001b[1;32mreturn\u001b[0m \u001b[0mself\u001b[0m\u001b[1;33m.\u001b[0m\u001b[0m_getitem_multilevel\u001b[0m\u001b[1;33m(\u001b[0m\u001b[0mkey\u001b[0m\u001b[1;33m)\u001b[0m\u001b[1;33m\u001b[0m\u001b[1;33m\u001b[0m\u001b[0m\n\u001b[1;32m-> 3024\u001b[1;33m             \u001b[0mindexer\u001b[0m \u001b[1;33m=\u001b[0m \u001b[0mself\u001b[0m\u001b[1;33m.\u001b[0m\u001b[0mcolumns\u001b[0m\u001b[1;33m.\u001b[0m\u001b[0mget_loc\u001b[0m\u001b[1;33m(\u001b[0m\u001b[0mkey\u001b[0m\u001b[1;33m)\u001b[0m\u001b[1;33m\u001b[0m\u001b[1;33m\u001b[0m\u001b[0m\n\u001b[0m\u001b[0;32m   3025\u001b[0m             \u001b[1;32mif\u001b[0m \u001b[0mis_integer\u001b[0m\u001b[1;33m(\u001b[0m\u001b[0mindexer\u001b[0m\u001b[1;33m)\u001b[0m\u001b[1;33m:\u001b[0m\u001b[1;33m\u001b[0m\u001b[1;33m\u001b[0m\u001b[0m\n\u001b[0;32m   3026\u001b[0m                 \u001b[0mindexer\u001b[0m \u001b[1;33m=\u001b[0m \u001b[1;33m[\u001b[0m\u001b[0mindexer\u001b[0m\u001b[1;33m]\u001b[0m\u001b[1;33m\u001b[0m\u001b[1;33m\u001b[0m\u001b[0m\n",
      "\u001b[1;32m~\\anaconda3\\lib\\site-packages\\pandas\\core\\indexes\\base.py\u001b[0m in \u001b[0;36mget_loc\u001b[1;34m(self, key, method, tolerance)\u001b[0m\n\u001b[0;32m   3080\u001b[0m                 \u001b[1;32mreturn\u001b[0m \u001b[0mself\u001b[0m\u001b[1;33m.\u001b[0m\u001b[0m_engine\u001b[0m\u001b[1;33m.\u001b[0m\u001b[0mget_loc\u001b[0m\u001b[1;33m(\u001b[0m\u001b[0mcasted_key\u001b[0m\u001b[1;33m)\u001b[0m\u001b[1;33m\u001b[0m\u001b[1;33m\u001b[0m\u001b[0m\n\u001b[0;32m   3081\u001b[0m             \u001b[1;32mexcept\u001b[0m \u001b[0mKeyError\u001b[0m \u001b[1;32mas\u001b[0m \u001b[0merr\u001b[0m\u001b[1;33m:\u001b[0m\u001b[1;33m\u001b[0m\u001b[1;33m\u001b[0m\u001b[0m\n\u001b[1;32m-> 3082\u001b[1;33m                 \u001b[1;32mraise\u001b[0m \u001b[0mKeyError\u001b[0m\u001b[1;33m(\u001b[0m\u001b[0mkey\u001b[0m\u001b[1;33m)\u001b[0m \u001b[1;32mfrom\u001b[0m \u001b[0merr\u001b[0m\u001b[1;33m\u001b[0m\u001b[1;33m\u001b[0m\u001b[0m\n\u001b[0m\u001b[0;32m   3083\u001b[0m \u001b[1;33m\u001b[0m\u001b[0m\n\u001b[0;32m   3084\u001b[0m         \u001b[1;32mif\u001b[0m \u001b[0mtolerance\u001b[0m \u001b[1;32mis\u001b[0m \u001b[1;32mnot\u001b[0m \u001b[1;32mNone\u001b[0m\u001b[1;33m:\u001b[0m\u001b[1;33m\u001b[0m\u001b[1;33m\u001b[0m\u001b[0m\n",
      "\u001b[1;31mKeyError\u001b[0m: 'living_unit1,Zone Mean Air Temperature'"
     ]
    }
   ],
   "source": [
    "#Schedule Rating\n",
    "MaxP = TotPrice\n",
    "MinP = TotPrice2\n",
    "DayPrice = 1.2\n",
    "PriceRating = (1-(DayPrice-MinP)/(MaxP-MinP))*5\n",
    "if (PriceRating > 5):\n",
    "    PriceRating=5\n",
    "    \n",
    "print(PriceRating)\n",
    "\n",
    "##Comfort Rating\n",
    "## Preffered point not met while occupied \n",
    "PrefT = 21\n",
    "count =0\n",
    "\n",
    "for i in range (23):\n",
    "    T = ZoneT2['living_unit1,Zone Mean Air Temperature'][i]\n",
    "    if (i <7 or i>17):\n",
    "        if ((T-PrefT)> 1.25):\n",
    "            count = count+1\n",
    "print(count)  \n",
    "\n",
    "TRating = (1-(count/24))*5\n",
    "if (TRating > 5):\n",
    "    TRating=5\n",
    "    \n",
    "print(TRating)"
   ]
  },
  {
   "cell_type": "code",
   "execution_count": 153,
   "id": "6b850110",
   "metadata": {},
   "outputs": [
    {
     "name": "stdout",
     "output_type": "stream",
     "text": [
      "RATING:4.821158939754389\n"
     ]
    }
   ],
   "source": [
    "Rating = 0.5*PriceRating + 0.5*TRating\n",
    "print('RATING:' +str(Rating))"
   ]
  }
 ],
 "metadata": {
  "kernelspec": {
   "display_name": "Python 3",
   "language": "python",
   "name": "python3"
  },
  "language_info": {
   "codemirror_mode": {
    "name": "ipython",
    "version": 3
   },
   "file_extension": ".py",
   "mimetype": "text/x-python",
   "name": "python",
   "nbconvert_exporter": "python",
   "pygments_lexer": "ipython3",
   "version": "3.8.8"
  }
 },
 "nbformat": 4,
 "nbformat_minor": 5
}
