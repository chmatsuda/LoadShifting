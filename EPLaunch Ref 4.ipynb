{
 "cells": [
  {
   "cell_type": "markdown",
   "id": "74218085",
   "metadata": {},
   "source": [
    "Imports and Initializations"
   ]
  },
  {
   "cell_type": "code",
   "execution_count": 1,
   "id": "52f763aa",
   "metadata": {},
   "outputs": [
    {
     "name": "stdout",
     "output_type": "stream",
     "text": [
      "C:\\Users\\chmat\\Desktop\\THESIS\n",
      "EnergyPlus, Version 9.6.0-f420c06a69, YMD=2022.04.05 23:41\n",
      "EnergyPlus, Version 9.6.0-f420c06a69, YMD=2022.04.05 23:41\n",
      "PythonLinkage: Linked to Python Version: \"3.9.7 (tags/v3.9.7:1016ef3, Aug 30 2021, 20:19:38) [MSC v.1929 64 bit (AMD64)]\"\n",
      "Built on Platform: Windows_x86_64\n",
      "Usage: energyplus [options] [input-file]\n",
      "Options:\n",
      "  -a, --annual                 Force annual simulation\n",
      "  -c, --convert                Output IDF->epJSON or epJSON->IDF, dependent on\n",
      "                               input file type\n",
      "  -d, --output-directory ARG   Output directory path (default: current\n",
      "                               directory)\n",
      "  -D, --design-day             Force design-day-only simulation\n",
      "  -h, --help                   Display help information\n",
      "  -i, --idd ARG                Input data dictionary path (default: Energy+.idd\n",
      "                               in executable directory)\n",
      "  -j, --jobs ARG               Multi-thread with N threads; 1 thread with no\n",
      "                               arg. (Currently only for G-Function generation)\n",
      "  -m, --epmacro                Run EPMacro prior to simulation\n",
      "  -p, --output-prefix ARG      Prefix for output file names (default: eplus)\n",
      "  -r, --readvars               Run ReadVarsESO after simulation\n",
      "  -s, --output-suffix ARG      Suffix style for output file names (default: L)\n",
      "                                  L: Legacy (e.g., eplustbl.csv)\n",
      "                                  C: Capital (e.g., eplusTable.csv)\n",
      "                                  D: Dash (e.g., eplus-table.csv)\n",
      "  -v, --version                Display version information\n",
      "  -w, --weather ARG            Weather file path (default: in.epw in current\n",
      "                               directory)\n",
      "  -x, --expandobjects          Run ExpandObjects prior to simulation\n",
      "--convert-only                 Only convert IDF->epJSON or epJSON->IDF,\n",
      "                               dependent on input file type. No simulation\n",
      "Example: energyplus -w weather.epw -r input.idf\n"
     ]
    }
   ],
   "source": [
    "!cd\n",
    "!C:\\EnergyPlusV9-6-0\\EnergyPlus -v\n",
    "!C:\\EnergyPlusV9-6-0\\EnergyPlus -h\n",
    "import os\n",
    "import opyplus as op\n",
    "import numpy as np\n",
    "import matplotlib.pyplot as plt\n",
    "import scipy.sparse as sp\n",
    "import pandas as pd\n",
    "eplus_dir_path = op.get_eplus_base_dir_path((9, 6, 0))"
   ]
  },
  {
   "cell_type": "markdown",
   "id": "b0b631c9",
   "metadata": {},
   "source": [
    " Running EP Baseline Simulation"
   ]
  },
  {
   "cell_type": "code",
   "execution_count": 2,
   "id": "eade9770",
   "metadata": {},
   "outputs": [],
   "source": [
    "idf_path = \"C:\\\\Users\\\\chmat\\\\Documents\\\\GenOpt\\\\4\\\\backup\\\\REFBLDG4.idf\"\n",
    "epw_path = os.path.join(\"-w\",\n",
    "    eplus_dir_path,\n",
    "    \"WeatherData\",\n",
    "    \"USA_CO_Denver-Aurora-Buckley.AFB.724695_TMY3.epw\")\n",
    "\n",
    "PricePerKwh = pd.read_excel (r'C:\\\\Users\\\\chmat\\\\Desktop\\\\THESIS\\\\Optimization Files\\\\TimeofDayPricing - Copy.xlsx')"
   ]
  },
  {
   "cell_type": "code",
   "execution_count": 3,
   "id": "3e83b9a1",
   "metadata": {},
   "outputs": [
    {
     "name": "stdout",
     "output_type": "stream",
     "text": [
      "C:\\Users\\chmat\\Documents\\GenOpt\\4\\backup\\REFBLDG4.idf\n"
     ]
    }
   ],
   "source": [
    "print(idf_path)"
   ]
  },
  {
   "cell_type": "code",
   "execution_count": 4,
   "id": "c2eccffc",
   "metadata": {},
   "outputs": [
    {
     "name": "stderr",
     "output_type": "stream",
     "text": [
      "called Simulation.from_input on a simulation directory that is not empty (Baseline)\n"
     ]
    },
    {
     "name": "stdout",
     "output_type": "stream",
     "text": [
      "status: finished\n",
      "\n",
      "Eplus .err file:\n",
      "Program Version,EnergyPlus, Version 9.6.0-f420c06a69, YMD=2022.04.05 23:41,\n",
      "   ************* Beginning Zone Sizing Calculations\n",
      "   ** Warning ** Weather file location will be used rather than entered (IDF) Location object.\n",
      "   **   ~~~   ** ..Location object=BEVERLY MUNI AP_MA_USA\n",
      "   **   ~~~   ** ..Weather File Location=Denver-Aurora-Buckley AFB CO USA TMY3 WMO#=724695\n",
      "   **   ~~~   ** ..due to location differences, Latitude difference=[2.86] degrees, Longitude difference=[33.83] degrees.\n",
      "   **   ~~~   ** ..Time Zone difference=[2.0] hour(s), Elevation difference=[4976.47] percent, [1692.00] meters.\n",
      "   ** Warning ** SetUpDesignDay: Entered DesignDay Barometric Pressure=100918 differs by more than 10% from Standard Barometric Pressure=82237.\n",
      "   **   ~~~   ** ...occurs in DesignDay=ANN CLG 1% CONDNS DB=>MWB, Standard Pressure (based on elevation) will be used.\n",
      "   ** Warning ** For Schedule:File=\"CLOTHES_DRYER_EXHAUST\", Blank Schedule Type Limits Name input -- will not be validated.\n",
      "   ** Warning ** ProcessScheduleInput: Schedule:Constant=\"ALWAYS OFF DISCRETE\", Blank Schedule Type Limits Name input -- will not be validated.\n",
      "   ** Warning ** ProcessScheduleInput: Schedule:Constant=\"ALWAYS ON CONTINUOUS\", Blank Schedule Type Limits Name input -- will not be validated.\n",
      "   ** Warning ** CheckUsedConstructions: There are 1 nominally unused constructions in input.\n",
      "   **   ~~~   ** For explicit details on each unused construction, use Output:Diagnostics,DisplayExtraWarnings;\n",
      "   ** Warning ** SetUpDesignDay: Entered DesignDay Barometric Pressure=100918 differs by more than 10% from Standard Barometric Pressure=82237.\n",
      "   **   ~~~   ** ...occurs in DesignDay=ANN HTG 99% CONDNS DB, Standard Pressure (based on elevation) will be used.\n",
      "   ************* Beginning Plant Sizing Calculations\n",
      "   ** Warning ** Check input. Pump nominal power or motor efficiency is set to 0, for pump=PUMP VARIABLE SPEED 1\n",
      "   ** Warning ** CalcEquipmentFlowRates: Target water temperature is greater than the hot water temperature\n",
      "   **   ~~~   **  During Warmup, Environment=ANN HTG 99% CONDNS DB, at Simulation time=01/21 23:45 - 24:00\n",
      "   **   ~~~   ** ...target water temperature       = 52.666 C\n",
      "   **   ~~~   ** ...hot water temperature       = 51.667 C\n",
      "   **   ~~~   ** ...Note: target water temperature should be less than or equal to the hot water temperature\n",
      "   **   ~~~   ** ...Target water temperature should be less than or equal to the hot water temperature. Verify temperature setpoints and schedules.\n",
      "   ************* Testing Individual Branch Integrity\n",
      "   ************* All Branches passed integrity testing\n",
      "   ************* Testing Individual Supply Air Path Integrity\n",
      "   ************* All Supply Air Paths passed integrity testing\n",
      "   ************* Testing Individual Return Air Path Integrity\n",
      "   ************* All Return Air Paths passed integrity testing\n",
      "   ************* No node connection errors were found.\n",
      "   ************* Beginning Simulation\n",
      "   ** Warning ** The resource referenced by LifeCycleCost:UsePriceEscalation= \"U.S. AVG  COMMERCIAL-ELECTRICITY\" has no energy cost. \n",
      "   **   ~~~   ** ... It is likely that the wrong resource is used. The resource should match the meter used in Utility:Tariff.\n",
      "   ** Warning ** The resource referenced by LifeCycleCost:UsePriceEscalation= \"U.S. AVG  COMMERCIAL-DISTILLATE OIL\" has no energy cost. \n",
      "   **   ~~~   ** ... It is likely that the wrong resource is used. The resource should match the meter used in Utility:Tariff.\n",
      "   ** Warning ** The resource referenced by LifeCycleCost:UsePriceEscalation= \"U.S. AVG  COMMERCIAL-RESIDUAL OIL\" has no energy cost. \n",
      "   **   ~~~   ** ... It is likely that the wrong resource is used. The resource should match the meter used in Utility:Tariff.\n",
      "   ** Warning ** The resource referenced by LifeCycleCost:UsePriceEscalation= \"U.S. AVG  COMMERCIAL-NATURAL GAS\" has no energy cost. \n",
      "   **   ~~~   ** ... It is likely that the wrong resource is used. The resource should match the meter used in Utility:Tariff.\n",
      "   ** Warning ** The resource referenced by LifeCycleCost:UsePriceEscalation= \"U.S. AVG  COMMERCIAL-COAL\" has no energy cost. \n",
      "   **   ~~~   ** ... It is likely that the wrong resource is used. The resource should match the meter used in Utility:Tariff.\n",
      "   ************* Simulation Error Summary *************\n",
      "   ************* There are 6 unused schedules in input.\n",
      "   ************* There are 86 unused week schedules in input.\n",
      "   ************* There are 58 unused day schedules in input.\n",
      "   ************* Use Output:Diagnostics,DisplayUnusedSchedules; to see them.\n",
      "   *************\n",
      "   ************* ===== Recurring Error Summary =====\n",
      "   ************* The following recurring error messages occurred.\n",
      "   *************\n",
      "   *************  ** Warning ** RES CW\" - Target water temperature should be less than or equal to the hot water temperature error continues...\n",
      "   *************  **   ~~~   **   This error occurred 7 total times;\n",
      "   *************  **   ~~~   **   during Warmup 7 times;\n",
      "   *************  **   ~~~   **   during Sizing 0 times.\n",
      "   *************  **   ~~~   **   Max=51.666667  Min=6.286855\n",
      "   *************\n",
      "   *************\n",
      "   ************* ===== Final Error Summary =====\n",
      "   ************* The following error categories occurred.  Consider correcting or noting.\n",
      "   ************* Nominally Unused Constructions\n",
      "   ************* ..The nominally unused constructions warning is provided to alert you to potential conditions that can cause\n",
      "   ************* ..extra time during simulation. Each construction is calculated by the algorithm indicated in the HeatBalanceAlgorithm\n",
      "   ************* ..object. You may remove the constructions indicated (when you use the DisplayExtraWarnings option).\n",
      "   *************\n",
      "   ************* EnergyPlus Warmup Error Summary. During Warmup: 0 Warning; 0 Severe Errors.\n",
      "   ************* EnergyPlus Sizing Error Summary. During Sizing: 7 Warning; 0 Severe Errors.\n",
      "   ************* EnergyPlus Completed Successfully-- 21 Warning; 0 Severe Errors; Elapsed Time=00hr 00min  3.22sec\n",
      "\n"
     ]
    }
   ],
   "source": [
    "# # run simulation\n",
    "s = op.simulate(idf_path, epw_path, \"Baseline\")\n",
    "print(f\"status: {s.get_status()}\\n\")\n",
    "print(f\"Eplus .err file:\\n{s.get_out_err().get_content()}\")"
   ]
  },
  {
   "cell_type": "code",
   "execution_count": 5,
   "id": "0a8d851a",
   "metadata": {},
   "outputs": [
    {
     "name": "stdout",
     "output_type": "stream",
     "text": [
      "Standard output\n",
      "  environments\n",
      "    run period 1 (0)\n",
      "      latitude: 39.72\n",
      "      longitude: -104.75\n",
      "      timezone_offset: -7.0\n",
      "      elevation: 1726.0\n",
      "  variables\n",
      "    hourly\n",
      "      environment,Site Outdoor Air Drybulb Temperature (7)\n",
      "      living zone,Zone Mean Air Temperature (627)\n",
      "      living zone,Zone Air Temperature (762)\n",
      "      living zone,Zone Thermostat Heating Setpoint Temperature (763)\n",
      "      heating:electricity,Meter (1398)\n",
      "\n"
     ]
    }
   ],
   "source": [
    "eso = s.get_out_eso()\n",
    "print(eso.get_info())"
   ]
  },
  {
   "cell_type": "code",
   "execution_count": 258,
   "id": "c5761e07",
   "metadata": {},
   "outputs": [],
   "source": [
    "# # retrieve hourly output (.eso file)\n",
    "# hourly_output = s.get_out_eso()\n",
    "# # get Pandas dataframe\n",
    "# #df = hourly_output.get_data('denver-aurora-buckley.afb_co_usa ann htg 99.6% condns db')\n",
    "# df = hourly_output.get_data('run period')"
   ]
  },
  {
   "cell_type": "code",
   "execution_count": 6,
   "id": "49e33416",
   "metadata": {},
   "outputs": [],
   "source": [
    "df = pd.read_csv('C:\\\\Users\\\\chmat\\\\Documents\\\\GenOpt\\\\4\\\\backup\\\\REFBLDG4.csv')"
   ]
  },
  {
   "cell_type": "code",
   "execution_count": 8,
   "id": "fbe13529",
   "metadata": {},
   "outputs": [
    {
     "data": {
      "text/html": [
       "<div>\n",
       "<style scoped>\n",
       "    .dataframe tbody tr th:only-of-type {\n",
       "        vertical-align: middle;\n",
       "    }\n",
       "\n",
       "    .dataframe tbody tr th {\n",
       "        vertical-align: top;\n",
       "    }\n",
       "\n",
       "    .dataframe thead th {\n",
       "        text-align: right;\n",
       "    }\n",
       "</style>\n",
       "<table border=\"1\" class=\"dataframe\">\n",
       "  <thead>\n",
       "    <tr style=\"text-align: right;\">\n",
       "      <th></th>\n",
       "      <th>Date/Time</th>\n",
       "      <th>Environment:Site Outdoor Air Drybulb Temperature [C](Hourly)</th>\n",
       "      <th>LIVING ZONE:Zone Mean Air Temperature [C](Hourly)</th>\n",
       "      <th>LIVING ZONE:Zone Air Temperature [C](Hourly)</th>\n",
       "      <th>LIVING ZONE:Zone Thermostat Heating Setpoint Temperature [C](Hourly)</th>\n",
       "      <th>Heating:Electricity [J](Hourly)</th>\n",
       "    </tr>\n",
       "  </thead>\n",
       "  <tbody>\n",
       "    <tr>\n",
       "      <th>0</th>\n",
       "      <td>01/01  01:00:00</td>\n",
       "      <td>-4.500</td>\n",
       "      <td>21.500258</td>\n",
       "      <td>21.500258</td>\n",
       "      <td>21.5</td>\n",
       "      <td>2.172767e+07</td>\n",
       "    </tr>\n",
       "    <tr>\n",
       "      <th>1</th>\n",
       "      <td>01/01  02:00:00</td>\n",
       "      <td>-3.000</td>\n",
       "      <td>21.500519</td>\n",
       "      <td>21.500519</td>\n",
       "      <td>21.5</td>\n",
       "      <td>2.067894e+07</td>\n",
       "    </tr>\n",
       "    <tr>\n",
       "      <th>2</th>\n",
       "      <td>01/01  03:00:00</td>\n",
       "      <td>-3.625</td>\n",
       "      <td>21.499340</td>\n",
       "      <td>21.499340</td>\n",
       "      <td>21.5</td>\n",
       "      <td>2.148709e+07</td>\n",
       "    </tr>\n",
       "    <tr>\n",
       "      <th>3</th>\n",
       "      <td>01/01  04:00:00</td>\n",
       "      <td>-2.750</td>\n",
       "      <td>21.500705</td>\n",
       "      <td>21.500705</td>\n",
       "      <td>21.5</td>\n",
       "      <td>2.089925e+07</td>\n",
       "    </tr>\n",
       "    <tr>\n",
       "      <th>4</th>\n",
       "      <td>01/01  05:00:00</td>\n",
       "      <td>-2.000</td>\n",
       "      <td>21.500248</td>\n",
       "      <td>21.500248</td>\n",
       "      <td>21.5</td>\n",
       "      <td>1.810854e+07</td>\n",
       "    </tr>\n",
       "    <tr>\n",
       "      <th>5</th>\n",
       "      <td>01/01  06:00:00</td>\n",
       "      <td>-1.375</td>\n",
       "      <td>21.499225</td>\n",
       "      <td>21.499225</td>\n",
       "      <td>21.5</td>\n",
       "      <td>1.922911e+07</td>\n",
       "    </tr>\n",
       "    <tr>\n",
       "      <th>6</th>\n",
       "      <td>01/01  07:00:00</td>\n",
       "      <td>-1.000</td>\n",
       "      <td>21.499196</td>\n",
       "      <td>21.499196</td>\n",
       "      <td>21.5</td>\n",
       "      <td>1.741169e+07</td>\n",
       "    </tr>\n",
       "    <tr>\n",
       "      <th>7</th>\n",
       "      <td>01/01  08:00:00</td>\n",
       "      <td>-1.000</td>\n",
       "      <td>21.499390</td>\n",
       "      <td>21.499390</td>\n",
       "      <td>21.5</td>\n",
       "      <td>1.718108e+07</td>\n",
       "    </tr>\n",
       "    <tr>\n",
       "      <th>8</th>\n",
       "      <td>01/01  09:00:00</td>\n",
       "      <td>-0.375</td>\n",
       "      <td>21.498672</td>\n",
       "      <td>21.498672</td>\n",
       "      <td>21.5</td>\n",
       "      <td>1.634698e+07</td>\n",
       "    </tr>\n",
       "    <tr>\n",
       "      <th>9</th>\n",
       "      <td>01/01  10:00:00</td>\n",
       "      <td>1.250</td>\n",
       "      <td>21.500269</td>\n",
       "      <td>21.500269</td>\n",
       "      <td>21.5</td>\n",
       "      <td>1.594438e+07</td>\n",
       "    </tr>\n",
       "    <tr>\n",
       "      <th>10</th>\n",
       "      <td>01/01  11:00:00</td>\n",
       "      <td>2.000</td>\n",
       "      <td>21.500857</td>\n",
       "      <td>21.500857</td>\n",
       "      <td>21.5</td>\n",
       "      <td>1.322720e+07</td>\n",
       "    </tr>\n",
       "    <tr>\n",
       "      <th>11</th>\n",
       "      <td>01/01  12:00:00</td>\n",
       "      <td>1.375</td>\n",
       "      <td>21.498292</td>\n",
       "      <td>21.498292</td>\n",
       "      <td>21.5</td>\n",
       "      <td>1.512691e+07</td>\n",
       "    </tr>\n",
       "    <tr>\n",
       "      <th>12</th>\n",
       "      <td>01/01  13:00:00</td>\n",
       "      <td>2.250</td>\n",
       "      <td>21.499404</td>\n",
       "      <td>21.499404</td>\n",
       "      <td>21.5</td>\n",
       "      <td>1.662888e+07</td>\n",
       "    </tr>\n",
       "    <tr>\n",
       "      <th>13</th>\n",
       "      <td>01/01  14:00:00</td>\n",
       "      <td>2.375</td>\n",
       "      <td>21.499190</td>\n",
       "      <td>21.499190</td>\n",
       "      <td>21.5</td>\n",
       "      <td>1.910846e+07</td>\n",
       "    </tr>\n",
       "    <tr>\n",
       "      <th>14</th>\n",
       "      <td>01/01  15:00:00</td>\n",
       "      <td>1.375</td>\n",
       "      <td>21.498270</td>\n",
       "      <td>21.498270</td>\n",
       "      <td>21.5</td>\n",
       "      <td>2.003901e+07</td>\n",
       "    </tr>\n",
       "    <tr>\n",
       "      <th>15</th>\n",
       "      <td>01/01  16:00:00</td>\n",
       "      <td>1.000</td>\n",
       "      <td>21.498448</td>\n",
       "      <td>21.498448</td>\n",
       "      <td>21.5</td>\n",
       "      <td>1.909293e+07</td>\n",
       "    </tr>\n",
       "    <tr>\n",
       "      <th>16</th>\n",
       "      <td>01/01  17:00:00</td>\n",
       "      <td>0.375</td>\n",
       "      <td>21.499826</td>\n",
       "      <td>21.499826</td>\n",
       "      <td>21.5</td>\n",
       "      <td>1.845753e+07</td>\n",
       "    </tr>\n",
       "    <tr>\n",
       "      <th>17</th>\n",
       "      <td>01/01  18:00:00</td>\n",
       "      <td>-0.625</td>\n",
       "      <td>21.501385</td>\n",
       "      <td>21.501385</td>\n",
       "      <td>21.5</td>\n",
       "      <td>1.501860e+07</td>\n",
       "    </tr>\n",
       "    <tr>\n",
       "      <th>18</th>\n",
       "      <td>01/01  19:00:00</td>\n",
       "      <td>-1.625</td>\n",
       "      <td>21.499566</td>\n",
       "      <td>21.499566</td>\n",
       "      <td>21.5</td>\n",
       "      <td>1.474258e+07</td>\n",
       "    </tr>\n",
       "    <tr>\n",
       "      <th>19</th>\n",
       "      <td>01/01  20:00:00</td>\n",
       "      <td>-3.250</td>\n",
       "      <td>21.499810</td>\n",
       "      <td>21.499810</td>\n",
       "      <td>21.5</td>\n",
       "      <td>1.881866e+07</td>\n",
       "    </tr>\n",
       "    <tr>\n",
       "      <th>20</th>\n",
       "      <td>01/01  21:00:00</td>\n",
       "      <td>-4.625</td>\n",
       "      <td>21.500095</td>\n",
       "      <td>21.500095</td>\n",
       "      <td>21.5</td>\n",
       "      <td>2.299877e+07</td>\n",
       "    </tr>\n",
       "    <tr>\n",
       "      <th>21</th>\n",
       "      <td>01/01  22:00:00</td>\n",
       "      <td>-5.625</td>\n",
       "      <td>21.501054</td>\n",
       "      <td>21.501054</td>\n",
       "      <td>21.5</td>\n",
       "      <td>1.882482e+07</td>\n",
       "    </tr>\n",
       "    <tr>\n",
       "      <th>22</th>\n",
       "      <td>01/01  23:00:00</td>\n",
       "      <td>-6.625</td>\n",
       "      <td>21.502121</td>\n",
       "      <td>21.502121</td>\n",
       "      <td>21.5</td>\n",
       "      <td>2.315780e+07</td>\n",
       "    </tr>\n",
       "    <tr>\n",
       "      <th>23</th>\n",
       "      <td>01/01  24:00:00</td>\n",
       "      <td>-7.000</td>\n",
       "      <td>21.499729</td>\n",
       "      <td>21.499729</td>\n",
       "      <td>21.5</td>\n",
       "      <td>2.577290e+07</td>\n",
       "    </tr>\n",
       "  </tbody>\n",
       "</table>\n",
       "</div>"
      ],
      "text/plain": [
       "           Date/Time  \\\n",
       "0    01/01  01:00:00   \n",
       "1    01/01  02:00:00   \n",
       "2    01/01  03:00:00   \n",
       "3    01/01  04:00:00   \n",
       "4    01/01  05:00:00   \n",
       "5    01/01  06:00:00   \n",
       "6    01/01  07:00:00   \n",
       "7    01/01  08:00:00   \n",
       "8    01/01  09:00:00   \n",
       "9    01/01  10:00:00   \n",
       "10   01/01  11:00:00   \n",
       "11   01/01  12:00:00   \n",
       "12   01/01  13:00:00   \n",
       "13   01/01  14:00:00   \n",
       "14   01/01  15:00:00   \n",
       "15   01/01  16:00:00   \n",
       "16   01/01  17:00:00   \n",
       "17   01/01  18:00:00   \n",
       "18   01/01  19:00:00   \n",
       "19   01/01  20:00:00   \n",
       "20   01/01  21:00:00   \n",
       "21   01/01  22:00:00   \n",
       "22   01/01  23:00:00   \n",
       "23   01/01  24:00:00   \n",
       "\n",
       "    Environment:Site Outdoor Air Drybulb Temperature [C](Hourly)  \\\n",
       "0                                              -4.500              \n",
       "1                                              -3.000              \n",
       "2                                              -3.625              \n",
       "3                                              -2.750              \n",
       "4                                              -2.000              \n",
       "5                                              -1.375              \n",
       "6                                              -1.000              \n",
       "7                                              -1.000              \n",
       "8                                              -0.375              \n",
       "9                                               1.250              \n",
       "10                                              2.000              \n",
       "11                                              1.375              \n",
       "12                                              2.250              \n",
       "13                                              2.375              \n",
       "14                                              1.375              \n",
       "15                                              1.000              \n",
       "16                                              0.375              \n",
       "17                                             -0.625              \n",
       "18                                             -1.625              \n",
       "19                                             -3.250              \n",
       "20                                             -4.625              \n",
       "21                                             -5.625              \n",
       "22                                             -6.625              \n",
       "23                                             -7.000              \n",
       "\n",
       "    LIVING ZONE:Zone Mean Air Temperature [C](Hourly)  \\\n",
       "0                                           21.500258   \n",
       "1                                           21.500519   \n",
       "2                                           21.499340   \n",
       "3                                           21.500705   \n",
       "4                                           21.500248   \n",
       "5                                           21.499225   \n",
       "6                                           21.499196   \n",
       "7                                           21.499390   \n",
       "8                                           21.498672   \n",
       "9                                           21.500269   \n",
       "10                                          21.500857   \n",
       "11                                          21.498292   \n",
       "12                                          21.499404   \n",
       "13                                          21.499190   \n",
       "14                                          21.498270   \n",
       "15                                          21.498448   \n",
       "16                                          21.499826   \n",
       "17                                          21.501385   \n",
       "18                                          21.499566   \n",
       "19                                          21.499810   \n",
       "20                                          21.500095   \n",
       "21                                          21.501054   \n",
       "22                                          21.502121   \n",
       "23                                          21.499729   \n",
       "\n",
       "    LIVING ZONE:Zone Air Temperature [C](Hourly)  \\\n",
       "0                                      21.500258   \n",
       "1                                      21.500519   \n",
       "2                                      21.499340   \n",
       "3                                      21.500705   \n",
       "4                                      21.500248   \n",
       "5                                      21.499225   \n",
       "6                                      21.499196   \n",
       "7                                      21.499390   \n",
       "8                                      21.498672   \n",
       "9                                      21.500269   \n",
       "10                                     21.500857   \n",
       "11                                     21.498292   \n",
       "12                                     21.499404   \n",
       "13                                     21.499190   \n",
       "14                                     21.498270   \n",
       "15                                     21.498448   \n",
       "16                                     21.499826   \n",
       "17                                     21.501385   \n",
       "18                                     21.499566   \n",
       "19                                     21.499810   \n",
       "20                                     21.500095   \n",
       "21                                     21.501054   \n",
       "22                                     21.502121   \n",
       "23                                     21.499729   \n",
       "\n",
       "    LIVING ZONE:Zone Thermostat Heating Setpoint Temperature [C](Hourly)  \\\n",
       "0                                                21.5                      \n",
       "1                                                21.5                      \n",
       "2                                                21.5                      \n",
       "3                                                21.5                      \n",
       "4                                                21.5                      \n",
       "5                                                21.5                      \n",
       "6                                                21.5                      \n",
       "7                                                21.5                      \n",
       "8                                                21.5                      \n",
       "9                                                21.5                      \n",
       "10                                               21.5                      \n",
       "11                                               21.5                      \n",
       "12                                               21.5                      \n",
       "13                                               21.5                      \n",
       "14                                               21.5                      \n",
       "15                                               21.5                      \n",
       "16                                               21.5                      \n",
       "17                                               21.5                      \n",
       "18                                               21.5                      \n",
       "19                                               21.5                      \n",
       "20                                               21.5                      \n",
       "21                                               21.5                      \n",
       "22                                               21.5                      \n",
       "23                                               21.5                      \n",
       "\n",
       "    Heating:Electricity [J](Hourly)   \n",
       "0                       2.172767e+07  \n",
       "1                       2.067894e+07  \n",
       "2                       2.148709e+07  \n",
       "3                       2.089925e+07  \n",
       "4                       1.810854e+07  \n",
       "5                       1.922911e+07  \n",
       "6                       1.741169e+07  \n",
       "7                       1.718108e+07  \n",
       "8                       1.634698e+07  \n",
       "9                       1.594438e+07  \n",
       "10                      1.322720e+07  \n",
       "11                      1.512691e+07  \n",
       "12                      1.662888e+07  \n",
       "13                      1.910846e+07  \n",
       "14                      2.003901e+07  \n",
       "15                      1.909293e+07  \n",
       "16                      1.845753e+07  \n",
       "17                      1.501860e+07  \n",
       "18                      1.474258e+07  \n",
       "19                      1.881866e+07  \n",
       "20                      2.299877e+07  \n",
       "21                      1.882482e+07  \n",
       "22                      2.315780e+07  \n",
       "23                      2.577290e+07  "
      ]
     },
     "execution_count": 8,
     "metadata": {},
     "output_type": "execute_result"
    }
   ],
   "source": [
    "df2 = df\n",
    "df2"
   ]
  },
  {
   "cell_type": "code",
   "execution_count": 9,
   "id": "e41fed93",
   "metadata": {},
   "outputs": [
    {
     "data": {
      "text/plain": [
       "Index(['Date/Time',\n",
       "       'Environment:Site Outdoor Air Drybulb Temperature [C](Hourly)',\n",
       "       'LIVING ZONE:Zone Mean Air Temperature [C](Hourly)',\n",
       "       'LIVING ZONE:Zone Air Temperature [C](Hourly)',\n",
       "       'LIVING ZONE:Zone Thermostat Heating Setpoint Temperature [C](Hourly)',\n",
       "       'Heating:Electricity [J](Hourly) '],\n",
       "      dtype='object')"
      ]
     },
     "execution_count": 9,
     "metadata": {},
     "output_type": "execute_result"
    }
   ],
   "source": [
    "df2.keys()"
   ]
  },
  {
   "cell_type": "code",
   "execution_count": 10,
   "id": "b7df2207",
   "metadata": {},
   "outputs": [],
   "source": [
    "#print((df['bgwall_upper_ldf,Surface Outside Face Convection Heat Transfer Coefficient'][1:48]))\n",
    "#print(df['environment,Site Outdoor Air Drybulb Temperature'][0:23])"
   ]
  },
  {
   "cell_type": "code",
   "execution_count": 13,
   "id": "4ec1f2ad",
   "metadata": {
    "scrolled": true
   },
   "outputs": [
    {
     "name": "stdout",
     "output_type": "stream",
     "text": [
      "0     2.172767e+07\n",
      "1     2.067894e+07\n",
      "2     2.148709e+07\n",
      "3     2.089925e+07\n",
      "4     1.810854e+07\n",
      "5     1.922911e+07\n",
      "6     1.741169e+07\n",
      "7     1.718108e+07\n",
      "8     1.634698e+07\n",
      "9     1.594438e+07\n",
      "10    1.322720e+07\n",
      "11    1.512691e+07\n",
      "12    1.662888e+07\n",
      "13    1.910846e+07\n",
      "14    2.003901e+07\n",
      "15    1.909293e+07\n",
      "16    1.845753e+07\n",
      "17    1.501860e+07\n",
      "18    1.474258e+07\n",
      "19    1.881866e+07\n",
      "20    2.299877e+07\n",
      "21    1.882482e+07\n",
      "22    2.315780e+07\n",
      "23    2.577290e+07\n",
      "Name: Heating:Electricity [J](Hourly) , dtype: float64\n"
     ]
    }
   ],
   "source": [
    "##Zone Temperature ###\n",
    "\n",
    "ZoneT = df2[[ 'LIVING ZONE:Zone Mean Air Temperature [C](Hourly)']]\n",
    "OutsideT = df2[\"Environment:Site Outdoor Air Drybulb Temperature [C](Hourly)\"]\n",
    "Heating = df2[\"Heating:Electricity [J](Hourly) \"]\n",
    "Setpoint = df2[\"LIVING ZONE:Zone Thermostat Heating Setpoint Temperature [C](Hourly)\"]\n",
    "#Notmet = sum (df[\"living_unit1,Zone Heating Setpoint Not Met While Occupied Time\"])\n",
    "#PeopleE= df['living_unit1,Zone People Total Heating Energy']\n",
    "# monthly resample and display\n",
    "# print(df[[\n",
    "#     \"living_unit1,Zone Mean Air Temperature\",\n",
    "# ]])\n",
    "print(Heating)"
   ]
  },
  {
   "cell_type": "code",
   "execution_count": 14,
   "id": "e86ca7d5",
   "metadata": {},
   "outputs": [],
   "source": [
    "hours =24"
   ]
  },
  {
   "cell_type": "code",
   "execution_count": 15,
   "id": "04ad3a84",
   "metadata": {},
   "outputs": [
    {
     "name": "stdout",
     "output_type": "stream",
     "text": [
      "0.45002979200611GJ\n",
      "125.00827555725279kWh\n"
     ]
    }
   ],
   "source": [
    "print( str(sum (Heating[0:hours]/1000000000)) + 'GJ')\n",
    "print( str(sum (Heating[0:hours]/3.6e6)) + 'kWh')"
   ]
  },
  {
   "cell_type": "code",
   "execution_count": 21,
   "id": "e305a78f",
   "metadata": {},
   "outputs": [
    {
     "data": {
      "text/plain": [
       "12.5008"
      ]
     },
     "execution_count": 21,
     "metadata": {},
     "output_type": "execute_result"
    }
   ],
   "source": [
    "125.008*.10"
   ]
  },
  {
   "cell_type": "code",
   "execution_count": 22,
   "id": "6eb51e2d",
   "metadata": {
    "scrolled": true
   },
   "outputs": [
    {
     "data": {
      "image/png": "[encoded data removed]",
      "text/plain": [
       "<Figure size 432x288 with 2 Axes>"
      ]
     },
     "metadata": {
      "needs_background": "light"
     },
     "output_type": "display_data"
    }
   ],
   "source": [
    "# Create som mock data\n",
    "t = np.arange(0, hours, 1)\n",
    "data1 = ZoneT[0:hours]\n",
    "data2 = Setpoint[0:hours]\n",
    "\n",
    "fig, ax1 = plt.subplots()\n",
    "\n",
    "color = 'tab:red'\n",
    "title = \"Temperature Setpoint & Actual\"\n",
    "ax1.set_xlabel('time (h)')\n",
    "ax1.set_ylabel('Zone T', color=color)\n",
    "ax1.plot(t, data1, color=color)\n",
    "ax1.tick_params(axis='y', labelcolor=color)\n",
    "ax1.set_ylim([17, 24])\n",
    "\n",
    "ax2 = ax1.twinx()  # instantiate a second axes that shares the same x-axis\n",
    "\n",
    "color = 'tab:blue'\n",
    "ax2.set_ylabel('Setpoint T', color=color)  # we already handled the x-label with ax1\n",
    "ax2.plot(t, data2, color=color)\n",
    "ax2.tick_params(axis='y', labelcolor=color)\n",
    "ax2.set_ylim([17, 24])\n",
    "\n",
    "fig.tight_layout()  # otherwise the right y-label is slightly clipped\n",
    "plt.show()\n"
   ]
  },
  {
   "cell_type": "code",
   "execution_count": 23,
   "id": "5d96d80d",
   "metadata": {},
   "outputs": [
    {
     "data": {
      "image/png": "[encoded data removed]",
      "text/plain": [
       "<Figure size 432x288 with 2 Axes>"
      ]
     },
     "metadata": {
      "needs_background": "light"
     },
     "output_type": "display_data"
    }
   ],
   "source": [
    "# Create some mock data\n",
    "t = np.arange(1, hours, 1)\n",
    "data1 = Heating[0:hours-1]/3.6E6 ##J to kWh\n",
    "data2 = PricePerKwh[0:hours-1]*3.4E6\n",
    "\n",
    "fig, ax1 = plt.subplots()\n",
    "\n",
    "color = 'tab:red'\n",
    "title = \"Temperature and Prices\"\n",
    "ax1.set_xlabel('time (h)')\n",
    "ax1.set_ylabel('Heating kWh', color=color)\n",
    "ax1.plot(t, data1, color=color)\n",
    "ax1.tick_params(axis='y', labelcolor=color)\n",
    "\n",
    "ax2 = ax1.twinx()  # instantiate a second axes that shares the same x-axis\n",
    "color = 'tab:blue'\n",
    "ax2.set_ylabel('$/kWh', color=color)  # we already handled the x-label with ax1\n",
    "ax2.plot(t, data2, color=color)\n",
    "ax2.tick_params(axis='y', labelcolor=color)\n",
    "\n",
    "fig.tight_layout()  # otherwise the right y-label is slightly clipped\n",
    "plt.show()"
   ]
  },
  {
   "cell_type": "code",
   "execution_count": 24,
   "id": "b7b6532a",
   "metadata": {},
   "outputs": [
    {
     "name": "stdout",
     "output_type": "stream",
     "text": [
      "14.569611110315464\n"
     ]
    }
   ],
   "source": [
    "### Total Price for Time Period\n",
    "TotPrice = np.vdot(PricePerKwh[1:hours], Heating[1:hours])+5.60/31\n",
    "print(TotPrice)"
   ]
  },
  {
   "cell_type": "code",
   "execution_count": 254,
   "id": "e9271b40",
   "metadata": {},
   "outputs": [],
   "source": [
    "# # Create some mock data\n",
    "# t = np.arange(0, hours, 1)\n",
    "# data1 = Heating[0:hours]/3.6e6\n",
    "# data2 = PricePerKwh[0:hours]\n",
    "\n",
    "# fig, ax1 = plt.subplots()\n",
    "\n",
    "# color = 'tab:red'\n",
    "# title = \"Temperature and Prices\"\n",
    "# ax1.set_xlabel('time (h)')\n",
    "# ax1.set_ylabel('Heating kWh', color=color)\n",
    "# ax1.plot(t, data1, color=color)\n",
    "# ax1.tick_params(axis='y', labelcolor=color)\n",
    "\n",
    "# ax2 = ax1.twinx()  # instantiate a second axes that shares the same x-axis\n",
    "\n",
    "# color = 'tab:blue'\n",
    "# ax2.set_ylabel('$/kWh', color=color)  # we already handled the x-label with ax1\n",
    "# ax2.plot(t, data2, color=color)\n",
    "# ax2.tick_params(axis='y', labelcolor=color)\n",
    "\n",
    "# fig.tight_layout()  # otherwise the right y-label is slightly clipped\n",
    "# plt.show()"
   ]
  },
  {
   "cell_type": "code",
   "execution_count": 97,
   "id": "742c1a4c",
   "metadata": {},
   "outputs": [],
   "source": [
    "idf_path2 = 'C:\\\\Users\\\\chmat\\\\Documents\\\\GenOpt\\\\1\\\\tmp-genopt-run-204\\\\output.expidf'\n",
    "epw_path2 = os.path.join(\"-w\",\n",
    "    eplus_dir_path,\n",
    "    \"WeatherData\",\n",
    "    \"USA_CO_Denver-Aurora-Buckley.AFB.724695_TMY3.epw\")\n"
   ]
  },
  {
   "cell_type": "code",
   "execution_count": 98,
   "id": "216c433d",
   "metadata": {},
   "outputs": [
    {
     "name": "stdout",
     "output_type": "stream",
     "text": [
      "C:\\Users\\chmat\\Documents\\GenOpt\\1\\tmp-genopt-run-204\\output.expidf\n"
     ]
    }
   ],
   "source": [
    "print(idf_path2)"
   ]
  },
  {
   "cell_type": "code",
   "execution_count": 86,
   "id": "cacf193d",
   "metadata": {},
   "outputs": [
    {
     "name": "stderr",
     "output_type": "stream",
     "text": [
      "called Simulation.from_input on a simulation directory that is not empty (Optimized)\n"
     ]
    },
    {
     "name": "stdout",
     "output_type": "stream",
     "text": [
      "status: finished\n",
      "\n",
      "Eplus .err file:\n",
      "Program Version,EnergyPlus, Version 9.6.0-f420c06a69, YMD=2022.03.17 15:53,\n",
      "   ** Warning ** Output:PreprocessorMessage=\"GroundTempCalc - Slab\" has the following Warning condition:\n",
      "   **   ~~~   ** Slab thickness [0.100 m] reset to 0.122 m  for computational stability.\n",
      "   ** Warning ** Timestep: Requested number (2) is less than the suggested minimum of 4.\n",
      "   **   ~~~   ** Please see entry for Timestep in Input/Output Reference for discussion of considerations.\n",
      "   ************* Beginning Zone Sizing Calculations\n",
      "   ** Warning ** GetHTSurfaceData: Surfaces with interface to Ground found but no \"Ground Temperatures\" were input.\n",
      "   **   ~~~   ** Found first in surface=BGWALL_LOWER_LDF\n",
      "   **   ~~~   ** Defaults, constant throughout the year of (18.0) will be used.\n",
      "   ** Warning ** CalculateZoneVolume: 1 zone is not fully enclosed. For more details use:  Output:Diagnostics,DisplayExtrawarnings; \n",
      "   ** Warning ** CheckUsedConstructions: There are 12 nominally unused constructions in input.\n",
      "   **   ~~~   ** For explicit details on each unused construction, use Output:Diagnostics,DisplayExtraWarnings;\n",
      "   ** Warning ** GetAirflowNetworkInput: AirflowNetwork:SimulationControl object, \n",
      "   **   ~~~   ** ..Specified AirflowNetwork Control = \"MultizoneWithDistribution\" and ZoneVentilation:* objects are present.\n",
      "   **   ~~~   ** ..ZoneVentilation objects will not be simulated.\n",
      "   ************* Beginning System Sizing Calculations\n",
      "   ** Warning ** The Standard Ratings is calculated for Coil:Cooling:DX:SingleSpeed = DX COOLING COIL_UNIT1 but not at the AHRI test condition due to curve out of bound.\n",
      "   **   ~~~   **  Review the Standard Ratings calculations in the Engineering Reference for this coil type. Also, use Output:Diagnostics, DisplayExtraWarnings for further guidance.\n",
      "   ** Warning ** Coil:WaterHeating:AirToWaterHeatPump:Wrapped \"HEAT PUMP WATER HEATER EVAPORATOR_UNIT1\": Rated air volume flow rate per watt of rated total water heating capacity is out of range\n",
      "   **   ~~~   ** Min Rated Vol Flow Per Watt=[4.027E-005], Rated Vol Flow Per Watt=[1.260E-004], Max Rated Vol Flow Per Watt=[8.056E-005]. See Input-Output Reference Manual for valid range.\n",
      "   ** Warning ** Water heater = WATER HEATER_TANK_UNIT1:  Recovery Efficiency and Energy Factor could not be calculated during the test for standard ratings\n",
      "   **   ~~~   ** Setpoint was never recovered and/or heater never turned on\n",
      "   ** Warning ** Check input. Pump nominal power or motor efficiency is set to 0, for pump=MAINS PRESSURE_UNIT1\n",
      "   ** Warning ** ValidateDistributionSystem: Heat pump water heater is simulated along with an AirflowNetwork but is not included in the AirflowNetwork.\n",
      "   ** Warning ** ValidateDistributionSystem: A ZoneHVAC:EnergyRecoveryVentilator is simulated along with an AirflowNetwork but is not included in the AirflowNetwork.\n",
      "   ************* Testing Individual Branch Integrity\n",
      "   ************* All Branches passed integrity testing\n",
      "   ************* Testing Individual Supply Air Path Integrity\n",
      "   ************* All Supply Air Paths passed integrity testing\n",
      "   ************* Testing Individual Return Air Path Integrity\n",
      "   ************* All Return Air Paths passed integrity testing\n",
      "   ************* No node connection errors were found.\n",
      "   ************* Beginning Simulation\n",
      "   ** Warning ** CalcEquipmentFlowRates: Target water temperature is greater than the hot water temperature\n",
      "   **   ~~~   **  During Warmup, Environment=DENVER-AURORA-BUCKLEY.AFB_CO_USA ANN HTG 99.6% CONDNS DB, at Simulation time=12/21 06:00 - 06:30\n",
      "   **   ~~~   ** ...target water temperature       = 48.889 C\n",
      "   **   ~~~   ** ...hot water temperature       = 48.885 C\n",
      "   **   ~~~   ** ...Note: target water temperature should be less than or equal to the hot water temperature\n",
      "   **   ~~~   ** ...Target water temperature should be less than or equal to the hot water temperature. Verify temperature setpoints and schedules.\n",
      "   ** Warning ** CalcEquipmentFlowRates: Target water temperature is greater than the hot water temperature\n",
      "   **   ~~~   **  During Warmup, Environment=DENVER-AURORA-BUCKLEY.AFB_CO_USA ANN HTG 99.6% CONDNS DB, at Simulation time=12/21 06:00 - 06:30\n",
      "   **   ~~~   ** ...target water temperature       = 48.889 C\n",
      "   **   ~~~   ** ...hot water temperature       = 48.885 C\n",
      "   **   ~~~   ** ...Note: target water temperature should be less than or equal to the hot water temperature\n",
      "   **   ~~~   ** ...Target water temperature should be less than or equal to the hot water temperature. Verify temperature setpoints and schedules.\n",
      "   ** Warning ** In Output:Table:Monthly 'COILLOADS' invalid Variable or Meter Name 'HEATING COIL AIR HEATING RATE'\n",
      "   ** Warning ** In Output:Table:Monthly 'WATER HEATER: LOADS' invalid Variable or Meter Name 'WATER HEATER TOTAL DEMAND RATE'\n",
      "   ** Warning ** In Output:Table:Monthly 'WATER HEATER: LOADS' invalid Variable or Meter Name 'WATER HEATER TOTAL DEMAND ENERGY'\n",
      "   ** Warning ** In Output:Table:Monthly 'LIGHTING LOADS' invalid Variable or Meter Name 'ZONE LIGHTS ELECTRIC CONSUMPTION'\n",
      "   ** Warning ** In Output:Table:Monthly 'LIGHTING LOADS' invalid Variable or Meter Name 'EXTERIOR LIGHTS ELECTRIC CONSUMPTION'\n",
      "   ** Warning ** In Output:Table:Monthly 'INTERNALGAINS' invalid Variable or Meter Name 'ZONE PEOPLE TOTAL HEAT GAIN'\n",
      "   ** Warning ** In Output:Table:Monthly 'INTERNALGAINS' invalid Variable or Meter Name 'ZONE LIGHTS TOTAL HEAT GAIN'\n",
      "   ** Warning ** In Output:Table:Monthly 'INTERNALGAINS' invalid Variable or Meter Name 'ZONE ELECTRIC EQUIPMENT TOTAL HEAT GAIN'\n",
      "   ** Warning ** In Output:Table:Monthly 'INTERNALGAINS' invalid Variable or Meter Name 'ZONE GAS EQUIPMENT TOTAL HEAT GAIN'\n",
      "   ** Warning ** In Output:Table:Monthly 'INTERNALGAINS' invalid Variable or Meter Name 'ZONE OTHER EQUIPMENT TOTAL HEAT GAIN'\n",
      "   ** Warning ** In Output:Table:Monthly 'INTERNALGAINS' invalid Variable or Meter Name 'ZONE TOTAL INTERNAL TOTAL HEAT GAIN'\n",
      "   ************* Simulation Error Summary *************\n",
      "   ************* There are 23 unused schedules in input.\n",
      "   ************* There are 18 unused week schedules in input.\n",
      "   ************* There are 26 unused day schedules in input.\n",
      "   ************* Use Output:Diagnostics,DisplayUnusedSchedules; to see them.\n",
      "   *************\n",
      "   ************* ===== Recurring Error Summary =====\n",
      "   ************* The following recurring error messages occurred.\n",
      "   *************\n",
      "   *************  ** Warning ** CLOTHES WASHER_UNIT1\" - Target water temperature should be less than or equal to the hot water temperature error continues...\n",
      "   *************  **   ~~~   **   This error occurred 28967 total times;\n",
      "   *************  **   ~~~   **   during Warmup 23279 times;\n",
      "   *************  **   ~~~   **   during Sizing 0 times.\n",
      "   *************  **   ~~~   **   Max=48.887015  Min=9.20881\n",
      "   *************\n",
      "   *************  ** Warning ** DISHWASHER_UNIT1\" - Target water temperature should be less than or equal to the hot water temperature error continues...\n",
      "   *************  **   ~~~   **   This error occurred 28967 total times;\n",
      "   *************  **   ~~~   **   during Warmup 23279 times;\n",
      "   *************  **   ~~~   **   during Sizing 0 times.\n",
      "   *************  **   ~~~   **   Max=48.887015  Min=9.20881\n",
      "   *************\n",
      "   *************\n",
      "   ************* ===== Final Error Summary =====\n",
      "   ************* The following error categories occurred.  Consider correcting or noting.\n",
      "   ************* Nominally Unused Constructions\n",
      "   ************* ..The nominally unused constructions warning is provided to alert you to potential conditions that can cause\n",
      "   ************* ..extra time during simulation. Each construction is calculated by the algorithm indicated in the HeatBalanceAlgorithm\n",
      "   ************* ..object. You may remove the constructions indicated (when you use the DisplayExtraWarnings option).\n",
      "   *************\n",
      "   ************* EnergyPlus Warmup Error Summary. During Warmup: 2 Warning; 0 Severe Errors.\n",
      "   ************* EnergyPlus Sizing Error Summary. During Sizing: 4 Warning; 0 Severe Errors.\n",
      "   ************* EnergyPlus Completed Successfully-- 57959 Warning; 0 Severe Errors; Elapsed Time=00hr 00min 10.62sec\n",
      "\n"
     ]
    }
   ],
   "source": [
    "# # run simulation\n",
    "s2 = op.simulate(idf_path2, epw_path2, \"Optimized\")\n",
    "print(f\"status: {s.get_status()}\\n\")\n",
    "print(f\"Eplus .err file:\\n{s.get_out_err().get_content()}\")"
   ]
  },
  {
   "cell_type": "code",
   "execution_count": 87,
   "id": "0e70a79e",
   "metadata": {},
   "outputs": [
    {
     "name": "stdout",
     "output_type": "stream",
     "text": [
      "Standard output\n",
      "  environments\n",
      "    denver-aurora-buckley.afb_co_usa ann htg 99.6% condns db (0)\n",
      "      latitude: 39.72\n",
      "      longitude: -104.75\n",
      "      timezone_offset: -7.0\n",
      "      elevation: 1726.0\n",
      "    denver-aurora-buckley.afb_co_usa ann clg .4% condns db=>mwb (1)\n",
      "      latitude: 39.72\n",
      "      longitude: -104.75\n",
      "      timezone_offset: -7.0\n",
      "      elevation: 1726.0\n",
      "    monthly (2)\n",
      "      latitude: 39.72\n",
      "      longitude: -104.75\n",
      "      timezone_offset: -7.0\n",
      "      elevation: 1726.0\n",
      "  variables\n",
      "    hourly\n",
      "      environment,Site Outdoor Air Drybulb Temperature (7)\n",
      "      living_unit1,Zone Total Internal Convective Heating Energy (8)\n",
      "      living_unit1,Zone Total Internal Convective Heating Rate (9)\n",
      "      attic_unit1,Zone Total Internal Convective Heating Energy (10)\n",
      "      attic_unit1,Zone Total Internal Convective Heating Rate (11)\n",
      "      crawlspace_unit1,Zone Total Internal Convective Heating Energy (12)\n",
      "      crawlspace_unit1,Zone Total Internal Convective Heating Rate (13)\n",
      "      living_unit1,Zone People Total Heating Energy (14)\n",
      "      wall_ldf_1.unit1,Surface Inside Face Convection Heat Transfer Coefficient (469)\n",
      "      wall_ldf_1.unit1,Surface Outside Face Convection Heat Transfer Coefficient (470)\n",
      "      wall_sdr_1.unit1,Surface Inside Face Convection Heat Transfer Coefficient (471)\n",
      "      wall_sdr_1.unit1,Surface Outside Face Convection Heat Transfer Coefficient (472)\n",
      "      wall_ldb_1.unit1,Surface Inside Face Convection Heat Transfer Coefficient (473)\n",
      "      wall_ldb_1.unit1,Surface Outside Face Convection Heat Transfer Coefficient (474)\n",
      "      wall_sdl_1.unit1,Surface Inside Face Convection Heat Transfer Coefficient (475)\n",
      "      wall_sdl_1.unit1,Surface Outside Face Convection Heat Transfer Coefficient (476)\n",
      "      wall_ldf_2.unit1,Surface Inside Face Convection Heat Transfer Coefficient (477)\n",
      "      wall_ldf_2.unit1,Surface Outside Face Convection Heat Transfer Coefficient (478)\n",
      "      wall_sdr_2.unit1,Surface Inside Face Convection Heat Transfer Coefficient (479)\n",
      "      wall_sdr_2.unit1,Surface Outside Face Convection Heat Transfer Coefficient (480)\n",
      "      wall_ldb_2.unit1,Surface Inside Face Convection Heat Transfer Coefficient (481)\n",
      "      wall_ldb_2.unit1,Surface Outside Face Convection Heat Transfer Coefficient (482)\n",
      "      wall_sdl_2.unit1,Surface Inside Face Convection Heat Transfer Coefficient (483)\n",
      "      wall_sdl_2.unit1,Surface Outside Face Convection Heat Transfer Coefficient (484)\n",
      "      inter zone floor 1,Surface Inside Face Convection Heat Transfer Coefficient (485)\n",
      "      floor_unit1,Surface Inside Face Convection Heat Transfer Coefficient (486)\n",
      "      ceiling_unit1,Surface Inside Face Convection Heat Transfer Coefficient (487)\n",
      "      internalmass_unit1,Surface Inside Face Convection Heat Transfer Coefficient (488)\n",
      "      door_ldb_unit1,Surface Inside Face Convection Heat Transfer Coefficient (489)\n",
      "      door_ldb_unit1,Surface Outside Face Convection Heat Transfer Coefficient (490)\n",
      "      window_ldf_1.unit1,Surface Inside Face Convection Heat Transfer Coefficient (491)\n",
      "      window_ldf_1.unit1,Surface Outside Face Convection Heat Transfer Coefficient (492)\n",
      "      window_ldb_1.unit1,Surface Inside Face Convection Heat Transfer Coefficient (493)\n",
      "      window_ldb_1.unit1,Surface Outside Face Convection Heat Transfer Coefficient (494)\n",
      "      window_sdr_1.unit1,Surface Inside Face Convection Heat Transfer Coefficient (495)\n",
      "      window_sdr_1.unit1,Surface Outside Face Convection Heat Transfer Coefficient (496)\n",
      "      window_sdl_1.unit1,Surface Inside Face Convection Heat Transfer Coefficient (497)\n",
      "      window_sdl_1.unit1,Surface Outside Face Convection Heat Transfer Coefficient (498)\n",
      "      window_ldf_2.unit1,Surface Inside Face Convection Heat Transfer Coefficient (499)\n",
      "      window_ldf_2.unit1,Surface Outside Face Convection Heat Transfer Coefficient (500)\n",
      "      window_ldb_2.unit1,Surface Inside Face Convection Heat Transfer Coefficient (501)\n",
      "      window_ldb_2.unit1,Surface Outside Face Convection Heat Transfer Coefficient (502)\n",
      "      window_sdr_2.unit1,Surface Inside Face Convection Heat Transfer Coefficient (503)\n",
      "      window_sdr_2.unit1,Surface Outside Face Convection Heat Transfer Coefficient (504)\n",
      "      window_sdl_2.unit1,Surface Inside Face Convection Heat Transfer Coefficient (505)\n",
      "      window_sdl_2.unit1,Surface Outside Face Convection Heat Transfer Coefficient (506)\n",
      "      roof_right_unit1,Surface Inside Face Convection Heat Transfer Coefficient (507)\n",
      "      roof_right_unit1,Surface Outside Face Convection Heat Transfer Coefficient (508)\n",
      "      roof_left_unit1,Surface Inside Face Convection Heat Transfer Coefficient (509)\n",
      "      roof_left_unit1,Surface Outside Face Convection Heat Transfer Coefficient (510)\n",
      "      iz-ceiling_unit1,Surface Inside Face Convection Heat Transfer Coefficient (511)\n",
      "      roof_front_unit1,Surface Inside Face Convection Heat Transfer Coefficient (512)\n",
      "      roof_front_unit1,Surface Outside Face Convection Heat Transfer Coefficient (513)\n",
      "      roof_back_unit1,Surface Inside Face Convection Heat Transfer Coefficient (514)\n",
      "      roof_back_unit1,Surface Outside Face Convection Heat Transfer Coefficient (515)\n",
      "      bgwall_upper_ldf,Surface Inside Face Convection Heat Transfer Coefficient (516)\n",
      "      bgwall_upper_ldf,Surface Outside Face Convection Heat Transfer Coefficient (517)\n",
      "      bgwall_lower_ldf,Surface Inside Face Convection Heat Transfer Coefficient (518)\n",
      "      bgwall_upper_sdr,Surface Inside Face Convection Heat Transfer Coefficient (519)\n",
      "      bgwall_upper_sdr,Surface Outside Face Convection Heat Transfer Coefficient (520)\n",
      "      bgwall_lower_sdr,Surface Inside Face Convection Heat Transfer Coefficient (521)\n",
      "      bgwall_upper_ldb,Surface Inside Face Convection Heat Transfer Coefficient (522)\n",
      "      bgwall_upper_ldb,Surface Outside Face Convection Heat Transfer Coefficient (523)\n",
      "      bgwall_lower_ldb,Surface Inside Face Convection Heat Transfer Coefficient (524)\n",
      "      bgwall_upper_sdl,Surface Inside Face Convection Heat Transfer Coefficient (525)\n",
      "      bgwall_upper_sdl,Surface Outside Face Convection Heat Transfer Coefficient (526)\n",
      "      bgwall_lower_sdl,Surface Inside Face Convection Heat Transfer Coefficient (527)\n",
      "      extfloor_unit1,Surface Inside Face Convection Heat Transfer Coefficient (528)\n",
      "      iz-floor_unit1,Surface Inside Face Convection Heat Transfer Coefficient (529)\n",
      "      main dx heating coil_unit1,Heating Coil Heating Rate (605)\n",
      "      main dx heating coil_unit1,Heating Coil Heating Energy (606)\n",
      "      main dx heating coil_unit1,Heating Coil Electricity Rate (619)\n",
      "      living_unit1,Zone Mean Air Temperature (715)\n",
      "      attic_unit1,Zone Mean Air Temperature (716)\n",
      "      crawlspace_unit1,Zone Mean Air Temperature (717)\n",
      "      living_unit1,AFN Zone Infiltration Sensible Heat Loss Rate (755)\n",
      "      living_unit1,AFN Zone Mixing Sensible Heat Loss Energy (756)\n",
      "      attic_unit1,AFN Zone Infiltration Sensible Heat Loss Rate (757)\n",
      "      attic_unit1,AFN Zone Mixing Sensible Heat Loss Energy (758)\n",
      "      crawlspace_unit1,AFN Zone Infiltration Sensible Heat Loss Rate (759)\n",
      "      crawlspace_unit1,AFN Zone Mixing Sensible Heat Loss Energy (760)\n",
      "      living_unit1,Zone Thermostat Heating Setpoint Temperature (883)\n",
      "      attic_unit1,Zone Thermostat Heating Setpoint Temperature (946)\n",
      "      crawlspace_unit1,Zone Thermostat Heating Setpoint Temperature (1009)\n",
      "      living_unit1,Zone Heating Setpoint Not Met While Occupied Time (1210)\n",
      "      attic_unit1,Zone Heating Setpoint Not Met While Occupied Time (1211)\n",
      "      crawlspace_unit1,Zone Heating Setpoint Not Met While Occupied Time (1212)\n",
      "      supp heating coil_unit1,Heating Coil Heating Energy (1302)\n",
      "      supp heating coil_unit1,Heating Coil Heating Rate (1303)\n",
      "      supp heating coil_unit1,Heating Coil Electricity Rate (1305)\n",
      "      heating:electricity,Meter (622)\n",
      "\n"
     ]
    }
   ],
   "source": [
    "# retrieve hourly output (.eso file)\n",
    "hourly_output2 = s2.get_out_eso()\n",
    "\n",
    "# ask for datetime index on year #2013?\n",
    "hourly_output2.create_datetime_index(2021)\n",
    "\n",
    "# get Pandas dataframe\n",
    "df2 = hourly_output2.get_data()\n",
    "print(hourly_output.get_info())"
   ]
  },
  {
   "cell_type": "code",
   "execution_count": 60,
   "id": "180a39f2",
   "metadata": {},
   "outputs": [],
   "source": [
    "##Zone Temperature ###\n",
    "ZoneT2 = df2[[\"living_unit1,Zone Mean Air Temperature\"]]\n",
    "OutsideT2 = df2[\"environment,Site Outdoor Air Drybulb Temperature\"]\n",
    "Heating2 = df2[\"heating:electricity,Meter\"]\n",
    "Setpoint2 = df2[\"living_unit1,Zone Thermostat Heating Setpoint Temperature\"]\n",
    "Notmet2 = sum (df2[\"living_unit1,Zone Heating Setpoint Not Met While Occupied Time\"])\n",
    "PeopleE2= df2['living_unit1,Zone People Total Heating Energy']\n",
    "# monthly resample and display\n",
    "# print(df[[\n",
    "#     \"living_unit1,Zone Mean Air Temperature\",\n",
    "# ]])"
   ]
  },
  {
   "cell_type": "code",
   "execution_count": null,
   "id": "7831b623",
   "metadata": {},
   "outputs": [],
   "source": []
  },
  {
   "cell_type": "code",
   "execution_count": 99,
   "id": "15cb3151",
   "metadata": {},
   "outputs": [
    {
     "data": {
      "image/png": "[encoded data removed]",
      "text/plain": [
       "<Figure size 432x288 with 2 Axes>"
      ]
     },
     "metadata": {
      "needs_background": "light"
     },
     "output_type": "display_data"
    }
   ],
   "source": [
    "# Create som mock data\n",
    "hours = 24\n",
    "t = np.arange(0, hours, 1)\n",
    "data1 = ZoneT2[0:hours]\n",
    "data2 = Setpoint2[0:hours]\n",
    "\n",
    "fig, ax1 = plt.subplots()\n",
    "\n",
    "color = 'tab:red'\n",
    "title = \"Temperature Setpoint & Actual\"\n",
    "ax1.set_xlabel('time (h)')\n",
    "ax1.set_ylabel('Zone T', color=color)\n",
    "ax1.plot(t, data1, color=color)\n",
    "ax1.tick_params(axis='y', labelcolor=color)\n",
    "ax1.set_ylim([17, 24])\n",
    "\n",
    "ax2 = ax1.twinx()  # instantiate a second axes that shares the same x-axis\n",
    "\n",
    "color = 'tab:blue'\n",
    "ax2.set_ylabel('Setpoint T', color=color)  # we already handled the x-label with ax1\n",
    "ax2.plot(t, data2, color=color)\n",
    "ax2.tick_params(axis='y', labelcolor=color)\n",
    "ax2.set_ylim([17, 24])\n",
    "\n",
    "fig.tight_layout()  # otherwise the right y-label is slightly clipped\n",
    "plt.show()\n"
   ]
  },
  {
   "cell_type": "code",
   "execution_count": 100,
   "id": "f21ba716",
   "metadata": {},
   "outputs": [
    {
     "data": {
      "image/png": "[encoded data removed]",
      "text/plain": [
       "<Figure size 432x288 with 2 Axes>"
      ]
     },
     "metadata": {
      "needs_background": "light"
     },
     "output_type": "display_data"
    }
   ],
   "source": [
    "# Create some mock data\n",
    "t = np.arange(0, hours, 1)\n",
    "data1 = Heating2[0:hours]/3.6e6\n",
    "data2 = PricePerKwh[0:hours]\n",
    "\n",
    "fig, ax1 = plt.subplots()\n",
    "\n",
    "color = 'tab:red'\n",
    "title = \"Temperature and Prices\"\n",
    "ax1.set_xlabel('time (h)')\n",
    "ax1.set_ylabel('Heating kWh', color=color)\n",
    "ax1.plot(t, data1, color=color)\n",
    "ax1.tick_params(axis='y', labelcolor=color)\n",
    "\n",
    "ax2 = ax1.twinx()  # instantiate a second axes that shares the same x-axis\n",
    "\n",
    "color = 'tab:blue'\n",
    "ax2.set_ylabel('$/kWh', color=color)  # we already handled the x-label with ax1\n",
    "ax2.plot(t, data2, color=color)\n",
    "ax2.tick_params(axis='y', labelcolor=color)\n",
    "\n",
    "fig.tight_layout()  # otherwise the right y-label is slightly clipped\n",
    "plt.show()"
   ]
  },
  {
   "cell_type": "code",
   "execution_count": 101,
   "id": "0d72310b",
   "metadata": {},
   "outputs": [
    {
     "name": "stdout",
     "output_type": "stream",
     "text": [
      "MINIMUM PRICE $ 1.179813161296272\n",
      "BASELINE PRICE $ 1.4620028144442179\n"
     ]
    }
   ],
   "source": [
    "TotPrice2 = np.vdot(PricePerKwh[1:hours], Heating2[1:hours]/3.6e6)\n",
    "print(\"MINIMUM PRICE $ \" + str(TotPrice2))\n",
    "print(\"BASELINE PRICE $ \" + str(TotPrice))\n"
   ]
  },
  {
   "cell_type": "code",
   "execution_count": 102,
   "id": "6096a66c",
   "metadata": {},
   "outputs": [
    {
     "name": "stdout",
     "output_type": "stream",
     "text": [
      "31.841632239943763\n",
      "25.106863890275935\n"
     ]
    }
   ],
   "source": [
    "#Energy Comparison\n",
    "print (sum(Heating[0:hours])/3.6e6)\n",
    "print (sum(Heating2[0:hours])/3.6e6)"
   ]
  },
  {
   "cell_type": "markdown",
   "id": "d60aca57",
   "metadata": {},
   "source": [
    "# RATING ANOTHER SCHEDULE"
   ]
  },
  {
   "cell_type": "code",
   "execution_count": 151,
   "id": "b7b44791",
   "metadata": {},
   "outputs": [
    {
     "name": "stdout",
     "output_type": "stream",
     "text": [
      "4.642317879508776\n",
      "0\n",
      "5.0\n"
     ]
    }
   ],
   "source": [
    "#Schedule Rating\n",
    "MaxP = TotPrice\n",
    "MinP = TotPrice2\n",
    "DayPrice = 1.2\n",
    "PriceRating = (1-(DayPrice-MinP)/(MaxP-MinP))*5\n",
    "if (PriceRating > 5):\n",
    "    PriceRating=5\n",
    "    \n",
    "print(PriceRating)\n",
    "\n",
    "##Comfort Rating\n",
    "## Preffered point not met while occupied \n",
    "PrefT = 21\n",
    "count =0\n",
    "\n",
    "for i in range (23):\n",
    "    T = ZoneT2['living_unit1,Zone Mean Air Temperature'][i]\n",
    "    if (i <7 or i>17):\n",
    "        if ((T-PrefT)> 1.25):\n",
    "            count = count+1\n",
    "print(count)  \n",
    "\n",
    "TRating = (1-(count/24))*5\n",
    "if (TRating > 5):\n",
    "    TRating=5\n",
    "    \n",
    "print(TRating)"
   ]
  },
  {
   "cell_type": "code",
   "execution_count": null,
   "id": "63cbfef9",
   "metadata": {},
   "outputs": [],
   "source": []
  },
  {
   "cell_type": "code",
   "execution_count": 153,
   "id": "6b850110",
   "metadata": {},
   "outputs": [
    {
     "name": "stdout",
     "output_type": "stream",
     "text": [
      "RATING:4.821158939754389\n"
     ]
    }
   ],
   "source": [
    "Rating = 0.5*PriceRating + 0.5*TRating\n",
    "print('RATING:' +str(Rating))"
   ]
  },
  {
   "cell_type": "markdown",
   "id": "33e6eb36",
   "metadata": {},
   "source": [
    "TEST BELOW"
   ]
  },
  {
   "cell_type": "code",
   "execution_count": null,
   "id": "a8e7a4b7",
   "metadata": {},
   "outputs": [],
   "source": []
  },
  {
   "cell_type": "code",
   "execution_count": null,
   "id": "bf5f97c3",
   "metadata": {},
   "outputs": [],
   "source": []
  },
  {
   "cell_type": "markdown",
   "id": "3654c8eb",
   "metadata": {},
   "source": [
    "Add Constraints"
   ]
  },
  {
   "cell_type": "code",
   "execution_count": null,
   "id": "db2b8110",
   "metadata": {},
   "outputs": [],
   "source": [
    "# s = op.simulate(idf_path, epw_path, \"Baseline\")\n",
    "# print(f\"status: {s.get_status()}\\n\")\n",
    "# print(f\"Eplus .err file:\\n{s.get_out_err().get_content()}\")\n",
    "\n",
    "ZoneT = df[[\"living_unit1,Zone Mean Air Temperature\"]][1:hours]\n",
    "Heating = df[\"heating:electricity,Meter\"][1:hours]\n",
    "print(ZoneT['living_unit1,Zone Mean Air Temperature'][9])"
   ]
  },
  {
   "cell_type": "code",
   "execution_count": null,
   "id": "0844c422",
   "metadata": {},
   "outputs": [],
   "source": [
    "model.addConstrs((ZoneT['living_unit1,Zone Mean Air Temperature'][i] <= 24.0 for i in range(hours)), name='T_max')\n",
    "model.addConstrs((ZoneT['living_unit1,Zone Mean Air Temperature'][i] >= 18.0 for i in range(hours)), name='T_min')\n",
    "\n",
    "##Maybe the setpoint can be higher... as long as the actual temperature is within comfort"
   ]
  },
  {
   "cell_type": "code",
   "execution_count": null,
   "id": "ae77f92e",
   "metadata": {},
   "outputs": [],
   "source": [
    "\n",
    "Cost = PricePerKwh.values.flatten()\n",
    "a = Cost[0:hours]\n",
    "A = sp.diags(a)"
   ]
  },
  {
   "cell_type": "code",
   "execution_count": null,
   "id": "af9e68e7",
   "metadata": {},
   "outputs": [],
   "source": [
    "\n",
    "\n",
    "# Solve\n",
    "model.optimize()\n",
    "printSolution()\n"
   ]
  },
  {
   "cell_type": "code",
   "execution_count": null,
   "id": "6041ec30",
   "metadata": {},
   "outputs": [],
   "source": [
    " # plotting the points\n",
    "Opt_T = model.printAttr('T_Setpoints')\n",
    "t = np.arange(1, hours, 1)\n",
    "print(Opt_T[1])\n",
    "# plt.plot(t,t)"
   ]
  },
  {
   "cell_type": "code",
   "execution_count": null,
   "id": "f7e7e989",
   "metadata": {},
   "outputs": [],
   "source": [
    "##Convert J to kWh\n",
    "Heating = Heating / 3.6E6"
   ]
  },
  {
   "cell_type": "code",
   "execution_count": null,
   "id": "f3fa59e5",
   "metadata": {},
   "outputs": [],
   "source": [
    "# Create some mock data\n",
    "t = np.arange(1, 24*30, 1)\n",
    "data1 = Heating[1:24*30]\n",
    "data2 = ZoneT[1:24*30]\n",
    "\n",
    "fig, ax1 = plt.subplots()\n",
    "\n",
    "color = 'tab:red'\n",
    "ax1.set_xlabel('time (h)')\n",
    "ax1.set_ylabel('Heating Elec (Kwh)', color=color)\n",
    "ax1.plot(t, data1, color=color)\n",
    "ax1.tick_params(axis='y', labelcolor=color)\n",
    "\n",
    "ax2 = ax1.twinx()  # instantiate a second axes that shares the same x-axis\n",
    "\n",
    "color = 'tab:blue'\n",
    "ax2.set_ylabel('ZoneT', color=color)  # we already handled the x-label with ax1\n",
    "ax2.plot(t, data2, color=color)\n",
    "ax2.tick_params(axis='y', labelcolor=color)\n",
    "\n",
    "fig.tight_layout()  # otherwise the right y-label is slightly clipped\n",
    "plt.show()\n"
   ]
  },
  {
   "cell_type": "code",
   "execution_count": null,
   "id": "8fb59bd7",
   "metadata": {},
   "outputs": [],
   "source": [
    "## Just January to Test ####\n",
    "## Elec Heating\n",
    "plt.plot(ZoneT[1:24*60])\n",
    "# naming the x axis\n",
    "plt.xlabel('Date')\n",
    "# naming the y axis\n",
    "plt.ylabel('Heating Electricity (kWh)')\n",
    " \n",
    "# giving a title to my graph\n",
    "plt.title('Zone Temperature')"
   ]
  },
  {
   "cell_type": "code",
   "execution_count": null,
   "id": "ef7e9a51",
   "metadata": {},
   "outputs": [],
   "source": []
  }
 ],
 "metadata": {
  "kernelspec": {
   "display_name": "Python 3",
   "language": "python",
   "name": "python3"
  },
  "language_info": {
   "codemirror_mode": {
    "name": "ipython",
    "version": 3
   },
   "file_extension": ".py",
   "mimetype": "text/x-python",
   "name": "python",
   "nbconvert_exporter": "python",
   "pygments_lexer": "ipython3",
   "version": "3.8.8"
  }
 },
 "nbformat": 4,
 "nbformat_minor": 5
}
