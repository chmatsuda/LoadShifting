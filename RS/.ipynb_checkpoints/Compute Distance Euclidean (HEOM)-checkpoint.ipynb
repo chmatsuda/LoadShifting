{
 "cells": [
  {
   "cell_type": "code",
   "execution_count": 14,
   "id": "e505d839",
   "metadata": {},
   "outputs": [],
   "source": [
    "from sklearn.neighbors import DistanceMetric\n",
    "import numpy as np\n"
   ]
  },
  {
   "cell_type": "code",
   "execution_count": null,
   "id": "9cf92ac8",
   "metadata": {},
   "outputs": [],
   "source": []
  },
  {
   "cell_type": "code",
   "execution_count": 15,
   "id": "6747d94a",
   "metadata": {},
   "outputs": [],
   "source": [
    "dist = DistanceMetric.get_metric('euclidean')\n",
    "\n",
    "##Other options\n",
    "#'https://scikit-learn.org/0.24/modules/generated/sklearn.neighbors.DistanceMetric.html'"
   ]
  },
  {
   "cell_type": "markdown",
   "id": "07eeac90",
   "metadata": {},
   "source": [
    "YEARS"
   ]
  },
  {
   "cell_type": "code",
   "execution_count": 31,
   "id": "0df241fb",
   "metadata": {},
   "outputs": [],
   "source": [
    "## Reference Building 0\n",
    "## SF Detached, No Attic, Attic Vented,# Bedrooms, Conditioned Floor Area, Heating Type, 50+ units, Pre 1940\n",
    "RB0 = [1,1,0,3,617,0, 1,0,0]\n",
    "\n",
    "## Reference Building 1\n",
    "## Year, Stories, Area\n",
    "RB1 = [1,1,0,3,1450,0,1,0,0]\n",
    "\n",
    "## Reference Building 2\n",
    "## Year, Stories, Area\n",
    "RB2 = [1,1,0,2,2450,1,1,0,0]\n",
    "\n",
    "## Reference Building 3\n",
    "## Year, Stories, Area\n",
    "RB3 =[0,0,1,3,1450,1,1,0,0]\n",
    "\n",
    "## Reference Building 4\n",
    "## Year, Stories, Area\n",
    "RB4 = [1,1,0,3,1450,1,1,0,1]\n",
    "\n",
    "RB = [RB0,RB1,RB2,RB3,RB4]\n"
   ]
  },
  {
   "cell_type": "code",
   "execution_count": 32,
   "id": "8895d00a",
   "metadata": {},
   "outputs": [
    {
     "data": {
      "text/plain": [
       "[1, 1, 0, 3, 1450, 0, 1, 0, 0]"
      ]
     },
     "execution_count": 32,
     "metadata": {},
     "output_type": "execute_result"
    }
   ],
   "source": [
    "RB[1]"
   ]
  },
  {
   "cell_type": "code",
   "execution_count": 33,
   "id": "1fdb6332",
   "metadata": {},
   "outputs": [],
   "source": [
    "##Test Building\n",
    "import pandas as pd\n",
    "filepath = 'C:\\\\Users\\\\chmat\\\\Desktop\\\\THESIS\\\\Building Stock\\\\Denver Stock Scaled.csv'\n",
    "bldgs= pd.read_csv(filepath)\n",
    "bldgs = pd.get_dummies(bldgs)"
   ]
  },
  {
   "cell_type": "code",
   "execution_count": 51,
   "id": "cd7f4099",
   "metadata": {},
   "outputs": [
    {
     "data": {
      "text/plain": [
       "[1, 0, 1, 4, 2176, 0, 1, 0, 0]"
      ]
     },
     "execution_count": 51,
     "metadata": {},
     "output_type": "execute_result"
    }
   ],
   "source": [
    "i = 72\n",
    "TB = [bldgs['In.Geometry Building Type Acs_Single-Family Detached'][i],\n",
    "      bldgs['In.Geometry Attic Type_None'][i],\n",
    "      bldgs['In.Geometry Attic Type_Vented Attic'][i],\n",
    "      bldgs['In.Bedrooms'][i],\n",
    "      bldgs['Out.Floor Area Conditioned Ft 2'][i],\n",
    "      bldgs['In.Heating Fuel_Electricity'][i],\n",
    "      bldgs['In.Heating Fuel_Natural Gas'][i],\n",
    "      bldgs['In.Geometry Building Type Acs_50 or more Unit'][i],\n",
    "      bldgs['In.Vintage_<1940'][i],\n",
    "     ]\n",
    "TB"
   ]
  },
  {
   "cell_type": "code",
   "execution_count": 59,
   "id": "eeee1801",
   "metadata": {},
   "outputs": [],
   "source": [
    "TB= RB1"
   ]
  },
  {
   "cell_type": "code",
   "execution_count": 60,
   "id": "c494dea9",
   "metadata": {},
   "outputs": [
    {
     "name": "stdout",
     "output_type": "stream",
     "text": [
      "[833.0, 0.0, 1000.0009999995, 2.0, 1.4142135623730951]\n"
     ]
    }
   ],
   "source": [
    "Distances=[0,0,0,0,0]\n",
    "for i in range(5):\n",
    "    X = [RB[i],TB]\n",
    "    distance= (dist.pairwise(X))[0][1]\n",
    "    Distances[i] = distance\n",
    "print(Distances)\n",
    "minpos = Distances.index(min(Distances))\n"
   ]
  },
  {
   "cell_type": "code",
   "execution_count": 61,
   "id": "df80f7a6",
   "metadata": {},
   "outputs": [
    {
     "data": {
      "text/plain": [
       "'Recommend Sch 1 for Test Building'"
      ]
     },
     "execution_count": 61,
     "metadata": {},
     "output_type": "execute_result"
    }
   ],
   "source": [
    "\"Recommend Sch \" + str(minpos)+\" for Test Building\""
   ]
  },
  {
   "cell_type": "code",
   "execution_count": null,
   "id": "21816cdd",
   "metadata": {},
   "outputs": [],
   "source": []
  },
  {
   "cell_type": "code",
   "execution_count": null,
   "id": "cdb3b498",
   "metadata": {},
   "outputs": [],
   "source": [
    "year = input('Year of Building:') "
   ]
  },
  {
   "cell_type": "code",
   "execution_count": null,
   "id": "f2eed4d1",
   "metadata": {},
   "outputs": [],
   "source": []
  }
 ],
 "metadata": {
  "kernelspec": {
   "display_name": "Python 3",
   "language": "python",
   "name": "python3"
  },
  "language_info": {
   "codemirror_mode": {
    "name": "ipython",
    "version": 3
   },
   "file_extension": ".py",
   "mimetype": "text/x-python",
   "name": "python",
   "nbconvert_exporter": "python",
   "pygments_lexer": "ipython3",
   "version": "3.8.8"
  }
 },
 "nbformat": 4,
 "nbformat_minor": 5
}
