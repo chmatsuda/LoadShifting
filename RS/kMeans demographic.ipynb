{
 "cells": [
  {
   "cell_type": "code",
   "execution_count": 1,
   "id": "8f149e45",
   "metadata": {},
   "outputs": [],
   "source": [
    "## import libraries\n",
    "import numpy as np\n",
    "import pandas as pd\n",
    "import scipy\n",
    "import matplotlib.pyplot as plt\n",
    "from pylab import rcParams\n",
    "import urllib\n",
    "import sklearn\n",
    "from sklearn.neighbors import KNeighborsClassifier\n",
    "from sklearn import neighbors\n",
    "from sklearn import preprocessing\n",
    "from sklearn.model_selection import train_test_split\n",
    "from sklearn.datasets import make_blobs\n",
    "from sklearn import metrics"
   ]
  },
  {
   "cell_type": "code",
   "execution_count": 2,
   "id": "5e3f5b13",
   "metadata": {},
   "outputs": [
    {
     "name": "stdout",
     "output_type": "stream",
     "text": [
      "    Number                                       Label  Stories   ConArea  \\\n",
      "0        1          US+SF+CZ5B+hp+crawlspace+IECC_2021        2   2377.10   \n",
      "1        2     US+MF+CZ5B+elecres+crawlspace+IECC_2021        3  21609.96   \n",
      "2        3        US+SF+CZ5B+gasfurnace+slab+IECC_2015        2   2377.10   \n",
      "3        4                US+SF+CZ5B+hp+slab+IECC_2018        2   2377.10   \n",
      "4        5                      US+SF+CZ5B + Gas+ 1960        2   2377.10   \n",
      "5        6          US+SF+CZ5B+hp+crawlspace+IECC_2015        2   2377.10   \n",
      "6        7          US+SF+CZ5B+hp+crawlspace+IECC_2018        2   2377.10   \n",
      "7        8                US+SF+CZ5B+hp+slab+IECC_2015        2   2377.10   \n",
      "8        9                US+SF+CZ5B+hp+slab+IECC_2018        2   2377.10   \n",
      "9       10                US+SF+CZ5B+hp+slab+IECC_2015        2   2494.67   \n",
      "10      11        US+SF+CZ5B+gasfurnace+slab+IECC_2021        2   2494.67   \n",
      "11      12  US+SF+CZ5B+gasfurnace+crawlspace+IECC_2015        2   2377.10   \n",
      "12      13        US+SF+CZ5B+gasfurnace+slab+IECC_2018        2   2377.10   \n",
      "13      14  US+SF+CZ5B+gasfurnace+crawlspace+IECC_2018        2  21609.96   \n",
      "14      15        US+SF+CZ5B+gasfurnace+slab+IECC_2015        2   2377.10   \n",
      "15      16  US+SF+CZ5B+gasfurnace+crawlspace+IECC_2015        2   2377.10   \n",
      "16      17        US+SF+CZ5B+gasfurnace+slab+IECC_2015        2   2377.10   \n",
      "17      18  US+SF+CZ5B+gasfurnace+crawlspace+IECC_2015        2   2377.10   \n",
      "18      19          US+MF+CZ5B+HP+crawlspace+IECC_2015        3  21609.96   \n",
      "19      20          US+MF+CZ5B+HP+crawlspace+IECC_2018        3  21609.96   \n",
      "20      21  US+SF+CZ5B+gasfurnace+crawlspace+IECC_2016        1   1000.00   \n",
      "21      22          US+MF+CZ5B+HP+crawlspace+IECC_2021        1   1000.00   \n",
      "22      23          US+MF+CZ5B+HP+crawlspace+IECC_2024        1   2000.00   \n",
      "23      24  US+SF+CZ5B+gasfurnace+crawlspace+IECC_2017        2   2000.00   \n",
      "24      25          US+MF+CZ5B+HP+crawlspace+IECC_2027        2   3000.00   \n",
      "25      26          US+MF+CZ5B+HP+crawlspace+IECC_2030        2   2500.00   \n",
      "26      27  US+SF+CZ5B+gasfurnace+crawlspace+IECC_2018        3       NaN   \n",
      "27      28          US+MF+CZ5B+HP+crawlspace+IECC_2033        3       NaN   \n",
      "28      29          US+MF+CZ5B+HP+crawlspace+IECC_2036        3       NaN   \n",
      "29      30  US+SF+CZ5B+gasfurnace+crawlspace+IECC_2019        2       NaN   \n",
      "30      31          US+MF+CZ5B+HP+crawlspace+IECC_2039        2       NaN   \n",
      "31      32          US+MF+CZ5B+HP+crawlspace+IECC_2042        2       NaN   \n",
      "32      33  US+SF+CZ5B+gasfurnace+crawlspace+IECC_2020        2       NaN   \n",
      "33      34          US+MF+CZ5B+HP+crawlspace+IECC_2045        2       NaN   \n",
      "34      35          US+MF+CZ5B+HP+crawlspace+IECC_2048        2       NaN   \n",
      "35      36  US+SF+CZ5B+gasfurnace+crawlspace+IECC_2021        3       NaN   \n",
      "36      37          US+MF+CZ5B+HP+crawlspace+IECC_2051        3       NaN   \n",
      "37      38          US+MF+CZ5B+HP+crawlspace+IECC_2054        3       NaN   \n",
      "38      39  US+SF+CZ5B+gasfurnace+crawlspace+IECC_2022        3       NaN   \n",
      "39      40          US+MF+CZ5B+HP+crawlspace+IECC_2057        3       NaN   \n",
      "\n",
      "     TotArea  Year  Heater  Sch Pred Rating  Rating  \n",
      "0    4754.19  2021       0   21           1     5.0  \n",
      "1   39005.22  2021       1   22           3     5.0  \n",
      "2    3565.64  2015       2   23           5     5.0  \n",
      "3    3565.64  2018       0   23           2     5.0  \n",
      "4    4754.19  1960       1   21           5     5.0  \n",
      "5    4754.19  2015       0   22           ?     NaN  \n",
      "6    4754.19  2018       0   22           ?     NaN  \n",
      "7    3565.64  2015       0   19           ?     NaN  \n",
      "8    3565.64  2018       0   22           ?     NaN  \n",
      "9    3800.79  2015       0   22           ?     NaN  \n",
      "10   3800.79  2021       1   18           ?     NaN  \n",
      "11   4754.19  2021       1   20           ?     NaN  \n",
      "12   3565.64  2018       1   18           ?     NaN  \n",
      "13  39005.22  2018       1   23           ?     NaN  \n",
      "14   3565.64  2015       1   18           ?     NaN  \n",
      "15   4754.19  2015       1   20           ?     NaN  \n",
      "16   3565.64  2015       1   19           ?     NaN  \n",
      "17   4754.19  2015       1   23           ?     NaN  \n",
      "18  39005.22  2015       0   22           ?     NaN  \n",
      "19  39005.22  2018       0   21           ?     NaN  \n",
      "20   1500.00  1940       1   21         NaN     NaN  \n",
      "21   1500.00  1940       1   22         NaN     NaN  \n",
      "22   2000.00  1950       1   20         NaN     NaN  \n",
      "23   3000.00  1950       1   20         NaN     NaN  \n",
      "24   3500.00  1955       1   21         NaN     NaN  \n",
      "25   4000.00  1955       1   18         NaN     NaN  \n",
      "26   4000.00  1960       1   19         NaN     NaN  \n",
      "27   3800.00  1960       1   21         NaN     NaN  \n",
      "28   3500.00  1965       1   21         NaN     NaN  \n",
      "29   3500.00  1965       1   20         NaN     NaN  \n",
      "30   4000.00  1970       1   18         NaN     NaN  \n",
      "31   4000.00  1970       1   21         NaN     NaN  \n",
      "32   5000.00  1980       2   20         NaN     NaN  \n",
      "33   5000.00  1980       2   19         NaN     NaN  \n",
      "34   4000.00  1990       1   21         NaN     NaN  \n",
      "35   5000.00  1990       0   23         NaN     NaN  \n",
      "36   5000.00  2000       1   19         NaN     NaN  \n",
      "37   6000.00  2000       0   19         NaN     NaN  \n",
      "38   4000.00  2010       0   22         NaN     NaN  \n",
      "39   4500.00  2010       0   21         NaN     NaN  \n"
     ]
    }
   ],
   "source": [
    "address= 'C:/Users/chmat/Desktop/THESIS/Optimization Files/Database1.csv'\n",
    "bldgs = pd.read_csv(address)\n",
    "bldgs.columns = ['Number','Label','Stories','ConArea','TotArea','Year','Heater','Sch','Pred Rating','Rating']\n",
    "print(bldgs)"
   ]
  },
  {
   "cell_type": "code",
   "execution_count": 19,
   "id": "08a7979f",
   "metadata": {},
   "outputs": [
    {
     "name": "stdout",
     "output_type": "stream",
     "text": [
      "     ConArea  Year\n",
      "0    2377.10  2021\n",
      "1   21609.96  2021\n",
      "2    2377.10  2015\n",
      "3    2377.10  2018\n",
      "4    2377.10  1960\n",
      "5    2377.10  2015\n",
      "6    2377.10  2018\n",
      "7    2377.10  2015\n",
      "8    2377.10  2018\n",
      "9    2494.67  2015\n",
      "10   2494.67  2021\n",
      "11   2377.10  2021\n",
      "12   2377.10  2018\n",
      "13  21609.96  2018\n",
      "14   2377.10  2015\n",
      "15   2377.10  2015\n",
      "16   2377.10  2015\n",
      "17   2377.10  2015\n",
      "18  21609.96  2015\n",
      "19  21609.96  2018\n"
     ]
    }
   ],
   "source": [
    "point = bldgs[['ConArea','Year']]\n",
    "point = point[0:20]\n",
    "print(point)"
   ]
  },
  {
   "cell_type": "code",
   "execution_count": 20,
   "id": "0c0989c1",
   "metadata": {},
   "outputs": [],
   "source": [
    "##import kmenas\n",
    "from sklearn.cluster import KMeans"
   ]
  },
  {
   "cell_type": "code",
   "execution_count": 32,
   "id": "cf282abc",
   "metadata": {},
   "outputs": [],
   "source": [
    "## create kmeans objct \n",
    "kmeans = KMeans(n_clusters= 3)"
   ]
  },
  {
   "cell_type": "code",
   "execution_count": 33,
   "id": "6daa6b29",
   "metadata": {},
   "outputs": [
    {
     "data": {
      "text/plain": [
       "KMeans(n_clusters=3)"
      ]
     },
     "execution_count": 33,
     "metadata": {},
     "output_type": "execute_result"
    }
   ],
   "source": [
    "kmeans.fit(point)"
   ]
  },
  {
   "cell_type": "code",
   "execution_count": 39,
   "id": "3d3d50b2",
   "metadata": {},
   "outputs": [
    {
     "data": {
      "text/plain": [
       "0      2377.10\n",
       "1     21609.96\n",
       "2      2377.10\n",
       "3      2377.10\n",
       "4      2377.10\n",
       "5      2377.10\n",
       "6      2377.10\n",
       "7      2377.10\n",
       "8      2377.10\n",
       "9      2494.67\n",
       "10     2494.67\n",
       "11     2377.10\n",
       "12     2377.10\n",
       "13    21609.96\n",
       "14     2377.10\n",
       "15     2377.10\n",
       "16     2377.10\n",
       "17     2377.10\n",
       "18    21609.96\n",
       "19    21609.96\n",
       "Name: ConArea, dtype: float64"
      ]
     },
     "execution_count": 39,
     "metadata": {},
     "output_type": "execute_result"
    }
   ],
   "source": [
    "point['ConArea']"
   ]
  },
  {
   "cell_type": "code",
   "execution_count": 40,
   "id": "22940027",
   "metadata": {},
   "outputs": [
    {
     "data": {
      "text/plain": [
       "<matplotlib.collections.PathCollection at 0x2d4137009d0>"
      ]
     },
     "execution_count": 40,
     "metadata": {},
     "output_type": "execute_result"
    },
    {
     "data": {
      "image/png": "[encoded data removed]",
      "text/plain": [
       "<Figure size 432x288 with 1 Axes>"
      ]
     },
     "metadata": {
      "needs_background": "light"
     },
     "output_type": "display_data"
    }
   ],
   "source": [
    "plt.scatter(point['ConArea'],point['Year'])"
   ]
  },
  {
   "cell_type": "code",
   "execution_count": 41,
   "id": "0bdabc0b",
   "metadata": {},
   "outputs": [],
   "source": [
    "clusters = kmeans.cluster_centers_"
   ]
  },
  {
   "cell_type": "code",
   "execution_count": 42,
   "id": "96dc82b8",
   "metadata": {},
   "outputs": [
    {
     "name": "stdout",
     "output_type": "stream",
     "text": [
      "[[ 2377.1         2012.78571429]\n",
      " [21609.96        2018.        ]\n",
      " [ 2494.67        2018.        ]]\n"
     ]
    }
   ],
   "source": [
    "##print out the clusters\n",
    "print(clusters)"
   ]
  },
  {
   "cell_type": "code",
   "execution_count": 43,
   "id": "af4975b5",
   "metadata": {},
   "outputs": [
    {
     "name": "stdout",
     "output_type": "stream",
     "text": [
      "[0 1 0 0 0 0 0 0 0 2 2 0 0 1 0 0 0 0 1 1]\n"
     ]
    }
   ],
   "source": [
    "##assigned schedule (0-4)\n",
    "y_km = kmeans.fit_predict(point)\n",
    "print(y_km)"
   ]
  },
  {
   "cell_type": "code",
   "execution_count": 44,
   "id": "cb342aa7",
   "metadata": {},
   "outputs": [],
   "source": [
    "# fig = plt.figure(figsize=(12, 12))\n",
    "# ax = fig.add_subplot(projection='3d')\n",
    "\n",
    "# ax.scatter(point[y_km==0,0], point[y_km ==0,1],point[y_km ==0,2], s = 50, color='red' )\n",
    "# ax.scatter(clusters[0][0],clusters[0][1], clusters[0][2], marker = '*', s = 100, color='black')\n",
    "\n",
    "# ax.scatter(point[y_km==1,0], point[y_km ==1,1],point[y_km ==1,2] , s = 50, color='blue' )\n",
    "# ax.scatter(clusters[1][0],clusters[1][1], clusters[1][2], marker = '*', s = 100, color='black')\n",
    "\n",
    "# ax.scatter(point[y_km==2,0], point[y_km ==2,1], point[y_km ==2,2], s = 50, color='yellow' )\n",
    "# ax.scatter(clusters[2][0],clusters[2][1], clusters[2][2], marker = '*', s = 100, color='black')\n",
    "\n",
    "# ax.scatter(point[y_km==3,0], point[y_km ==3,1], point[y_km ==3,2], s = 50, color='cyan' )\n",
    "# ax.scatter(clusters[3][0],clusters[3][1], clusters[3][2], marker = '*', s = 100, color='black')\n",
    "\n",
    "# ax.scatter(point[y_km==4,0], point[y_km ==4,1], point[y_km ==4,2],s = 50, color='magenta' )\n",
    "# ax.scatter(clusters[4][0],clusters[4][1], clusters[4][2], marker = '*', s = 100, color='black')\n",
    "#plt.show()"
   ]
  },
  {
   "cell_type": "code",
   "execution_count": 47,
   "id": "64412ac0",
   "metadata": {},
   "outputs": [
    {
     "data": {
      "text/plain": [
       "<matplotlib.collections.PathCollection at 0x2d4137c2880>"
      ]
     },
     "execution_count": 47,
     "metadata": {},
     "output_type": "execute_result"
    },
    {
     "data": {
      "image/png": "[encoded data removed]",
      "text/plain": [
       "<Figure size 432x288 with 1 Axes>"
      ]
     },
     "metadata": {
      "needs_background": "light"
     },
     "output_type": "display_data"
    }
   ],
   "source": [
    "v\n",
    "plt.scatter(point[y_km==0], point[y_km ==0], s = 50, color='red' )\n",
    "plt.scatter(clusters[0],clusters[0],marker = '*', s = 100, color='red')\n",
    "\n",
    "plt.scatter(point[y_km==1], point[y_km ==1], s = 50, color='blue' )\n",
    "plt.scatter(clusters[1],clusters[1],marker = '*', s = 100, color='blue')\n",
    "\n",
    "# plt.scatter(point[y_km==2,0], point[y_km ==2,1], s = 50, color='yellow' )\n",
    "# plt.scatter(clusters[2][0],clusters[2][1],marker = '*', s = 100, color='black')\n",
    "# plt.scatter(point[y_km==3,0], point[y_km ==3,1], s = 50, color='cyan' )\n",
    "# plt.scatter(clusters[3][0],clusters[3][1],marker = '*', s = 100, color='black')"
   ]
  },
  {
   "cell_type": "markdown",
   "id": "300eb507",
   "metadata": {},
   "source": [
    "Split data into test and training set"
   ]
  },
  {
   "cell_type": "code",
   "execution_count": null,
   "id": "7b0add41",
   "metadata": {},
   "outputs": [],
   "source": []
  }
 ],
 "metadata": {
  "kernelspec": {
   "display_name": "Python 3",
   "language": "python",
   "name": "python3"
  },
  "language_info": {
   "codemirror_mode": {
    "name": "ipython",
    "version": 3
   },
   "file_extension": ".py",
   "mimetype": "text/x-python",
   "name": "python",
   "nbconvert_exporter": "python",
   "pygments_lexer": "ipython3",
   "version": "3.8.8"
  }
 },
 "nbformat": 4,
 "nbformat_minor": 5
}
