{
 "cells": [
  {
   "cell_type": "markdown",
   "id": "e1fde6ad",
   "metadata": {},
   "source": [
    "Engie Project\n",
    "\n",
    "Last Update: June 15, 2021\n",
    "\n",
    "Notes: two cases -- one with EP ratio enforced, one without that constraint\n",
    "\n",
    "Run Time:"
   ]
  },
  {
   "cell_type": "code",
   "execution_count": 730,
   "id": "d1e8f46f",
   "metadata": {},
   "outputs": [],
   "source": [
    "### Initialize\n",
    "import DataFrames, CSV, Plots, JuMP, Gurobi"
   ]
  },
  {
   "cell_type": "code",
   "execution_count": 731,
   "id": "2ca35025",
   "metadata": {},
   "outputs": [
    {
     "data": {
      "text/plain": [
       "237600.0"
      ]
     },
     "execution_count": 731,
     "metadata": {},
     "output_type": "execute_result"
    }
   ],
   "source": [
    "using JuMP, Gurobi\n",
    "Hours = 24\n",
    "Cp = 1.01\n",
    "rho = 1.225\n",
    "Vol = 482.3\n",
    "SA = 220\n",
    "MassAir = Vol*rho\n",
    "U = 0.3 ## W/m2K\n",
    "UA = SA*U  #W/K\n",
    "JoulesLost = UA*3600"
   ]
  },
  {
   "cell_type": "code",
   "execution_count": 732,
   "id": "a82b2ba3",
   "metadata": {},
   "outputs": [
    {
     "data": {
      "text/plain": [
       "24-element Array{Int64,1}:\n",
       " 1000000\n",
       " 1000000\n",
       " 1000000\n",
       " 1000000\n",
       " 1000000\n",
       " 1000000\n",
       " 1000000\n",
       " 1000000\n",
       " 1000000\n",
       " 1000000\n",
       " 1000000\n",
       " 1000000\n",
       " 1000000\n",
       " 1000000\n",
       " 1000000\n",
       " 1000000\n",
       " 1000000\n",
       " 1000000\n",
       " 1000000\n",
       " 1000000\n",
       " 1000000\n",
       " 1000000\n",
       " 1000000\n",
       " 1000000"
      ]
     },
     "execution_count": 732,
     "metadata": {},
     "output_type": "execute_result"
    }
   ],
   "source": [
    "Cost = [0.0444,0.0444,0.0444,0.0444,0.0444,0.0444,0.0444,0.0444,0.0444,0.05413,0.05413,0.05413,0.05413,0.05413,0.05413,     0.0888, 0.0888, 0.0888, 0.0888, 0.0888,0.05413,0.05413,0.05413,0.05413]\n",
    "PeopleE = [1.266624e+06,1.266624e+06,1.266624e+06,1.266624e+06,1.266624e+06,1.266624e+06,1.266624e+06,\n",
    "    1.118556e+06,5.175552e+05,3.063837e+05,3.063837e+05,3.063837e+05,3.063837e+05,3.063837e+05,3.063837e+05,\n",
    "     3.063837e+05,3.736287e+05,7.005697e+05, 1.136073e+06,1.136073e+06,1.136073e+06,1.266624e+06,1.266624e+06,1.266624e+06] ##J\n",
    "# ## Losses\n",
    "Qloss = [1000,1000, 1000, 1000, 1000, 1000, 1000, 1000,\n",
    "    1000, 1000, 1000, 1000, 1000, 1000, 1000, 1000, 1000, 1000, 1000, 1000, 1000, 1000, 1000, 1000] *1000##kJ\n",
    "\n",
    "TOutdoor = [1.75,0.6667,-2.16,-2.41,-3.75,-3.83,-3.53,-4,-0.5,6,6,4,4,5.1,5.8,5.3,3.83,0.66,-1,-1,-1,-1,-.416]\n",
    "\n",
    "\n",
    "#NetHeat = PeopleE-Qloss ## joules\n",
    "\n",
    "# T1 = 21\n",
    "# T2 = NetHeat[1]/1000 / (MassAir *Cp) +T1\n",
    "# T3 = NetHeat[2]/1000 / (MassAir *Cp) +T2"
   ]
  },
  {
   "cell_type": "code",
   "execution_count": 733,
   "id": "c3558641",
   "metadata": {},
   "outputs": [
    {
     "name": "stdout",
     "output_type": "stream",
     "text": [
      "Academic license - for non-commercial use only - expires 2022-04-09\r\n"
     ]
    },
    {
     "data": {
      "text/plain": [
       "A JuMP Model\n",
       "Feasibility problem with:\n",
       "Variables: 0\n",
       "Model mode: AUTOMATIC\n",
       "CachingOptimizer state: EMPTY_OPTIMIZER\n",
       "Solver name: Gurobi"
      ]
     },
     "execution_count": 733,
     "metadata": {},
     "output_type": "execute_result"
    }
   ],
   "source": [
    "model = Model(Gurobi.Optimizer)"
   ]
  },
  {
   "cell_type": "code",
   "execution_count": 734,
   "id": "04af5f4b",
   "metadata": {},
   "outputs": [
    {
     "data": {
      "text/plain": [
       "24-element Array{VariableRef,1}:\n",
       " UALoss[1]\n",
       " UALoss[2]\n",
       " UALoss[3]\n",
       " UALoss[4]\n",
       " UALoss[5]\n",
       " UALoss[6]\n",
       " UALoss[7]\n",
       " UALoss[8]\n",
       " UALoss[9]\n",
       " UALoss[10]\n",
       " UALoss[11]\n",
       " UALoss[12]\n",
       " UALoss[13]\n",
       " UALoss[14]\n",
       " UALoss[15]\n",
       " UALoss[16]\n",
       " UALoss[17]\n",
       " UALoss[18]\n",
       " UALoss[19]\n",
       " UALoss[20]\n",
       " UALoss[21]\n",
       " UALoss[22]\n",
       " UALoss[23]\n",
       " UALoss[24]"
      ]
     },
     "execution_count": 734,
     "metadata": {},
     "output_type": "execute_result"
    }
   ],
   "source": [
    "## Define the Variables\n",
    "@variable(model,TSetpoint[1:Hours],container=Array)\n",
    "@variable(model, HeatingOn[1:Hours], binary=true)\n",
    "@variable(model,Qsys[1:Hours],container = Array)\n",
    "@variable(model,TZone[1:Hours],container=Array)\n",
    "@variable(model,UALoss[1:Hours], container =Array)"
   ]
  },
  {
   "cell_type": "code",
   "execution_count": 735,
   "id": "e9aa92e0",
   "metadata": {},
   "outputs": [],
   "source": [
    "#@constraint(model, [i=1:Hours], TSetpoint[i] <= 40)"
   ]
  },
  {
   "cell_type": "code",
   "execution_count": 737,
   "id": "bfdb4895",
   "metadata": {},
   "outputs": [
    {
     "data": {
      "text/plain": [
       "24-element Array{ConstraintRef{Model,MathOptInterface.ConstraintIndex{MathOptInterface.ScalarAffineFunction{Float64},MathOptInterface.LessThan{Float64}},ScalarShape},1}:\n",
       " Qsys[1] <= 1.0e6\n",
       " Qsys[2] <= 1.0e6\n",
       " Qsys[3] <= 1.0e6\n",
       " Qsys[4] <= 1.0e6\n",
       " Qsys[5] <= 1.0e6\n",
       " Qsys[6] <= 1.0e6\n",
       " Qsys[7] <= 1.0e6\n",
       " Qsys[8] <= 1.0e6\n",
       " Qsys[9] <= 1.0e6\n",
       " Qsys[10] <= 1.0e6\n",
       " Qsys[11] <= 1.0e6\n",
       " Qsys[12] <= 1.0e6\n",
       " Qsys[13] <= 1.0e6\n",
       " Qsys[14] <= 1.0e6\n",
       " Qsys[15] <= 1.0e6\n",
       " Qsys[16] <= 1.0e6\n",
       " Qsys[17] <= 1.0e6\n",
       " Qsys[18] <= 1.0e6\n",
       " Qsys[19] <= 1.0e6\n",
       " Qsys[20] <= 1.0e6\n",
       " Qsys[21] <= 1.0e6\n",
       " Qsys[22] <= 1.0e6\n",
       " Qsys[23] <= 1.0e6\n",
       " Qsys[24] <= 1.0e6"
      ]
     },
     "execution_count": 737,
     "metadata": {},
     "output_type": "execute_result"
    }
   ],
   "source": [
    "##Calculate Heating Needed\n",
    "@constraint(model, [i=2:Hours], UALoss[i] == JoulesLost*(TOutdoor[i-1]-TZone[i-1]))\n",
    "@constraint(model, [i=2:Hours], Qsys[i] == HeatingOn[i]*(TSetpoint[i]-TZone[i-1])/(MassAir*Cp)/1000)\n",
    "@constraint(model, [i=1:Hours], Qsys[i] >= 0)\n",
    "@constraint(model, [i=1:Hours], Qsys[i] <= 1000000)"
   ]
  },
  {
   "cell_type": "code",
   "execution_count": 738,
   "id": "4cb14313",
   "metadata": {
    "scrolled": false
   },
   "outputs": [
    {
     "data": {
      "text/plain": [
       "1-dimensional DenseAxisArray{ConstraintRef{Model,MathOptInterface.ConstraintIndex{MathOptInterface.ScalarAffineFunction{Float64},MathOptInterface.EqualTo{Float64}},ScalarShape},1,...} with index sets:\n",
       "    Dimension 1, 2:24\n",
       "And data, a 23-element Array{ConstraintRef{Model,MathOptInterface.ConstraintIndex{MathOptInterface.ScalarAffineFunction{Float64},MathOptInterface.EqualTo{Float64}},ScalarShape},1}:\n",
       " -1.6758119214494997e-6 Qsys[2] - TZone[1] + TZone[2] - 1.6758119214494997e-6 UALoss[2] == 0.44681167774455144\n",
       " -1.6758119214494997e-6 Qsys[3] - TZone[2] + TZone[3] - 1.6758119214494997e-6 UALoss[3] == 0.44681167774455144\n",
       " -1.6758119214494997e-6 Qsys[4] - TZone[3] + TZone[4] - 1.6758119214494997e-6 UALoss[4] == 0.44681167774455144\n",
       " -1.6758119214494997e-6 Qsys[5] - TZone[4] + TZone[5] - 1.6758119214494997e-6 UALoss[5] == 0.44681167774455144\n",
       " -1.6758119214494997e-6 Qsys[6] - TZone[5] + TZone[6] - 1.6758119214494997e-6 UALoss[6] == 0.44681167774455144\n",
       " -1.6758119214494997e-6 Qsys[7] - TZone[6] + TZone[7] - 1.6758119214494997e-6 UALoss[7] == 0.44681167774455144\n",
       " -1.6758119214494997e-6 Qsys[8] - TZone[7] + TZone[8] - 1.6758119214494997e-6 UALoss[8] == 0.1986775581593669\n",
       " -1.6758119214494997e-6 Qsys[9] - TZone[8] + TZone[9] - 1.6758119214494997e-6 UALoss[9] == -0.8084867472813196\n",
       " -1.6758119214494997e-6 Qsys[10] - TZone[9] + TZone[10] - 1.6758119214494997e-6 UALoss[10] == -1.1623704644516928\n",
       " -1.6758119214494997e-6 Qsys[11] - TZone[10] + TZone[11] - 1.6758119214494997e-6 UALoss[11] == -1.1623704644516928\n",
       " -1.6758119214494997e-6 Qsys[12] - TZone[11] + TZone[12] - 1.6758119214494997e-6 UALoss[12] == -1.1623704644516928\n",
       " -1.6758119214494997e-6 Qsys[13] - TZone[12] + TZone[13] - 1.6758119214494997e-6 UALoss[13] == -1.1623704644516928\n",
       " -1.6758119214494997e-6 Qsys[14] - TZone[13] + TZone[14] - 1.6758119214494997e-6 UALoss[14] == -1.1623704644516928\n",
       " -1.6758119214494997e-6 Qsys[15] - TZone[14] + TZone[15] - 1.6758119214494997e-6 UALoss[15] == -1.1623704644516928\n",
       " -1.6758119214494997e-6 Qsys[16] - TZone[15] + TZone[16] - 1.6758119214494997e-6 UALoss[16] == -1.1623704644516928\n",
       " -1.6758119214494997e-6 Qsys[17] - TZone[16] + TZone[17] - 1.6758119214494997e-6 UALoss[17] == -1.0496804917938212\n",
       " -1.6758119214494997e-6 Qsys[18] - TZone[17] + TZone[18] - 1.6758119214494997e-6 UALoss[18] == -0.5017888663832002\n",
       " -1.6758119214494997e-6 Qsys[19] - TZone[18] + TZone[19] - 1.6758119214494997e-6 UALoss[19] == 0.2280327555873978\n",
       " -1.6758119214494997e-6 Qsys[20] - TZone[19] + TZone[20] - 1.6758119214494997e-6 UALoss[20] == 0.2280327555873978\n",
       " -1.6758119214494997e-6 Qsys[21] - TZone[20] + TZone[21] - 1.6758119214494997e-6 UALoss[21] == 0.2280327555873978\n",
       " -1.6758119214494997e-6 Qsys[22] - TZone[21] + TZone[22] - 1.6758119214494997e-6 UALoss[22] == 0.44681167774455144\n",
       " -1.6758119214494997e-6 Qsys[23] - TZone[22] + TZone[23] - 1.6758119214494997e-6 UALoss[23] == 0.44681167774455144\n",
       " -1.6758119214494997e-6 Qsys[24] - TZone[23] + TZone[24] - 1.6758119214494997e-6 UALoss[24] == 0.44681167774455144"
      ]
     },
     "execution_count": 738,
     "metadata": {},
     "output_type": "execute_result"
    }
   ],
   "source": [
    "##Calculate Indoor T\n",
    "@constraint(model,[i=2:Hours],TZone[i]== TZone[i-1]+(Qsys[i]+NetHeat[i]+UALoss[i])/1000/(MassAir *Cp))"
   ]
  },
  {
   "cell_type": "code",
   "execution_count": 739,
   "id": "618683f1",
   "metadata": {},
   "outputs": [
    {
     "name": "stdout",
     "output_type": "stream",
     "text": [
      "VariableRef[TSetpoint[1], TSetpoint[2], TSetpoint[3], TSetpoint[4], TSetpoint[5], TSetpoint[6], TSetpoint[7], TSetpoint[8], TSetpoint[9], TSetpoint[10], TSetpoint[11], TSetpoint[12], TSetpoint[13], TSetpoint[14], TSetpoint[15], TSetpoint[16], TSetpoint[17], TSetpoint[18], TSetpoint[19], TSetpoint[20], TSetpoint[21], TSetpoint[22], TSetpoint[23], TSetpoint[24]]"
     ]
    }
   ],
   "source": [
    "@constraint(model, [i=1:Hours], TZone[i] <= 28)\n",
    "@constraint(model, [i=1:Hours], TZone[i] >= 18)\n",
    "#@constraint(model,[i=1:Hours], TSetpoint[i] <=30)\n",
    "\n",
    "#@constraint(model,[i=2:Hours],TSetpoint[i]== TSetpoint[i-1]+NetHeat/1000/ (MassAir *Cp))\n",
    "print(TSetpoint)"
   ]
  },
  {
   "cell_type": "code",
   "execution_count": 740,
   "id": "af60fb02",
   "metadata": {},
   "outputs": [],
   "source": [
    "# ## Net Heat\n",
    "\n",
    "# @constraint(model, [i=2:Hours], Qsys[i] == (TSetpoint[i]-TZone[i-1])*(MassAir*Cp))\n",
    "# NetHeat = Qsys + PeopleE-Qloss"
   ]
  },
  {
   "cell_type": "code",
   "execution_count": 741,
   "id": "0421535c",
   "metadata": {},
   "outputs": [],
   "source": [
    "# ##Zone Temp\n",
    "#@constraint(model,TZone[1]==21)\n",
    "\n",
    "# @constraint(model,[i=1:Hours],TZone[i] <= 29)\n",
    "# @constraint(model,[i=1:Hours],TZone[i] >= 0)\n",
    "# @constraint(model,[i=2:Hours],TZone[i] >= TZone[i-1]+0.5)\n",
    "# #@constraint(model, [i=2:Hours], TZone[i]== TZone[i-1] + NetHeat[i]/1000/(MassAir*Cp))\n",
    "# print(TZone)\n",
    "# #T2 = NetHeat[1]/1000 / (MassAir *Cp) +T1"
   ]
  },
  {
   "cell_type": "code",
   "execution_count": 742,
   "id": "85e8c242",
   "metadata": {},
   "outputs": [
    {
     "name": "stdout",
     "output_type": "stream",
     "text": [
      "1.2333333333333334e-5 Qsys[1] + 1.2333333333333334e-5 Qsys[2] + 1.2333333333333334e-5 Qsys[3] + 1.2333333333333334e-5 Qsys[4] + 1.2333333333333334e-5 Qsys[5] + 1.2333333333333334e-5 Qsys[6] + 1.2333333333333334e-5 Qsys[7] + 1.2333333333333334e-5 Qsys[8] + 1.2333333333333334e-5 Qsys[9] + 1.503611111111111e-5 Qsys[10] + 1.503611111111111e-5 Qsys[11] + 1.503611111111111e-5 Qsys[12] + 1.503611111111111e-5 Qsys[13] + 1.503611111111111e-5 Qsys[14] + 1.503611111111111e-5 Qsys[15] + 2.466666666666667e-5 Qsys[16] + 2.466666666666667e-5 Qsys[17] + 2.466666666666667e-5 Qsys[18] + 2.466666666666667e-5 Qsys[19] + 2.466666666666667e-5 Qsys[20] + 1.503611111111111e-5 Qsys[21] + 1.503611111111111e-5 Qsys[22] + 1.503611111111111e-5 Qsys[23] + 1.503611111111111e-5 Qsys[24]"
     ]
    }
   ],
   "source": [
    "TotalCost= sum(Cost.*Qsys/3600)  ##convert to kwh\n",
    "print(TotalCost)"
   ]
  },
  {
   "cell_type": "code",
   "execution_count": 743,
   "id": "01e82324",
   "metadata": {},
   "outputs": [
    {
     "data": {
      "text/latex": [
       "$$ 1.2333333333333334e-5 Qsys_{1} + 1.2333333333333334e-5 Qsys_{2} + 1.2333333333333334e-5 Qsys_{3} + 1.2333333333333334e-5 Qsys_{4} + 1.2333333333333334e-5 Qsys_{5} + 1.2333333333333334e-5 Qsys_{6} + 1.2333333333333334e-5 Qsys_{7} + 1.2333333333333334e-5 Qsys_{8} + 1.2333333333333334e-5 Qsys_{9} + 1.503611111111111e-5 Qsys_{10} + 1.503611111111111e-5 Qsys_{11} + 1.503611111111111e-5 Qsys_{12} + 1.503611111111111e-5 Qsys_{13} + 1.503611111111111e-5 Qsys_{14} + 1.503611111111111e-5 Qsys_{15} + 2.466666666666667e-5 Qsys_{16} + 2.466666666666667e-5 Qsys_{17} + 2.466666666666667e-5 Qsys_{18} + 2.466666666666667e-5 Qsys_{19} + 2.466666666666667e-5 Qsys_{20} + 1.503611111111111e-5 Qsys_{21} + 1.503611111111111e-5 Qsys_{22} + 1.503611111111111e-5 Qsys_{23} + 1.503611111111111e-5 Qsys_{24} $$"
      ],
      "text/plain": [
       "1.2333333333333334e-5 Qsys[1] + 1.2333333333333334e-5 Qsys[2] + 1.2333333333333334e-5 Qsys[3] + 1.2333333333333334e-5 Qsys[4] + 1.2333333333333334e-5 Qsys[5] + 1.2333333333333334e-5 Qsys[6] + 1.2333333333333334e-5 Qsys[7] + 1.2333333333333334e-5 Qsys[8] + 1.2333333333333334e-5 Qsys[9] + 1.503611111111111e-5 Qsys[10] + 1.503611111111111e-5 Qsys[11] + 1.503611111111111e-5 Qsys[12] + 1.503611111111111e-5 Qsys[13] + 1.503611111111111e-5 Qsys[14] + 1.503611111111111e-5 Qsys[15] + 2.466666666666667e-5 Qsys[16] + 2.466666666666667e-5 Qsys[17] + 2.466666666666667e-5 Qsys[18] + 2.466666666666667e-5 Qsys[19] + 2.466666666666667e-5 Qsys[20] + 1.503611111111111e-5 Qsys[21] + 1.503611111111111e-5 Qsys[22] + 1.503611111111111e-5 Qsys[23] + 1.503611111111111e-5 Qsys[24]"
      ]
     },
     "execution_count": 743,
     "metadata": {},
     "output_type": "execute_result"
    }
   ],
   "source": [
    "@objective(model, Min, TotalCost)"
   ]
  },
  {
   "cell_type": "code",
   "execution_count": 744,
   "id": "0c842c11",
   "metadata": {},
   "outputs": [
    {
     "name": "stdout",
     "output_type": "stream",
     "text": [
      "Gurobi Optimizer version 9.1.1 build v9.1.1rc0 (win64)\r\n",
      "Thread count: 2 physical cores, 4 logical processors, using up to 4 threads\r\n",
      "Optimize a model with 142 rows, 120 columns and 234 nonzeros\r\n",
      "Model fingerprint: 0xcb37619b\r\n",
      "Model has 23 quadratic constraints\r\n",
      "Variable types: 96 continuous, 24 integer (24 binary)\r\n",
      "Coefficient statistics:\r\n",
      "  Matrix range     [2e-06, 2e+05]\r\n",
      "  QMatrix range    [2e-06, 2e-06]\r\n",
      "  QLMatrix range   [1e+00, 1e+00]\r\n",
      "  Objective range  [1e-05, 2e-05]\r\n",
      "  Bounds range     [0e+00, 0e+00]\r\n",
      "  RHS range        [2e-01, 1e+06]\r\n",
      "Presolve removed 96 rows and 4 columns\r\n",
      "Presolve time: 0.00s\r\n",
      "\r\n",
      "Explored 0 nodes (0 simplex iterations) in 0.01 seconds\r\n",
      "Thread count was 1 (of 4 available processors)\r\n",
      "\r\n",
      "Solution count 0\r\n",
      "\r\n",
      "Model is infeasible or unbounded\r\n",
      "Best objective -, best bound -, gap -\r\n",
      "\r\n",
      "User-callback calls 27, time in user-callback 0.00 sec\r\n"
     ]
    }
   ],
   "source": [
    "optimize!(model)"
   ]
  },
  {
   "cell_type": "code",
   "execution_count": 745,
   "id": "426c826a",
   "metadata": {},
   "outputs": [
    {
     "name": "stdout",
     "output_type": "stream",
     "text": [
      "Optimal Solutions:\n"
     ]
    },
    {
     "ename": "LoadError",
     "evalue": "\u001b[91mResult index of attribute MathOptInterface.VariablePrimal(1) out of bounds. There are currently 0 solution(s) in the model.\u001b[39m",
     "output_type": "error",
     "traceback": [
      "\u001b[91mResult index of attribute MathOptInterface.VariablePrimal(1) out of bounds. There are currently 0 solution(s) in the model.\u001b[39m",
      "",
      "Stacktrace:",
      " [1] check_result_index_bounds at C:\\Users\\chmat\\.julia\\packages\\MathOptInterface\\YDdD3\\src\\attributes.jl:139 [inlined]",
      " [2] get(::Gurobi.Optimizer, ::MathOptInterface.VariablePrimal, ::MathOptInterface.VariableIndex) at C:\\Users\\chmat\\.julia\\packages\\Gurobi\\HtUHB\\src\\MOI_wrapper.jl:2599",
      " [3] get(::MathOptInterface.Bridges.LazyBridgeOptimizer{Gurobi.Optimizer}, ::MathOptInterface.VariablePrimal, ::MathOptInterface.VariableIndex) at C:\\Users\\chmat\\.julia\\packages\\MathOptInterface\\YDdD3\\src\\Bridges\\bridge_optimizer.jl:1039",
      " [4] get(::MathOptInterface.Utilities.CachingOptimizer{MathOptInterface.AbstractOptimizer,MathOptInterface.Utilities.UniversalFallback{MathOptInterface.Utilities.GenericModel{Float64,MathOptInterface.Utilities.ModelFunctionConstraints{Float64}}}}, ::MathOptInterface.VariablePrimal, ::MathOptInterface.VariableIndex) at C:\\Users\\chmat\\.julia\\packages\\MathOptInterface\\YDdD3\\src\\Utilities\\cachingoptimizer.jl:757",
      " [5] _moi_get_result(::MathOptInterface.Utilities.CachingOptimizer{MathOptInterface.AbstractOptimizer,MathOptInterface.Utilities.UniversalFallback{MathOptInterface.Utilities.GenericModel{Float64,MathOptInterface.Utilities.ModelFunctionConstraints{Float64}}}}, ::MathOptInterface.VariablePrimal, ::Vararg{Any,N} where N) at C:\\Users\\chmat\\.julia\\packages\\JuMP\\Xrr7O\\src\\JuMP.jl:1087",
      " [6] get(::Model, ::MathOptInterface.VariablePrimal, ::VariableRef) at C:\\Users\\chmat\\.julia\\packages\\JuMP\\Xrr7O\\src\\JuMP.jl:1120",
      " [7] value(::VariableRef; result::Int64) at C:\\Users\\chmat\\.julia\\packages\\JuMP\\Xrr7O\\src\\variables.jl:929",
      " [8] #38 at C:\\Users\\chmat\\.julia\\packages\\JuMP\\Xrr7O\\src\\aff_expr.jl:494 [inlined]",
      " [9] value(::GenericAffExpr{Float64,VariableRef}, ::JuMP.var\"#38#39\"{Int64}) at C:\\Users\\chmat\\.julia\\packages\\JuMP\\Xrr7O\\src\\aff_expr.jl:280",
      " [10] #value#37 at C:\\Users\\chmat\\.julia\\packages\\JuMP\\Xrr7O\\src\\aff_expr.jl:494 [inlined]",
      " [11] value(::GenericAffExpr{Float64,VariableRef}) at C:\\Users\\chmat\\.julia\\packages\\JuMP\\Xrr7O\\src\\aff_expr.jl:494",
      " [12] top-level scope at In[745]:2",
      " [13] include_string(::Function, ::Module, ::String, ::String) at .\\loading.jl:1091"
     ]
    }
   ],
   "source": [
    "println(\"Optimal Solutions:\")\n",
    "println(\"Total Cost = \", value(TotalCost), \" dollar\")"
   ]
  },
  {
   "cell_type": "code",
   "execution_count": 709,
   "id": "48dae5ec",
   "metadata": {},
   "outputs": [
    {
     "name": "stdout",
     "output_type": "stream",
     "text": [
      "[0.0, 25.120452375373326, 25.567264053117878, 26.014075730862427, 26.46088740860698, 26.90769908635153, 27.354510764096087, 27.801322441840632, 1.7681205525178278e11, 27.68806260933888, 26.525692144887184, 25.36332168043549, 24.200951215983796, 23.038580751532102, 21.876210287080408, 20.713839822628714, 19.55146935817702, 18.5017888663832, 18.0, 18.228032755587396, 18.456065511174792, 18.684098266762188, 19.130909944506737, 19.577721622251286]"
     ]
    }
   ],
   "source": [
    "TSetpoint_Opt= JuMP.value.(TSetpoint)\n",
    "Qsys_Opt = JuMP.value.(Qsys)\n",
    "OnOff_Opt= JuMP.value.(HeatingOn)\n",
    "# print(TSetpoint_Optimized)\n",
    "TZone_Opt = JuMP.value.(TZone)\n",
    "# print(OnOff)\n",
    "print(TSetpoint_Opt)"
   ]
  },
  {
   "cell_type": "code",
   "execution_count": 710,
   "id": "3373ec84",
   "metadata": {},
   "outputs": [
    {
     "data": {
      "image/svg+xml": [
       "<?xml version=\"1.0\" encoding=\"utf-8\"?>\n",
       "<svg xmlns=\"http://www.w3.org/2000/svg\" xmlns:xlink=\"http://www.w3.org/1999/xlink\" width=\"600\" height=\"400\" viewBox=\"0 0 2400 1600\">\n",
       "<defs>\n",
       "  <clipPath id=\"clip090\">\n",
       "    <rect x=\"0\" y=\"0\" width=\"2400\" height=\"1600\"/>\n",
       "  </clipPath>\n",
       "</defs>\n",
       "<path clip-path=\"url(#clip090)\" d=\"\n",
       "M0 1600 L2400 1600 L2400 0 L0 0  Z\n",
       "  \" fill=\"#ffffff\" fill-rule=\"evenodd\" fill-opacity=\"1\"/>\n",
       "<defs>\n",
       "  <clipPath id=\"clip091\">\n",
       "    <rect x=\"480\" y=\"0\" width=\"1681\" height=\"1600\"/>\n",
       "  </clipPath>\n",
       "</defs>\n",
       "<path clip-path=\"url(#clip090)\" d=\"\n",
       "M249.195 1423.18 L2352.76 1423.18 L2352.76 123.472 L249.195 123.472  Z\n",
       "  \" fill=\"#ffffff\" fill-rule=\"evenodd\" fill-opacity=\"1\"/>\n",
       "<defs>\n",
       "  <clipPath id=\"clip092\">\n",
       "    <rect x=\"249\" y=\"123\" width=\"2105\" height=\"1301\"/>\n",
       "  </clipPath>\n",
       "</defs>\n",
       "<polyline clip-path=\"url(#clip092)\" style=\"stroke:#000000; stroke-linecap:butt; stroke-linejoin:round; stroke-width:2; stroke-opacity:0.1; fill:none\" points=\"\n",
       "  653.859,1423.18 653.859,123.472 \n",
       "  \"/>\n",
       "<polyline clip-path=\"url(#clip092)\" style=\"stroke:#000000; stroke-linecap:butt; stroke-linejoin:round; stroke-width:2; stroke-opacity:0.1; fill:none\" points=\"\n",
       "  1085.27,1423.18 1085.27,123.472 \n",
       "  \"/>\n",
       "<polyline clip-path=\"url(#clip092)\" style=\"stroke:#000000; stroke-linecap:butt; stroke-linejoin:round; stroke-width:2; stroke-opacity:0.1; fill:none\" points=\"\n",
       "  1516.68,1423.18 1516.68,123.472 \n",
       "  \"/>\n",
       "<polyline clip-path=\"url(#clip092)\" style=\"stroke:#000000; stroke-linecap:butt; stroke-linejoin:round; stroke-width:2; stroke-opacity:0.1; fill:none\" points=\"\n",
       "  1948.09,1423.18 1948.09,123.472 \n",
       "  \"/>\n",
       "<polyline clip-path=\"url(#clip090)\" style=\"stroke:#000000; stroke-linecap:butt; stroke-linejoin:round; stroke-width:4; stroke-opacity:1; fill:none\" points=\"\n",
       "  249.195,1423.18 2352.76,1423.18 \n",
       "  \"/>\n",
       "<polyline clip-path=\"url(#clip090)\" style=\"stroke:#000000; stroke-linecap:butt; stroke-linejoin:round; stroke-width:4; stroke-opacity:1; fill:none\" points=\"\n",
       "  653.859,1423.18 653.859,1407.58 \n",
       "  \"/>\n",
       "<polyline clip-path=\"url(#clip090)\" style=\"stroke:#000000; stroke-linecap:butt; stroke-linejoin:round; stroke-width:4; stroke-opacity:1; fill:none\" points=\"\n",
       "  1085.27,1423.18 1085.27,1407.58 \n",
       "  \"/>\n",
       "<polyline clip-path=\"url(#clip090)\" style=\"stroke:#000000; stroke-linecap:butt; stroke-linejoin:round; stroke-width:4; stroke-opacity:1; fill:none\" points=\"\n",
       "  1516.68,1423.18 1516.68,1407.58 \n",
       "  \"/>\n",
       "<polyline clip-path=\"url(#clip090)\" style=\"stroke:#000000; stroke-linecap:butt; stroke-linejoin:round; stroke-width:4; stroke-opacity:1; fill:none\" points=\"\n",
       "  1948.09,1423.18 1948.09,1407.58 \n",
       "  \"/>\n",
       "<path clip-path=\"url(#clip090)\" d=\"M644.136 1449.29 L662.493 1449.29 L662.493 1453.23 L648.419 1453.23 L648.419 1461.7 Q649.437 1461.35 650.456 1461.19 Q651.474 1461 652.493 1461 Q658.28 1461 661.659 1464.18 Q665.039 1467.35 665.039 1472.76 Q665.039 1478.34 661.567 1481.44 Q658.095 1484.52 651.775 1484.52 Q649.599 1484.52 647.331 1484.15 Q645.085 1483.78 642.678 1483.04 L642.678 1478.34 Q644.761 1479.48 646.984 1480.03 Q649.206 1480.59 651.683 1480.59 Q655.687 1480.59 658.025 1478.48 Q660.363 1476.38 660.363 1472.76 Q660.363 1469.15 658.025 1467.05 Q655.687 1464.94 651.683 1464.94 Q649.808 1464.94 647.933 1465.36 Q646.081 1465.77 644.136 1466.65 L644.136 1449.29 Z\" fill=\"#000000\" fill-rule=\"evenodd\" fill-opacity=\"1\" /><path clip-path=\"url(#clip090)\" d=\"M1059.96 1479.92 L1067.6 1479.92 L1067.6 1453.55 L1059.29 1455.22 L1059.29 1450.96 L1067.55 1449.29 L1072.23 1449.29 L1072.23 1479.92 L1079.86 1479.92 L1079.86 1483.85 L1059.96 1483.85 L1059.96 1479.92 Z\" fill=\"#000000\" fill-rule=\"evenodd\" fill-opacity=\"1\" /><path clip-path=\"url(#clip090)\" d=\"M1099.31 1452.37 Q1095.7 1452.37 1093.87 1455.94 Q1092.06 1459.48 1092.06 1466.61 Q1092.06 1473.71 1093.87 1477.28 Q1095.7 1480.82 1099.31 1480.82 Q1102.94 1480.82 1104.75 1477.28 Q1106.58 1473.71 1106.58 1466.61 Q1106.58 1459.48 1104.75 1455.94 Q1102.94 1452.37 1099.31 1452.37 M1099.31 1448.67 Q1105.12 1448.67 1108.17 1453.27 Q1111.25 1457.86 1111.25 1466.61 Q1111.25 1475.33 1108.17 1479.94 Q1105.12 1484.52 1099.31 1484.52 Q1093.5 1484.52 1090.42 1479.94 Q1087.36 1475.33 1087.36 1466.61 Q1087.36 1457.86 1090.42 1453.27 Q1093.5 1448.67 1099.31 1448.67 Z\" fill=\"#000000\" fill-rule=\"evenodd\" fill-opacity=\"1\" /><path clip-path=\"url(#clip090)\" d=\"M1491.87 1479.92 L1499.51 1479.92 L1499.51 1453.55 L1491.19 1455.22 L1491.19 1450.96 L1499.46 1449.29 L1504.13 1449.29 L1504.13 1479.92 L1511.77 1479.92 L1511.77 1483.85 L1491.87 1483.85 L1491.87 1479.92 Z\" fill=\"#000000\" fill-rule=\"evenodd\" fill-opacity=\"1\" /><path clip-path=\"url(#clip090)\" d=\"M1521.26 1449.29 L1539.62 1449.29 L1539.62 1453.23 L1525.55 1453.23 L1525.55 1461.7 Q1526.57 1461.35 1527.58 1461.19 Q1528.6 1461 1529.62 1461 Q1535.41 1461 1538.79 1464.18 Q1542.17 1467.35 1542.17 1472.76 Q1542.17 1478.34 1538.69 1481.44 Q1535.22 1484.52 1528.9 1484.52 Q1526.73 1484.52 1524.46 1484.15 Q1522.21 1483.78 1519.81 1483.04 L1519.81 1478.34 Q1521.89 1479.48 1524.11 1480.03 Q1526.33 1480.59 1528.81 1480.59 Q1532.82 1480.59 1535.15 1478.48 Q1537.49 1476.38 1537.49 1472.76 Q1537.49 1469.15 1535.15 1467.05 Q1532.82 1464.94 1528.81 1464.94 Q1526.94 1464.94 1525.06 1465.36 Q1523.21 1465.77 1521.26 1466.65 L1521.26 1449.29 Z\" fill=\"#000000\" fill-rule=\"evenodd\" fill-opacity=\"1\" /><path clip-path=\"url(#clip090)\" d=\"M1926.87 1479.92 L1943.18 1479.92 L1943.18 1483.85 L1921.24 1483.85 L1921.24 1479.92 Q1923.9 1477.16 1928.49 1472.53 Q1933.09 1467.88 1934.27 1466.54 Q1936.52 1464.01 1937.4 1462.28 Q1938.3 1460.52 1938.3 1458.83 Q1938.3 1456.07 1936.36 1454.34 Q1934.43 1452.6 1931.33 1452.6 Q1929.13 1452.6 1926.68 1453.37 Q1924.25 1454.13 1921.47 1455.68 L1921.47 1450.96 Q1924.3 1449.82 1926.75 1449.25 Q1929.2 1448.67 1931.24 1448.67 Q1936.61 1448.67 1939.81 1451.35 Q1943 1454.04 1943 1458.53 Q1943 1460.66 1942.19 1462.58 Q1941.4 1464.48 1939.3 1467.07 Q1938.72 1467.74 1935.62 1470.96 Q1932.51 1474.15 1926.87 1479.92 Z\" fill=\"#000000\" fill-rule=\"evenodd\" fill-opacity=\"1\" /><path clip-path=\"url(#clip090)\" d=\"M1963 1452.37 Q1959.39 1452.37 1957.56 1455.94 Q1955.75 1459.48 1955.75 1466.61 Q1955.75 1473.71 1957.56 1477.28 Q1959.39 1480.82 1963 1480.82 Q1966.63 1480.82 1968.44 1477.28 Q1970.27 1473.71 1970.27 1466.61 Q1970.27 1459.48 1968.44 1455.94 Q1966.63 1452.37 1963 1452.37 M1963 1448.67 Q1968.81 1448.67 1971.87 1453.27 Q1974.94 1457.86 1974.94 1466.61 Q1974.94 1475.33 1971.87 1479.94 Q1968.81 1484.52 1963 1484.52 Q1957.19 1484.52 1954.11 1479.94 Q1951.06 1475.33 1951.06 1466.61 Q1951.06 1457.86 1954.11 1453.27 Q1957.19 1448.67 1963 1448.67 Z\" fill=\"#000000\" fill-rule=\"evenodd\" fill-opacity=\"1\" /><path clip-path=\"url(#clip090)\" d=\"M1210.28 1520.52 L1216.71 1520.52 L1216.71 1540 L1240.07 1540 L1240.07 1520.52 L1246.5 1520.52 L1246.5 1568.04 L1240.07 1568.04 L1240.07 1545.41 L1216.71 1545.41 L1216.71 1568.04 L1210.28 1568.04 L1210.28 1520.52 Z\" fill=\"#000000\" fill-rule=\"evenodd\" fill-opacity=\"1\" /><path clip-path=\"url(#clip090)\" d=\"M1272.85 1536.5 Q1268.14 1536.5 1265.41 1540.19 Q1262.67 1543.85 1262.67 1550.25 Q1262.67 1556.65 1265.38 1560.34 Q1268.11 1564 1272.85 1564 Q1277.53 1564 1280.27 1560.31 Q1283.01 1556.62 1283.01 1550.25 Q1283.01 1543.92 1280.27 1540.23 Q1277.53 1536.5 1272.85 1536.5 M1272.85 1531.54 Q1280.49 1531.54 1284.85 1536.5 Q1289.21 1541.47 1289.21 1550.25 Q1289.21 1559 1284.85 1564 Q1280.49 1568.97 1272.85 1568.97 Q1265.18 1568.97 1260.82 1564 Q1256.49 1559 1256.49 1550.25 Q1256.49 1541.47 1260.82 1536.5 Q1265.18 1531.54 1272.85 1531.54 Z\" fill=\"#000000\" fill-rule=\"evenodd\" fill-opacity=\"1\" /><path clip-path=\"url(#clip090)\" d=\"M1298.32 1553.98 L1298.32 1532.4 L1304.17 1532.4 L1304.17 1553.75 Q1304.17 1558.81 1306.15 1561.36 Q1308.12 1563.87 1312.07 1563.87 Q1316.81 1563.87 1319.55 1560.85 Q1322.32 1557.83 1322.32 1552.61 L1322.32 1532.4 L1328.17 1532.4 L1328.17 1568.04 L1322.32 1568.04 L1322.32 1562.57 Q1320.18 1565.82 1317.35 1567.41 Q1314.55 1568.97 1310.83 1568.97 Q1304.68 1568.97 1301.5 1565.15 Q1298.32 1561.33 1298.32 1553.98 M1313.05 1531.54 L1313.05 1531.54 Z\" fill=\"#000000\" fill-rule=\"evenodd\" fill-opacity=\"1\" /><path clip-path=\"url(#clip090)\" d=\"M1360.89 1537.87 Q1359.91 1537.3 1358.73 1537.04 Q1357.58 1536.76 1356.18 1536.76 Q1351.22 1536.76 1348.54 1540 Q1345.9 1543.22 1345.9 1549.27 L1345.9 1568.04 L1340.01 1568.04 L1340.01 1532.4 L1345.9 1532.4 L1345.9 1537.93 Q1347.75 1534.69 1350.71 1533.13 Q1353.67 1531.54 1357.9 1531.54 Q1358.51 1531.54 1359.24 1531.63 Q1359.97 1531.7 1360.86 1531.85 L1360.89 1537.87 Z\" fill=\"#000000\" fill-rule=\"evenodd\" fill-opacity=\"1\" /><path clip-path=\"url(#clip090)\" d=\"M1389.76 1533.45 L1389.76 1538.98 Q1387.28 1537.71 1384.6 1537.07 Q1381.93 1536.44 1379.07 1536.44 Q1374.71 1536.44 1372.51 1537.77 Q1370.35 1539.11 1370.35 1541.79 Q1370.35 1543.82 1371.91 1545 Q1373.46 1546.15 1378.18 1547.2 L1380.18 1547.64 Q1386.42 1548.98 1389.03 1551.43 Q1391.67 1553.85 1391.67 1558.21 Q1391.67 1563.17 1387.72 1566.07 Q1383.81 1568.97 1376.93 1568.97 Q1374.07 1568.97 1370.95 1568.39 Q1367.86 1567.85 1364.43 1566.74 L1364.43 1560.69 Q1367.67 1562.38 1370.82 1563.24 Q1373.97 1564.07 1377.06 1564.07 Q1381.2 1564.07 1383.43 1562.66 Q1385.66 1561.23 1385.66 1558.65 Q1385.66 1556.27 1384.03 1554.99 Q1382.44 1553.72 1377 1552.54 L1374.96 1552.07 Q1369.52 1550.92 1367.1 1548.56 Q1364.68 1546.18 1364.68 1542.04 Q1364.68 1537.01 1368.24 1534.27 Q1371.81 1531.54 1378.37 1531.54 Q1381.61 1531.54 1384.48 1532.01 Q1387.34 1532.49 1389.76 1533.45 Z\" fill=\"#000000\" fill-rule=\"evenodd\" fill-opacity=\"1\" /><polyline clip-path=\"url(#clip092)\" style=\"stroke:#000000; stroke-linecap:butt; stroke-linejoin:round; stroke-width:2; stroke-opacity:0.1; fill:none\" points=\"\n",
       "  249.195,1141.17 2352.76,1141.17 \n",
       "  \"/>\n",
       "<polyline clip-path=\"url(#clip092)\" style=\"stroke:#000000; stroke-linecap:butt; stroke-linejoin:round; stroke-width:2; stroke-opacity:0.1; fill:none\" points=\"\n",
       "  249.195,834.633 2352.76,834.633 \n",
       "  \"/>\n",
       "<polyline clip-path=\"url(#clip092)\" style=\"stroke:#000000; stroke-linecap:butt; stroke-linejoin:round; stroke-width:2; stroke-opacity:0.1; fill:none\" points=\"\n",
       "  249.195,528.098 2352.76,528.098 \n",
       "  \"/>\n",
       "<polyline clip-path=\"url(#clip092)\" style=\"stroke:#000000; stroke-linecap:butt; stroke-linejoin:round; stroke-width:2; stroke-opacity:0.1; fill:none\" points=\"\n",
       "  249.195,221.563 2352.76,221.563 \n",
       "  \"/>\n",
       "<polyline clip-path=\"url(#clip090)\" style=\"stroke:#000000; stroke-linecap:butt; stroke-linejoin:round; stroke-width:4; stroke-opacity:1; fill:none\" points=\"\n",
       "  249.195,1423.18 249.195,123.472 \n",
       "  \"/>\n",
       "<polyline clip-path=\"url(#clip090)\" style=\"stroke:#000000; stroke-linecap:butt; stroke-linejoin:round; stroke-width:4; stroke-opacity:1; fill:none\" points=\"\n",
       "  249.195,1141.17 274.438,1141.17 \n",
       "  \"/>\n",
       "<polyline clip-path=\"url(#clip090)\" style=\"stroke:#000000; stroke-linecap:butt; stroke-linejoin:round; stroke-width:4; stroke-opacity:1; fill:none\" points=\"\n",
       "  249.195,834.633 274.438,834.633 \n",
       "  \"/>\n",
       "<polyline clip-path=\"url(#clip090)\" style=\"stroke:#000000; stroke-linecap:butt; stroke-linejoin:round; stroke-width:4; stroke-opacity:1; fill:none\" points=\"\n",
       "  249.195,528.098 274.438,528.098 \n",
       "  \"/>\n",
       "<polyline clip-path=\"url(#clip090)\" style=\"stroke:#000000; stroke-linecap:butt; stroke-linejoin:round; stroke-width:4; stroke-opacity:1; fill:none\" points=\"\n",
       "  249.195,221.563 274.438,221.563 \n",
       "  \"/>\n",
       "<path clip-path=\"url(#clip090)\" d=\"M119.885 1154.51 L136.204 1154.51 L136.204 1158.45 L114.26 1158.45 L114.26 1154.51 Q116.922 1151.76 121.505 1147.13 Q126.112 1142.48 127.292 1141.13 Q129.538 1138.61 130.417 1136.87 Q131.32 1135.11 131.32 1133.42 Q131.32 1130.67 129.376 1128.93 Q127.455 1127.2 124.353 1127.2 Q122.154 1127.2 119.7 1127.96 Q117.269 1128.73 114.492 1130.28 L114.492 1125.55 Q117.316 1124.42 119.769 1123.84 Q122.223 1123.26 124.26 1123.26 Q129.63 1123.26 132.825 1125.95 Q136.019 1128.63 136.019 1133.12 Q136.019 1135.25 135.209 1137.17 Q134.422 1139.07 132.316 1141.67 Q131.737 1142.34 128.635 1145.55 Q125.533 1148.75 119.885 1154.51 Z\" fill=\"#000000\" fill-rule=\"evenodd\" fill-opacity=\"1\" /><path clip-path=\"url(#clip090)\" d=\"M156.019 1126.97 Q152.408 1126.97 150.579 1130.53 Q148.774 1134.07 148.774 1141.2 Q148.774 1148.31 150.579 1151.87 Q152.408 1155.42 156.019 1155.42 Q159.653 1155.42 161.459 1151.87 Q163.288 1148.31 163.288 1141.2 Q163.288 1134.07 161.459 1130.53 Q159.653 1126.97 156.019 1126.97 M156.019 1123.26 Q161.829 1123.26 164.885 1127.87 Q167.964 1132.45 167.964 1141.2 Q167.964 1149.93 164.885 1154.54 Q161.829 1159.12 156.019 1159.12 Q150.209 1159.12 147.13 1154.54 Q144.075 1149.93 144.075 1141.2 Q144.075 1132.45 147.13 1127.87 Q150.209 1123.26 156.019 1123.26 Z\" fill=\"#000000\" fill-rule=\"evenodd\" fill-opacity=\"1\" /><path clip-path=\"url(#clip090)\" d=\"M176.181 1152.57 L181.065 1152.57 L181.065 1158.45 L176.181 1158.45 L176.181 1152.57 Z\" fill=\"#000000\" fill-rule=\"evenodd\" fill-opacity=\"1\" /><path clip-path=\"url(#clip090)\" d=\"M201.25 1126.97 Q197.639 1126.97 195.811 1130.53 Q194.005 1134.07 194.005 1141.2 Q194.005 1148.31 195.811 1151.87 Q197.639 1155.42 201.25 1155.42 Q204.885 1155.42 206.69 1151.87 Q208.519 1148.31 208.519 1141.2 Q208.519 1134.07 206.69 1130.53 Q204.885 1126.97 201.25 1126.97 M201.25 1123.26 Q207.061 1123.26 210.116 1127.87 Q213.195 1132.45 213.195 1141.2 Q213.195 1149.93 210.116 1154.54 Q207.061 1159.12 201.25 1159.12 Q195.44 1159.12 192.362 1154.54 Q189.306 1149.93 189.306 1141.2 Q189.306 1132.45 192.362 1127.87 Q195.44 1123.26 201.25 1123.26 Z\" fill=\"#000000\" fill-rule=\"evenodd\" fill-opacity=\"1\" /><path clip-path=\"url(#clip090)\" d=\"M120.88 847.978 L137.2 847.978 L137.2 851.913 L115.256 851.913 L115.256 847.978 Q117.918 845.223 122.501 840.594 Q127.107 835.941 128.288 834.598 Q130.533 832.075 131.413 830.339 Q132.316 828.58 132.316 826.89 Q132.316 824.135 130.371 822.399 Q128.45 820.663 125.348 820.663 Q123.149 820.663 120.695 821.427 Q118.265 822.191 115.487 823.742 L115.487 819.02 Q118.311 817.885 120.765 817.307 Q123.218 816.728 125.255 816.728 Q130.626 816.728 133.82 819.413 Q137.015 822.098 137.015 826.589 Q137.015 828.719 136.204 830.64 Q135.417 832.538 133.311 835.131 Q132.732 835.802 129.63 839.02 Q126.529 842.214 120.88 847.978 Z\" fill=\"#000000\" fill-rule=\"evenodd\" fill-opacity=\"1\" /><path clip-path=\"url(#clip090)\" d=\"M151.042 847.978 L167.362 847.978 L167.362 851.913 L145.417 851.913 L145.417 847.978 Q148.079 845.223 152.663 840.594 Q157.269 835.941 158.45 834.598 Q160.695 832.075 161.575 830.339 Q162.477 828.58 162.477 826.89 Q162.477 824.135 160.533 822.399 Q158.612 820.663 155.51 820.663 Q153.311 820.663 150.857 821.427 Q148.427 822.191 145.649 823.742 L145.649 819.02 Q148.473 817.885 150.927 817.307 Q153.38 816.728 155.417 816.728 Q160.788 816.728 163.982 819.413 Q167.177 822.098 167.177 826.589 Q167.177 828.719 166.366 830.64 Q165.579 832.538 163.473 835.131 Q162.894 835.802 159.792 839.02 Q156.69 842.214 151.042 847.978 Z\" fill=\"#000000\" fill-rule=\"evenodd\" fill-opacity=\"1\" /><path clip-path=\"url(#clip090)\" d=\"M177.176 846.033 L182.061 846.033 L182.061 851.913 L177.176 851.913 L177.176 846.033 Z\" fill=\"#000000\" fill-rule=\"evenodd\" fill-opacity=\"1\" /><path clip-path=\"url(#clip090)\" d=\"M192.292 817.353 L210.649 817.353 L210.649 821.288 L196.575 821.288 L196.575 829.76 Q197.593 829.413 198.612 829.251 Q199.63 829.066 200.649 829.066 Q206.436 829.066 209.815 832.237 Q213.195 835.408 213.195 840.825 Q213.195 846.404 209.723 849.506 Q206.25 852.584 199.931 852.584 Q197.755 852.584 195.487 852.214 Q193.241 851.844 190.834 851.103 L190.834 846.404 Q192.917 847.538 195.139 848.094 Q197.362 848.649 199.838 848.649 Q203.843 848.649 206.181 846.543 Q208.519 844.436 208.519 840.825 Q208.519 837.214 206.181 835.107 Q203.843 833.001 199.838 833.001 Q197.963 833.001 196.088 833.418 Q194.237 833.834 192.292 834.714 L192.292 817.353 Z\" fill=\"#000000\" fill-rule=\"evenodd\" fill-opacity=\"1\" /><path clip-path=\"url(#clip090)\" d=\"M119.885 541.443 L136.204 541.443 L136.204 545.378 L114.26 545.378 L114.26 541.443 Q116.922 538.688 121.505 534.059 Q126.112 529.406 127.292 528.063 Q129.538 525.54 130.417 523.804 Q131.32 522.045 131.32 520.355 Q131.32 517.6 129.376 515.864 Q127.455 514.128 124.353 514.128 Q122.154 514.128 119.7 514.892 Q117.269 515.656 114.492 517.207 L114.492 512.485 Q117.316 511.351 119.769 510.772 Q122.223 510.193 124.26 510.193 Q129.63 510.193 132.825 512.878 Q136.019 515.563 136.019 520.054 Q136.019 522.184 135.209 524.105 Q134.422 526.003 132.316 528.596 Q131.737 529.267 128.635 532.485 Q125.533 535.679 119.885 541.443 Z\" fill=\"#000000\" fill-rule=\"evenodd\" fill-opacity=\"1\" /><path clip-path=\"url(#clip090)\" d=\"M146.066 510.818 L164.422 510.818 L164.422 514.753 L150.348 514.753 L150.348 523.225 Q151.366 522.878 152.385 522.716 Q153.403 522.531 154.422 522.531 Q160.209 522.531 163.589 525.702 Q166.968 528.874 166.968 534.29 Q166.968 539.869 163.496 542.971 Q160.024 546.049 153.704 546.049 Q151.528 546.049 149.26 545.679 Q147.015 545.309 144.607 544.568 L144.607 539.869 Q146.691 541.003 148.913 541.559 Q151.135 542.114 153.612 542.114 Q157.616 542.114 159.954 540.008 Q162.292 537.901 162.292 534.29 Q162.292 530.679 159.954 528.573 Q157.616 526.466 153.612 526.466 Q151.737 526.466 149.862 526.883 Q148.01 527.3 146.066 528.179 L146.066 510.818 Z\" fill=\"#000000\" fill-rule=\"evenodd\" fill-opacity=\"1\" /><path clip-path=\"url(#clip090)\" d=\"M176.181 539.499 L181.065 539.499 L181.065 545.378 L176.181 545.378 L176.181 539.499 Z\" fill=\"#000000\" fill-rule=\"evenodd\" fill-opacity=\"1\" /><path clip-path=\"url(#clip090)\" d=\"M201.25 513.897 Q197.639 513.897 195.811 517.462 Q194.005 521.003 194.005 528.133 Q194.005 535.239 195.811 538.804 Q197.639 542.346 201.25 542.346 Q204.885 542.346 206.69 538.804 Q208.519 535.239 208.519 528.133 Q208.519 521.003 206.69 517.462 Q204.885 513.897 201.25 513.897 M201.25 510.193 Q207.061 510.193 210.116 514.8 Q213.195 519.383 213.195 528.133 Q213.195 536.86 210.116 541.466 Q207.061 546.049 201.25 546.049 Q195.44 546.049 192.362 541.466 Q189.306 536.86 189.306 528.133 Q189.306 519.383 192.362 514.8 Q195.44 510.193 201.25 510.193 Z\" fill=\"#000000\" fill-rule=\"evenodd\" fill-opacity=\"1\" /><path clip-path=\"url(#clip090)\" d=\"M120.88 234.908 L137.2 234.908 L137.2 238.843 L115.256 238.843 L115.256 234.908 Q117.918 232.153 122.501 227.524 Q127.107 222.871 128.288 221.529 Q130.533 219.005 131.413 217.269 Q132.316 215.51 132.316 213.82 Q132.316 211.066 130.371 209.33 Q128.45 207.593 125.348 207.593 Q123.149 207.593 120.695 208.357 Q118.265 209.121 115.487 210.672 L115.487 205.95 Q118.311 204.816 120.765 204.237 Q123.218 203.658 125.255 203.658 Q130.626 203.658 133.82 206.343 Q137.015 209.029 137.015 213.519 Q137.015 215.649 136.204 217.57 Q135.417 219.468 133.311 222.061 Q132.732 222.732 129.63 225.95 Q126.529 229.144 120.88 234.908 Z\" fill=\"#000000\" fill-rule=\"evenodd\" fill-opacity=\"1\" /><path clip-path=\"url(#clip090)\" d=\"M145.834 204.283 L168.056 204.283 L168.056 206.274 L155.51 238.843 L150.626 238.843 L162.431 208.218 L145.834 208.218 L145.834 204.283 Z\" fill=\"#000000\" fill-rule=\"evenodd\" fill-opacity=\"1\" /><path clip-path=\"url(#clip090)\" d=\"M177.176 232.964 L182.061 232.964 L182.061 238.843 L177.176 238.843 L177.176 232.964 Z\" fill=\"#000000\" fill-rule=\"evenodd\" fill-opacity=\"1\" /><path clip-path=\"url(#clip090)\" d=\"M192.292 204.283 L210.649 204.283 L210.649 208.218 L196.575 208.218 L196.575 216.691 Q197.593 216.343 198.612 216.181 Q199.63 215.996 200.649 215.996 Q206.436 215.996 209.815 219.167 Q213.195 222.339 213.195 227.755 Q213.195 233.334 209.723 236.436 Q206.25 239.515 199.931 239.515 Q197.755 239.515 195.487 239.144 Q193.241 238.774 190.834 238.033 L190.834 233.334 Q192.917 234.468 195.139 235.024 Q197.362 235.579 199.838 235.579 Q203.843 235.579 206.181 233.473 Q208.519 231.366 208.519 227.755 Q208.519 224.144 206.181 222.038 Q203.843 219.931 199.838 219.931 Q197.963 219.931 196.088 220.348 Q194.237 220.765 192.292 221.644 L192.292 204.283 Z\" fill=\"#000000\" fill-rule=\"evenodd\" fill-opacity=\"1\" /><path clip-path=\"url(#clip090)\" d=\"M20.1444 754.165 L26.9239 754.165 Q23.9002 757.412 22.4043 761.104 Q20.9083 764.764 20.9083 768.902 Q20.9083 777.05 25.9054 781.379 Q30.8707 785.707 40.2919 785.707 Q49.6813 785.707 54.6784 781.379 Q59.6436 777.05 59.6436 768.902 Q59.6436 764.764 58.1477 761.104 Q56.6518 757.412 53.6281 754.165 L60.3439 754.165 Q62.6355 757.539 63.7814 761.327 Q64.9272 765.082 64.9272 769.284 Q64.9272 780.074 58.3387 786.28 Q51.7183 792.487 40.2919 792.487 Q28.8336 792.487 22.2451 786.28 Q15.6248 780.074 15.6248 769.284 Q15.6248 765.019 16.7706 761.263 Q17.8846 757.475 20.1444 754.165 Z\" fill=\"#000000\" fill-rule=\"evenodd\" fill-opacity=\"1\" /><path clip-path=\"url(#clip090)\" d=\"M924.424 12.096 L971.941 12.096 L971.941 18.3344 L933.7 65.6895 L972.872 65.6895 L972.872 72.576 L923.492 72.576 L923.492 66.3376 L961.732 18.9825 L924.424 18.9825 L924.424 12.096 Z\" fill=\"#000000\" fill-rule=\"evenodd\" fill-opacity=\"1\" /><path clip-path=\"url(#clip090)\" d=\"M1002 32.4315 Q996.003 32.4315 992.519 37.1306 Q989.035 41.7891 989.035 49.9314 Q989.035 58.0738 992.479 62.7728 Q995.963 67.4314 1002 67.4314 Q1007.95 67.4314 1011.44 62.7323 Q1014.92 58.0333 1014.92 49.9314 Q1014.92 41.8701 1011.44 37.1711 Q1007.95 32.4315 1002 32.4315 M1002 26.1121 Q1011.72 26.1121 1017.27 32.4315 Q1022.82 38.7509 1022.82 49.9314 Q1022.82 61.0714 1017.27 67.4314 Q1011.72 73.7508 1002 73.7508 Q992.236 73.7508 986.686 67.4314 Q981.177 61.0714 981.177 49.9314 Q981.177 38.7509 986.686 32.4315 Q992.236 26.1121 1002 26.1121 Z\" fill=\"#000000\" fill-rule=\"evenodd\" fill-opacity=\"1\" /><path clip-path=\"url(#clip090)\" d=\"M1072.89 45.1919 L1072.89 72.576 L1065.44 72.576 L1065.44 45.4349 Q1065.44 38.994 1062.92 35.7938 Q1060.41 32.5936 1055.39 32.5936 Q1049.35 32.5936 1045.87 36.4419 Q1042.39 40.2903 1042.39 46.9338 L1042.39 72.576 L1034.89 72.576 L1034.89 27.2059 L1042.39 27.2059 L1042.39 34.2544 Q1045.06 30.163 1048.66 28.1376 Q1052.31 26.1121 1057.05 26.1121 Q1064.87 26.1121 1068.88 30.9732 Q1072.89 35.7938 1072.89 45.1919 Z\" fill=\"#000000\" fill-rule=\"evenodd\" fill-opacity=\"1\" /><path clip-path=\"url(#clip090)\" d=\"M1126.56 48.0275 L1126.56 51.6733 L1092.29 51.6733 Q1092.78 59.3701 1096.91 63.421 Q1101.08 67.4314 1108.5 67.4314 Q1112.79 67.4314 1116.8 66.3781 Q1120.85 65.3249 1124.82 63.2184 L1124.82 70.267 Q1120.81 71.9684 1116.6 72.8596 Q1112.39 73.7508 1108.05 73.7508 Q1097.19 73.7508 1090.83 67.4314 Q1084.52 61.1119 1084.52 50.3365 Q1084.52 39.1965 1090.51 32.6746 Q1096.55 26.1121 1106.75 26.1121 Q1115.91 26.1121 1121.22 32.0264 Q1126.56 37.9003 1126.56 48.0275 M1119.11 45.84 Q1119.03 39.7232 1115.67 36.0774 Q1112.35 32.4315 1106.84 32.4315 Q1100.6 32.4315 1096.83 35.9558 Q1093.1 39.4801 1092.54 45.8805 L1119.11 45.84 Z\" fill=\"#000000\" fill-rule=\"evenodd\" fill-opacity=\"1\" /><path clip-path=\"url(#clip090)\" d=\"M1157.11 12.096 L1208.27 12.096 L1208.27 18.9825 L1186.8 18.9825 L1186.8 72.576 L1178.58 72.576 L1178.58 18.9825 L1157.11 18.9825 L1157.11 12.096 Z\" fill=\"#000000\" fill-rule=\"evenodd\" fill-opacity=\"1\" /><path clip-path=\"url(#clip090)\" d=\"M1240.56 48.0275 L1240.56 51.6733 L1206.29 51.6733 Q1206.77 59.3701 1210.9 63.421 Q1215.08 67.4314 1222.49 67.4314 Q1226.78 67.4314 1230.79 66.3781 Q1234.84 65.3249 1238.81 63.2184 L1238.81 70.267 Q1234.8 71.9684 1230.59 72.8596 Q1226.38 73.7508 1222.04 73.7508 Q1211.19 73.7508 1204.83 67.4314 Q1198.51 61.1119 1198.51 50.3365 Q1198.51 39.1965 1204.5 32.6746 Q1210.54 26.1121 1220.75 26.1121 Q1229.9 26.1121 1235.21 32.0264 Q1240.56 37.9003 1240.56 48.0275 M1233.1 45.84 Q1233.02 39.7232 1229.66 36.0774 Q1226.34 32.4315 1220.83 32.4315 Q1214.59 32.4315 1210.82 35.9558 Q1207.1 39.4801 1206.53 45.8805 L1233.1 45.84 Z\" fill=\"#000000\" fill-rule=\"evenodd\" fill-opacity=\"1\" /><path clip-path=\"url(#clip090)\" d=\"M1288.11 35.9153 Q1290.91 30.8922 1294.8 28.5022 Q1298.69 26.1121 1303.95 26.1121 Q1311.04 26.1121 1314.89 31.0947 Q1318.74 36.0368 1318.74 45.1919 L1318.74 72.576 L1311.24 72.576 L1311.24 45.4349 Q1311.24 38.913 1308.94 35.7533 Q1306.63 32.5936 1301.89 32.5936 Q1296.09 32.5936 1292.73 36.4419 Q1289.37 40.2903 1289.37 46.9338 L1289.37 72.576 L1281.88 72.576 L1281.88 45.4349 Q1281.88 38.8725 1279.57 35.7533 Q1277.26 32.5936 1272.44 32.5936 Q1266.72 32.5936 1263.36 36.4824 Q1260 40.3308 1260 46.9338 L1260 72.576 L1252.51 72.576 L1252.51 27.2059 L1260 27.2059 L1260 34.2544 Q1262.55 30.082 1266.12 28.0971 Q1269.68 26.1121 1274.58 26.1121 Q1279.53 26.1121 1282.97 28.6237 Q1286.45 31.1352 1288.11 35.9153 Z\" fill=\"#000000\" fill-rule=\"evenodd\" fill-opacity=\"1\" /><path clip-path=\"url(#clip090)\" d=\"M1340.82 65.7705 L1340.82 89.8329 L1333.32 89.8329 L1333.32 27.2059 L1340.82 27.2059 L1340.82 34.0924 Q1343.17 30.0415 1346.73 28.0971 Q1350.34 26.1121 1355.32 26.1121 Q1363.58 26.1121 1368.73 32.6746 Q1373.91 39.2371 1373.91 49.9314 Q1373.91 60.6258 1368.73 67.1883 Q1363.58 73.7508 1355.32 73.7508 Q1350.34 73.7508 1346.73 71.8063 Q1343.17 69.8214 1340.82 65.7705 M1366.17 49.9314 Q1366.17 41.7081 1362.77 37.0496 Q1359.41 32.3505 1353.5 32.3505 Q1347.58 32.3505 1344.18 37.0496 Q1340.82 41.7081 1340.82 49.9314 Q1340.82 58.1548 1344.18 62.8538 Q1347.58 67.5124 1353.5 67.5124 Q1359.41 67.5124 1362.77 62.8538 Q1366.17 58.1548 1366.17 49.9314 Z\" fill=\"#000000\" fill-rule=\"evenodd\" fill-opacity=\"1\" /><path clip-path=\"url(#clip090)\" d=\"M1425.07 48.0275 L1425.07 51.6733 L1390.8 51.6733 Q1391.29 59.3701 1395.42 63.421 Q1399.59 67.4314 1407.01 67.4314 Q1411.3 67.4314 1415.31 66.3781 Q1419.36 65.3249 1423.33 63.2184 L1423.33 70.267 Q1419.32 71.9684 1415.11 72.8596 Q1410.9 73.7508 1406.56 73.7508 Q1395.71 73.7508 1389.35 67.4314 Q1383.03 61.1119 1383.03 50.3365 Q1383.03 39.1965 1389.02 32.6746 Q1395.06 26.1121 1405.27 26.1121 Q1414.42 26.1121 1419.73 32.0264 Q1425.07 37.9003 1425.07 48.0275 M1417.62 45.84 Q1417.54 39.7232 1414.18 36.0774 Q1410.86 32.4315 1405.35 32.4315 Q1399.11 32.4315 1395.34 35.9558 Q1391.61 39.4801 1391.05 45.8805 L1417.62 45.84 Z\" fill=\"#000000\" fill-rule=\"evenodd\" fill-opacity=\"1\" /><path clip-path=\"url(#clip090)\" d=\"M1463.6 34.1734 Q1462.34 33.4443 1460.84 33.1202 Q1459.39 32.7556 1457.6 32.7556 Q1451.28 32.7556 1447.88 36.8875 Q1444.52 40.9789 1444.52 48.6757 L1444.52 72.576 L1437.02 72.576 L1437.02 27.2059 L1444.52 27.2059 L1444.52 34.2544 Q1446.87 30.1225 1450.64 28.1376 Q1454.4 26.1121 1459.79 26.1121 Q1460.56 26.1121 1461.49 26.2337 Q1462.42 26.3147 1463.56 26.5172 L1463.6 34.1734 Z\" fill=\"#000000\" fill-rule=\"evenodd\" fill-opacity=\"1\" /><path clip-path=\"url(#clip090)\" d=\"M1492.04 49.7694 Q1483 49.7694 1479.52 51.8354 Q1476.04 53.9013 1476.04 58.8839 Q1476.04 62.8538 1478.63 65.2034 Q1481.26 67.5124 1485.76 67.5124 Q1491.96 67.5124 1495.68 63.1374 Q1499.45 58.7219 1499.45 51.4303 L1499.45 49.7694 L1492.04 49.7694 M1506.9 46.6907 L1506.9 72.576 L1499.45 72.576 L1499.45 65.6895 Q1496.9 69.8214 1493.09 71.8063 Q1489.28 73.7508 1483.77 73.7508 Q1476.8 73.7508 1472.67 69.8619 Q1468.58 65.9325 1468.58 59.3701 Q1468.58 51.7138 1473.69 47.825 Q1478.83 43.9361 1489 43.9361 L1499.45 43.9361 L1499.45 43.2069 Q1499.45 38.0623 1496.05 35.2672 Q1492.68 32.4315 1486.57 32.4315 Q1482.68 32.4315 1478.99 33.3632 Q1475.31 34.295 1471.9 36.1584 L1471.9 29.2718 Q1475.99 27.692 1479.84 26.9223 Q1483.69 26.1121 1487.34 26.1121 Q1497.18 26.1121 1502.04 31.2163 Q1506.9 36.3204 1506.9 46.6907 Z\" fill=\"#000000\" fill-rule=\"evenodd\" fill-opacity=\"1\" /><path clip-path=\"url(#clip090)\" d=\"M1529.63 14.324 L1529.63 27.2059 L1544.98 27.2059 L1544.98 32.9987 L1529.63 32.9987 L1529.63 57.6282 Q1529.63 63.1779 1531.13 64.7578 Q1532.67 66.3376 1537.33 66.3376 L1544.98 66.3376 L1544.98 72.576 L1537.33 72.576 Q1528.7 72.576 1525.42 69.3758 Q1522.13 66.1351 1522.13 57.6282 L1522.13 32.9987 L1516.67 32.9987 L1516.67 27.2059 L1522.13 27.2059 L1522.13 14.324 L1529.63 14.324 Z\" fill=\"#000000\" fill-rule=\"evenodd\" fill-opacity=\"1\" /><path clip-path=\"url(#clip090)\" d=\"M1554.02 54.671 L1554.02 27.2059 L1561.47 27.2059 L1561.47 54.3874 Q1561.47 60.8284 1563.98 64.0691 Q1566.49 67.2693 1571.51 67.2693 Q1577.55 67.2693 1581.03 63.421 Q1584.56 59.5726 1584.56 52.9291 L1584.56 27.2059 L1592.01 27.2059 L1592.01 72.576 L1584.56 72.576 L1584.56 65.6084 Q1581.84 69.7404 1578.24 71.7658 Q1574.67 73.7508 1569.94 73.7508 Q1562.12 73.7508 1558.07 68.8897 Q1554.02 64.0286 1554.02 54.671 M1572.77 26.1121 L1572.77 26.1121 Z\" fill=\"#000000\" fill-rule=\"evenodd\" fill-opacity=\"1\" /><path clip-path=\"url(#clip090)\" d=\"M1633.66 34.1734 Q1632.4 33.4443 1630.9 33.1202 Q1629.44 32.7556 1627.66 32.7556 Q1621.34 32.7556 1617.94 36.8875 Q1614.58 40.9789 1614.58 48.6757 L1614.58 72.576 L1607.08 72.576 L1607.08 27.2059 L1614.58 27.2059 L1614.58 34.2544 Q1616.93 30.1225 1620.69 28.1376 Q1624.46 26.1121 1629.85 26.1121 Q1630.62 26.1121 1631.55 26.2337 Q1632.48 26.3147 1633.62 26.5172 L1633.66 34.1734 Z\" fill=\"#000000\" fill-rule=\"evenodd\" fill-opacity=\"1\" /><path clip-path=\"url(#clip090)\" d=\"M1678.46 48.0275 L1678.46 51.6733 L1644.19 51.6733 Q1644.67 59.3701 1648.81 63.421 Q1652.98 67.4314 1660.39 67.4314 Q1664.69 67.4314 1668.7 66.3781 Q1672.75 65.3249 1676.72 63.2184 L1676.72 70.267 Q1672.71 71.9684 1668.49 72.8596 Q1664.28 73.7508 1659.95 73.7508 Q1649.09 73.7508 1642.73 67.4314 Q1636.41 61.1119 1636.41 50.3365 Q1636.41 39.1965 1642.41 32.6746 Q1648.44 26.1121 1658.65 26.1121 Q1667.8 26.1121 1673.11 32.0264 Q1678.46 37.9003 1678.46 48.0275 M1671.01 45.84 Q1670.92 39.7232 1667.56 36.0774 Q1664.24 32.4315 1658.73 32.4315 Q1652.49 32.4315 1648.73 35.9558 Q1645 39.4801 1644.43 45.8805 L1671.01 45.84 Z\" fill=\"#000000\" fill-rule=\"evenodd\" fill-opacity=\"1\" /><polyline clip-path=\"url(#clip092)\" style=\"stroke:#009af9; stroke-linecap:butt; stroke-linejoin:round; stroke-width:4; stroke-opacity:1; fill:none\" points=\"\n",
       "  308.73,513.329 395.012,458.544 481.294,403.758 567.576,348.973 653.859,294.188 740.141,239.402 826.423,184.617 912.705,160.256 998.988,198.504 1085.27,341.027 \n",
       "  1171.55,483.55 1257.83,626.073 1344.12,768.595 1430.4,911.118 1516.68,1053.64 1602.96,1196.16 1689.25,1324.87 1775.53,1386.4 1861.81,1358.44 1948.09,1330.48 \n",
       "  2034.37,1302.52 2120.66,1247.73 2206.94,1192.95 2293.22,1138.16 \n",
       "  \"/>\n",
       "<path clip-path=\"url(#clip090)\" d=\"\n",
       "M1996.48 287.756 L2282.64 287.756 L2282.64 166.796 L1996.48 166.796  Z\n",
       "  \" fill=\"#ffffff\" fill-rule=\"evenodd\" fill-opacity=\"1\"/>\n",
       "<polyline clip-path=\"url(#clip090)\" style=\"stroke:#000000; stroke-linecap:butt; stroke-linejoin:round; stroke-width:4; stroke-opacity:1; fill:none\" points=\"\n",
       "  1996.48,287.756 2282.64,287.756 2282.64,166.796 1996.48,166.796 1996.48,287.756 \n",
       "  \"/>\n",
       "<polyline clip-path=\"url(#clip090)\" style=\"stroke:#009af9; stroke-linecap:butt; stroke-linejoin:round; stroke-width:4; stroke-opacity:1; fill:none\" points=\"\n",
       "  2019.85,227.276 2160.09,227.276 \n",
       "  \"/>\n",
       "<path clip-path=\"url(#clip090)\" d=\"M2197.3 246.963 Q2195.5 251.593 2193.79 253.005 Q2192.07 254.417 2189.2 254.417 L2185.8 254.417 L2185.8 250.852 L2188.3 250.852 Q2190.06 250.852 2191.03 250.019 Q2192 249.185 2193.18 246.083 L2193.95 244.139 L2183.46 218.63 L2187.97 218.63 L2196.08 238.908 L2204.18 218.63 L2208.69 218.63 L2197.3 246.963 Z\" fill=\"#000000\" fill-rule=\"evenodd\" fill-opacity=\"1\" /><path clip-path=\"url(#clip090)\" d=\"M2215.98 240.621 L2223.62 240.621 L2223.62 214.255 L2215.31 215.922 L2215.31 211.662 L2223.58 209.996 L2228.25 209.996 L2228.25 240.621 L2235.89 240.621 L2235.89 244.556 L2215.98 244.556 L2215.98 240.621 Z\" fill=\"#000000\" fill-rule=\"evenodd\" fill-opacity=\"1\" /></svg>\n"
      ]
     },
     "execution_count": 710,
     "metadata": {},
     "output_type": "execute_result"
    }
   ],
   "source": [
    "##Indoor T\n",
    "using Plots\n",
    "x = 1:Hours\n",
    "plot(x,TZone_Opt, title = \"Zone Temperature\")\n",
    "xlabel!(\"Hours\")\n",
    "ylabel!(\"C\")\n"
   ]
  },
  {
   "cell_type": "code",
   "execution_count": 711,
   "id": "8d55d03e",
   "metadata": {},
   "outputs": [
    {
     "data": {
      "image/svg+xml": [
       "<?xml version=\"1.0\" encoding=\"utf-8\"?>\n",
       "<svg xmlns=\"http://www.w3.org/2000/svg\" xmlns:xlink=\"http://www.w3.org/1999/xlink\" width=\"600\" height=\"400\" viewBox=\"0 0 2400 1600\">\n",
       "<defs>\n",
       "  <clipPath id=\"clip130\">\n",
       "    <rect x=\"0\" y=\"0\" width=\"2400\" height=\"1600\"/>\n",
       "  </clipPath>\n",
       "</defs>\n",
       "<path clip-path=\"url(#clip130)\" d=\"\n",
       "M0 1600 L2400 1600 L2400 0 L0 0  Z\n",
       "  \" fill=\"#ffffff\" fill-rule=\"evenodd\" fill-opacity=\"1\"/>\n",
       "<defs>\n",
       "  <clipPath id=\"clip131\">\n",
       "    <rect x=\"480\" y=\"0\" width=\"1681\" height=\"1600\"/>\n",
       "  </clipPath>\n",
       "</defs>\n",
       "<path clip-path=\"url(#clip130)\" d=\"\n",
       "M249.542 1423.18 L2352.76 1423.18 L2352.76 123.472 L249.542 123.472  Z\n",
       "  \" fill=\"#ffffff\" fill-rule=\"evenodd\" fill-opacity=\"1\"/>\n",
       "<defs>\n",
       "  <clipPath id=\"clip132\">\n",
       "    <rect x=\"249\" y=\"123\" width=\"2104\" height=\"1301\"/>\n",
       "  </clipPath>\n",
       "</defs>\n",
       "<polyline clip-path=\"url(#clip132)\" style=\"stroke:#000000; stroke-linecap:butt; stroke-linejoin:round; stroke-width:2; stroke-opacity:0.1; fill:none\" points=\"\n",
       "  654.139,1423.18 654.139,123.472 \n",
       "  \"/>\n",
       "<polyline clip-path=\"url(#clip132)\" style=\"stroke:#000000; stroke-linecap:butt; stroke-linejoin:round; stroke-width:2; stroke-opacity:0.1; fill:none\" points=\"\n",
       "  1085.48,1423.18 1085.48,123.472 \n",
       "  \"/>\n",
       "<polyline clip-path=\"url(#clip132)\" style=\"stroke:#000000; stroke-linecap:butt; stroke-linejoin:round; stroke-width:2; stroke-opacity:0.1; fill:none\" points=\"\n",
       "  1516.82,1423.18 1516.82,123.472 \n",
       "  \"/>\n",
       "<polyline clip-path=\"url(#clip132)\" style=\"stroke:#000000; stroke-linecap:butt; stroke-linejoin:round; stroke-width:2; stroke-opacity:0.1; fill:none\" points=\"\n",
       "  1948.16,1423.18 1948.16,123.472 \n",
       "  \"/>\n",
       "<polyline clip-path=\"url(#clip130)\" style=\"stroke:#000000; stroke-linecap:butt; stroke-linejoin:round; stroke-width:4; stroke-opacity:1; fill:none\" points=\"\n",
       "  249.542,1423.18 2352.76,1423.18 \n",
       "  \"/>\n",
       "<polyline clip-path=\"url(#clip130)\" style=\"stroke:#000000; stroke-linecap:butt; stroke-linejoin:round; stroke-width:4; stroke-opacity:1; fill:none\" points=\"\n",
       "  654.139,1423.18 654.139,1407.58 \n",
       "  \"/>\n",
       "<polyline clip-path=\"url(#clip130)\" style=\"stroke:#000000; stroke-linecap:butt; stroke-linejoin:round; stroke-width:4; stroke-opacity:1; fill:none\" points=\"\n",
       "  1085.48,1423.18 1085.48,1407.58 \n",
       "  \"/>\n",
       "<polyline clip-path=\"url(#clip130)\" style=\"stroke:#000000; stroke-linecap:butt; stroke-linejoin:round; stroke-width:4; stroke-opacity:1; fill:none\" points=\"\n",
       "  1516.82,1423.18 1516.82,1407.58 \n",
       "  \"/>\n",
       "<polyline clip-path=\"url(#clip130)\" style=\"stroke:#000000; stroke-linecap:butt; stroke-linejoin:round; stroke-width:4; stroke-opacity:1; fill:none\" points=\"\n",
       "  1948.16,1423.18 1948.16,1407.58 \n",
       "  \"/>\n",
       "<path clip-path=\"url(#clip130)\" d=\"M644.417 1449.29 L662.773 1449.29 L662.773 1453.23 L648.699 1453.23 L648.699 1461.7 Q649.718 1461.35 650.736 1461.19 Q651.755 1461 652.773 1461 Q658.56 1461 661.94 1464.18 Q665.319 1467.35 665.319 1472.76 Q665.319 1478.34 661.847 1481.44 Q658.375 1484.52 652.056 1484.52 Q649.88 1484.52 647.611 1484.15 Q645.366 1483.78 642.958 1483.04 L642.958 1478.34 Q645.042 1479.48 647.264 1480.03 Q649.486 1480.59 651.963 1480.59 Q655.968 1480.59 658.306 1478.48 Q660.644 1476.38 660.644 1472.76 Q660.644 1469.15 658.306 1467.05 Q655.968 1464.94 651.963 1464.94 Q650.088 1464.94 648.213 1465.36 Q646.361 1465.77 644.417 1466.65 L644.417 1449.29 Z\" fill=\"#000000\" fill-rule=\"evenodd\" fill-opacity=\"1\" /><path clip-path=\"url(#clip130)\" d=\"M1060.17 1479.92 L1067.81 1479.92 L1067.81 1453.55 L1059.5 1455.22 L1059.5 1450.96 L1067.76 1449.29 L1072.44 1449.29 L1072.44 1479.92 L1080.07 1479.92 L1080.07 1483.85 L1060.17 1483.85 L1060.17 1479.92 Z\" fill=\"#000000\" fill-rule=\"evenodd\" fill-opacity=\"1\" /><path clip-path=\"url(#clip130)\" d=\"M1099.52 1452.37 Q1095.91 1452.37 1094.08 1455.94 Q1092.27 1459.48 1092.27 1466.61 Q1092.27 1473.71 1094.08 1477.28 Q1095.91 1480.82 1099.52 1480.82 Q1103.15 1480.82 1104.96 1477.28 Q1106.79 1473.71 1106.79 1466.61 Q1106.79 1459.48 1104.96 1455.94 Q1103.15 1452.37 1099.52 1452.37 M1099.52 1448.67 Q1105.33 1448.67 1108.38 1453.27 Q1111.46 1457.86 1111.46 1466.61 Q1111.46 1475.33 1108.38 1479.94 Q1105.33 1484.52 1099.52 1484.52 Q1093.71 1484.52 1090.63 1479.94 Q1087.57 1475.33 1087.57 1466.61 Q1087.57 1457.86 1090.63 1453.27 Q1093.71 1448.67 1099.52 1448.67 Z\" fill=\"#000000\" fill-rule=\"evenodd\" fill-opacity=\"1\" /><path clip-path=\"url(#clip130)\" d=\"M1492 1479.92 L1499.64 1479.92 L1499.64 1453.55 L1491.33 1455.22 L1491.33 1450.96 L1499.6 1449.29 L1504.27 1449.29 L1504.27 1479.92 L1511.91 1479.92 L1511.91 1483.85 L1492 1483.85 L1492 1479.92 Z\" fill=\"#000000\" fill-rule=\"evenodd\" fill-opacity=\"1\" /><path clip-path=\"url(#clip130)\" d=\"M1521.4 1449.29 L1539.76 1449.29 L1539.76 1453.23 L1525.68 1453.23 L1525.68 1461.7 Q1526.7 1461.35 1527.72 1461.19 Q1528.74 1461 1529.76 1461 Q1535.55 1461 1538.93 1464.18 Q1542.3 1467.35 1542.3 1472.76 Q1542.3 1478.34 1538.83 1481.44 Q1535.36 1484.52 1529.04 1484.52 Q1526.87 1484.52 1524.6 1484.15 Q1522.35 1483.78 1519.94 1483.04 L1519.94 1478.34 Q1522.03 1479.48 1524.25 1480.03 Q1526.47 1480.59 1528.95 1480.59 Q1532.95 1480.59 1535.29 1478.48 Q1537.63 1476.38 1537.63 1472.76 Q1537.63 1469.15 1535.29 1467.05 Q1532.95 1464.94 1528.95 1464.94 Q1527.07 1464.94 1525.2 1465.36 Q1523.35 1465.77 1521.4 1466.65 L1521.4 1449.29 Z\" fill=\"#000000\" fill-rule=\"evenodd\" fill-opacity=\"1\" /><path clip-path=\"url(#clip130)\" d=\"M1926.93 1479.92 L1943.25 1479.92 L1943.25 1483.85 L1921.31 1483.85 L1921.31 1479.92 Q1923.97 1477.16 1928.55 1472.53 Q1933.16 1467.88 1934.34 1466.54 Q1936.58 1464.01 1937.46 1462.28 Q1938.37 1460.52 1938.37 1458.83 Q1938.37 1456.07 1936.42 1454.34 Q1934.5 1452.6 1931.4 1452.6 Q1929.2 1452.6 1926.75 1453.37 Q1924.32 1454.13 1921.54 1455.68 L1921.54 1450.96 Q1924.36 1449.82 1926.82 1449.25 Q1929.27 1448.67 1931.31 1448.67 Q1936.68 1448.67 1939.87 1451.35 Q1943.07 1454.04 1943.07 1458.53 Q1943.07 1460.66 1942.26 1462.58 Q1941.47 1464.48 1939.36 1467.07 Q1938.78 1467.74 1935.68 1470.96 Q1932.58 1474.15 1926.93 1479.92 Z\" fill=\"#000000\" fill-rule=\"evenodd\" fill-opacity=\"1\" /><path clip-path=\"url(#clip130)\" d=\"M1963.07 1452.37 Q1959.46 1452.37 1957.63 1455.94 Q1955.82 1459.48 1955.82 1466.61 Q1955.82 1473.71 1957.63 1477.28 Q1959.46 1480.82 1963.07 1480.82 Q1966.7 1480.82 1968.51 1477.28 Q1970.33 1473.71 1970.33 1466.61 Q1970.33 1459.48 1968.51 1455.94 Q1966.7 1452.37 1963.07 1452.37 M1963.07 1448.67 Q1968.88 1448.67 1971.93 1453.27 Q1975.01 1457.86 1975.01 1466.61 Q1975.01 1475.33 1971.93 1479.94 Q1968.88 1484.52 1963.07 1484.52 Q1957.26 1484.52 1954.18 1479.94 Q1951.12 1475.33 1951.12 1466.61 Q1951.12 1457.86 1954.18 1453.27 Q1957.26 1448.67 1963.07 1448.67 Z\" fill=\"#000000\" fill-rule=\"evenodd\" fill-opacity=\"1\" /><path clip-path=\"url(#clip130)\" d=\"M1210.45 1520.52 L1216.88 1520.52 L1216.88 1540 L1240.25 1540 L1240.25 1520.52 L1246.67 1520.52 L1246.67 1568.04 L1240.25 1568.04 L1240.25 1545.41 L1216.88 1545.41 L1216.88 1568.04 L1210.45 1568.04 L1210.45 1520.52 Z\" fill=\"#000000\" fill-rule=\"evenodd\" fill-opacity=\"1\" /><path clip-path=\"url(#clip130)\" d=\"M1273.03 1536.5 Q1268.32 1536.5 1265.58 1540.19 Q1262.84 1543.85 1262.84 1550.25 Q1262.84 1556.65 1265.55 1560.34 Q1268.29 1564 1273.03 1564 Q1277.71 1564 1280.44 1560.31 Q1283.18 1556.62 1283.18 1550.25 Q1283.18 1543.92 1280.44 1540.23 Q1277.71 1536.5 1273.03 1536.5 M1273.03 1531.54 Q1280.67 1531.54 1285.03 1536.5 Q1289.39 1541.47 1289.39 1550.25 Q1289.39 1559 1285.03 1564 Q1280.67 1568.97 1273.03 1568.97 Q1265.36 1568.97 1261 1564 Q1256.67 1559 1256.67 1550.25 Q1256.67 1541.47 1261 1536.5 Q1265.36 1531.54 1273.03 1531.54 Z\" fill=\"#000000\" fill-rule=\"evenodd\" fill-opacity=\"1\" /><path clip-path=\"url(#clip130)\" d=\"M1298.49 1553.98 L1298.49 1532.4 L1304.35 1532.4 L1304.35 1553.75 Q1304.35 1558.81 1306.32 1561.36 Q1308.29 1563.87 1312.24 1563.87 Q1316.98 1563.87 1319.72 1560.85 Q1322.49 1557.83 1322.49 1552.61 L1322.49 1532.4 L1328.35 1532.4 L1328.35 1568.04 L1322.49 1568.04 L1322.49 1562.57 Q1320.36 1565.82 1317.52 1567.41 Q1314.72 1568.97 1311 1568.97 Q1304.86 1568.97 1301.67 1565.15 Q1298.49 1561.33 1298.49 1553.98 M1313.23 1531.54 L1313.23 1531.54 Z\" fill=\"#000000\" fill-rule=\"evenodd\" fill-opacity=\"1\" /><path clip-path=\"url(#clip130)\" d=\"M1361.07 1537.87 Q1360.08 1537.3 1358.9 1537.04 Q1357.76 1536.76 1356.36 1536.76 Q1351.39 1536.76 1348.72 1540 Q1346.07 1543.22 1346.07 1549.27 L1346.07 1568.04 L1340.19 1568.04 L1340.19 1532.4 L1346.07 1532.4 L1346.07 1537.93 Q1347.92 1534.69 1350.88 1533.13 Q1353.84 1531.54 1358.07 1531.54 Q1358.68 1531.54 1359.41 1531.63 Q1360.14 1531.7 1361.03 1531.85 L1361.07 1537.87 Z\" fill=\"#000000\" fill-rule=\"evenodd\" fill-opacity=\"1\" /><path clip-path=\"url(#clip130)\" d=\"M1389.93 1533.45 L1389.93 1538.98 Q1387.45 1537.71 1384.78 1537.07 Q1382.1 1536.44 1379.24 1536.44 Q1374.88 1536.44 1372.68 1537.77 Q1370.52 1539.11 1370.52 1541.79 Q1370.52 1543.82 1372.08 1545 Q1373.64 1546.15 1378.35 1547.2 L1380.35 1547.64 Q1386.59 1548.98 1389.2 1551.43 Q1391.84 1553.85 1391.84 1558.21 Q1391.84 1563.17 1387.9 1566.07 Q1383.98 1568.97 1377.11 1568.97 Q1374.24 1568.97 1371.12 1568.39 Q1368.04 1567.85 1364.6 1566.74 L1364.6 1560.69 Q1367.85 1562.38 1371 1563.24 Q1374.15 1564.07 1377.24 1564.07 Q1381.37 1564.07 1383.6 1562.66 Q1385.83 1561.23 1385.83 1558.65 Q1385.83 1556.27 1384.21 1554.99 Q1382.61 1553.72 1377.17 1552.54 L1375.13 1552.07 Q1369.69 1550.92 1367.27 1548.56 Q1364.85 1546.18 1364.85 1542.04 Q1364.85 1537.01 1368.42 1534.27 Q1371.98 1531.54 1378.54 1531.54 Q1381.79 1531.54 1384.65 1532.01 Q1387.52 1532.49 1389.93 1533.45 Z\" fill=\"#000000\" fill-rule=\"evenodd\" fill-opacity=\"1\" /><polyline clip-path=\"url(#clip132)\" style=\"stroke:#000000; stroke-linecap:butt; stroke-linejoin:round; stroke-width:2; stroke-opacity:0.1; fill:none\" points=\"\n",
       "  249.542,1386.4 2352.76,1386.4 \n",
       "  \"/>\n",
       "<polyline clip-path=\"url(#clip132)\" style=\"stroke:#000000; stroke-linecap:butt; stroke-linejoin:round; stroke-width:2; stroke-opacity:0.1; fill:none\" points=\"\n",
       "  249.542,1079.86 2352.76,1079.86 \n",
       "  \"/>\n",
       "<polyline clip-path=\"url(#clip132)\" style=\"stroke:#000000; stroke-linecap:butt; stroke-linejoin:round; stroke-width:2; stroke-opacity:0.1; fill:none\" points=\"\n",
       "  249.542,773.326 2352.76,773.326 \n",
       "  \"/>\n",
       "<polyline clip-path=\"url(#clip132)\" style=\"stroke:#000000; stroke-linecap:butt; stroke-linejoin:round; stroke-width:2; stroke-opacity:0.1; fill:none\" points=\"\n",
       "  249.542,466.791 2352.76,466.791 \n",
       "  \"/>\n",
       "<polyline clip-path=\"url(#clip132)\" style=\"stroke:#000000; stroke-linecap:butt; stroke-linejoin:round; stroke-width:2; stroke-opacity:0.1; fill:none\" points=\"\n",
       "  249.542,160.256 2352.76,160.256 \n",
       "  \"/>\n",
       "<polyline clip-path=\"url(#clip130)\" style=\"stroke:#000000; stroke-linecap:butt; stroke-linejoin:round; stroke-width:4; stroke-opacity:1; fill:none\" points=\"\n",
       "  249.542,1423.18 249.542,123.472 \n",
       "  \"/>\n",
       "<polyline clip-path=\"url(#clip130)\" style=\"stroke:#000000; stroke-linecap:butt; stroke-linejoin:round; stroke-width:4; stroke-opacity:1; fill:none\" points=\"\n",
       "  249.542,1386.4 274.781,1386.4 \n",
       "  \"/>\n",
       "<polyline clip-path=\"url(#clip130)\" style=\"stroke:#000000; stroke-linecap:butt; stroke-linejoin:round; stroke-width:4; stroke-opacity:1; fill:none\" points=\"\n",
       "  249.542,1079.86 274.781,1079.86 \n",
       "  \"/>\n",
       "<polyline clip-path=\"url(#clip130)\" style=\"stroke:#000000; stroke-linecap:butt; stroke-linejoin:round; stroke-width:4; stroke-opacity:1; fill:none\" points=\"\n",
       "  249.542,773.326 274.781,773.326 \n",
       "  \"/>\n",
       "<polyline clip-path=\"url(#clip130)\" style=\"stroke:#000000; stroke-linecap:butt; stroke-linejoin:round; stroke-width:4; stroke-opacity:1; fill:none\" points=\"\n",
       "  249.542,466.791 274.781,466.791 \n",
       "  \"/>\n",
       "<polyline clip-path=\"url(#clip130)\" style=\"stroke:#000000; stroke-linecap:butt; stroke-linejoin:round; stroke-width:4; stroke-opacity:1; fill:none\" points=\"\n",
       "  249.542,160.256 274.781,160.256 \n",
       "  \"/>\n",
       "<path clip-path=\"url(#clip130)\" d=\"M126.205 1372.19 Q122.593 1372.19 120.765 1375.76 Q118.959 1379.3 118.959 1386.43 Q118.959 1393.54 120.765 1397.1 Q122.593 1400.64 126.205 1400.64 Q129.839 1400.64 131.644 1397.1 Q133.473 1393.54 133.473 1386.43 Q133.473 1379.3 131.644 1375.76 Q129.839 1372.19 126.205 1372.19 M126.205 1368.49 Q132.015 1368.49 135.07 1373.1 Q138.149 1377.68 138.149 1386.43 Q138.149 1395.16 135.07 1399.76 Q132.015 1404.35 126.205 1404.35 Q120.394 1404.35 117.316 1399.76 Q114.26 1395.16 114.26 1386.43 Q114.26 1377.68 117.316 1373.1 Q120.394 1368.49 126.205 1368.49 Z\" fill=\"#000000\" fill-rule=\"evenodd\" fill-opacity=\"1\" /><path clip-path=\"url(#clip130)\" d=\"M146.366 1397.8 L151.251 1397.8 L151.251 1403.68 L146.366 1403.68 L146.366 1397.8 Z\" fill=\"#000000\" fill-rule=\"evenodd\" fill-opacity=\"1\" /><path clip-path=\"url(#clip130)\" d=\"M171.436 1372.19 Q167.825 1372.19 165.996 1375.76 Q164.19 1379.3 164.19 1386.43 Q164.19 1393.54 165.996 1397.1 Q167.825 1400.64 171.436 1400.64 Q175.07 1400.64 176.876 1397.1 Q178.704 1393.54 178.704 1386.43 Q178.704 1379.3 176.876 1375.76 Q175.07 1372.19 171.436 1372.19 M171.436 1368.49 Q177.246 1368.49 180.301 1373.1 Q183.38 1377.68 183.38 1386.43 Q183.38 1395.16 180.301 1399.76 Q177.246 1404.35 171.436 1404.35 Q165.626 1404.35 162.547 1399.76 Q159.491 1395.16 159.491 1386.43 Q159.491 1377.68 162.547 1373.1 Q165.626 1368.49 171.436 1368.49 Z\" fill=\"#000000\" fill-rule=\"evenodd\" fill-opacity=\"1\" /><path clip-path=\"url(#clip130)\" d=\"M201.598 1372.19 Q197.987 1372.19 196.158 1375.76 Q194.352 1379.3 194.352 1386.43 Q194.352 1393.54 196.158 1397.1 Q197.987 1400.64 201.598 1400.64 Q205.232 1400.64 207.037 1397.1 Q208.866 1393.54 208.866 1386.43 Q208.866 1379.3 207.037 1375.76 Q205.232 1372.19 201.598 1372.19 M201.598 1368.49 Q207.408 1368.49 210.463 1373.1 Q213.542 1377.68 213.542 1386.43 Q213.542 1395.16 210.463 1399.76 Q207.408 1404.35 201.598 1404.35 Q195.787 1404.35 192.709 1399.76 Q189.653 1395.16 189.653 1386.43 Q189.653 1377.68 192.709 1373.1 Q195.787 1368.49 201.598 1368.49 Z\" fill=\"#000000\" fill-rule=\"evenodd\" fill-opacity=\"1\" /><path clip-path=\"url(#clip130)\" d=\"M127.2 1065.66 Q123.589 1065.66 121.76 1069.22 Q119.955 1072.77 119.955 1079.9 Q119.955 1087 121.76 1090.57 Q123.589 1094.11 127.2 1094.11 Q130.834 1094.11 132.64 1090.57 Q134.468 1087 134.468 1079.9 Q134.468 1072.77 132.64 1069.22 Q130.834 1065.66 127.2 1065.66 M127.2 1061.96 Q133.01 1061.96 136.066 1066.56 Q139.144 1071.15 139.144 1079.9 Q139.144 1088.62 136.066 1093.23 Q133.01 1097.81 127.2 1097.81 Q121.39 1097.81 118.311 1093.23 Q115.256 1088.62 115.256 1079.9 Q115.256 1071.15 118.311 1066.56 Q121.39 1061.96 127.2 1061.96 Z\" fill=\"#000000\" fill-rule=\"evenodd\" fill-opacity=\"1\" /><path clip-path=\"url(#clip130)\" d=\"M147.362 1091.26 L152.246 1091.26 L152.246 1097.14 L147.362 1097.14 L147.362 1091.26 Z\" fill=\"#000000\" fill-rule=\"evenodd\" fill-opacity=\"1\" /><path clip-path=\"url(#clip130)\" d=\"M166.459 1093.21 L182.778 1093.21 L182.778 1097.14 L160.834 1097.14 L160.834 1093.21 Q163.496 1090.45 168.079 1085.82 Q172.686 1081.17 173.866 1079.83 Q176.112 1077.3 176.991 1075.57 Q177.894 1073.81 177.894 1072.12 Q177.894 1069.36 175.95 1067.63 Q174.028 1065.89 170.927 1065.89 Q168.727 1065.89 166.274 1066.65 Q163.843 1067.42 161.065 1068.97 L161.065 1064.25 Q163.89 1063.11 166.343 1062.53 Q168.797 1061.96 170.834 1061.96 Q176.204 1061.96 179.399 1064.64 Q182.593 1067.33 182.593 1071.82 Q182.593 1073.95 181.783 1075.87 Q180.996 1077.77 178.889 1080.36 Q178.311 1081.03 175.209 1084.25 Q172.107 1087.44 166.459 1093.21 Z\" fill=\"#000000\" fill-rule=\"evenodd\" fill-opacity=\"1\" /><path clip-path=\"url(#clip130)\" d=\"M192.639 1062.58 L210.996 1062.58 L210.996 1066.52 L196.922 1066.52 L196.922 1074.99 Q197.94 1074.64 198.959 1074.48 Q199.977 1074.29 200.996 1074.29 Q206.783 1074.29 210.162 1077.47 Q213.542 1080.64 213.542 1086.05 Q213.542 1091.63 210.07 1094.73 Q206.598 1097.81 200.278 1097.81 Q198.102 1097.81 195.834 1097.44 Q193.588 1097.07 191.181 1096.33 L191.181 1091.63 Q193.264 1092.77 195.487 1093.32 Q197.709 1093.88 200.186 1093.88 Q204.19 1093.88 206.528 1091.77 Q208.866 1089.66 208.866 1086.05 Q208.866 1082.44 206.528 1080.34 Q204.19 1078.23 200.186 1078.23 Q198.311 1078.23 196.436 1078.65 Q194.584 1079.06 192.639 1079.94 L192.639 1062.58 Z\" fill=\"#000000\" fill-rule=\"evenodd\" fill-opacity=\"1\" /><path clip-path=\"url(#clip130)\" d=\"M126.205 759.125 Q122.593 759.125 120.765 762.689 Q118.959 766.231 118.959 773.361 Q118.959 780.467 120.765 784.032 Q122.593 787.574 126.205 787.574 Q129.839 787.574 131.644 784.032 Q133.473 780.467 133.473 773.361 Q133.473 766.231 131.644 762.689 Q129.839 759.125 126.205 759.125 M126.205 755.421 Q132.015 755.421 135.07 760.027 Q138.149 764.611 138.149 773.361 Q138.149 782.088 135.07 786.694 Q132.015 791.277 126.205 791.277 Q120.394 791.277 117.316 786.694 Q114.26 782.088 114.26 773.361 Q114.26 764.611 117.316 760.027 Q120.394 755.421 126.205 755.421 Z\" fill=\"#000000\" fill-rule=\"evenodd\" fill-opacity=\"1\" /><path clip-path=\"url(#clip130)\" d=\"M146.366 784.726 L151.251 784.726 L151.251 790.606 L146.366 790.606 L146.366 784.726 Z\" fill=\"#000000\" fill-rule=\"evenodd\" fill-opacity=\"1\" /><path clip-path=\"url(#clip130)\" d=\"M161.482 756.046 L179.839 756.046 L179.839 759.981 L165.765 759.981 L165.765 768.453 Q166.783 768.106 167.802 767.944 Q168.82 767.759 169.839 767.759 Q175.626 767.759 179.005 770.93 Q182.385 774.101 182.385 779.518 Q182.385 785.097 178.913 788.199 Q175.44 791.277 169.121 791.277 Q166.945 791.277 164.677 790.907 Q162.431 790.537 160.024 789.796 L160.024 785.097 Q162.107 786.231 164.329 786.787 Q166.552 787.342 169.028 787.342 Q173.033 787.342 175.371 785.236 Q177.709 783.129 177.709 779.518 Q177.709 775.907 175.371 773.801 Q173.033 771.694 169.028 771.694 Q167.153 771.694 165.278 772.111 Q163.427 772.527 161.482 773.407 L161.482 756.046 Z\" fill=\"#000000\" fill-rule=\"evenodd\" fill-opacity=\"1\" /><path clip-path=\"url(#clip130)\" d=\"M201.598 759.125 Q197.987 759.125 196.158 762.689 Q194.352 766.231 194.352 773.361 Q194.352 780.467 196.158 784.032 Q197.987 787.574 201.598 787.574 Q205.232 787.574 207.037 784.032 Q208.866 780.467 208.866 773.361 Q208.866 766.231 207.037 762.689 Q205.232 759.125 201.598 759.125 M201.598 755.421 Q207.408 755.421 210.463 760.027 Q213.542 764.611 213.542 773.361 Q213.542 782.088 210.463 786.694 Q207.408 791.277 201.598 791.277 Q195.787 791.277 192.709 786.694 Q189.653 782.088 189.653 773.361 Q189.653 764.611 192.709 760.027 Q195.787 755.421 201.598 755.421 Z\" fill=\"#000000\" fill-rule=\"evenodd\" fill-opacity=\"1\" /><path clip-path=\"url(#clip130)\" d=\"M127.2 452.59 Q123.589 452.59 121.76 456.155 Q119.955 459.696 119.955 466.826 Q119.955 473.932 121.76 477.497 Q123.589 481.039 127.2 481.039 Q130.834 481.039 132.64 477.497 Q134.468 473.932 134.468 466.826 Q134.468 459.696 132.64 456.155 Q130.834 452.59 127.2 452.59 M127.2 448.886 Q133.01 448.886 136.066 453.493 Q139.144 458.076 139.144 466.826 Q139.144 475.553 136.066 480.159 Q133.01 484.742 127.2 484.742 Q121.39 484.742 118.311 480.159 Q115.256 475.553 115.256 466.826 Q115.256 458.076 118.311 453.493 Q121.39 448.886 127.2 448.886 Z\" fill=\"#000000\" fill-rule=\"evenodd\" fill-opacity=\"1\" /><path clip-path=\"url(#clip130)\" d=\"M147.362 478.192 L152.246 478.192 L152.246 484.071 L147.362 484.071 L147.362 478.192 Z\" fill=\"#000000\" fill-rule=\"evenodd\" fill-opacity=\"1\" /><path clip-path=\"url(#clip130)\" d=\"M161.251 449.511 L183.473 449.511 L183.473 451.502 L170.927 484.071 L166.042 484.071 L177.848 453.446 L161.251 453.446 L161.251 449.511 Z\" fill=\"#000000\" fill-rule=\"evenodd\" fill-opacity=\"1\" /><path clip-path=\"url(#clip130)\" d=\"M192.639 449.511 L210.996 449.511 L210.996 453.446 L196.922 453.446 L196.922 461.918 Q197.94 461.571 198.959 461.409 Q199.977 461.224 200.996 461.224 Q206.783 461.224 210.162 464.395 Q213.542 467.567 213.542 472.983 Q213.542 478.562 210.07 481.664 Q206.598 484.742 200.278 484.742 Q198.102 484.742 195.834 484.372 Q193.588 484.002 191.181 483.261 L191.181 478.562 Q193.264 479.696 195.487 480.252 Q197.709 480.807 200.186 480.807 Q204.19 480.807 206.528 478.701 Q208.866 476.594 208.866 472.983 Q208.866 469.372 206.528 467.266 Q204.19 465.159 200.186 465.159 Q198.311 465.159 196.436 465.576 Q194.584 465.993 192.639 466.872 L192.639 449.511 Z\" fill=\"#000000\" fill-rule=\"evenodd\" fill-opacity=\"1\" /><path clip-path=\"url(#clip130)\" d=\"M117.015 173.601 L124.654 173.601 L124.654 147.236 L116.343 148.902 L116.343 144.643 L124.607 142.976 L129.283 142.976 L129.283 173.601 L136.922 173.601 L136.922 177.536 L117.015 177.536 L117.015 173.601 Z\" fill=\"#000000\" fill-rule=\"evenodd\" fill-opacity=\"1\" /><path clip-path=\"url(#clip130)\" d=\"M146.366 171.657 L151.251 171.657 L151.251 177.536 L146.366 177.536 L146.366 171.657 Z\" fill=\"#000000\" fill-rule=\"evenodd\" fill-opacity=\"1\" /><path clip-path=\"url(#clip130)\" d=\"M171.436 146.055 Q167.825 146.055 165.996 149.62 Q164.19 153.161 164.19 160.291 Q164.19 167.397 165.996 170.962 Q167.825 174.504 171.436 174.504 Q175.07 174.504 176.876 170.962 Q178.704 167.397 178.704 160.291 Q178.704 153.161 176.876 149.62 Q175.07 146.055 171.436 146.055 M171.436 142.351 Q177.246 142.351 180.301 146.958 Q183.38 151.541 183.38 160.291 Q183.38 169.018 180.301 173.624 Q177.246 178.208 171.436 178.208 Q165.626 178.208 162.547 173.624 Q159.491 169.018 159.491 160.291 Q159.491 151.541 162.547 146.958 Q165.626 142.351 171.436 142.351 Z\" fill=\"#000000\" fill-rule=\"evenodd\" fill-opacity=\"1\" /><path clip-path=\"url(#clip130)\" d=\"M201.598 146.055 Q197.987 146.055 196.158 149.62 Q194.352 153.161 194.352 160.291 Q194.352 167.397 196.158 170.962 Q197.987 174.504 201.598 174.504 Q205.232 174.504 207.037 170.962 Q208.866 167.397 208.866 160.291 Q208.866 153.161 207.037 149.62 Q205.232 146.055 201.598 146.055 M201.598 142.351 Q207.408 142.351 210.463 146.958 Q213.542 151.541 213.542 160.291 Q213.542 169.018 210.463 173.624 Q207.408 178.208 201.598 178.208 Q195.787 178.208 192.709 173.624 Q189.653 169.018 189.653 160.291 Q189.653 151.541 192.709 146.958 Q195.787 142.351 201.598 142.351 Z\" fill=\"#000000\" fill-rule=\"evenodd\" fill-opacity=\"1\" /><path clip-path=\"url(#clip130)\" d=\"M20.1444 754.165 L26.9239 754.165 Q23.9002 757.412 22.4043 761.104 Q20.9083 764.764 20.9083 768.902 Q20.9083 777.05 25.9054 781.379 Q30.8707 785.707 40.2919 785.707 Q49.6813 785.707 54.6784 781.379 Q59.6436 777.05 59.6436 768.902 Q59.6436 764.764 58.1477 761.104 Q56.6518 757.412 53.6281 754.165 L60.3439 754.165 Q62.6355 757.539 63.7814 761.327 Q64.9272 765.082 64.9272 769.284 Q64.9272 780.074 58.3387 786.28 Q51.7183 792.487 40.2919 792.487 Q28.8336 792.487 22.2451 786.28 Q15.6248 780.074 15.6248 769.284 Q15.6248 765.019 16.7706 761.263 Q17.8846 757.475 20.1444 754.165 Z\" fill=\"#000000\" fill-rule=\"evenodd\" fill-opacity=\"1\" /><path clip-path=\"url(#clip130)\" d=\"M1014.14 14.0809 L1014.14 22.0612 Q1009.48 19.8332 1005.35 18.7395 Q1001.22 17.6457 997.372 17.6457 Q990.688 17.6457 987.042 20.2383 Q983.437 22.8309 983.437 27.611 Q983.437 31.6214 985.827 33.6873 Q988.257 35.7128 994.982 36.9686 L999.924 37.9813 Q1009.08 39.7232 1013.41 44.1387 Q1017.79 48.5136 1017.79 55.8863 Q1017.79 64.6767 1011.87 69.2137 Q1006 73.7508 994.617 73.7508 Q990.323 73.7508 985.462 72.7785 Q980.641 71.8063 975.456 69.9024 L975.456 61.4765 Q980.439 64.2716 985.219 65.6895 Q989.999 67.1073 994.617 67.1073 Q1001.63 67.1073 1005.43 64.3527 Q1009.24 61.598 1009.24 56.4939 Q1009.24 52.0379 1006.49 49.5264 Q1003.77 47.0148 997.534 45.759 L992.551 44.7868 Q983.396 42.9639 979.305 39.075 Q975.213 35.1862 975.213 28.2591 Q975.213 20.2383 980.844 15.6203 Q986.515 11.0023 996.44 11.0023 Q1000.69 11.0023 1005.11 11.7719 Q1009.52 12.5416 1014.14 14.0809 Z\" fill=\"#000000\" fill-rule=\"evenodd\" fill-opacity=\"1\" /><path clip-path=\"url(#clip130)\" d=\"M1069.03 48.0275 L1069.03 51.6733 L1034.76 51.6733 Q1035.25 59.3701 1039.38 63.421 Q1043.55 67.4314 1050.97 67.4314 Q1055.26 67.4314 1059.27 66.3781 Q1063.32 65.3249 1067.29 63.2184 L1067.29 70.267 Q1063.28 71.9684 1059.07 72.8596 Q1054.85 73.7508 1050.52 73.7508 Q1039.66 73.7508 1033.3 67.4314 Q1026.98 61.1119 1026.98 50.3365 Q1026.98 39.1965 1032.98 32.6746 Q1039.01 26.1121 1049.22 26.1121 Q1058.38 26.1121 1063.68 32.0264 Q1069.03 37.9003 1069.03 48.0275 M1061.58 45.84 Q1061.5 39.7232 1058.14 36.0774 Q1054.81 32.4315 1049.3 32.4315 Q1043.07 32.4315 1039.3 35.9558 Q1035.57 39.4801 1035 45.8805 L1061.58 45.84 Z\" fill=\"#000000\" fill-rule=\"evenodd\" fill-opacity=\"1\" /><path clip-path=\"url(#clip130)\" d=\"M1088.64 14.324 L1088.64 27.2059 L1103.99 27.2059 L1103.99 32.9987 L1088.64 32.9987 L1088.64 57.6282 Q1088.64 63.1779 1090.14 64.7578 Q1091.68 66.3376 1096.34 66.3376 L1103.99 66.3376 L1103.99 72.576 L1096.34 72.576 Q1087.71 72.576 1084.43 69.3758 Q1081.14 66.1351 1081.14 57.6282 L1081.14 32.9987 L1075.68 32.9987 L1075.68 27.2059 L1081.14 27.2059 L1081.14 14.324 L1088.64 14.324 Z\" fill=\"#000000\" fill-rule=\"evenodd\" fill-opacity=\"1\" /><path clip-path=\"url(#clip130)\" d=\"M1105.73 12.096 L1156.9 12.096 L1156.9 18.9825 L1135.43 18.9825 L1135.43 72.576 L1127.2 72.576 L1127.2 18.9825 L1105.73 18.9825 L1105.73 12.096 Z\" fill=\"#000000\" fill-rule=\"evenodd\" fill-opacity=\"1\" /><path clip-path=\"url(#clip130)\" d=\"M1189.18 48.0275 L1189.18 51.6733 L1154.91 51.6733 Q1155.4 59.3701 1159.53 63.421 Q1163.7 67.4314 1171.11 67.4314 Q1175.41 67.4314 1179.42 66.3781 Q1183.47 65.3249 1187.44 63.2184 L1187.44 70.267 Q1183.43 71.9684 1179.22 72.8596 Q1175 73.7508 1170.67 73.7508 Q1159.81 73.7508 1153.45 67.4314 Q1147.13 61.1119 1147.13 50.3365 Q1147.13 39.1965 1153.13 32.6746 Q1159.16 26.1121 1169.37 26.1121 Q1178.53 26.1121 1183.83 32.0264 Q1189.18 37.9003 1189.18 48.0275 M1181.73 45.84 Q1181.65 39.7232 1178.29 36.0774 Q1174.96 32.4315 1169.45 32.4315 Q1163.22 32.4315 1159.45 35.9558 Q1155.72 39.4801 1155.15 45.8805 L1181.73 45.84 Z\" fill=\"#000000\" fill-rule=\"evenodd\" fill-opacity=\"1\" /><path clip-path=\"url(#clip130)\" d=\"M1236.74 35.9153 Q1239.53 30.8922 1243.42 28.5022 Q1247.31 26.1121 1252.58 26.1121 Q1259.67 26.1121 1263.52 31.0947 Q1267.36 36.0368 1267.36 45.1919 L1267.36 72.576 L1259.87 72.576 L1259.87 45.4349 Q1259.87 38.913 1257.56 35.7533 Q1255.25 32.5936 1250.51 32.5936 Q1244.72 32.5936 1241.36 36.4419 Q1238 40.2903 1238 46.9338 L1238 72.576 L1230.5 72.576 L1230.5 45.4349 Q1230.5 38.8725 1228.19 35.7533 Q1225.88 32.5936 1221.06 32.5936 Q1215.35 32.5936 1211.99 36.4824 Q1208.63 40.3308 1208.63 46.9338 L1208.63 72.576 L1201.13 72.576 L1201.13 27.2059 L1208.63 27.2059 L1208.63 34.2544 Q1211.18 30.082 1214.74 28.0971 Q1218.31 26.1121 1223.21 26.1121 Q1228.15 26.1121 1231.59 28.6237 Q1235.08 31.1352 1236.74 35.9153 Z\" fill=\"#000000\" fill-rule=\"evenodd\" fill-opacity=\"1\" /><path clip-path=\"url(#clip130)\" d=\"M1289.44 65.7705 L1289.44 89.8329 L1281.95 89.8329 L1281.95 27.2059 L1289.44 27.2059 L1289.44 34.0924 Q1291.79 30.0415 1295.36 28.0971 Q1298.96 26.1121 1303.94 26.1121 Q1312.21 26.1121 1317.35 32.6746 Q1322.54 39.2371 1322.54 49.9314 Q1322.54 60.6258 1317.35 67.1883 Q1312.21 73.7508 1303.94 73.7508 Q1298.96 73.7508 1295.36 71.8063 Q1291.79 69.8214 1289.44 65.7705 M1314.8 49.9314 Q1314.8 41.7081 1311.4 37.0496 Q1308.04 32.3505 1302.12 32.3505 Q1296.21 32.3505 1292.8 37.0496 Q1289.44 41.7081 1289.44 49.9314 Q1289.44 58.1548 1292.8 62.8538 Q1296.21 67.5124 1302.12 67.5124 Q1308.04 67.5124 1311.4 62.8538 Q1314.8 58.1548 1314.8 49.9314 Z\" fill=\"#000000\" fill-rule=\"evenodd\" fill-opacity=\"1\" /><path clip-path=\"url(#clip130)\" d=\"M1373.7 48.0275 L1373.7 51.6733 L1339.43 51.6733 Q1339.92 59.3701 1344.05 63.421 Q1348.22 67.4314 1355.63 67.4314 Q1359.93 67.4314 1363.94 66.3781 Q1367.99 65.3249 1371.96 63.2184 L1371.96 70.267 Q1367.95 71.9684 1363.74 72.8596 Q1359.52 73.7508 1355.19 73.7508 Q1344.33 73.7508 1337.97 67.4314 Q1331.65 61.1119 1331.65 50.3365 Q1331.65 39.1965 1337.65 32.6746 Q1343.68 26.1121 1353.89 26.1121 Q1363.05 26.1121 1368.35 32.0264 Q1373.7 37.9003 1373.7 48.0275 M1366.25 45.84 Q1366.17 39.7232 1362.8 36.0774 Q1359.48 32.4315 1353.97 32.4315 Q1347.73 32.4315 1343.97 35.9558 Q1340.24 39.4801 1339.67 45.8805 L1366.25 45.84 Z\" fill=\"#000000\" fill-rule=\"evenodd\" fill-opacity=\"1\" /><path clip-path=\"url(#clip130)\" d=\"M1412.22 34.1734 Q1410.97 33.4443 1409.47 33.1202 Q1408.01 32.7556 1406.23 32.7556 Q1399.91 32.7556 1396.51 36.8875 Q1393.15 40.9789 1393.15 48.6757 L1393.15 72.576 L1385.65 72.576 L1385.65 27.2059 L1393.15 27.2059 L1393.15 34.2544 Q1395.49 30.1225 1399.26 28.1376 Q1403.03 26.1121 1408.42 26.1121 Q1409.19 26.1121 1410.12 26.2337 Q1411.05 26.3147 1412.18 26.5172 L1412.22 34.1734 Z\" fill=\"#000000\" fill-rule=\"evenodd\" fill-opacity=\"1\" /><path clip-path=\"url(#clip130)\" d=\"M1440.66 49.7694 Q1431.63 49.7694 1428.14 51.8354 Q1424.66 53.9013 1424.66 58.8839 Q1424.66 62.8538 1427.25 65.2034 Q1429.89 67.5124 1434.38 67.5124 Q1440.58 67.5124 1444.31 63.1374 Q1448.08 58.7219 1448.08 51.4303 L1448.08 49.7694 L1440.66 49.7694 M1455.53 46.6907 L1455.53 72.576 L1448.08 72.576 L1448.08 65.6895 Q1445.52 69.8214 1441.72 71.8063 Q1437.91 73.7508 1432.4 73.7508 Q1425.43 73.7508 1421.3 69.8619 Q1417.21 65.9325 1417.21 59.3701 Q1417.21 51.7138 1422.31 47.825 Q1427.46 43.9361 1437.62 43.9361 L1448.08 43.9361 L1448.08 43.2069 Q1448.08 38.0623 1444.67 35.2672 Q1441.31 32.4315 1435.19 32.4315 Q1431.3 32.4315 1427.62 33.3632 Q1423.93 34.295 1420.53 36.1584 L1420.53 29.2718 Q1424.62 27.692 1428.47 26.9223 Q1432.32 26.1121 1435.96 26.1121 Q1445.81 26.1121 1450.67 31.2163 Q1455.53 36.3204 1455.53 46.6907 Z\" fill=\"#000000\" fill-rule=\"evenodd\" fill-opacity=\"1\" /><path clip-path=\"url(#clip130)\" d=\"M1478.25 14.324 L1478.25 27.2059 L1493.61 27.2059 L1493.61 32.9987 L1478.25 32.9987 L1478.25 57.6282 Q1478.25 63.1779 1479.75 64.7578 Q1481.29 66.3376 1485.95 66.3376 L1493.61 66.3376 L1493.61 72.576 L1485.95 72.576 Q1477.32 72.576 1474.04 69.3758 Q1470.76 66.1351 1470.76 57.6282 L1470.76 32.9987 L1465.29 32.9987 L1465.29 27.2059 L1470.76 27.2059 L1470.76 14.324 L1478.25 14.324 Z\" fill=\"#000000\" fill-rule=\"evenodd\" fill-opacity=\"1\" /><path clip-path=\"url(#clip130)\" d=\"M1502.64 54.671 L1502.64 27.2059 L1510.09 27.2059 L1510.09 54.3874 Q1510.09 60.8284 1512.61 64.0691 Q1515.12 67.2693 1520.14 67.2693 Q1526.18 67.2693 1529.66 63.421 Q1533.18 59.5726 1533.18 52.9291 L1533.18 27.2059 L1540.64 27.2059 L1540.64 72.576 L1533.18 72.576 L1533.18 65.6084 Q1530.47 69.7404 1526.87 71.7658 Q1523.3 73.7508 1518.56 73.7508 Q1510.74 73.7508 1506.69 68.8897 Q1502.64 64.0286 1502.64 54.671 M1521.4 26.1121 L1521.4 26.1121 Z\" fill=\"#000000\" fill-rule=\"evenodd\" fill-opacity=\"1\" /><path clip-path=\"url(#clip130)\" d=\"M1582.28 34.1734 Q1581.03 33.4443 1579.53 33.1202 Q1578.07 32.7556 1576.29 32.7556 Q1569.97 32.7556 1566.56 36.8875 Q1563.2 40.9789 1563.2 48.6757 L1563.2 72.576 L1555.71 72.576 L1555.71 27.2059 L1563.2 27.2059 L1563.2 34.2544 Q1565.55 30.1225 1569.32 28.1376 Q1573.09 26.1121 1578.47 26.1121 Q1579.24 26.1121 1580.18 26.2337 Q1581.11 26.3147 1582.24 26.5172 L1582.28 34.1734 Z\" fill=\"#000000\" fill-rule=\"evenodd\" fill-opacity=\"1\" /><path clip-path=\"url(#clip130)\" d=\"M1627.08 48.0275 L1627.08 51.6733 L1592.81 51.6733 Q1593.3 59.3701 1597.43 63.421 Q1601.6 67.4314 1609.02 67.4314 Q1613.31 67.4314 1617.32 66.3781 Q1621.37 65.3249 1625.34 63.2184 L1625.34 70.267 Q1621.33 71.9684 1617.12 72.8596 Q1612.91 73.7508 1608.57 73.7508 Q1597.72 73.7508 1591.36 67.4314 Q1585.04 61.1119 1585.04 50.3365 Q1585.04 39.1965 1591.03 32.6746 Q1597.07 26.1121 1607.28 26.1121 Q1616.43 26.1121 1621.74 32.0264 Q1627.08 37.9003 1627.08 48.0275 M1619.63 45.84 Q1619.55 39.7232 1616.19 36.0774 Q1612.87 32.4315 1607.36 32.4315 Q1601.12 32.4315 1597.35 35.9558 Q1593.62 39.4801 1593.06 45.8805 L1619.63 45.84 Z\" fill=\"#000000\" fill-rule=\"evenodd\" fill-opacity=\"1\" /><polyline clip-path=\"url(#clip132)\" style=\"stroke:#009af9; stroke-linecap:butt; stroke-linejoin:round; stroke-width:4; stroke-opacity:1; fill:none\" points=\"\n",
       "  309.067,1386.4 395.335,160.256 481.603,160.256 567.871,160.256 654.139,160.256 740.407,160.256 826.675,160.256 912.943,160.256 999.211,160.256 1085.48,160.256 \n",
       "  1171.75,160.256 1258.01,160.256 1344.28,160.256 1430.55,160.256 1516.82,160.256 1603.09,160.256 1689.35,160.256 1775.62,160.256 1861.89,160.256 1948.16,160.256 \n",
       "  2034.43,160.256 2120.69,160.256 2206.96,160.256 2293.23,160.256 \n",
       "  \"/>\n",
       "<path clip-path=\"url(#clip130)\" d=\"\n",
       "M1996.53 287.756 L2282.65 287.756 L2282.65 166.796 L1996.53 166.796  Z\n",
       "  \" fill=\"#ffffff\" fill-rule=\"evenodd\" fill-opacity=\"1\"/>\n",
       "<polyline clip-path=\"url(#clip130)\" style=\"stroke:#000000; stroke-linecap:butt; stroke-linejoin:round; stroke-width:4; stroke-opacity:1; fill:none\" points=\"\n",
       "  1996.53,287.756 2282.65,287.756 2282.65,166.796 1996.53,166.796 1996.53,287.756 \n",
       "  \"/>\n",
       "<polyline clip-path=\"url(#clip130)\" style=\"stroke:#009af9; stroke-linecap:butt; stroke-linejoin:round; stroke-width:4; stroke-opacity:1; fill:none\" points=\"\n",
       "  2019.9,227.276 2160.11,227.276 \n",
       "  \"/>\n",
       "<path clip-path=\"url(#clip130)\" d=\"M2197.32 246.963 Q2195.52 251.593 2193.8 253.005 Q2192.09 254.417 2189.22 254.417 L2185.82 254.417 L2185.82 250.852 L2188.32 250.852 Q2190.08 250.852 2191.05 250.019 Q2192.02 249.185 2193.2 246.083 L2193.97 244.139 L2183.48 218.63 L2187.99 218.63 L2196.1 238.908 L2204.2 218.63 L2208.71 218.63 L2197.32 246.963 Z\" fill=\"#000000\" fill-rule=\"evenodd\" fill-opacity=\"1\" /><path clip-path=\"url(#clip130)\" d=\"M2216 240.621 L2223.64 240.621 L2223.64 214.255 L2215.33 215.922 L2215.33 211.662 L2223.6 209.996 L2228.27 209.996 L2228.27 240.621 L2235.91 240.621 L2235.91 244.556 L2216 244.556 L2216 240.621 Z\" fill=\"#000000\" fill-rule=\"evenodd\" fill-opacity=\"1\" /></svg>\n"
      ]
     },
     "execution_count": 711,
     "metadata": {},
     "output_type": "execute_result"
    }
   ],
   "source": [
    "using Plots\n",
    "x = 1:Hours\n",
    "plot(x,OnOff_Opt, title = \"SetTemperature\")\n",
    "xlabel!(\"Hours\")\n",
    "ylabel!(\"C\")"
   ]
  },
  {
   "cell_type": "code",
   "execution_count": 712,
   "id": "9760ad4f",
   "metadata": {},
   "outputs": [
    {
     "data": {
      "image/svg+xml": [
       "<?xml version=\"1.0\" encoding=\"utf-8\"?>\n",
       "<svg xmlns=\"http://www.w3.org/2000/svg\" xmlns:xlink=\"http://www.w3.org/1999/xlink\" width=\"600\" height=\"400\" viewBox=\"0 0 2400 1600\">\n",
       "<defs>\n",
       "  <clipPath id=\"clip170\">\n",
       "    <rect x=\"0\" y=\"0\" width=\"2400\" height=\"1600\"/>\n",
       "  </clipPath>\n",
       "</defs>\n",
       "<path clip-path=\"url(#clip170)\" d=\"\n",
       "M0 1600 L2400 1600 L2400 0 L0 0  Z\n",
       "  \" fill=\"#ffffff\" fill-rule=\"evenodd\" fill-opacity=\"1\"/>\n",
       "<defs>\n",
       "  <clipPath id=\"clip171\">\n",
       "    <rect x=\"480\" y=\"0\" width=\"1681\" height=\"1600\"/>\n",
       "  </clipPath>\n",
       "</defs>\n",
       "<path clip-path=\"url(#clip170)\" d=\"\n",
       "M337.247 1423.18 L2352.76 1423.18 L2352.76 47.2441 L337.247 47.2441  Z\n",
       "  \" fill=\"#ffffff\" fill-rule=\"evenodd\" fill-opacity=\"1\"/>\n",
       "<defs>\n",
       "  <clipPath id=\"clip172\">\n",
       "    <rect x=\"337\" y=\"47\" width=\"2017\" height=\"1377\"/>\n",
       "  </clipPath>\n",
       "</defs>\n",
       "<polyline clip-path=\"url(#clip172)\" style=\"stroke:#000000; stroke-linecap:butt; stroke-linejoin:round; stroke-width:2; stroke-opacity:0.1; fill:none\" points=\"\n",
       "  724.972,1423.18 724.972,47.2441 \n",
       "  \"/>\n",
       "<polyline clip-path=\"url(#clip172)\" style=\"stroke:#000000; stroke-linecap:butt; stroke-linejoin:round; stroke-width:2; stroke-opacity:0.1; fill:none\" points=\"\n",
       "  1138.32,1423.18 1138.32,47.2441 \n",
       "  \"/>\n",
       "<polyline clip-path=\"url(#clip172)\" style=\"stroke:#000000; stroke-linecap:butt; stroke-linejoin:round; stroke-width:2; stroke-opacity:0.1; fill:none\" points=\"\n",
       "  1551.68,1423.18 1551.68,47.2441 \n",
       "  \"/>\n",
       "<polyline clip-path=\"url(#clip172)\" style=\"stroke:#000000; stroke-linecap:butt; stroke-linejoin:round; stroke-width:2; stroke-opacity:0.1; fill:none\" points=\"\n",
       "  1965.03,1423.18 1965.03,47.2441 \n",
       "  \"/>\n",
       "<polyline clip-path=\"url(#clip170)\" style=\"stroke:#000000; stroke-linecap:butt; stroke-linejoin:round; stroke-width:4; stroke-opacity:1; fill:none\" points=\"\n",
       "  337.247,1423.18 2352.76,1423.18 \n",
       "  \"/>\n",
       "<polyline clip-path=\"url(#clip170)\" style=\"stroke:#000000; stroke-linecap:butt; stroke-linejoin:round; stroke-width:4; stroke-opacity:1; fill:none\" points=\"\n",
       "  724.972,1423.18 724.972,1406.67 \n",
       "  \"/>\n",
       "<polyline clip-path=\"url(#clip170)\" style=\"stroke:#000000; stroke-linecap:butt; stroke-linejoin:round; stroke-width:4; stroke-opacity:1; fill:none\" points=\"\n",
       "  1138.32,1423.18 1138.32,1406.67 \n",
       "  \"/>\n",
       "<polyline clip-path=\"url(#clip170)\" style=\"stroke:#000000; stroke-linecap:butt; stroke-linejoin:round; stroke-width:4; stroke-opacity:1; fill:none\" points=\"\n",
       "  1551.68,1423.18 1551.68,1406.67 \n",
       "  \"/>\n",
       "<polyline clip-path=\"url(#clip170)\" style=\"stroke:#000000; stroke-linecap:butt; stroke-linejoin:round; stroke-width:4; stroke-opacity:1; fill:none\" points=\"\n",
       "  1965.03,1423.18 1965.03,1406.67 \n",
       "  \"/>\n",
       "<path clip-path=\"url(#clip170)\" d=\"M715.25 1449.29 L733.606 1449.29 L733.606 1453.23 L719.532 1453.23 L719.532 1461.7 Q720.551 1461.35 721.569 1461.19 Q722.588 1461 723.606 1461 Q729.393 1461 732.773 1464.18 Q736.153 1467.35 736.153 1472.76 Q736.153 1478.34 732.68 1481.44 Q729.208 1484.52 722.889 1484.52 Q720.713 1484.52 718.444 1484.15 Q716.199 1483.78 713.792 1483.04 L713.792 1478.34 Q715.875 1479.48 718.097 1480.03 Q720.319 1480.59 722.796 1480.59 Q726.801 1480.59 729.139 1478.48 Q731.477 1476.38 731.477 1472.76 Q731.477 1469.15 729.139 1467.05 Q726.801 1464.94 722.796 1464.94 Q720.921 1464.94 719.046 1465.36 Q717.194 1465.77 715.25 1466.65 L715.25 1449.29 Z\" fill=\"#000000\" fill-rule=\"evenodd\" fill-opacity=\"1\" /><path clip-path=\"url(#clip170)\" d=\"M1113.01 1479.92 L1120.65 1479.92 L1120.65 1453.55 L1112.34 1455.22 L1112.34 1450.96 L1120.61 1449.29 L1125.28 1449.29 L1125.28 1479.92 L1132.92 1479.92 L1132.92 1483.85 L1113.01 1483.85 L1113.01 1479.92 Z\" fill=\"#000000\" fill-rule=\"evenodd\" fill-opacity=\"1\" /><path clip-path=\"url(#clip170)\" d=\"M1152.36 1452.37 Q1148.75 1452.37 1146.92 1455.94 Q1145.12 1459.48 1145.12 1466.61 Q1145.12 1473.71 1146.92 1477.28 Q1148.75 1480.82 1152.36 1480.82 Q1156 1480.82 1157.8 1477.28 Q1159.63 1473.71 1159.63 1466.61 Q1159.63 1459.48 1157.8 1455.94 Q1156 1452.37 1152.36 1452.37 M1152.36 1448.67 Q1158.17 1448.67 1161.23 1453.27 Q1164.31 1457.86 1164.31 1466.61 Q1164.31 1475.33 1161.23 1479.94 Q1158.17 1484.52 1152.36 1484.52 Q1146.55 1484.52 1143.48 1479.94 Q1140.42 1475.33 1140.42 1466.61 Q1140.42 1457.86 1143.48 1453.27 Q1146.55 1448.67 1152.36 1448.67 Z\" fill=\"#000000\" fill-rule=\"evenodd\" fill-opacity=\"1\" /><path clip-path=\"url(#clip170)\" d=\"M1526.86 1479.92 L1534.5 1479.92 L1534.5 1453.55 L1526.19 1455.22 L1526.19 1450.96 L1534.46 1449.29 L1539.13 1449.29 L1539.13 1479.92 L1546.77 1479.92 L1546.77 1483.85 L1526.86 1483.85 L1526.86 1479.92 Z\" fill=\"#000000\" fill-rule=\"evenodd\" fill-opacity=\"1\" /><path clip-path=\"url(#clip170)\" d=\"M1556.26 1449.29 L1574.62 1449.29 L1574.62 1453.23 L1560.54 1453.23 L1560.54 1461.7 Q1561.56 1461.35 1562.58 1461.19 Q1563.6 1461 1564.62 1461 Q1570.4 1461 1573.78 1464.18 Q1577.16 1467.35 1577.16 1472.76 Q1577.16 1478.34 1573.69 1481.44 Q1570.22 1484.52 1563.9 1484.52 Q1561.72 1484.52 1559.46 1484.15 Q1557.21 1483.78 1554.8 1483.04 L1554.8 1478.34 Q1556.89 1479.48 1559.11 1480.03 Q1561.33 1480.59 1563.81 1480.59 Q1567.81 1480.59 1570.15 1478.48 Q1572.49 1476.38 1572.49 1472.76 Q1572.49 1469.15 1570.15 1467.05 Q1567.81 1464.94 1563.81 1464.94 Q1561.93 1464.94 1560.06 1465.36 Q1558.21 1465.77 1556.26 1466.65 L1556.26 1449.29 Z\" fill=\"#000000\" fill-rule=\"evenodd\" fill-opacity=\"1\" /><path clip-path=\"url(#clip170)\" d=\"M1943.8 1479.92 L1960.12 1479.92 L1960.12 1483.85 L1938.18 1483.85 L1938.18 1479.92 Q1940.84 1477.16 1945.42 1472.53 Q1950.03 1467.88 1951.21 1466.54 Q1953.46 1464.01 1954.34 1462.28 Q1955.24 1460.52 1955.24 1458.83 Q1955.24 1456.07 1953.29 1454.34 Q1951.37 1452.6 1948.27 1452.6 Q1946.07 1452.6 1943.62 1453.37 Q1941.19 1454.13 1938.41 1455.68 L1938.41 1450.96 Q1941.23 1449.82 1943.69 1449.25 Q1946.14 1448.67 1948.18 1448.67 Q1953.55 1448.67 1956.74 1451.35 Q1959.94 1454.04 1959.94 1458.53 Q1959.94 1460.66 1959.13 1462.58 Q1958.34 1464.48 1956.23 1467.07 Q1955.66 1467.74 1952.55 1470.96 Q1949.45 1474.15 1943.8 1479.92 Z\" fill=\"#000000\" fill-rule=\"evenodd\" fill-opacity=\"1\" /><path clip-path=\"url(#clip170)\" d=\"M1979.94 1452.37 Q1976.33 1452.37 1974.5 1455.94 Q1972.69 1459.48 1972.69 1466.61 Q1972.69 1473.71 1974.5 1477.28 Q1976.33 1480.82 1979.94 1480.82 Q1983.57 1480.82 1985.38 1477.28 Q1987.21 1473.71 1987.21 1466.61 Q1987.21 1459.48 1985.38 1455.94 Q1983.57 1452.37 1979.94 1452.37 M1979.94 1448.67 Q1985.75 1448.67 1988.8 1453.27 Q1991.88 1457.86 1991.88 1466.61 Q1991.88 1475.33 1988.8 1479.94 Q1985.75 1484.52 1979.94 1484.52 Q1974.13 1484.52 1971.05 1479.94 Q1967.99 1475.33 1967.99 1466.61 Q1967.99 1457.86 1971.05 1453.27 Q1974.13 1448.67 1979.94 1448.67 Z\" fill=\"#000000\" fill-rule=\"evenodd\" fill-opacity=\"1\" /><path clip-path=\"url(#clip170)\" d=\"M1254.31 1520.52 L1260.74 1520.52 L1260.74 1540 L1284.1 1540 L1284.1 1520.52 L1290.53 1520.52 L1290.53 1568.04 L1284.1 1568.04 L1284.1 1545.41 L1260.74 1545.41 L1260.74 1568.04 L1254.31 1568.04 L1254.31 1520.52 Z\" fill=\"#000000\" fill-rule=\"evenodd\" fill-opacity=\"1\" /><path clip-path=\"url(#clip170)\" d=\"M1316.88 1536.5 Q1312.17 1536.5 1309.43 1540.19 Q1306.7 1543.85 1306.7 1550.25 Q1306.7 1556.65 1309.4 1560.34 Q1312.14 1564 1316.88 1564 Q1321.56 1564 1324.3 1560.31 Q1327.03 1556.62 1327.03 1550.25 Q1327.03 1543.92 1324.3 1540.23 Q1321.56 1536.5 1316.88 1536.5 M1316.88 1531.54 Q1324.52 1531.54 1328.88 1536.5 Q1333.24 1541.47 1333.24 1550.25 Q1333.24 1559 1328.88 1564 Q1324.52 1568.97 1316.88 1568.97 Q1309.21 1568.97 1304.85 1564 Q1300.52 1559 1300.52 1550.25 Q1300.52 1541.47 1304.85 1536.5 Q1309.21 1531.54 1316.88 1531.54 Z\" fill=\"#000000\" fill-rule=\"evenodd\" fill-opacity=\"1\" /><path clip-path=\"url(#clip170)\" d=\"M1342.34 1553.98 L1342.34 1532.4 L1348.2 1532.4 L1348.2 1553.75 Q1348.2 1558.81 1350.17 1561.36 Q1352.15 1563.87 1356.09 1563.87 Q1360.84 1563.87 1363.57 1560.85 Q1366.34 1557.83 1366.34 1552.61 L1366.34 1532.4 L1372.2 1532.4 L1372.2 1568.04 L1366.34 1568.04 L1366.34 1562.57 Q1364.21 1565.82 1361.38 1567.41 Q1358.58 1568.97 1354.85 1568.97 Q1348.71 1568.97 1345.53 1565.15 Q1342.34 1561.33 1342.34 1553.98 M1357.08 1531.54 L1357.08 1531.54 Z\" fill=\"#000000\" fill-rule=\"evenodd\" fill-opacity=\"1\" /><path clip-path=\"url(#clip170)\" d=\"M1404.92 1537.87 Q1403.93 1537.3 1402.75 1537.04 Q1401.61 1536.76 1400.21 1536.76 Q1395.24 1536.76 1392.57 1540 Q1389.93 1543.22 1389.93 1549.27 L1389.93 1568.04 L1384.04 1568.04 L1384.04 1532.4 L1389.93 1532.4 L1389.93 1537.93 Q1391.77 1534.69 1394.73 1533.13 Q1397.69 1531.54 1401.93 1531.54 Q1402.53 1531.54 1403.26 1531.63 Q1404 1531.7 1404.89 1531.85 L1404.92 1537.87 Z\" fill=\"#000000\" fill-rule=\"evenodd\" fill-opacity=\"1\" /><path clip-path=\"url(#clip170)\" d=\"M1433.79 1533.45 L1433.79 1538.98 Q1431.3 1537.71 1428.63 1537.07 Q1425.96 1536.44 1423.09 1536.44 Q1418.73 1536.44 1416.54 1537.77 Q1414.37 1539.11 1414.37 1541.79 Q1414.37 1543.82 1415.93 1545 Q1417.49 1546.15 1422.2 1547.2 L1424.21 1547.64 Q1430.45 1548.98 1433.06 1551.43 Q1435.7 1553.85 1435.7 1558.21 Q1435.7 1563.17 1431.75 1566.07 Q1427.84 1568.97 1420.96 1568.97 Q1418.1 1568.97 1414.98 1568.39 Q1411.89 1567.85 1408.45 1566.74 L1408.45 1560.69 Q1411.7 1562.38 1414.85 1563.24 Q1418 1564.07 1421.09 1564.07 Q1425.23 1564.07 1427.45 1562.66 Q1429.68 1561.23 1429.68 1558.65 Q1429.68 1556.27 1428.06 1554.99 Q1426.47 1553.72 1421.02 1552.54 L1418.99 1552.07 Q1413.54 1550.92 1411.13 1548.56 Q1408.71 1546.18 1408.71 1542.04 Q1408.71 1537.01 1412.27 1534.27 Q1415.84 1531.54 1422.39 1531.54 Q1425.64 1531.54 1428.5 1532.01 Q1431.37 1532.49 1433.79 1533.45 Z\" fill=\"#000000\" fill-rule=\"evenodd\" fill-opacity=\"1\" /><polyline clip-path=\"url(#clip172)\" style=\"stroke:#000000; stroke-linecap:butt; stroke-linejoin:round; stroke-width:2; stroke-opacity:0.1; fill:none\" points=\"\n",
       "  337.247,1384.24 2352.76,1384.24 \n",
       "  \"/>\n",
       "<polyline clip-path=\"url(#clip172)\" style=\"stroke:#000000; stroke-linecap:butt; stroke-linejoin:round; stroke-width:2; stroke-opacity:0.1; fill:none\" points=\"\n",
       "  337.247,946.157 2352.76,946.157 \n",
       "  \"/>\n",
       "<polyline clip-path=\"url(#clip172)\" style=\"stroke:#000000; stroke-linecap:butt; stroke-linejoin:round; stroke-width:2; stroke-opacity:0.1; fill:none\" points=\"\n",
       "  337.247,508.075 2352.76,508.075 \n",
       "  \"/>\n",
       "<polyline clip-path=\"url(#clip172)\" style=\"stroke:#000000; stroke-linecap:butt; stroke-linejoin:round; stroke-width:2; stroke-opacity:0.1; fill:none\" points=\"\n",
       "  337.247,69.9931 2352.76,69.9931 \n",
       "  \"/>\n",
       "<polyline clip-path=\"url(#clip170)\" style=\"stroke:#000000; stroke-linecap:butt; stroke-linejoin:round; stroke-width:4; stroke-opacity:1; fill:none\" points=\"\n",
       "  337.247,1423.18 337.247,47.2441 \n",
       "  \"/>\n",
       "<polyline clip-path=\"url(#clip170)\" style=\"stroke:#000000; stroke-linecap:butt; stroke-linejoin:round; stroke-width:4; stroke-opacity:1; fill:none\" points=\"\n",
       "  337.247,1384.24 361.433,1384.24 \n",
       "  \"/>\n",
       "<polyline clip-path=\"url(#clip170)\" style=\"stroke:#000000; stroke-linecap:butt; stroke-linejoin:round; stroke-width:4; stroke-opacity:1; fill:none\" points=\"\n",
       "  337.247,946.157 361.433,946.157 \n",
       "  \"/>\n",
       "<polyline clip-path=\"url(#clip170)\" style=\"stroke:#000000; stroke-linecap:butt; stroke-linejoin:round; stroke-width:4; stroke-opacity:1; fill:none\" points=\"\n",
       "  337.247,508.075 361.433,508.075 \n",
       "  \"/>\n",
       "<polyline clip-path=\"url(#clip170)\" style=\"stroke:#000000; stroke-linecap:butt; stroke-linejoin:round; stroke-width:4; stroke-opacity:1; fill:none\" points=\"\n",
       "  337.247,69.9931 361.433,69.9931 \n",
       "  \"/>\n",
       "<path clip-path=\"url(#clip170)\" d=\"M289.303 1370.04 Q285.692 1370.04 283.863 1373.6 Q282.057 1377.14 282.057 1384.27 Q282.057 1391.38 283.863 1394.94 Q285.692 1398.49 289.303 1398.49 Q292.937 1398.49 294.742 1394.94 Q296.571 1391.38 296.571 1384.27 Q296.571 1377.14 294.742 1373.6 Q292.937 1370.04 289.303 1370.04 M289.303 1366.33 Q295.113 1366.33 298.168 1370.94 Q301.247 1375.52 301.247 1384.27 Q301.247 1393 298.168 1397.61 Q295.113 1402.19 289.303 1402.19 Q283.492 1402.19 280.414 1397.61 Q277.358 1393 277.358 1384.27 Q277.358 1375.52 280.414 1370.94 Q283.492 1366.33 289.303 1366.33 Z\" fill=\"#000000\" fill-rule=\"evenodd\" fill-opacity=\"1\" /><path clip-path=\"url(#clip170)\" d=\"M116.668 965.949 L124.306 965.949 L124.306 939.583 L115.996 941.25 L115.996 936.991 L124.26 935.324 L128.936 935.324 L128.936 965.949 L136.575 965.949 L136.575 969.884 L116.668 969.884 L116.668 965.949 Z\" fill=\"#000000\" fill-rule=\"evenodd\" fill-opacity=\"1\" /><path clip-path=\"url(#clip170)\" d=\"M146.019 964.005 L150.903 964.005 L150.903 969.884 L146.019 969.884 L146.019 964.005 Z\" fill=\"#000000\" fill-rule=\"evenodd\" fill-opacity=\"1\" /><path clip-path=\"url(#clip170)\" d=\"M171.089 938.403 Q167.477 938.403 165.649 941.968 Q163.843 945.509 163.843 952.639 Q163.843 959.745 165.649 963.31 Q167.477 966.852 171.089 966.852 Q174.723 966.852 176.528 963.31 Q178.357 959.745 178.357 952.639 Q178.357 945.509 176.528 941.968 Q174.723 938.403 171.089 938.403 M171.089 934.699 Q176.899 934.699 179.954 939.306 Q183.033 943.889 183.033 952.639 Q183.033 961.366 179.954 965.972 Q176.899 970.555 171.089 970.555 Q165.278 970.555 162.2 965.972 Q159.144 961.366 159.144 952.639 Q159.144 943.889 162.2 939.306 Q165.278 934.699 171.089 934.699 Z\" fill=\"#000000\" fill-rule=\"evenodd\" fill-opacity=\"1\" /><path clip-path=\"url(#clip170)\" d=\"M219.422 944.421 L208.843 955.046 L219.422 965.625 L216.667 968.426 L206.042 957.801 L195.417 968.426 L192.686 965.625 L203.241 955.046 L192.686 944.421 L195.417 941.62 L206.042 952.245 L216.667 941.62 L219.422 944.421 Z\" fill=\"#000000\" fill-rule=\"evenodd\" fill-opacity=\"1\" /><path clip-path=\"url(#clip170)\" d=\"M231.783 965.949 L239.422 965.949 L239.422 939.583 L231.111 941.25 L231.111 936.991 L239.375 935.324 L244.051 935.324 L244.051 965.949 L251.69 965.949 L251.69 969.884 L231.783 969.884 L231.783 965.949 Z\" fill=\"#000000\" fill-rule=\"evenodd\" fill-opacity=\"1\" /><path clip-path=\"url(#clip170)\" d=\"M271.134 938.403 Q267.523 938.403 265.695 941.968 Q263.889 945.509 263.889 952.639 Q263.889 959.745 265.695 963.31 Q267.523 966.852 271.134 966.852 Q274.769 966.852 276.574 963.31 Q278.403 959.745 278.403 952.639 Q278.403 945.509 276.574 941.968 Q274.769 938.403 271.134 938.403 M271.134 934.699 Q276.944 934.699 280 939.306 Q283.079 943.889 283.079 952.639 Q283.079 961.366 280 965.972 Q276.944 970.555 271.134 970.555 Q265.324 970.555 262.245 965.972 Q259.19 961.366 259.19 952.639 Q259.19 943.889 262.245 939.306 Q265.324 934.699 271.134 934.699 Z\" fill=\"#000000\" fill-rule=\"evenodd\" fill-opacity=\"1\" /><path clip-path=\"url(#clip170)\" d=\"M284.264 914.394 L299.178 914.394 L299.178 917.591 L287.743 917.591 L287.743 924.475 Q288.571 924.193 289.398 924.061 Q290.226 923.91 291.053 923.91 Q295.755 923.91 298.501 926.487 Q301.247 929.064 301.247 933.465 Q301.247 937.997 298.426 940.518 Q295.605 943.019 290.47 943.019 Q288.702 943.019 286.859 942.718 Q285.035 942.417 283.079 941.815 L283.079 937.997 Q284.771 938.919 286.577 939.37 Q288.382 939.822 290.395 939.822 Q293.649 939.822 295.548 938.11 Q297.448 936.399 297.448 933.465 Q297.448 930.531 295.548 928.819 Q293.649 927.108 290.395 927.108 Q288.871 927.108 287.348 927.446 Q285.843 927.785 284.264 928.5 L284.264 914.394 Z\" fill=\"#000000\" fill-rule=\"evenodd\" fill-opacity=\"1\" /><path clip-path=\"url(#clip170)\" d=\"M119.885 527.867 L136.204 527.867 L136.204 531.802 L114.26 531.802 L114.26 527.867 Q116.922 525.113 121.505 520.483 Q126.112 515.83 127.292 514.488 Q129.538 511.965 130.417 510.228 Q131.32 508.469 131.32 506.779 Q131.32 504.025 129.376 502.289 Q127.455 500.553 124.353 500.553 Q122.154 500.553 119.7 501.316 Q117.269 502.08 114.492 503.631 L114.492 498.909 Q117.316 497.775 119.769 497.196 Q122.223 496.617 124.26 496.617 Q129.63 496.617 132.825 499.303 Q136.019 501.988 136.019 506.478 Q136.019 508.608 135.209 510.529 Q134.422 512.428 132.316 515.02 Q131.737 515.691 128.635 518.909 Q125.533 522.103 119.885 527.867 Z\" fill=\"#000000\" fill-rule=\"evenodd\" fill-opacity=\"1\" /><path clip-path=\"url(#clip170)\" d=\"M146.019 525.923 L150.903 525.923 L150.903 531.802 L146.019 531.802 L146.019 525.923 Z\" fill=\"#000000\" fill-rule=\"evenodd\" fill-opacity=\"1\" /><path clip-path=\"url(#clip170)\" d=\"M171.089 500.321 Q167.477 500.321 165.649 503.886 Q163.843 507.428 163.843 514.557 Q163.843 521.664 165.649 525.228 Q167.477 528.77 171.089 528.77 Q174.723 528.77 176.528 525.228 Q178.357 521.664 178.357 514.557 Q178.357 507.428 176.528 503.886 Q174.723 500.321 171.089 500.321 M171.089 496.617 Q176.899 496.617 179.954 501.224 Q183.033 505.807 183.033 514.557 Q183.033 523.284 179.954 527.89 Q176.899 532.474 171.089 532.474 Q165.278 532.474 162.2 527.89 Q159.144 523.284 159.144 514.557 Q159.144 505.807 162.2 501.224 Q165.278 496.617 171.089 496.617 Z\" fill=\"#000000\" fill-rule=\"evenodd\" fill-opacity=\"1\" /><path clip-path=\"url(#clip170)\" d=\"M219.422 506.34 L208.843 516.965 L219.422 527.543 L216.667 530.344 L206.042 519.719 L195.417 530.344 L192.686 527.543 L203.241 516.965 L192.686 506.34 L195.417 503.539 L206.042 514.164 L216.667 503.539 L219.422 506.34 Z\" fill=\"#000000\" fill-rule=\"evenodd\" fill-opacity=\"1\" /><path clip-path=\"url(#clip170)\" d=\"M231.783 527.867 L239.422 527.867 L239.422 501.502 L231.111 503.168 L231.111 498.909 L239.375 497.242 L244.051 497.242 L244.051 527.867 L251.69 527.867 L251.69 531.802 L231.783 531.802 L231.783 527.867 Z\" fill=\"#000000\" fill-rule=\"evenodd\" fill-opacity=\"1\" /><path clip-path=\"url(#clip170)\" d=\"M271.134 500.321 Q267.523 500.321 265.695 503.886 Q263.889 507.428 263.889 514.557 Q263.889 521.664 265.695 525.228 Q267.523 528.77 271.134 528.77 Q274.769 528.77 276.574 525.228 Q278.403 521.664 278.403 514.557 Q278.403 507.428 276.574 503.886 Q274.769 500.321 271.134 500.321 M271.134 496.617 Q276.944 496.617 280 501.224 Q283.079 505.807 283.079 514.557 Q283.079 523.284 280 527.89 Q276.944 532.474 271.134 532.474 Q265.324 532.474 262.245 527.89 Q259.19 523.284 259.19 514.557 Q259.19 505.807 262.245 501.224 Q265.324 496.617 271.134 496.617 Z\" fill=\"#000000\" fill-rule=\"evenodd\" fill-opacity=\"1\" /><path clip-path=\"url(#clip170)\" d=\"M284.264 476.312 L299.178 476.312 L299.178 479.509 L287.743 479.509 L287.743 486.393 Q288.571 486.111 289.398 485.979 Q290.226 485.829 291.053 485.829 Q295.755 485.829 298.501 488.405 Q301.247 490.982 301.247 495.383 Q301.247 499.916 298.426 502.436 Q295.605 504.937 290.47 504.937 Q288.702 504.937 286.859 504.637 Q285.035 504.336 283.079 503.734 L283.079 499.916 Q284.771 500.837 286.577 501.289 Q288.382 501.74 290.395 501.74 Q293.649 501.74 295.548 500.029 Q297.448 498.317 297.448 495.383 Q297.448 492.449 295.548 490.738 Q293.649 489.026 290.395 489.026 Q288.871 489.026 287.348 489.365 Q285.843 489.703 284.264 490.418 L284.264 476.312 Z\" fill=\"#000000\" fill-rule=\"evenodd\" fill-opacity=\"1\" /><path clip-path=\"url(#clip170)\" d=\"M130.024 75.0865 Q133.38 75.8041 135.255 78.0726 Q137.154 80.3411 137.154 83.6744 Q137.154 88.7901 133.635 91.5911 Q130.117 94.392 123.635 94.392 Q121.459 94.392 119.144 93.9522 Q116.853 93.5355 114.399 92.679 L114.399 88.1652 Q116.343 89.2994 118.658 89.8781 Q120.973 90.4568 123.496 90.4568 Q127.894 90.4568 130.186 88.7207 Q132.501 86.9846 132.501 83.6744 Q132.501 80.6189 130.348 78.9059 Q128.218 77.1698 124.399 77.1698 L120.371 77.1698 L120.371 73.3273 L124.584 73.3273 Q128.033 73.3273 129.862 71.9615 Q131.691 70.5727 131.691 67.9801 Q131.691 65.3181 129.792 63.906 Q127.917 62.4708 124.399 62.4708 Q122.478 62.4708 120.279 62.8875 Q118.08 63.3042 115.441 64.1838 L115.441 60.0172 Q118.103 59.2764 120.418 58.906 Q122.755 58.5357 124.816 58.5357 Q130.14 58.5357 133.242 60.9662 Q136.343 63.3736 136.343 67.494 Q136.343 70.3643 134.7 72.3551 Q133.056 74.3226 130.024 75.0865 Z\" fill=\"#000000\" fill-rule=\"evenodd\" fill-opacity=\"1\" /><path clip-path=\"url(#clip170)\" d=\"M146.019 87.8411 L150.903 87.8411 L150.903 93.7207 L146.019 93.7207 L146.019 87.8411 Z\" fill=\"#000000\" fill-rule=\"evenodd\" fill-opacity=\"1\" /><path clip-path=\"url(#clip170)\" d=\"M171.089 62.2394 Q167.477 62.2394 165.649 65.8042 Q163.843 69.3458 163.843 76.4754 Q163.843 83.5818 165.649 87.1466 Q167.477 90.6883 171.089 90.6883 Q174.723 90.6883 176.528 87.1466 Q178.357 83.5818 178.357 76.4754 Q178.357 69.3458 176.528 65.8042 Q174.723 62.2394 171.089 62.2394 M171.089 58.5357 Q176.899 58.5357 179.954 63.1421 Q183.033 67.7254 183.033 76.4754 Q183.033 85.2022 179.954 89.8087 Q176.899 94.392 171.089 94.392 Q165.278 94.392 162.2 89.8087 Q159.144 85.2022 159.144 76.4754 Q159.144 67.7254 162.2 63.1421 Q165.278 58.5357 171.089 58.5357 Z\" fill=\"#000000\" fill-rule=\"evenodd\" fill-opacity=\"1\" /><path clip-path=\"url(#clip170)\" d=\"M219.422 68.2578 L208.843 78.8828 L219.422 89.4614 L216.667 92.2624 L206.042 81.6374 L195.417 92.2624 L192.686 89.4614 L203.241 78.8828 L192.686 68.2578 L195.417 65.4569 L206.042 76.0819 L216.667 65.4569 L219.422 68.2578 Z\" fill=\"#000000\" fill-rule=\"evenodd\" fill-opacity=\"1\" /><path clip-path=\"url(#clip170)\" d=\"M231.783 89.7855 L239.422 89.7855 L239.422 63.4199 L231.111 65.0866 L231.111 60.8273 L239.375 59.1607 L244.051 59.1607 L244.051 89.7855 L251.69 89.7855 L251.69 93.7207 L231.783 93.7207 L231.783 89.7855 Z\" fill=\"#000000\" fill-rule=\"evenodd\" fill-opacity=\"1\" /><path clip-path=\"url(#clip170)\" d=\"M271.134 62.2394 Q267.523 62.2394 265.695 65.8042 Q263.889 69.3458 263.889 76.4754 Q263.889 83.5818 265.695 87.1466 Q267.523 90.6883 271.134 90.6883 Q274.769 90.6883 276.574 87.1466 Q278.403 83.5818 278.403 76.4754 Q278.403 69.3458 276.574 65.8042 Q274.769 62.2394 271.134 62.2394 M271.134 58.5357 Q276.944 58.5357 280 63.1421 Q283.079 67.7254 283.079 76.4754 Q283.079 85.2022 280 89.8087 Q276.944 94.392 271.134 94.392 Q265.324 94.392 262.245 89.8087 Q259.19 85.2022 259.19 76.4754 Q259.19 67.7254 262.245 63.1421 Q265.324 58.5357 271.134 58.5357 Z\" fill=\"#000000\" fill-rule=\"evenodd\" fill-opacity=\"1\" /><path clip-path=\"url(#clip170)\" d=\"M284.264 38.2303 L299.178 38.2303 L299.178 41.4276 L287.743 41.4276 L287.743 48.3112 Q288.571 48.0291 289.398 47.8975 Q290.226 47.747 291.053 47.747 Q295.755 47.747 298.501 50.3237 Q301.247 52.9003 301.247 57.3014 Q301.247 61.834 298.426 64.3543 Q295.605 66.8557 290.47 66.8557 Q288.702 66.8557 286.859 66.5548 Q285.035 66.2539 283.079 65.652 L283.079 61.834 Q284.771 62.7556 286.577 63.207 Q288.382 63.6584 290.395 63.6584 Q293.649 63.6584 295.548 61.9469 Q297.448 60.2354 297.448 57.3014 Q297.448 54.3673 295.548 52.6558 Q293.649 50.9443 290.395 50.9443 Q288.871 50.9443 287.348 51.2829 Q285.843 51.6214 284.264 52.3361 L284.264 38.2303 Z\" fill=\"#000000\" fill-rule=\"evenodd\" fill-opacity=\"1\" /><path clip-path=\"url(#clip170)\" d=\"M14.479 782.286 L14.479 776.398 L43.7294 776.398 L28.3562 758.924 L28.3562 751.445 L45.0344 770.351 L64.0042 750.649 L64.0042 758.288 L46.5939 776.398 L64.0042 776.398 L64.0042 782.286 L14.479 782.286 Z\" fill=\"#000000\" fill-rule=\"evenodd\" fill-opacity=\"1\" /><path clip-path=\"url(#clip170)\" d=\"M16.4842 748.293 L16.4842 741.8 L56.6518 731.806 L16.4842 721.844 L16.4842 714.619 L56.6518 704.625 L16.4842 694.662 L16.4842 688.138 L64.0042 700.073 L64.0042 708.158 L22.7544 718.184 L64.0042 728.305 L64.0042 736.39 L16.4842 748.293 Z\" fill=\"#000000\" fill-rule=\"evenodd\" fill-opacity=\"1\" /><polyline clip-path=\"url(#clip172)\" style=\"stroke:#009af9; stroke-linecap:butt; stroke-linejoin:round; stroke-width:4; stroke-opacity:1; fill:none\" points=\"\n",
       "  394.29,1384.24 476.96,1384.24 559.631,1384.24 642.301,1384.24 724.972,1384.24 807.643,1384.24 890.313,1384.24 972.984,1384.24 1055.65,86.1857 1138.32,1384.24 \n",
       "  1221,1384.24 1303.67,1384.24 1386.34,1384.24 1469.01,1384.24 1551.68,1384.24 1634.35,1384.24 1717.02,1384.24 1799.69,1384.24 1882.36,1384.24 1965.03,1384.24 \n",
       "  2047.7,1384.24 2130.37,1384.24 2213.04,1384.24 2295.71,1384.24 \n",
       "  \"/>\n",
       "<path clip-path=\"url(#clip170)\" d=\"\n",
       "M2009.2 214.069 L2285.57 214.069 L2285.57 93.1086 L2009.2 93.1086  Z\n",
       "  \" fill=\"#ffffff\" fill-rule=\"evenodd\" fill-opacity=\"1\"/>\n",
       "<polyline clip-path=\"url(#clip170)\" style=\"stroke:#000000; stroke-linecap:butt; stroke-linejoin:round; stroke-width:4; stroke-opacity:1; fill:none\" points=\"\n",
       "  2009.2,214.069 2285.57,214.069 2285.57,93.1086 2009.2,93.1086 2009.2,214.069 \n",
       "  \"/>\n",
       "<polyline clip-path=\"url(#clip170)\" style=\"stroke:#009af9; stroke-linecap:butt; stroke-linejoin:round; stroke-width:4; stroke-opacity:1; fill:none\" points=\"\n",
       "  2031.59,153.589 2165.96,153.589 \n",
       "  \"/>\n",
       "<path clip-path=\"url(#clip170)\" d=\"M2202.2 173.276 Q2200.39 177.906 2198.68 179.318 Q2196.96 180.73 2194.09 180.73 L2190.69 180.73 L2190.69 177.165 L2193.19 177.165 Q2194.95 177.165 2195.92 176.332 Q2196.89 175.498 2198.08 172.396 L2198.84 170.452 L2188.35 144.943 L2192.87 144.943 L2200.97 165.221 L2209.07 144.943 L2213.58 144.943 L2202.2 173.276 Z\" fill=\"#000000\" fill-rule=\"evenodd\" fill-opacity=\"1\" /><path clip-path=\"url(#clip170)\" d=\"M2220.88 166.933 L2228.51 166.933 L2228.51 140.568 L2220.2 142.235 L2220.2 137.975 L2228.47 136.309 L2233.14 136.309 L2233.14 166.933 L2240.78 166.933 L2240.78 170.869 L2220.88 170.869 L2220.88 166.933 Z\" fill=\"#000000\" fill-rule=\"evenodd\" fill-opacity=\"1\" /></svg>\n"
      ]
     },
     "execution_count": 712,
     "metadata": {},
     "output_type": "execute_result"
    }
   ],
   "source": [
    "plot(x,Qsys_Opt)\n",
    "xlabel!(\"Hours\")\n",
    "ylabel!(\"kW\")\n",
    "#print(Qsys_Opt)"
   ]
  },
  {
   "cell_type": "code",
   "execution_count": null,
   "id": "2e9d5f27",
   "metadata": {},
   "outputs": [],
   "source": [
    "##checking that demand is met\n",
    "plot(x, ElecDemand, alpha =0.5)\n",
    "check = P_Grid_Optimized + P_Batt_Optimized + PV\n",
    "plot!(x,check, alpha=0.5)\n",
    "xlabel!(\"Hours\")\n",
    "ylabel!(\"kW\")"
   ]
  },
  {
   "cell_type": "code",
   "execution_count": null,
   "id": "9a877e82",
   "metadata": {},
   "outputs": [],
   "source": [
    "using DataFrames\n",
    "df = DataFrame( E_Batt = E_Batt_Optimized,\n",
    "                P_Batt = P_Batt_Optimized,\n",
    "                P_Grid = P_Grid_Optimized,\n",
    "                P_Buy = P_Buy_Optimized,\n",
    "                P_Sell = P_Sell_Optimized,\n",
    "                Demand = ElecDemand,\n",
    "                PV = PV,\n",
    "                Binary = JuMP.value.(mu)\n",
    "               )"
   ]
  },
  {
   "cell_type": "code",
   "execution_count": null,
   "id": "f204a791",
   "metadata": {},
   "outputs": [],
   "source": [
    "using CSV\n",
    "CSV.write(\"Desktop\\\\OTESoutputnew.csv\", df)"
   ]
  },
  {
   "cell_type": "code",
   "execution_count": null,
   "id": "ef0eeb99",
   "metadata": {},
   "outputs": [],
   "source": []
  }
 ],
 "metadata": {
  "kernelspec": {
   "display_name": "JuliaPro_v1.5.3-1 1.5.3",
   "language": "julia",
   "name": "juliapro_v1.5.3-1-1.5"
  },
  "language_info": {
   "file_extension": ".jl",
   "mimetype": "application/julia",
   "name": "julia",
   "version": "1.5.3"
  }
 },
 "nbformat": 4,
 "nbformat_minor": 5
}
