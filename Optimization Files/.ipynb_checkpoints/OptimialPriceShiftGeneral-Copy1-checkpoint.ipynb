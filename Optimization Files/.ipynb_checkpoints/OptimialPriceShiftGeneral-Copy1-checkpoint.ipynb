{
 "cells": [
  {
   "cell_type": "markdown",
   "id": "e1fde6ad",
   "metadata": {},
   "source": [
    "Engie Project\n",
    "\n",
    "Last Update: June 15, 2021\n",
    "\n",
    "Notes: two cases -- one with EP ratio enforced, one without that constraint\n",
    "\n",
    "Run Time:"
   ]
  },
  {
   "cell_type": "code",
   "execution_count": 110,
   "id": "d1e8f46f",
   "metadata": {},
   "outputs": [
    {
     "ename": "InterruptException",
     "evalue": "\u001b[91mInterruptException:\u001b[39m",
     "output_type": "error",
     "traceback": [
      "\u001b[91mInterruptException:\u001b[39m",
      "",
      "Stacktrace:",
      " [1] try_yieldto(::typeof(Base.ensure_rescheduled)) at .\\task.jl:656",
      " [2] wait at .\\task.jl:713 [inlined]",
      " [3] yield() at .\\task.jl:609",
      " [4] oslibuv_flush at C:\\Users\\chmat\\.julia\\packages\\IJulia\\e8kqU\\src\\stdio.jl:269 [inlined]",
      " [5] flush(::IJulia.IJuliaStdio{Base.PipeEndpoint}) at C:\\Users\\chmat\\.julia\\packages\\IJulia\\e8kqU\\src\\stdio.jl:276",
      " [6] flush_all() at C:\\Users\\chmat\\.julia\\packages\\IJulia\\e8kqU\\src\\stdio.jl:259",
      " [7] execute_request(::ZMQ.Socket, ::IJulia.Msg) at C:\\Users\\chmat\\.julia\\packages\\IJulia\\e8kqU\\src\\execute_request.jl:105",
      " [8] #invokelatest#1 at .\\essentials.jl:710 [inlined]",
      " [9] invokelatest at .\\essentials.jl:709 [inlined]",
      " [10] eventloop(::ZMQ.Socket) at C:\\Users\\chmat\\.julia\\packages\\IJulia\\e8kqU\\src\\eventloop.jl:8",
      " [11] (::IJulia.var\"#15#18\")() at .\\task.jl:356"
     ]
    }
   ],
   "source": [
    "### Initialize\n",
    "import DataFrames, CSV, Plots, JuMP, Gurobi"
   ]
  },
  {
   "cell_type": "code",
   "execution_count": 567,
   "id": "55200987",
   "metadata": {},
   "outputs": [
    {
     "name": "stdout",
     "output_type": "stream",
     "text": [
      "Academic license - for non-commercial use only - expires 2022-04-09\r\n"
     ]
    },
    {
     "data": {
      "text/plain": [
       "A JuMP Model\n",
       "Feasibility problem with:\n",
       "Variables: 0\n",
       "Model mode: AUTOMATIC\n",
       "CachingOptimizer state: EMPTY_OPTIMIZER\n",
       "Solver name: Gurobi"
      ]
     },
     "execution_count": 567,
     "metadata": {},
     "output_type": "execute_result"
    }
   ],
   "source": [
    "using JuMP, Gurobi\n",
    "Hours = 24\n",
    "Cp = 1.01\n",
    "rho = 1.225\n",
    "Vol = 482.3\n",
    "SA = 220\n",
    "MassAir = Vol*rho\n",
    "U = 0.3 ## W/m2K\n",
    "UA = SA*U  #W/K\n",
    "\n",
    "\n",
    "model = Model(Gurobi.Optimizer)"
   ]
  },
  {
   "cell_type": "code",
   "execution_count": 568,
   "id": "130bac63",
   "metadata": {},
   "outputs": [
    {
     "data": {
      "text/plain": [
       "24-element Array{Float64,1}:\n",
       "  266624.0\n",
       "  266624.0\n",
       "  266624.0\n",
       "  266624.0\n",
       "  266624.0\n",
       "  266624.0\n",
       "  266624.0\n",
       "  118556.0\n",
       " -482444.8\n",
       " -693616.3\n",
       " -693616.3\n",
       " -693616.3\n",
       " -693616.3\n",
       " -693616.3\n",
       " -693616.3\n",
       " -693616.3\n",
       " -626371.3\n",
       " -299430.30000000005\n",
       "  136073.0\n",
       "  136073.0\n",
       "  136073.0\n",
       "  266624.0\n",
       "  266624.0\n",
       "  266624.0"
      ]
     },
     "execution_count": 568,
     "metadata": {},
     "output_type": "execute_result"
    }
   ],
   "source": [
    "# Cost = [0.0444,0.0444,0.0444,0.0444,0.0444,0.0444,0.0444,0.0444,0.0444,0.05413,0.05413,0.05413,0.05413,0.05413,0.05413,\n",
    "#     0.0888, 0.0888, 0.0888, 0.0888, 0.0888,0.05413,0.05413,0.05413,0.05413]\n",
    "PeopleE = [1.266624e+06,1.266624e+06,1.266624e+06,1.266624e+06,1.266624e+06,1.266624e+06,1.266624e+06,\n",
    "    1.118556e+06,5.175552e+05,3.063837e+05,3.063837e+05,3.063837e+05,3.063837e+05,3.063837e+05,3.063837e+05,\n",
    "     3.063837e+05,3.736287e+05,7.005697e+05, 1.136073e+06,1.136073e+06,1.136073e+06,1.266624e+06,1.266624e+06,1.266624e+06] ##J\n",
    "# ## Losses\n",
    "Qloss = [1000,1000, 1000, 1000, 1000, 1000, 1000, 1000,\n",
    "    1000, 1000, 1000, 1000, 1000, 1000, 1000, 1000, 1000, 1000, 1000, 1000, 1000, 1000, 1000, 1000] *1000##kJ\n",
    "\n",
    "# TOutdoor = [1.75,0.6667,-2.16,-2.41,-3.75,-3.83,-3.53,-4,-0.5,6,6,4,4,5.1,5.8,5.3,3.83,0.66,-1,-1,-1,-1,-.416]\n",
    "\n",
    " NetHeat = PeopleE-Qloss ## joules\n",
    "\n",
    "# T1 = 21\n",
    "# T2 = NetHeat[1]/1000 / (MassAir *Cp) +T1\n",
    "# T3 = NetHeat[2]/1000 / (MassAir *Cp) +T2"
   ]
  },
  {
   "cell_type": "code",
   "execution_count": 569,
   "id": "8032dbd8",
   "metadata": {},
   "outputs": [
    {
     "data": {
      "text/plain": [
       "24-element Array{VariableRef,1}:\n",
       " TZone[1]\n",
       " TZone[2]\n",
       " TZone[3]\n",
       " TZone[4]\n",
       " TZone[5]\n",
       " TZone[6]\n",
       " TZone[7]\n",
       " TZone[8]\n",
       " TZone[9]\n",
       " TZone[10]\n",
       " TZone[11]\n",
       " TZone[12]\n",
       " TZone[13]\n",
       " TZone[14]\n",
       " TZone[15]\n",
       " TZone[16]\n",
       " TZone[17]\n",
       " TZone[18]\n",
       " TZone[19]\n",
       " TZone[20]\n",
       " TZone[21]\n",
       " TZone[22]\n",
       " TZone[23]\n",
       " TZone[24]"
      ]
     },
     "execution_count": 569,
     "metadata": {},
     "output_type": "execute_result"
    }
   ],
   "source": [
    "## Define the Variables\n",
    "@variable(model,TSetpoint[1:Hours],container=Array)\n",
    "@variable(model, HeatingOn[1:Hours], binary=true)\n",
    "@variable(model,Qsys[1:Hours],container = Array)\n",
    "@variable(model,TZone[1:Hours],container=Array)"
   ]
  },
  {
   "cell_type": "code",
   "execution_count": 570,
   "id": "abd79696",
   "metadata": {},
   "outputs": [],
   "source": [
    "#@constraint(model, [i=1:Hours], TSetpoint[i] <= 40)"
   ]
  },
  {
   "cell_type": "code",
   "execution_count": 571,
   "id": "a746c3a8",
   "metadata": {},
   "outputs": [
    {
     "data": {
      "text/plain": [
       "24-element Array{ConstraintRef{Model,MathOptInterface.ConstraintIndex{MathOptInterface.ScalarAffineFunction{Float64},MathOptInterface.GreaterThan{Float64}},ScalarShape},1}:\n",
       " Qsys[1] >= 0.0\n",
       " Qsys[2] >= 0.0\n",
       " Qsys[3] >= 0.0\n",
       " Qsys[4] >= 0.0\n",
       " Qsys[5] >= 0.0\n",
       " Qsys[6] >= 0.0\n",
       " Qsys[7] >= 0.0\n",
       " Qsys[8] >= 0.0\n",
       " Qsys[9] >= 0.0\n",
       " Qsys[10] >= 0.0\n",
       " Qsys[11] >= 0.0\n",
       " Qsys[12] >= 0.0\n",
       " Qsys[13] >= 0.0\n",
       " Qsys[14] >= 0.0\n",
       " Qsys[15] >= 0.0\n",
       " Qsys[16] >= 0.0\n",
       " Qsys[17] >= 0.0\n",
       " Qsys[18] >= 0.0\n",
       " Qsys[19] >= 0.0\n",
       " Qsys[20] >= 0.0\n",
       " Qsys[21] >= 0.0\n",
       " Qsys[22] >= 0.0\n",
       " Qsys[23] >= 0.0\n",
       " Qsys[24] >= 0.0"
      ]
     },
     "execution_count": 571,
     "metadata": {},
     "output_type": "execute_result"
    }
   ],
   "source": [
    "##Calculate Heating Needed\n",
    "@constraint(model, [i=2:Hours], Qsys[i] == HeatingOn[i]*(TSetpoint[i]-TZone[i-1])/(MassAir*Cp)/1000)\n",
    "@constraint(model, [i=1:Hours], Qsys[i] >= 0)"
   ]
  },
  {
   "cell_type": "code",
   "execution_count": 572,
   "id": "0a815257",
   "metadata": {},
   "outputs": [
    {
     "data": {
      "text/plain": [
       "1-dimensional DenseAxisArray{ConstraintRef{Model,MathOptInterface.ConstraintIndex{MathOptInterface.ScalarAffineFunction{Float64},MathOptInterface.EqualTo{Float64}},ScalarShape},1,...} with index sets:\n",
       "    Dimension 1, 2:24\n",
       "And data, a 23-element Array{ConstraintRef{Model,MathOptInterface.ConstraintIndex{MathOptInterface.ScalarAffineFunction{Float64},MathOptInterface.EqualTo{Float64}},ScalarShape},1}:\n",
       " -1.6758119214494997e-6 Qsys[2] - TZone[1] + TZone[2] == 0.44681167774455144\n",
       " -1.6758119214494997e-6 Qsys[3] - TZone[2] + TZone[3] == 0.44681167774455144\n",
       " -1.6758119214494997e-6 Qsys[4] - TZone[3] + TZone[4] == 0.44681167774455144\n",
       " -1.6758119214494997e-6 Qsys[5] - TZone[4] + TZone[5] == 0.44681167774455144\n",
       " -1.6758119214494997e-6 Qsys[6] - TZone[5] + TZone[6] == 0.44681167774455144\n",
       " -1.6758119214494997e-6 Qsys[7] - TZone[6] + TZone[7] == 0.44681167774455144\n",
       " -1.6758119214494997e-6 Qsys[8] - TZone[7] + TZone[8] == 0.1986775581593669\n",
       " -1.6758119214494997e-6 Qsys[9] - TZone[8] + TZone[9] == -0.8084867472813196\n",
       " -1.6758119214494997e-6 Qsys[10] - TZone[9] + TZone[10] == -1.1623704644516928\n",
       " -1.6758119214494997e-6 Qsys[11] - TZone[10] + TZone[11] == -1.1623704644516928\n",
       " -1.6758119214494997e-6 Qsys[12] - TZone[11] + TZone[12] == -1.1623704644516928\n",
       " -1.6758119214494997e-6 Qsys[13] - TZone[12] + TZone[13] == -1.1623704644516928\n",
       " -1.6758119214494997e-6 Qsys[14] - TZone[13] + TZone[14] == -1.1623704644516928\n",
       " -1.6758119214494997e-6 Qsys[15] - TZone[14] + TZone[15] == -1.1623704644516928\n",
       " -1.6758119214494997e-6 Qsys[16] - TZone[15] + TZone[16] == -1.1623704644516928\n",
       " -1.6758119214494997e-6 Qsys[17] - TZone[16] + TZone[17] == -1.0496804917938212\n",
       " -1.6758119214494997e-6 Qsys[18] - TZone[17] + TZone[18] == -0.5017888663832002\n",
       " -1.6758119214494997e-6 Qsys[19] - TZone[18] + TZone[19] == 0.2280327555873978\n",
       " -1.6758119214494997e-6 Qsys[20] - TZone[19] + TZone[20] == 0.2280327555873978\n",
       " -1.6758119214494997e-6 Qsys[21] - TZone[20] + TZone[21] == 0.2280327555873978\n",
       " -1.6758119214494997e-6 Qsys[22] - TZone[21] + TZone[22] == 0.44681167774455144\n",
       " -1.6758119214494997e-6 Qsys[23] - TZone[22] + TZone[23] == 0.44681167774455144\n",
       " -1.6758119214494997e-6 Qsys[24] - TZone[23] + TZone[24] == 0.44681167774455144"
      ]
     },
     "execution_count": 572,
     "metadata": {},
     "output_type": "execute_result"
    }
   ],
   "source": [
    "##Calculate Indoor T\n",
    "@constraint(model,[i=2:Hours],TZone[i]== TZone[i-1]+(Qsys[i]+NetHeat[i])/1000/(MassAir *Cp))"
   ]
  },
  {
   "cell_type": "code",
   "execution_count": 573,
   "id": "618683f1",
   "metadata": {},
   "outputs": [
    {
     "name": "stdout",
     "output_type": "stream",
     "text": [
      "VariableRef[TSetpoint[1], TSetpoint[2], TSetpoint[3], TSetpoint[4], TSetpoint[5], TSetpoint[6], TSetpoint[7], TSetpoint[8], TSetpoint[9], TSetpoint[10], TSetpoint[11], TSetpoint[12], TSetpoint[13], TSetpoint[14], TSetpoint[15], TSetpoint[16], TSetpoint[17], TSetpoint[18], TSetpoint[19], TSetpoint[20], TSetpoint[21], TSetpoint[22], TSetpoint[23], TSetpoint[24]]"
     ]
    }
   ],
   "source": [
    "@constraint(model, [i=1:Hours], TZone[i] <= 24)\n",
    "@constraint(model, [i=1:Hours], TZone[i] >= 18)\n",
    "#@constraint(model,[i=1:Hours], TSetpoint[i] <=30)\n",
    "\n",
    "#@constraint(model,[i=2:Hours],TSetpoint[i]== TSetpoint[i-1]+NetHeat/1000/ (MassAir *Cp))\n",
    "print(TSetpoint)"
   ]
  },
  {
   "cell_type": "code",
   "execution_count": 574,
   "id": "29a41614",
   "metadata": {},
   "outputs": [],
   "source": [
    "# ## Net Heat\n",
    "\n",
    "# @constraint(model, [i=2:Hours], Qsys[i] == (TSetpoint[i]-TZone[i-1])*(MassAir*Cp))\n",
    "# NetHeat = Qsys + PeopleE-Qloss"
   ]
  },
  {
   "cell_type": "code",
   "execution_count": 575,
   "id": "ad7482a3",
   "metadata": {},
   "outputs": [
    {
     "data": {
      "text/latex": [
       "$$ TZone_{1} = 21.0 $$"
      ],
      "text/plain": [
       "TZone[1] == 21.0"
      ]
     },
     "execution_count": 575,
     "metadata": {},
     "output_type": "execute_result"
    }
   ],
   "source": [
    "# ##Zone Temp\n",
    "@constraint(model,TZone[1]==21)\n",
    "\n",
    "# @constraint(model,[i=1:Hours],TZone[i] <= 29)\n",
    "# @constraint(model,[i=1:Hours],TZone[i] >= 0)\n",
    "# @constraint(model,[i=2:Hours],TZone[i] >= TZone[i-1]+0.5)\n",
    "# #@constraint(model, [i=2:Hours], TZone[i]== TZone[i-1] + NetHeat[i]/1000/(MassAir*Cp))\n",
    "# print(TZone)\n",
    "# #T2 = NetHeat[1]/1000 / (MassAir *Cp) +T1"
   ]
  },
  {
   "cell_type": "code",
   "execution_count": 576,
   "id": "c03317d2",
   "metadata": {},
   "outputs": [
    {
     "name": "stdout",
     "output_type": "stream",
     "text": [
      "1.2333333333333334e-5 Qsys[1] + 1.2333333333333334e-5 Qsys[2] + 1.2333333333333334e-5 Qsys[3] + 1.2333333333333334e-5 Qsys[4] + 1.2333333333333334e-5 Qsys[5] + 1.2333333333333334e-5 Qsys[6] + 1.2333333333333334e-5 Qsys[7] + 1.2333333333333334e-5 Qsys[8] + 1.2333333333333334e-5 Qsys[9] + 1.503611111111111e-5 Qsys[10] + 1.503611111111111e-5 Qsys[11] + 1.503611111111111e-5 Qsys[12] + 1.503611111111111e-5 Qsys[13] + 1.503611111111111e-5 Qsys[14] + 1.503611111111111e-5 Qsys[15] + 2.466666666666667e-5 Qsys[16] + 2.466666666666667e-5 Qsys[17] + 2.466666666666667e-5 Qsys[18] + 2.466666666666667e-5 Qsys[19] + 2.466666666666667e-5 Qsys[20] + 1.503611111111111e-5 Qsys[21] + 1.503611111111111e-5 Qsys[22] + 1.503611111111111e-5 Qsys[23] + 1.503611111111111e-5 Qsys[24]"
     ]
    }
   ],
   "source": [
    "TotalCost= sum(Cost.*Qsys/3600)  ##convert to kwh\n",
    "print(TotalCost)"
   ]
  },
  {
   "cell_type": "code",
   "execution_count": 577,
   "id": "01e82324",
   "metadata": {},
   "outputs": [
    {
     "data": {
      "text/latex": [
       "$$ 1.2333333333333334e-5 Qsys_{1} + 1.2333333333333334e-5 Qsys_{2} + 1.2333333333333334e-5 Qsys_{3} + 1.2333333333333334e-5 Qsys_{4} + 1.2333333333333334e-5 Qsys_{5} + 1.2333333333333334e-5 Qsys_{6} + 1.2333333333333334e-5 Qsys_{7} + 1.2333333333333334e-5 Qsys_{8} + 1.2333333333333334e-5 Qsys_{9} + 1.503611111111111e-5 Qsys_{10} + 1.503611111111111e-5 Qsys_{11} + 1.503611111111111e-5 Qsys_{12} + 1.503611111111111e-5 Qsys_{13} + 1.503611111111111e-5 Qsys_{14} + 1.503611111111111e-5 Qsys_{15} + 2.466666666666667e-5 Qsys_{16} + 2.466666666666667e-5 Qsys_{17} + 2.466666666666667e-5 Qsys_{18} + 2.466666666666667e-5 Qsys_{19} + 2.466666666666667e-5 Qsys_{20} + 1.503611111111111e-5 Qsys_{21} + 1.503611111111111e-5 Qsys_{22} + 1.503611111111111e-5 Qsys_{23} + 1.503611111111111e-5 Qsys_{24} $$"
      ],
      "text/plain": [
       "1.2333333333333334e-5 Qsys[1] + 1.2333333333333334e-5 Qsys[2] + 1.2333333333333334e-5 Qsys[3] + 1.2333333333333334e-5 Qsys[4] + 1.2333333333333334e-5 Qsys[5] + 1.2333333333333334e-5 Qsys[6] + 1.2333333333333334e-5 Qsys[7] + 1.2333333333333334e-5 Qsys[8] + 1.2333333333333334e-5 Qsys[9] + 1.503611111111111e-5 Qsys[10] + 1.503611111111111e-5 Qsys[11] + 1.503611111111111e-5 Qsys[12] + 1.503611111111111e-5 Qsys[13] + 1.503611111111111e-5 Qsys[14] + 1.503611111111111e-5 Qsys[15] + 2.466666666666667e-5 Qsys[16] + 2.466666666666667e-5 Qsys[17] + 2.466666666666667e-5 Qsys[18] + 2.466666666666667e-5 Qsys[19] + 2.466666666666667e-5 Qsys[20] + 1.503611111111111e-5 Qsys[21] + 1.503611111111111e-5 Qsys[22] + 1.503611111111111e-5 Qsys[23] + 1.503611111111111e-5 Qsys[24]"
      ]
     },
     "execution_count": 577,
     "metadata": {},
     "output_type": "execute_result"
    }
   ],
   "source": [
    "@objective(model, Min, TotalCost)"
   ]
  },
  {
   "cell_type": "code",
   "execution_count": 578,
   "id": "0c842c11",
   "metadata": {},
   "outputs": [
    {
     "name": "stdout",
     "output_type": "stream",
     "text": [
      "Gurobi Optimizer version 9.1.1 build v9.1.1rc0 (win64)\r\n",
      "Thread count: 2 physical cores, 4 logical processors, using up to 4 threads\r\n",
      "Optimize a model with 96 rows, 96 columns and 142 nonzeros\r\n",
      "Model fingerprint: 0x3ab12cb0\r\n",
      "Model has 23 quadratic constraints\r\n",
      "Variable types: 72 continuous, 24 integer (24 binary)\r\n",
      "Coefficient statistics:\r\n",
      "  Matrix range     [2e-06, 1e+00]\r\n",
      "  QMatrix range    [2e-06, 2e-06]\r\n",
      "  QLMatrix range   [1e+00, 1e+00]\r\n",
      "  Objective range  [1e-05, 2e-05]\r\n",
      "  Bounds range     [0e+00, 0e+00]\r\n",
      "  RHS range        [2e-01, 2e+01]\r\n",
      "Presolve removed 73 rows and 5 columns\r\n",
      "Presolve time: 0.00s\r\n",
      "Presolved: 158 rows, 182 columns, 427 nonzeros\r\n",
      "Presolved model has 46 SOS constraint(s)\r\n",
      "Variable types: 136 continuous, 46 integer (46 binary)\r\n",
      "Found heuristic solution: objective 39.9275325\r\n",
      "\r\n",
      "Root relaxation: cutoff, 18 iterations, 0.00 seconds\r\n",
      "\r\n",
      "    Nodes    |    Current Node    |     Objective Bounds      |     Work\r\n",
      " Expl Unexpl |  Obj  Depth IntInf | Incumbent    BestBd   Gap | It/Node Time\r\n",
      "\r\n",
      "     0     0     cutoff    0        39.92753   39.92753  0.00%     -    0s\r\n",
      "\r\n",
      "Explored 1 nodes (18 simplex iterations) in 0.01 seconds\r\n",
      "Thread count was 4 (of 4 available processors)\r\n",
      "\r\n",
      "Solution count 1: 39.9275 \r\n",
      "\r\n",
      "Optimal solution found (tolerance 1.00e-04)\r\n",
      "Best objective 3.992753254014e+01, best bound 3.992753254014e+01, gap 0.0000%\r\n",
      "\r\n",
      "User-callback calls 57, time in user-callback 0.00 sec\r\n"
     ]
    }
   ],
   "source": [
    "optimize!(model)"
   ]
  },
  {
   "cell_type": "code",
   "execution_count": 579,
   "id": "426c826a",
   "metadata": {},
   "outputs": [
    {
     "name": "stdout",
     "output_type": "stream",
     "text": [
      "Optimal Solutions:\n",
      "Total Cost = 39.9275325401389 dollar\n"
     ]
    }
   ],
   "source": [
    "println(\"Optimal Solutions:\")\n",
    "println(\"Total Cost = \", value(TotalCost), \" dollar\")"
   ]
  },
  {
   "cell_type": "code",
   "execution_count": 580,
   "id": "48dae5ec",
   "metadata": {},
   "outputs": [
    {
     "name": "stdout",
     "output_type": "stream",
     "text": [
      "[0.0, 20.995479106903076, 21.44681167774455, 21.893623355489098, 22.340435033233646, 22.787246710978195, 23.234058388722747, 23.680870066467293, 3.3077806521423914e11, 24.0, 22.837629535548302, 21.67525907109661, 1.3132509811308794e12, 23.038580751532105, 21.876210287080408, 20.713839822628714, 19.55146935817702, 18.5017888663832, 18.0, 18.228032755587396, 18.456065511174792, 18.684098266762188, 19.130909944506737, 19.577721622251286]"
     ]
    }
   ],
   "source": [
    "TSetpoint_Opt= JuMP.value.(TSetpoint)\n",
    "Qsys_Opt = JuMP.value.(Qsys)\n",
    "OnOff_Opt= JuMP.value.(HeatingOn)\n",
    "# print(TSetpoint_Optimized)\n",
    "TZone_Opt = JuMP.value.(TZone)\n",
    "# print(OnOff)\n",
    "print(TSetpoint_Opt)"
   ]
  },
  {
   "cell_type": "code",
   "execution_count": 581,
   "id": "3373ec84",
   "metadata": {},
   "outputs": [
    {
     "data": {
      "image/svg+xml": [
       "<?xml version=\"1.0\" encoding=\"utf-8\"?>\n",
       "<svg xmlns=\"http://www.w3.org/2000/svg\" xmlns:xlink=\"http://www.w3.org/1999/xlink\" width=\"600\" height=\"400\" viewBox=\"0 0 2400 1600\">\n",
       "<defs>\n",
       "  <clipPath id=\"clip450\">\n",
       "    <rect x=\"0\" y=\"0\" width=\"2400\" height=\"1600\"/>\n",
       "  </clipPath>\n",
       "</defs>\n",
       "<path clip-path=\"url(#clip450)\" d=\"\n",
       "M0 1600 L2400 1600 L2400 0 L0 0  Z\n",
       "  \" fill=\"#ffffff\" fill-rule=\"evenodd\" fill-opacity=\"1\"/>\n",
       "<defs>\n",
       "  <clipPath id=\"clip451\">\n",
       "    <rect x=\"480\" y=\"0\" width=\"1681\" height=\"1600\"/>\n",
       "  </clipPath>\n",
       "</defs>\n",
       "<path clip-path=\"url(#clip450)\" d=\"\n",
       "M204.45 1423.18 L2352.76 1423.18 L2352.76 123.472 L204.45 123.472  Z\n",
       "  \" fill=\"#ffffff\" fill-rule=\"evenodd\" fill-opacity=\"1\"/>\n",
       "<defs>\n",
       "  <clipPath id=\"clip452\">\n",
       "    <rect x=\"204\" y=\"123\" width=\"2149\" height=\"1301\"/>\n",
       "  </clipPath>\n",
       "</defs>\n",
       "<polyline clip-path=\"url(#clip452)\" style=\"stroke:#000000; stroke-linecap:butt; stroke-linejoin:round; stroke-width:2; stroke-opacity:0.1; fill:none\" points=\"\n",
       "  617.721,1423.18 617.721,123.472 \n",
       "  \"/>\n",
       "<polyline clip-path=\"url(#clip452)\" style=\"stroke:#000000; stroke-linecap:butt; stroke-linejoin:round; stroke-width:2; stroke-opacity:0.1; fill:none\" points=\"\n",
       "  1058.31,1423.18 1058.31,123.472 \n",
       "  \"/>\n",
       "<polyline clip-path=\"url(#clip452)\" style=\"stroke:#000000; stroke-linecap:butt; stroke-linejoin:round; stroke-width:2; stroke-opacity:0.1; fill:none\" points=\"\n",
       "  1498.9,1423.18 1498.9,123.472 \n",
       "  \"/>\n",
       "<polyline clip-path=\"url(#clip452)\" style=\"stroke:#000000; stroke-linecap:butt; stroke-linejoin:round; stroke-width:2; stroke-opacity:0.1; fill:none\" points=\"\n",
       "  1939.48,1423.18 1939.48,123.472 \n",
       "  \"/>\n",
       "<polyline clip-path=\"url(#clip450)\" style=\"stroke:#000000; stroke-linecap:butt; stroke-linejoin:round; stroke-width:4; stroke-opacity:1; fill:none\" points=\"\n",
       "  204.45,1423.18 2352.76,1423.18 \n",
       "  \"/>\n",
       "<polyline clip-path=\"url(#clip450)\" style=\"stroke:#000000; stroke-linecap:butt; stroke-linejoin:round; stroke-width:4; stroke-opacity:1; fill:none\" points=\"\n",
       "  617.721,1423.18 617.721,1407.58 \n",
       "  \"/>\n",
       "<polyline clip-path=\"url(#clip450)\" style=\"stroke:#000000; stroke-linecap:butt; stroke-linejoin:round; stroke-width:4; stroke-opacity:1; fill:none\" points=\"\n",
       "  1058.31,1423.18 1058.31,1407.58 \n",
       "  \"/>\n",
       "<polyline clip-path=\"url(#clip450)\" style=\"stroke:#000000; stroke-linecap:butt; stroke-linejoin:round; stroke-width:4; stroke-opacity:1; fill:none\" points=\"\n",
       "  1498.9,1423.18 1498.9,1407.58 \n",
       "  \"/>\n",
       "<polyline clip-path=\"url(#clip450)\" style=\"stroke:#000000; stroke-linecap:butt; stroke-linejoin:round; stroke-width:4; stroke-opacity:1; fill:none\" points=\"\n",
       "  1939.48,1423.18 1939.48,1407.58 \n",
       "  \"/>\n",
       "<path clip-path=\"url(#clip450)\" d=\"M607.999 1449.29 L626.355 1449.29 L626.355 1453.23 L612.281 1453.23 L612.281 1461.7 Q613.3 1461.35 614.318 1461.19 Q615.337 1461 616.355 1461 Q622.142 1461 625.522 1464.18 Q628.902 1467.35 628.902 1472.76 Q628.902 1478.34 625.429 1481.44 Q621.957 1484.52 615.638 1484.52 Q613.462 1484.52 611.193 1484.15 Q608.948 1483.78 606.541 1483.04 L606.541 1478.34 Q608.624 1479.48 610.846 1480.03 Q613.068 1480.59 615.545 1480.59 Q619.55 1480.59 621.888 1478.48 Q624.226 1476.38 624.226 1472.76 Q624.226 1469.15 621.888 1467.05 Q619.55 1464.94 615.545 1464.94 Q613.67 1464.94 611.795 1465.36 Q609.943 1465.77 607.999 1466.65 L607.999 1449.29 Z\" fill=\"#000000\" fill-rule=\"evenodd\" fill-opacity=\"1\" /><path clip-path=\"url(#clip450)\" d=\"M1033 1479.92 L1040.64 1479.92 L1040.64 1453.55 L1032.33 1455.22 L1032.33 1450.96 L1040.59 1449.29 L1045.26 1449.29 L1045.26 1479.92 L1052.9 1479.92 L1052.9 1483.85 L1033 1483.85 L1033 1479.92 Z\" fill=\"#000000\" fill-rule=\"evenodd\" fill-opacity=\"1\" /><path clip-path=\"url(#clip450)\" d=\"M1072.35 1452.37 Q1068.74 1452.37 1066.91 1455.94 Q1065.1 1459.48 1065.1 1466.61 Q1065.1 1473.71 1066.91 1477.28 Q1068.74 1480.82 1072.35 1480.82 Q1075.98 1480.82 1077.79 1477.28 Q1079.62 1473.71 1079.62 1466.61 Q1079.62 1459.48 1077.79 1455.94 Q1075.98 1452.37 1072.35 1452.37 M1072.35 1448.67 Q1078.16 1448.67 1081.21 1453.27 Q1084.29 1457.86 1084.29 1466.61 Q1084.29 1475.33 1081.21 1479.94 Q1078.16 1484.52 1072.35 1484.52 Q1066.54 1484.52 1063.46 1479.94 Q1060.4 1475.33 1060.4 1466.61 Q1060.4 1457.86 1063.46 1453.27 Q1066.54 1448.67 1072.35 1448.67 Z\" fill=\"#000000\" fill-rule=\"evenodd\" fill-opacity=\"1\" /><path clip-path=\"url(#clip450)\" d=\"M1474.08 1479.92 L1481.72 1479.92 L1481.72 1453.55 L1473.41 1455.22 L1473.41 1450.96 L1481.67 1449.29 L1486.35 1449.29 L1486.35 1479.92 L1493.99 1479.92 L1493.99 1483.85 L1474.08 1483.85 L1474.08 1479.92 Z\" fill=\"#000000\" fill-rule=\"evenodd\" fill-opacity=\"1\" /><path clip-path=\"url(#clip450)\" d=\"M1503.48 1449.29 L1521.84 1449.29 L1521.84 1453.23 L1507.76 1453.23 L1507.76 1461.7 Q1508.78 1461.35 1509.8 1461.19 Q1510.82 1461 1511.84 1461 Q1517.62 1461 1521 1464.18 Q1524.38 1467.35 1524.38 1472.76 Q1524.38 1478.34 1520.91 1481.44 Q1517.44 1484.52 1511.12 1484.52 Q1508.94 1484.52 1506.67 1484.15 Q1504.43 1483.78 1502.02 1483.04 L1502.02 1478.34 Q1504.11 1479.48 1506.33 1480.03 Q1508.55 1480.59 1511.03 1480.59 Q1515.03 1480.59 1517.37 1478.48 Q1519.71 1476.38 1519.71 1472.76 Q1519.71 1469.15 1517.37 1467.05 Q1515.03 1464.94 1511.03 1464.94 Q1509.15 1464.94 1507.28 1465.36 Q1505.42 1465.77 1503.48 1466.65 L1503.48 1449.29 Z\" fill=\"#000000\" fill-rule=\"evenodd\" fill-opacity=\"1\" /><path clip-path=\"url(#clip450)\" d=\"M1918.26 1479.92 L1934.58 1479.92 L1934.58 1483.85 L1912.63 1483.85 L1912.63 1479.92 Q1915.29 1477.16 1919.88 1472.53 Q1924.48 1467.88 1925.67 1466.54 Q1927.91 1464.01 1928.79 1462.28 Q1929.69 1460.52 1929.69 1458.83 Q1929.69 1456.07 1927.75 1454.34 Q1925.83 1452.6 1922.73 1452.6 Q1920.53 1452.6 1918.07 1453.37 Q1915.64 1454.13 1912.86 1455.68 L1912.86 1450.96 Q1915.69 1449.82 1918.14 1449.25 Q1920.6 1448.67 1922.63 1448.67 Q1928 1448.67 1931.2 1451.35 Q1934.39 1454.04 1934.39 1458.53 Q1934.39 1460.66 1933.58 1462.58 Q1932.79 1464.48 1930.69 1467.07 Q1930.11 1467.74 1927.01 1470.96 Q1923.91 1474.15 1918.26 1479.92 Z\" fill=\"#000000\" fill-rule=\"evenodd\" fill-opacity=\"1\" /><path clip-path=\"url(#clip450)\" d=\"M1954.39 1452.37 Q1950.78 1452.37 1948.95 1455.94 Q1947.15 1459.48 1947.15 1466.61 Q1947.15 1473.71 1948.95 1477.28 Q1950.78 1480.82 1954.39 1480.82 Q1958.03 1480.82 1959.83 1477.28 Q1961.66 1473.71 1961.66 1466.61 Q1961.66 1459.48 1959.83 1455.94 Q1958.03 1452.37 1954.39 1452.37 M1954.39 1448.67 Q1960.2 1448.67 1963.26 1453.27 Q1966.34 1457.86 1966.34 1466.61 Q1966.34 1475.33 1963.26 1479.94 Q1960.2 1484.52 1954.39 1484.52 Q1948.58 1484.52 1945.5 1479.94 Q1942.45 1475.33 1942.45 1466.61 Q1942.45 1457.86 1945.5 1453.27 Q1948.58 1448.67 1954.39 1448.67 Z\" fill=\"#000000\" fill-rule=\"evenodd\" fill-opacity=\"1\" /><path clip-path=\"url(#clip450)\" d=\"M1187.91 1520.52 L1194.34 1520.52 L1194.34 1540 L1217.7 1540 L1217.7 1520.52 L1224.13 1520.52 L1224.13 1568.04 L1217.7 1568.04 L1217.7 1545.41 L1194.34 1545.41 L1194.34 1568.04 L1187.91 1568.04 L1187.91 1520.52 Z\" fill=\"#000000\" fill-rule=\"evenodd\" fill-opacity=\"1\" /><path clip-path=\"url(#clip450)\" d=\"M1250.48 1536.5 Q1245.77 1536.5 1243.03 1540.19 Q1240.3 1543.85 1240.3 1550.25 Q1240.3 1556.65 1243 1560.34 Q1245.74 1564 1250.48 1564 Q1255.16 1564 1257.9 1560.31 Q1260.64 1556.62 1260.64 1550.25 Q1260.64 1543.92 1257.9 1540.23 Q1255.16 1536.5 1250.48 1536.5 M1250.48 1531.54 Q1258.12 1531.54 1262.48 1536.5 Q1266.84 1541.47 1266.84 1550.25 Q1266.84 1559 1262.48 1564 Q1258.12 1568.97 1250.48 1568.97 Q1242.81 1568.97 1238.45 1564 Q1234.12 1559 1234.12 1550.25 Q1234.12 1541.47 1238.45 1536.5 Q1242.81 1531.54 1250.48 1531.54 Z\" fill=\"#000000\" fill-rule=\"evenodd\" fill-opacity=\"1\" /><path clip-path=\"url(#clip450)\" d=\"M1275.95 1553.98 L1275.95 1532.4 L1281.8 1532.4 L1281.8 1553.75 Q1281.8 1558.81 1283.77 1561.36 Q1285.75 1563.87 1289.7 1563.87 Q1294.44 1563.87 1297.17 1560.85 Q1299.94 1557.83 1299.94 1552.61 L1299.94 1532.4 L1305.8 1532.4 L1305.8 1568.04 L1299.94 1568.04 L1299.94 1562.57 Q1297.81 1565.82 1294.98 1567.41 Q1292.18 1568.97 1288.45 1568.97 Q1282.31 1568.97 1279.13 1565.15 Q1275.95 1561.33 1275.95 1553.98 M1290.68 1531.54 L1290.68 1531.54 Z\" fill=\"#000000\" fill-rule=\"evenodd\" fill-opacity=\"1\" /><path clip-path=\"url(#clip450)\" d=\"M1338.52 1537.87 Q1337.53 1537.3 1336.36 1537.04 Q1335.21 1536.76 1333.81 1536.76 Q1328.84 1536.76 1326.17 1540 Q1323.53 1543.22 1323.53 1549.27 L1323.53 1568.04 L1317.64 1568.04 L1317.64 1532.4 L1323.53 1532.4 L1323.53 1537.93 Q1325.37 1534.69 1328.33 1533.13 Q1331.29 1531.54 1335.53 1531.54 Q1336.13 1531.54 1336.86 1531.63 Q1337.6 1531.7 1338.49 1531.85 L1338.52 1537.87 Z\" fill=\"#000000\" fill-rule=\"evenodd\" fill-opacity=\"1\" /><path clip-path=\"url(#clip450)\" d=\"M1367.39 1533.45 L1367.39 1538.98 Q1364.91 1537.71 1362.23 1537.07 Q1359.56 1536.44 1356.69 1536.44 Q1352.33 1536.44 1350.14 1537.77 Q1347.97 1539.11 1347.97 1541.79 Q1347.97 1543.82 1349.53 1545 Q1351.09 1546.15 1355.8 1547.2 L1357.81 1547.64 Q1364.05 1548.98 1366.66 1551.43 Q1369.3 1553.85 1369.3 1558.21 Q1369.3 1563.17 1365.35 1566.07 Q1361.44 1568.97 1354.56 1568.97 Q1351.7 1568.97 1348.58 1568.39 Q1345.49 1567.85 1342.05 1566.74 L1342.05 1560.69 Q1345.3 1562.38 1348.45 1563.24 Q1351.6 1564.07 1354.69 1564.07 Q1358.83 1564.07 1361.05 1562.66 Q1363.28 1561.23 1363.28 1558.65 Q1363.28 1556.27 1361.66 1554.99 Q1360.07 1553.72 1354.63 1552.54 L1352.59 1552.07 Q1347.15 1550.92 1344.73 1548.56 Q1342.31 1546.18 1342.31 1542.04 Q1342.31 1537.01 1345.87 1534.27 Q1349.44 1531.54 1355.99 1531.54 Q1359.24 1531.54 1362.1 1532.01 Q1364.97 1532.49 1367.39 1533.45 Z\" fill=\"#000000\" fill-rule=\"evenodd\" fill-opacity=\"1\" /><polyline clip-path=\"url(#clip452)\" style=\"stroke:#000000; stroke-linecap:butt; stroke-linejoin:round; stroke-width:2; stroke-opacity:0.1; fill:none\" points=\"\n",
       "  204.45,1386.4 2352.76,1386.4 \n",
       "  \"/>\n",
       "<polyline clip-path=\"url(#clip452)\" style=\"stroke:#000000; stroke-linecap:butt; stroke-linejoin:round; stroke-width:2; stroke-opacity:0.1; fill:none\" points=\"\n",
       "  204.45,1182.04 2352.76,1182.04 \n",
       "  \"/>\n",
       "<polyline clip-path=\"url(#clip452)\" style=\"stroke:#000000; stroke-linecap:butt; stroke-linejoin:round; stroke-width:2; stroke-opacity:0.1; fill:none\" points=\"\n",
       "  204.45,977.683 2352.76,977.683 \n",
       "  \"/>\n",
       "<polyline clip-path=\"url(#clip452)\" style=\"stroke:#000000; stroke-linecap:butt; stroke-linejoin:round; stroke-width:2; stroke-opacity:0.1; fill:none\" points=\"\n",
       "  204.45,773.326 2352.76,773.326 \n",
       "  \"/>\n",
       "<polyline clip-path=\"url(#clip452)\" style=\"stroke:#000000; stroke-linecap:butt; stroke-linejoin:round; stroke-width:2; stroke-opacity:0.1; fill:none\" points=\"\n",
       "  204.45,568.969 2352.76,568.969 \n",
       "  \"/>\n",
       "<polyline clip-path=\"url(#clip452)\" style=\"stroke:#000000; stroke-linecap:butt; stroke-linejoin:round; stroke-width:2; stroke-opacity:0.1; fill:none\" points=\"\n",
       "  204.45,364.613 2352.76,364.613 \n",
       "  \"/>\n",
       "<polyline clip-path=\"url(#clip452)\" style=\"stroke:#000000; stroke-linecap:butt; stroke-linejoin:round; stroke-width:2; stroke-opacity:0.1; fill:none\" points=\"\n",
       "  204.45,160.256 2352.76,160.256 \n",
       "  \"/>\n",
       "<polyline clip-path=\"url(#clip450)\" style=\"stroke:#000000; stroke-linecap:butt; stroke-linejoin:round; stroke-width:4; stroke-opacity:1; fill:none\" points=\"\n",
       "  204.45,1423.18 204.45,123.472 \n",
       "  \"/>\n",
       "<polyline clip-path=\"url(#clip450)\" style=\"stroke:#000000; stroke-linecap:butt; stroke-linejoin:round; stroke-width:4; stroke-opacity:1; fill:none\" points=\"\n",
       "  204.45,1386.4 230.229,1386.4 \n",
       "  \"/>\n",
       "<polyline clip-path=\"url(#clip450)\" style=\"stroke:#000000; stroke-linecap:butt; stroke-linejoin:round; stroke-width:4; stroke-opacity:1; fill:none\" points=\"\n",
       "  204.45,1182.04 230.229,1182.04 \n",
       "  \"/>\n",
       "<polyline clip-path=\"url(#clip450)\" style=\"stroke:#000000; stroke-linecap:butt; stroke-linejoin:round; stroke-width:4; stroke-opacity:1; fill:none\" points=\"\n",
       "  204.45,977.683 230.229,977.683 \n",
       "  \"/>\n",
       "<polyline clip-path=\"url(#clip450)\" style=\"stroke:#000000; stroke-linecap:butt; stroke-linejoin:round; stroke-width:4; stroke-opacity:1; fill:none\" points=\"\n",
       "  204.45,773.326 230.229,773.326 \n",
       "  \"/>\n",
       "<polyline clip-path=\"url(#clip450)\" style=\"stroke:#000000; stroke-linecap:butt; stroke-linejoin:round; stroke-width:4; stroke-opacity:1; fill:none\" points=\"\n",
       "  204.45,568.969 230.229,568.969 \n",
       "  \"/>\n",
       "<polyline clip-path=\"url(#clip450)\" style=\"stroke:#000000; stroke-linecap:butt; stroke-linejoin:round; stroke-width:4; stroke-opacity:1; fill:none\" points=\"\n",
       "  204.45,364.613 230.229,364.613 \n",
       "  \"/>\n",
       "<polyline clip-path=\"url(#clip450)\" style=\"stroke:#000000; stroke-linecap:butt; stroke-linejoin:round; stroke-width:4; stroke-opacity:1; fill:none\" points=\"\n",
       "  204.45,160.256 230.229,160.256 \n",
       "  \"/>\n",
       "<path clip-path=\"url(#clip450)\" d=\"M117.246 1399.74 L124.885 1399.74 L124.885 1373.37 L116.575 1375.04 L116.575 1370.78 L124.839 1369.12 L129.515 1369.12 L129.515 1399.74 L137.154 1399.74 L137.154 1403.68 L117.246 1403.68 L117.246 1399.74 Z\" fill=\"#000000\" fill-rule=\"evenodd\" fill-opacity=\"1\" /><path clip-path=\"url(#clip450)\" d=\"M156.598 1387.26 Q153.265 1387.26 151.343 1389.05 Q149.445 1390.83 149.445 1393.95 Q149.445 1397.08 151.343 1398.86 Q153.265 1400.64 156.598 1400.64 Q159.931 1400.64 161.852 1398.86 Q163.774 1397.06 163.774 1393.95 Q163.774 1390.83 161.852 1389.05 Q159.954 1387.26 156.598 1387.26 M151.922 1385.27 Q148.913 1384.53 147.223 1382.47 Q145.556 1380.41 145.556 1377.45 Q145.556 1373.31 148.496 1370.9 Q151.459 1368.49 156.598 1368.49 Q161.76 1368.49 164.7 1370.9 Q167.64 1373.31 167.64 1377.45 Q167.64 1380.41 165.95 1382.47 Q164.283 1384.53 161.297 1385.27 Q164.677 1386.06 166.552 1388.35 Q168.45 1390.64 168.45 1393.95 Q168.45 1398.98 165.371 1401.66 Q162.315 1404.35 156.598 1404.35 Q150.88 1404.35 147.802 1401.66 Q144.746 1398.98 144.746 1393.95 Q144.746 1390.64 146.644 1388.35 Q148.542 1386.06 151.922 1385.27 M150.209 1377.89 Q150.209 1380.57 151.876 1382.08 Q153.566 1383.58 156.598 1383.58 Q159.607 1383.58 161.297 1382.08 Q163.01 1380.57 163.01 1377.89 Q163.01 1375.2 161.297 1373.7 Q159.607 1372.19 156.598 1372.19 Q153.566 1372.19 151.876 1373.7 Q150.209 1375.2 150.209 1377.89 Z\" fill=\"#000000\" fill-rule=\"evenodd\" fill-opacity=\"1\" /><path clip-path=\"url(#clip450)\" d=\"M117.339 1195.38 L124.978 1195.38 L124.978 1169.02 L116.668 1170.68 L116.668 1166.43 L124.931 1164.76 L129.607 1164.76 L129.607 1195.38 L137.246 1195.38 L137.246 1199.32 L117.339 1199.32 L117.339 1195.38 Z\" fill=\"#000000\" fill-rule=\"evenodd\" fill-opacity=\"1\" /><path clip-path=\"url(#clip450)\" d=\"M146.829 1198.6 L146.829 1194.34 Q148.589 1195.18 150.394 1195.62 Q152.2 1196.06 153.936 1196.06 Q158.565 1196.06 160.996 1192.95 Q163.45 1189.83 163.797 1183.49 Q162.454 1185.48 160.394 1186.54 Q158.334 1187.61 155.834 1187.61 Q150.649 1187.61 147.616 1184.48 Q144.607 1181.33 144.607 1175.89 Q144.607 1170.57 147.755 1167.35 Q150.903 1164.13 156.135 1164.13 Q162.13 1164.13 165.278 1168.74 Q168.45 1173.32 168.45 1182.07 Q168.45 1190.25 164.561 1195.13 Q160.695 1199.99 154.144 1199.99 Q152.385 1199.99 150.579 1199.64 Q148.774 1199.3 146.829 1198.6 M156.135 1183.95 Q159.283 1183.95 161.112 1181.8 Q162.964 1179.64 162.964 1175.89 Q162.964 1172.17 161.112 1170.01 Q159.283 1167.84 156.135 1167.84 Q152.987 1167.84 151.135 1170.01 Q149.306 1172.17 149.306 1175.89 Q149.306 1179.64 151.135 1181.8 Q152.987 1183.95 156.135 1183.95 Z\" fill=\"#000000\" fill-rule=\"evenodd\" fill-opacity=\"1\" /><path clip-path=\"url(#clip450)\" d=\"M120.371 991.027 L136.691 991.027 L136.691 994.963 L114.746 994.963 L114.746 991.027 Q117.408 988.273 121.992 983.643 Q126.598 978.99 127.779 977.648 Q130.024 975.125 130.904 973.389 Q131.806 971.629 131.806 969.94 Q131.806 967.185 129.862 965.449 Q127.941 963.713 124.839 963.713 Q122.64 963.713 120.186 964.477 Q117.756 965.24 114.978 966.791 L114.978 962.069 Q117.802 960.935 120.255 960.356 Q122.709 959.778 124.746 959.778 Q130.117 959.778 133.311 962.463 Q136.505 965.148 136.505 969.639 Q136.505 971.768 135.695 973.69 Q134.908 975.588 132.802 978.18 Q132.223 978.852 129.121 982.069 Q126.019 985.264 120.371 991.027 Z\" fill=\"#000000\" fill-rule=\"evenodd\" fill-opacity=\"1\" /><path clip-path=\"url(#clip450)\" d=\"M156.505 963.481 Q152.894 963.481 151.066 967.046 Q149.26 970.588 149.26 977.717 Q149.26 984.824 151.066 988.389 Q152.894 991.93 156.505 991.93 Q160.14 991.93 161.945 988.389 Q163.774 984.824 163.774 977.717 Q163.774 970.588 161.945 967.046 Q160.14 963.481 156.505 963.481 M156.505 959.778 Q162.315 959.778 165.371 964.384 Q168.45 968.967 168.45 977.717 Q168.45 986.444 165.371 991.051 Q162.315 995.634 156.505 995.634 Q150.695 995.634 147.616 991.051 Q144.561 986.444 144.561 977.717 Q144.561 968.967 147.616 964.384 Q150.695 959.778 156.505 959.778 Z\" fill=\"#000000\" fill-rule=\"evenodd\" fill-opacity=\"1\" /><path clip-path=\"url(#clip450)\" d=\"M121.598 786.671 L137.917 786.671 L137.917 790.606 L115.973 790.606 L115.973 786.671 Q118.635 783.916 123.218 779.287 Q127.825 774.634 129.005 773.291 Q131.251 770.768 132.13 769.032 Q133.033 767.273 133.033 765.583 Q133.033 762.828 131.089 761.092 Q129.167 759.356 126.066 759.356 Q123.867 759.356 121.413 760.12 Q118.982 760.884 116.205 762.435 L116.205 757.713 Q119.029 756.578 121.482 756 Q123.936 755.421 125.973 755.421 Q131.343 755.421 134.538 758.106 Q137.732 760.791 137.732 765.282 Q137.732 767.412 136.922 769.333 Q136.135 771.231 134.029 773.824 Q133.45 774.495 130.348 777.713 Q127.246 780.907 121.598 786.671 Z\" fill=\"#000000\" fill-rule=\"evenodd\" fill-opacity=\"1\" /><path clip-path=\"url(#clip450)\" d=\"M148.542 786.671 L156.181 786.671 L156.181 760.305 L147.871 761.972 L147.871 757.713 L156.135 756.046 L160.811 756.046 L160.811 786.671 L168.45 786.671 L168.45 790.606 L148.542 790.606 L148.542 786.671 Z\" fill=\"#000000\" fill-rule=\"evenodd\" fill-opacity=\"1\" /><path clip-path=\"url(#clip450)\" d=\"M121.968 582.314 L138.288 582.314 L138.288 586.249 L116.343 586.249 L116.343 582.314 Q119.006 579.56 123.589 574.93 Q128.195 570.277 129.376 568.935 Q131.621 566.412 132.501 564.675 Q133.404 562.916 133.404 561.226 Q133.404 558.472 131.459 556.736 Q129.538 555 126.436 555 Q124.237 555 121.783 555.763 Q119.353 556.527 116.575 558.078 L116.575 553.356 Q119.399 552.222 121.853 551.643 Q124.306 551.064 126.343 551.064 Q131.714 551.064 134.908 553.75 Q138.103 556.435 138.103 560.925 Q138.103 563.055 137.292 564.976 Q136.505 566.875 134.399 569.467 Q133.82 570.138 130.718 573.356 Q127.617 576.55 121.968 582.314 Z\" fill=\"#000000\" fill-rule=\"evenodd\" fill-opacity=\"1\" /><path clip-path=\"url(#clip450)\" d=\"M152.13 582.314 L168.45 582.314 L168.45 586.249 L146.505 586.249 L146.505 582.314 Q149.167 579.56 153.751 574.93 Q158.357 570.277 159.538 568.935 Q161.783 566.412 162.663 564.675 Q163.565 562.916 163.565 561.226 Q163.565 558.472 161.621 556.736 Q159.7 555 156.598 555 Q154.399 555 151.945 555.763 Q149.515 556.527 146.737 558.078 L146.737 553.356 Q149.561 552.222 152.015 551.643 Q154.468 551.064 156.505 551.064 Q161.876 551.064 165.07 553.75 Q168.264 556.435 168.264 560.925 Q168.264 563.055 167.454 564.976 Q166.667 566.875 164.561 569.467 Q163.982 570.138 160.88 573.356 Q157.778 576.55 152.13 582.314 Z\" fill=\"#000000\" fill-rule=\"evenodd\" fill-opacity=\"1\" /><path clip-path=\"url(#clip450)\" d=\"M121.019 377.958 L137.339 377.958 L137.339 381.893 L115.394 381.893 L115.394 377.958 Q118.056 375.203 122.64 370.573 Q127.246 365.921 128.427 364.578 Q130.672 362.055 131.552 360.319 Q132.455 358.56 132.455 356.87 Q132.455 354.115 130.51 352.379 Q128.589 350.643 125.487 350.643 Q123.288 350.643 120.834 351.407 Q118.404 352.171 115.626 353.722 L115.626 349 Q118.45 347.865 120.904 347.287 Q123.357 346.708 125.394 346.708 Q130.765 346.708 133.959 349.393 Q137.154 352.078 137.154 356.569 Q137.154 358.699 136.343 360.62 Q135.556 362.518 133.45 365.111 Q132.871 365.782 129.769 368.999 Q126.667 372.194 121.019 377.958 Z\" fill=\"#000000\" fill-rule=\"evenodd\" fill-opacity=\"1\" /><path clip-path=\"url(#clip450)\" d=\"M161.32 363.259 Q164.677 363.976 166.552 366.245 Q168.45 368.513 168.45 371.847 Q168.45 376.962 164.931 379.763 Q161.413 382.564 154.931 382.564 Q152.755 382.564 150.441 382.124 Q148.149 381.708 145.695 380.851 L145.695 376.337 Q147.64 377.472 149.954 378.05 Q152.269 378.629 154.792 378.629 Q159.19 378.629 161.482 376.893 Q163.797 375.157 163.797 371.847 Q163.797 368.791 161.644 367.078 Q159.515 365.342 155.695 365.342 L151.667 365.342 L151.667 361.499 L155.88 361.499 Q159.329 361.499 161.158 360.134 Q162.987 358.745 162.987 356.152 Q162.987 353.49 161.089 352.078 Q159.214 350.643 155.695 350.643 Q153.774 350.643 151.575 351.06 Q149.376 351.476 146.737 352.356 L146.737 348.189 Q149.399 347.449 151.714 347.078 Q154.052 346.708 156.112 346.708 Q161.436 346.708 164.538 349.138 Q167.64 351.546 167.64 355.666 Q167.64 358.537 165.996 360.527 Q164.352 362.495 161.32 363.259 Z\" fill=\"#000000\" fill-rule=\"evenodd\" fill-opacity=\"1\" /><path clip-path=\"url(#clip450)\" d=\"M119.885 173.601 L136.204 173.601 L136.204 177.536 L114.26 177.536 L114.26 173.601 Q116.922 170.847 121.505 166.217 Q126.112 161.564 127.292 160.222 Q129.538 157.698 130.417 155.962 Q131.32 154.203 131.32 152.513 Q131.32 149.759 129.376 148.023 Q127.455 146.286 124.353 146.286 Q122.154 146.286 119.7 147.05 Q117.269 147.814 114.492 149.365 L114.492 144.643 Q117.316 143.509 119.769 142.93 Q122.223 142.351 124.26 142.351 Q129.63 142.351 132.825 145.036 Q136.019 147.722 136.019 152.212 Q136.019 154.342 135.209 156.263 Q134.422 158.161 132.316 160.754 Q131.737 161.425 128.635 164.643 Q125.533 167.837 119.885 173.601 Z\" fill=\"#000000\" fill-rule=\"evenodd\" fill-opacity=\"1\" /><path clip-path=\"url(#clip450)\" d=\"M158.866 147.05 L147.061 165.499 L158.866 165.499 L158.866 147.05 M157.64 142.976 L163.519 142.976 L163.519 165.499 L168.45 165.499 L168.45 169.388 L163.519 169.388 L163.519 177.536 L158.866 177.536 L158.866 169.388 L143.265 169.388 L143.265 164.874 L157.64 142.976 Z\" fill=\"#000000\" fill-rule=\"evenodd\" fill-opacity=\"1\" /><path clip-path=\"url(#clip450)\" d=\"M20.1444 754.165 L26.9239 754.165 Q23.9002 757.412 22.4043 761.104 Q20.9083 764.764 20.9083 768.902 Q20.9083 777.05 25.9054 781.379 Q30.8707 785.707 40.2919 785.707 Q49.6813 785.707 54.6784 781.379 Q59.6436 777.05 59.6436 768.902 Q59.6436 764.764 58.1477 761.104 Q56.6518 757.412 53.6281 754.165 L60.3439 754.165 Q62.6355 757.539 63.7814 761.327 Q64.9272 765.082 64.9272 769.284 Q64.9272 780.074 58.3387 786.28 Q51.7183 792.487 40.2919 792.487 Q28.8336 792.487 22.2451 786.28 Q15.6248 780.074 15.6248 769.284 Q15.6248 765.019 16.7706 761.263 Q17.8846 757.475 20.1444 754.165 Z\" fill=\"#000000\" fill-rule=\"evenodd\" fill-opacity=\"1\" /><path clip-path=\"url(#clip450)\" d=\"M902.051 12.096 L949.568 12.096 L949.568 18.3344 L911.328 65.6895 L950.5 65.6895 L950.5 72.576 L901.119 72.576 L901.119 66.3376 L939.36 18.9825 L902.051 18.9825 L902.051 12.096 Z\" fill=\"#000000\" fill-rule=\"evenodd\" fill-opacity=\"1\" /><path clip-path=\"url(#clip450)\" d=\"M979.626 32.4315 Q973.63 32.4315 970.147 37.1306 Q966.663 41.7891 966.663 49.9314 Q966.663 58.0738 970.106 62.7728 Q973.59 67.4314 979.626 67.4314 Q985.581 67.4314 989.064 62.7323 Q992.548 58.0333 992.548 49.9314 Q992.548 41.8701 989.064 37.1711 Q985.581 32.4315 979.626 32.4315 M979.626 26.1121 Q989.348 26.1121 994.898 32.4315 Q1000.45 38.7509 1000.45 49.9314 Q1000.45 61.0714 994.898 67.4314 Q989.348 73.7508 979.626 73.7508 Q969.863 73.7508 964.313 67.4314 Q958.804 61.0714 958.804 49.9314 Q958.804 38.7509 964.313 32.4315 Q969.863 26.1121 979.626 26.1121 Z\" fill=\"#000000\" fill-rule=\"evenodd\" fill-opacity=\"1\" /><path clip-path=\"url(#clip450)\" d=\"M1050.52 45.1919 L1050.52 72.576 L1043.06 72.576 L1043.06 45.4349 Q1043.06 38.994 1040.55 35.7938 Q1038.04 32.5936 1033.02 32.5936 Q1026.98 32.5936 1023.5 36.4419 Q1020.01 40.2903 1020.01 46.9338 L1020.01 72.576 L1012.52 72.576 L1012.52 27.2059 L1020.01 27.2059 L1020.01 34.2544 Q1022.69 30.163 1026.29 28.1376 Q1029.94 26.1121 1034.68 26.1121 Q1042.5 26.1121 1046.51 30.9732 Q1050.52 35.7938 1050.52 45.1919 Z\" fill=\"#000000\" fill-rule=\"evenodd\" fill-opacity=\"1\" /><path clip-path=\"url(#clip450)\" d=\"M1104.19 48.0275 L1104.19 51.6733 L1069.92 51.6733 Q1070.41 59.3701 1074.54 63.421 Q1078.71 67.4314 1086.12 67.4314 Q1090.42 67.4314 1094.43 66.3781 Q1098.48 65.3249 1102.45 63.2184 L1102.45 70.267 Q1098.44 71.9684 1094.23 72.8596 Q1090.01 73.7508 1085.68 73.7508 Q1074.82 73.7508 1068.46 67.4314 Q1062.14 61.1119 1062.14 50.3365 Q1062.14 39.1965 1068.14 32.6746 Q1074.17 26.1121 1084.38 26.1121 Q1093.54 26.1121 1098.84 32.0264 Q1104.19 37.9003 1104.19 48.0275 M1096.74 45.84 Q1096.66 39.7232 1093.29 36.0774 Q1089.97 32.4315 1084.46 32.4315 Q1078.22 32.4315 1074.46 35.9558 Q1070.73 39.4801 1070.16 45.8805 L1096.74 45.84 Z\" fill=\"#000000\" fill-rule=\"evenodd\" fill-opacity=\"1\" /><path clip-path=\"url(#clip450)\" d=\"M1134.73 12.096 L1185.9 12.096 L1185.9 18.9825 L1164.43 18.9825 L1164.43 72.576 L1156.2 72.576 L1156.2 18.9825 L1134.73 18.9825 L1134.73 12.096 Z\" fill=\"#000000\" fill-rule=\"evenodd\" fill-opacity=\"1\" /><path clip-path=\"url(#clip450)\" d=\"M1218.18 48.0275 L1218.18 51.6733 L1183.91 51.6733 Q1184.4 59.3701 1188.53 63.421 Q1192.7 67.4314 1200.12 67.4314 Q1204.41 67.4314 1208.42 66.3781 Q1212.47 65.3249 1216.44 63.2184 L1216.44 70.267 Q1212.43 71.9684 1208.22 72.8596 Q1204.01 73.7508 1199.67 73.7508 Q1188.81 73.7508 1182.45 67.4314 Q1176.14 61.1119 1176.14 50.3365 Q1176.14 39.1965 1182.13 32.6746 Q1188.17 26.1121 1198.37 26.1121 Q1207.53 26.1121 1212.84 32.0264 Q1218.18 37.9003 1218.18 48.0275 M1210.73 45.84 Q1210.65 39.7232 1207.29 36.0774 Q1203.96 32.4315 1198.46 32.4315 Q1192.22 32.4315 1188.45 35.9558 Q1184.72 39.4801 1184.16 45.8805 L1210.73 45.84 Z\" fill=\"#000000\" fill-rule=\"evenodd\" fill-opacity=\"1\" /><path clip-path=\"url(#clip450)\" d=\"M1265.74 35.9153 Q1268.54 30.8922 1272.43 28.5022 Q1276.31 26.1121 1281.58 26.1121 Q1288.67 26.1121 1292.52 31.0947 Q1296.37 36.0368 1296.37 45.1919 L1296.37 72.576 L1288.87 72.576 L1288.87 45.4349 Q1288.87 38.913 1286.56 35.7533 Q1284.25 32.5936 1279.51 32.5936 Q1273.72 32.5936 1270.36 36.4419 Q1267 40.2903 1267 46.9338 L1267 72.576 L1259.5 72.576 L1259.5 45.4349 Q1259.5 38.8725 1257.19 35.7533 Q1254.88 32.5936 1250.06 32.5936 Q1244.35 32.5936 1240.99 36.4824 Q1237.63 40.3308 1237.63 46.9338 L1237.63 72.576 L1230.13 72.576 L1230.13 27.2059 L1237.63 27.2059 L1237.63 34.2544 Q1240.18 30.082 1243.74 28.0971 Q1247.31 26.1121 1252.21 26.1121 Q1257.15 26.1121 1260.6 28.6237 Q1264.08 31.1352 1265.74 35.9153 Z\" fill=\"#000000\" fill-rule=\"evenodd\" fill-opacity=\"1\" /><path clip-path=\"url(#clip450)\" d=\"M1318.44 65.7705 L1318.44 89.8329 L1310.95 89.8329 L1310.95 27.2059 L1318.44 27.2059 L1318.44 34.0924 Q1320.79 30.0415 1324.36 28.0971 Q1327.96 26.1121 1332.95 26.1121 Q1341.21 26.1121 1346.35 32.6746 Q1351.54 39.2371 1351.54 49.9314 Q1351.54 60.6258 1346.35 67.1883 Q1341.21 73.7508 1332.95 73.7508 Q1327.96 73.7508 1324.36 71.8063 Q1320.79 69.8214 1318.44 65.7705 M1343.8 49.9314 Q1343.8 41.7081 1340.4 37.0496 Q1337.04 32.3505 1331.12 32.3505 Q1325.21 32.3505 1321.81 37.0496 Q1318.44 41.7081 1318.44 49.9314 Q1318.44 58.1548 1321.81 62.8538 Q1325.21 67.5124 1331.12 67.5124 Q1337.04 67.5124 1340.4 62.8538 Q1343.8 58.1548 1343.8 49.9314 Z\" fill=\"#000000\" fill-rule=\"evenodd\" fill-opacity=\"1\" /><path clip-path=\"url(#clip450)\" d=\"M1402.7 48.0275 L1402.7 51.6733 L1368.43 51.6733 Q1368.92 59.3701 1373.05 63.421 Q1377.22 67.4314 1384.64 67.4314 Q1388.93 67.4314 1392.94 66.3781 Q1396.99 65.3249 1400.96 63.2184 L1400.96 70.267 Q1396.95 71.9684 1392.74 72.8596 Q1388.52 73.7508 1384.19 73.7508 Q1373.33 73.7508 1366.97 67.4314 Q1360.65 61.1119 1360.65 50.3365 Q1360.65 39.1965 1366.65 32.6746 Q1372.69 26.1121 1382.89 26.1121 Q1392.05 26.1121 1397.36 32.0264 Q1402.7 37.9003 1402.7 48.0275 M1395.25 45.84 Q1395.17 39.7232 1391.81 36.0774 Q1388.48 32.4315 1382.97 32.4315 Q1376.74 32.4315 1372.97 35.9558 Q1369.24 39.4801 1368.67 45.8805 L1395.25 45.84 Z\" fill=\"#000000\" fill-rule=\"evenodd\" fill-opacity=\"1\" /><path clip-path=\"url(#clip450)\" d=\"M1441.23 34.1734 Q1439.97 33.4443 1438.47 33.1202 Q1437.01 32.7556 1435.23 32.7556 Q1428.91 32.7556 1425.51 36.8875 Q1422.15 40.9789 1422.15 48.6757 L1422.15 72.576 L1414.65 72.576 L1414.65 27.2059 L1422.15 27.2059 L1422.15 34.2544 Q1424.5 30.1225 1428.26 28.1376 Q1432.03 26.1121 1437.42 26.1121 Q1438.19 26.1121 1439.12 26.2337 Q1440.05 26.3147 1441.19 26.5172 L1441.23 34.1734 Z\" fill=\"#000000\" fill-rule=\"evenodd\" fill-opacity=\"1\" /><path clip-path=\"url(#clip450)\" d=\"M1469.66 49.7694 Q1460.63 49.7694 1457.15 51.8354 Q1453.66 53.9013 1453.66 58.8839 Q1453.66 62.8538 1456.26 65.2034 Q1458.89 67.5124 1463.38 67.5124 Q1469.58 67.5124 1473.31 63.1374 Q1477.08 58.7219 1477.08 51.4303 L1477.08 49.7694 L1469.66 49.7694 M1484.53 46.6907 L1484.53 72.576 L1477.08 72.576 L1477.08 65.6895 Q1474.52 69.8214 1470.72 71.8063 Q1466.91 73.7508 1461.4 73.7508 Q1454.43 73.7508 1450.3 69.8619 Q1446.21 65.9325 1446.21 59.3701 Q1446.21 51.7138 1451.31 47.825 Q1456.46 43.9361 1466.63 43.9361 L1477.08 43.9361 L1477.08 43.2069 Q1477.08 38.0623 1473.67 35.2672 Q1470.31 32.4315 1464.19 32.4315 Q1460.31 32.4315 1456.62 33.3632 Q1452.93 34.295 1449.53 36.1584 L1449.53 29.2718 Q1453.62 27.692 1457.47 26.9223 Q1461.32 26.1121 1464.96 26.1121 Q1474.81 26.1121 1479.67 31.2163 Q1484.53 36.3204 1484.53 46.6907 Z\" fill=\"#000000\" fill-rule=\"evenodd\" fill-opacity=\"1\" /><path clip-path=\"url(#clip450)\" d=\"M1507.26 14.324 L1507.26 27.2059 L1522.61 27.2059 L1522.61 32.9987 L1507.26 32.9987 L1507.26 57.6282 Q1507.26 63.1779 1508.75 64.7578 Q1510.29 66.3376 1514.95 66.3376 L1522.61 66.3376 L1522.61 72.576 L1514.95 72.576 Q1506.32 72.576 1503.04 69.3758 Q1499.76 66.1351 1499.76 57.6282 L1499.76 32.9987 L1494.29 32.9987 L1494.29 27.2059 L1499.76 27.2059 L1499.76 14.324 L1507.26 14.324 Z\" fill=\"#000000\" fill-rule=\"evenodd\" fill-opacity=\"1\" /><path clip-path=\"url(#clip450)\" d=\"M1531.64 54.671 L1531.64 27.2059 L1539.1 27.2059 L1539.1 54.3874 Q1539.1 60.8284 1541.61 64.0691 Q1544.12 67.2693 1549.14 67.2693 Q1555.18 67.2693 1558.66 63.421 Q1562.19 59.5726 1562.19 52.9291 L1562.19 27.2059 L1569.64 27.2059 L1569.64 72.576 L1562.19 72.576 L1562.19 65.6084 Q1559.47 69.7404 1555.87 71.7658 Q1552.3 73.7508 1547.56 73.7508 Q1539.74 73.7508 1535.69 68.8897 Q1531.64 64.0286 1531.64 54.671 M1550.4 26.1121 L1550.4 26.1121 Z\" fill=\"#000000\" fill-rule=\"evenodd\" fill-opacity=\"1\" /><path clip-path=\"url(#clip450)\" d=\"M1611.28 34.1734 Q1610.03 33.4443 1608.53 33.1202 Q1607.07 32.7556 1605.29 32.7556 Q1598.97 32.7556 1595.57 36.8875 Q1592.2 40.9789 1592.2 48.6757 L1592.2 72.576 L1584.71 72.576 L1584.71 27.2059 L1592.2 27.2059 L1592.2 34.2544 Q1594.55 30.1225 1598.32 28.1376 Q1602.09 26.1121 1607.48 26.1121 Q1608.25 26.1121 1609.18 26.2337 Q1610.11 26.3147 1611.24 26.5172 L1611.28 34.1734 Z\" fill=\"#000000\" fill-rule=\"evenodd\" fill-opacity=\"1\" /><path clip-path=\"url(#clip450)\" d=\"M1656.09 48.0275 L1656.09 51.6733 L1621.82 51.6733 Q1622.3 59.3701 1626.43 63.421 Q1630.61 67.4314 1638.02 67.4314 Q1642.31 67.4314 1646.32 66.3781 Q1650.37 65.3249 1654.34 63.2184 L1654.34 70.267 Q1650.33 71.9684 1646.12 72.8596 Q1641.91 73.7508 1637.57 73.7508 Q1626.72 73.7508 1620.36 67.4314 Q1614.04 61.1119 1614.04 50.3365 Q1614.04 39.1965 1620.03 32.6746 Q1626.07 26.1121 1636.28 26.1121 Q1645.43 26.1121 1650.74 32.0264 Q1656.09 37.9003 1656.09 48.0275 M1648.63 45.84 Q1648.55 39.7232 1645.19 36.0774 Q1641.87 32.4315 1636.36 32.4315 Q1630.12 32.4315 1626.35 35.9558 Q1622.63 39.4801 1622.06 45.8805 L1648.63 45.84 Z\" fill=\"#000000\" fill-rule=\"evenodd\" fill-opacity=\"1\" /><polyline clip-path=\"url(#clip452)\" style=\"stroke:#009af9; stroke-linecap:butt; stroke-linejoin:round; stroke-width:4; stroke-opacity:1; fill:none\" points=\"\n",
       "  265.251,773.326 353.368,682.017 441.486,590.708 529.603,499.399 617.721,408.09 705.839,316.781 793.956,225.473 882.074,184.872 970.191,160.256 1058.31,397.794 \n",
       "  1146.43,635.332 1234.54,872.87 1322.66,356.729 1410.78,594.267 1498.9,831.805 1587.01,1069.34 1675.13,1283.85 1763.25,1386.4 1851.37,1339.8 1939.48,1293.2 \n",
       "  2027.6,1246.6 2115.72,1155.29 2203.84,1063.98 2291.95,972.669 \n",
       "  \"/>\n",
       "<path clip-path=\"url(#clip450)\" d=\"\n",
       "M1990.01 287.756 L2281.15 287.756 L2281.15 166.796 L1990.01 166.796  Z\n",
       "  \" fill=\"#ffffff\" fill-rule=\"evenodd\" fill-opacity=\"1\"/>\n",
       "<polyline clip-path=\"url(#clip450)\" style=\"stroke:#000000; stroke-linecap:butt; stroke-linejoin:round; stroke-width:4; stroke-opacity:1; fill:none\" points=\"\n",
       "  1990.01,287.756 2281.15,287.756 2281.15,166.796 1990.01,166.796 1990.01,287.756 \n",
       "  \"/>\n",
       "<polyline clip-path=\"url(#clip450)\" style=\"stroke:#009af9; stroke-linecap:butt; stroke-linejoin:round; stroke-width:4; stroke-opacity:1; fill:none\" points=\"\n",
       "  2013.88,227.276 2157.11,227.276 \n",
       "  \"/>\n",
       "<path clip-path=\"url(#clip450)\" d=\"M2194.82 246.963 Q2193.01 251.593 2191.3 253.005 Q2189.59 254.417 2186.72 254.417 L2183.31 254.417 L2183.31 250.852 L2185.81 250.852 Q2187.57 250.852 2188.54 250.019 Q2189.52 249.185 2190.7 246.083 L2191.46 244.139 L2180.98 218.63 L2185.49 218.63 L2193.59 238.908 L2201.69 218.63 L2206.21 218.63 L2194.82 246.963 Z\" fill=\"#000000\" fill-rule=\"evenodd\" fill-opacity=\"1\" /><path clip-path=\"url(#clip450)\" d=\"M2213.5 240.621 L2221.14 240.621 L2221.14 214.255 L2212.83 215.922 L2212.83 211.662 L2221.09 209.996 L2225.77 209.996 L2225.77 240.621 L2233.41 240.621 L2233.41 244.556 L2213.5 244.556 L2213.5 240.621 Z\" fill=\"#000000\" fill-rule=\"evenodd\" fill-opacity=\"1\" /></svg>\n"
      ]
     },
     "execution_count": 581,
     "metadata": {},
     "output_type": "execute_result"
    }
   ],
   "source": [
    "##Indoor T\n",
    "using Plots\n",
    "x = 1:Hours\n",
    "plot(x,TZone_Opt, title = \"Zone Temperature\")\n",
    "xlabel!(\"Hours\")\n",
    "ylabel!(\"C\")\n"
   ]
  },
  {
   "cell_type": "code",
   "execution_count": 583,
   "id": "c18d4d49",
   "metadata": {},
   "outputs": [
    {
     "data": {
      "image/svg+xml": [
       "<?xml version=\"1.0\" encoding=\"utf-8\"?>\n",
       "<svg xmlns=\"http://www.w3.org/2000/svg\" xmlns:xlink=\"http://www.w3.org/1999/xlink\" width=\"600\" height=\"400\" viewBox=\"0 0 2400 1600\">\n",
       "<defs>\n",
       "  <clipPath id=\"clip530\">\n",
       "    <rect x=\"0\" y=\"0\" width=\"2400\" height=\"1600\"/>\n",
       "  </clipPath>\n",
       "</defs>\n",
       "<path clip-path=\"url(#clip530)\" d=\"\n",
       "M0 1600 L2400 1600 L2400 0 L0 0  Z\n",
       "  \" fill=\"#ffffff\" fill-rule=\"evenodd\" fill-opacity=\"1\"/>\n",
       "<defs>\n",
       "  <clipPath id=\"clip531\">\n",
       "    <rect x=\"480\" y=\"0\" width=\"1681\" height=\"1600\"/>\n",
       "  </clipPath>\n",
       "</defs>\n",
       "<path clip-path=\"url(#clip530)\" d=\"\n",
       "M249.542 1423.18 L2352.76 1423.18 L2352.76 123.472 L249.542 123.472  Z\n",
       "  \" fill=\"#ffffff\" fill-rule=\"evenodd\" fill-opacity=\"1\"/>\n",
       "<defs>\n",
       "  <clipPath id=\"clip532\">\n",
       "    <rect x=\"249\" y=\"123\" width=\"2104\" height=\"1301\"/>\n",
       "  </clipPath>\n",
       "</defs>\n",
       "<polyline clip-path=\"url(#clip532)\" style=\"stroke:#000000; stroke-linecap:butt; stroke-linejoin:round; stroke-width:2; stroke-opacity:0.1; fill:none\" points=\"\n",
       "  654.139,1423.18 654.139,123.472 \n",
       "  \"/>\n",
       "<polyline clip-path=\"url(#clip532)\" style=\"stroke:#000000; stroke-linecap:butt; stroke-linejoin:round; stroke-width:2; stroke-opacity:0.1; fill:none\" points=\"\n",
       "  1085.48,1423.18 1085.48,123.472 \n",
       "  \"/>\n",
       "<polyline clip-path=\"url(#clip532)\" style=\"stroke:#000000; stroke-linecap:butt; stroke-linejoin:round; stroke-width:2; stroke-opacity:0.1; fill:none\" points=\"\n",
       "  1516.82,1423.18 1516.82,123.472 \n",
       "  \"/>\n",
       "<polyline clip-path=\"url(#clip532)\" style=\"stroke:#000000; stroke-linecap:butt; stroke-linejoin:round; stroke-width:2; stroke-opacity:0.1; fill:none\" points=\"\n",
       "  1948.16,1423.18 1948.16,123.472 \n",
       "  \"/>\n",
       "<polyline clip-path=\"url(#clip530)\" style=\"stroke:#000000; stroke-linecap:butt; stroke-linejoin:round; stroke-width:4; stroke-opacity:1; fill:none\" points=\"\n",
       "  249.542,1423.18 2352.76,1423.18 \n",
       "  \"/>\n",
       "<polyline clip-path=\"url(#clip530)\" style=\"stroke:#000000; stroke-linecap:butt; stroke-linejoin:round; stroke-width:4; stroke-opacity:1; fill:none\" points=\"\n",
       "  654.139,1423.18 654.139,1407.58 \n",
       "  \"/>\n",
       "<polyline clip-path=\"url(#clip530)\" style=\"stroke:#000000; stroke-linecap:butt; stroke-linejoin:round; stroke-width:4; stroke-opacity:1; fill:none\" points=\"\n",
       "  1085.48,1423.18 1085.48,1407.58 \n",
       "  \"/>\n",
       "<polyline clip-path=\"url(#clip530)\" style=\"stroke:#000000; stroke-linecap:butt; stroke-linejoin:round; stroke-width:4; stroke-opacity:1; fill:none\" points=\"\n",
       "  1516.82,1423.18 1516.82,1407.58 \n",
       "  \"/>\n",
       "<polyline clip-path=\"url(#clip530)\" style=\"stroke:#000000; stroke-linecap:butt; stroke-linejoin:round; stroke-width:4; stroke-opacity:1; fill:none\" points=\"\n",
       "  1948.16,1423.18 1948.16,1407.58 \n",
       "  \"/>\n",
       "<path clip-path=\"url(#clip530)\" d=\"M644.417 1449.29 L662.773 1449.29 L662.773 1453.23 L648.699 1453.23 L648.699 1461.7 Q649.718 1461.35 650.736 1461.19 Q651.755 1461 652.773 1461 Q658.56 1461 661.94 1464.18 Q665.319 1467.35 665.319 1472.76 Q665.319 1478.34 661.847 1481.44 Q658.375 1484.52 652.056 1484.52 Q649.88 1484.52 647.611 1484.15 Q645.366 1483.78 642.958 1483.04 L642.958 1478.34 Q645.042 1479.48 647.264 1480.03 Q649.486 1480.59 651.963 1480.59 Q655.968 1480.59 658.306 1478.48 Q660.644 1476.38 660.644 1472.76 Q660.644 1469.15 658.306 1467.05 Q655.968 1464.94 651.963 1464.94 Q650.088 1464.94 648.213 1465.36 Q646.361 1465.77 644.417 1466.65 L644.417 1449.29 Z\" fill=\"#000000\" fill-rule=\"evenodd\" fill-opacity=\"1\" /><path clip-path=\"url(#clip530)\" d=\"M1060.17 1479.92 L1067.81 1479.92 L1067.81 1453.55 L1059.5 1455.22 L1059.5 1450.96 L1067.76 1449.29 L1072.44 1449.29 L1072.44 1479.92 L1080.07 1479.92 L1080.07 1483.85 L1060.17 1483.85 L1060.17 1479.92 Z\" fill=\"#000000\" fill-rule=\"evenodd\" fill-opacity=\"1\" /><path clip-path=\"url(#clip530)\" d=\"M1099.52 1452.37 Q1095.91 1452.37 1094.08 1455.94 Q1092.27 1459.48 1092.27 1466.61 Q1092.27 1473.71 1094.08 1477.28 Q1095.91 1480.82 1099.52 1480.82 Q1103.15 1480.82 1104.96 1477.28 Q1106.79 1473.71 1106.79 1466.61 Q1106.79 1459.48 1104.96 1455.94 Q1103.15 1452.37 1099.52 1452.37 M1099.52 1448.67 Q1105.33 1448.67 1108.38 1453.27 Q1111.46 1457.86 1111.46 1466.61 Q1111.46 1475.33 1108.38 1479.94 Q1105.33 1484.52 1099.52 1484.52 Q1093.71 1484.52 1090.63 1479.94 Q1087.57 1475.33 1087.57 1466.61 Q1087.57 1457.86 1090.63 1453.27 Q1093.71 1448.67 1099.52 1448.67 Z\" fill=\"#000000\" fill-rule=\"evenodd\" fill-opacity=\"1\" /><path clip-path=\"url(#clip530)\" d=\"M1492 1479.92 L1499.64 1479.92 L1499.64 1453.55 L1491.33 1455.22 L1491.33 1450.96 L1499.6 1449.29 L1504.27 1449.29 L1504.27 1479.92 L1511.91 1479.92 L1511.91 1483.85 L1492 1483.85 L1492 1479.92 Z\" fill=\"#000000\" fill-rule=\"evenodd\" fill-opacity=\"1\" /><path clip-path=\"url(#clip530)\" d=\"M1521.4 1449.29 L1539.76 1449.29 L1539.76 1453.23 L1525.68 1453.23 L1525.68 1461.7 Q1526.7 1461.35 1527.72 1461.19 Q1528.74 1461 1529.76 1461 Q1535.55 1461 1538.93 1464.18 Q1542.3 1467.35 1542.3 1472.76 Q1542.3 1478.34 1538.83 1481.44 Q1535.36 1484.52 1529.04 1484.52 Q1526.87 1484.52 1524.6 1484.15 Q1522.35 1483.78 1519.94 1483.04 L1519.94 1478.34 Q1522.03 1479.48 1524.25 1480.03 Q1526.47 1480.59 1528.95 1480.59 Q1532.95 1480.59 1535.29 1478.48 Q1537.63 1476.38 1537.63 1472.76 Q1537.63 1469.15 1535.29 1467.05 Q1532.95 1464.94 1528.95 1464.94 Q1527.07 1464.94 1525.2 1465.36 Q1523.35 1465.77 1521.4 1466.65 L1521.4 1449.29 Z\" fill=\"#000000\" fill-rule=\"evenodd\" fill-opacity=\"1\" /><path clip-path=\"url(#clip530)\" d=\"M1926.93 1479.92 L1943.25 1479.92 L1943.25 1483.85 L1921.31 1483.85 L1921.31 1479.92 Q1923.97 1477.16 1928.55 1472.53 Q1933.16 1467.88 1934.34 1466.54 Q1936.58 1464.01 1937.46 1462.28 Q1938.37 1460.52 1938.37 1458.83 Q1938.37 1456.07 1936.42 1454.34 Q1934.5 1452.6 1931.4 1452.6 Q1929.2 1452.6 1926.75 1453.37 Q1924.32 1454.13 1921.54 1455.68 L1921.54 1450.96 Q1924.36 1449.82 1926.82 1449.25 Q1929.27 1448.67 1931.31 1448.67 Q1936.68 1448.67 1939.87 1451.35 Q1943.07 1454.04 1943.07 1458.53 Q1943.07 1460.66 1942.26 1462.58 Q1941.47 1464.48 1939.36 1467.07 Q1938.78 1467.74 1935.68 1470.96 Q1932.58 1474.15 1926.93 1479.92 Z\" fill=\"#000000\" fill-rule=\"evenodd\" fill-opacity=\"1\" /><path clip-path=\"url(#clip530)\" d=\"M1963.07 1452.37 Q1959.46 1452.37 1957.63 1455.94 Q1955.82 1459.48 1955.82 1466.61 Q1955.82 1473.71 1957.63 1477.28 Q1959.46 1480.82 1963.07 1480.82 Q1966.7 1480.82 1968.51 1477.28 Q1970.33 1473.71 1970.33 1466.61 Q1970.33 1459.48 1968.51 1455.94 Q1966.7 1452.37 1963.07 1452.37 M1963.07 1448.67 Q1968.88 1448.67 1971.93 1453.27 Q1975.01 1457.86 1975.01 1466.61 Q1975.01 1475.33 1971.93 1479.94 Q1968.88 1484.52 1963.07 1484.52 Q1957.26 1484.52 1954.18 1479.94 Q1951.12 1475.33 1951.12 1466.61 Q1951.12 1457.86 1954.18 1453.27 Q1957.26 1448.67 1963.07 1448.67 Z\" fill=\"#000000\" fill-rule=\"evenodd\" fill-opacity=\"1\" /><path clip-path=\"url(#clip530)\" d=\"M1210.45 1520.52 L1216.88 1520.52 L1216.88 1540 L1240.25 1540 L1240.25 1520.52 L1246.67 1520.52 L1246.67 1568.04 L1240.25 1568.04 L1240.25 1545.41 L1216.88 1545.41 L1216.88 1568.04 L1210.45 1568.04 L1210.45 1520.52 Z\" fill=\"#000000\" fill-rule=\"evenodd\" fill-opacity=\"1\" /><path clip-path=\"url(#clip530)\" d=\"M1273.03 1536.5 Q1268.32 1536.5 1265.58 1540.19 Q1262.84 1543.85 1262.84 1550.25 Q1262.84 1556.65 1265.55 1560.34 Q1268.29 1564 1273.03 1564 Q1277.71 1564 1280.44 1560.31 Q1283.18 1556.62 1283.18 1550.25 Q1283.18 1543.92 1280.44 1540.23 Q1277.71 1536.5 1273.03 1536.5 M1273.03 1531.54 Q1280.67 1531.54 1285.03 1536.5 Q1289.39 1541.47 1289.39 1550.25 Q1289.39 1559 1285.03 1564 Q1280.67 1568.97 1273.03 1568.97 Q1265.36 1568.97 1261 1564 Q1256.67 1559 1256.67 1550.25 Q1256.67 1541.47 1261 1536.5 Q1265.36 1531.54 1273.03 1531.54 Z\" fill=\"#000000\" fill-rule=\"evenodd\" fill-opacity=\"1\" /><path clip-path=\"url(#clip530)\" d=\"M1298.49 1553.98 L1298.49 1532.4 L1304.35 1532.4 L1304.35 1553.75 Q1304.35 1558.81 1306.32 1561.36 Q1308.29 1563.87 1312.24 1563.87 Q1316.98 1563.87 1319.72 1560.85 Q1322.49 1557.83 1322.49 1552.61 L1322.49 1532.4 L1328.35 1532.4 L1328.35 1568.04 L1322.49 1568.04 L1322.49 1562.57 Q1320.36 1565.82 1317.52 1567.41 Q1314.72 1568.97 1311 1568.97 Q1304.86 1568.97 1301.67 1565.15 Q1298.49 1561.33 1298.49 1553.98 M1313.23 1531.54 L1313.23 1531.54 Z\" fill=\"#000000\" fill-rule=\"evenodd\" fill-opacity=\"1\" /><path clip-path=\"url(#clip530)\" d=\"M1361.07 1537.87 Q1360.08 1537.3 1358.9 1537.04 Q1357.76 1536.76 1356.36 1536.76 Q1351.39 1536.76 1348.72 1540 Q1346.07 1543.22 1346.07 1549.27 L1346.07 1568.04 L1340.19 1568.04 L1340.19 1532.4 L1346.07 1532.4 L1346.07 1537.93 Q1347.92 1534.69 1350.88 1533.13 Q1353.84 1531.54 1358.07 1531.54 Q1358.68 1531.54 1359.41 1531.63 Q1360.14 1531.7 1361.03 1531.85 L1361.07 1537.87 Z\" fill=\"#000000\" fill-rule=\"evenodd\" fill-opacity=\"1\" /><path clip-path=\"url(#clip530)\" d=\"M1389.93 1533.45 L1389.93 1538.98 Q1387.45 1537.71 1384.78 1537.07 Q1382.1 1536.44 1379.24 1536.44 Q1374.88 1536.44 1372.68 1537.77 Q1370.52 1539.11 1370.52 1541.79 Q1370.52 1543.82 1372.08 1545 Q1373.64 1546.15 1378.35 1547.2 L1380.35 1547.64 Q1386.59 1548.98 1389.2 1551.43 Q1391.84 1553.85 1391.84 1558.21 Q1391.84 1563.17 1387.9 1566.07 Q1383.98 1568.97 1377.11 1568.97 Q1374.24 1568.97 1371.12 1568.39 Q1368.04 1567.85 1364.6 1566.74 L1364.6 1560.69 Q1367.85 1562.38 1371 1563.24 Q1374.15 1564.07 1377.24 1564.07 Q1381.37 1564.07 1383.6 1562.66 Q1385.83 1561.23 1385.83 1558.65 Q1385.83 1556.27 1384.21 1554.99 Q1382.61 1553.72 1377.17 1552.54 L1375.13 1552.07 Q1369.69 1550.92 1367.27 1548.56 Q1364.85 1546.18 1364.85 1542.04 Q1364.85 1537.01 1368.42 1534.27 Q1371.98 1531.54 1378.54 1531.54 Q1381.79 1531.54 1384.65 1532.01 Q1387.52 1532.49 1389.93 1533.45 Z\" fill=\"#000000\" fill-rule=\"evenodd\" fill-opacity=\"1\" /><polyline clip-path=\"url(#clip532)\" style=\"stroke:#000000; stroke-linecap:butt; stroke-linejoin:round; stroke-width:2; stroke-opacity:0.1; fill:none\" points=\"\n",
       "  249.542,1386.4 2352.76,1386.4 \n",
       "  \"/>\n",
       "<polyline clip-path=\"url(#clip532)\" style=\"stroke:#000000; stroke-linecap:butt; stroke-linejoin:round; stroke-width:2; stroke-opacity:0.1; fill:none\" points=\"\n",
       "  249.542,1079.86 2352.76,1079.86 \n",
       "  \"/>\n",
       "<polyline clip-path=\"url(#clip532)\" style=\"stroke:#000000; stroke-linecap:butt; stroke-linejoin:round; stroke-width:2; stroke-opacity:0.1; fill:none\" points=\"\n",
       "  249.542,773.326 2352.76,773.326 \n",
       "  \"/>\n",
       "<polyline clip-path=\"url(#clip532)\" style=\"stroke:#000000; stroke-linecap:butt; stroke-linejoin:round; stroke-width:2; stroke-opacity:0.1; fill:none\" points=\"\n",
       "  249.542,466.791 2352.76,466.791 \n",
       "  \"/>\n",
       "<polyline clip-path=\"url(#clip532)\" style=\"stroke:#000000; stroke-linecap:butt; stroke-linejoin:round; stroke-width:2; stroke-opacity:0.1; fill:none\" points=\"\n",
       "  249.542,160.256 2352.76,160.256 \n",
       "  \"/>\n",
       "<polyline clip-path=\"url(#clip530)\" style=\"stroke:#000000; stroke-linecap:butt; stroke-linejoin:round; stroke-width:4; stroke-opacity:1; fill:none\" points=\"\n",
       "  249.542,1423.18 249.542,123.472 \n",
       "  \"/>\n",
       "<polyline clip-path=\"url(#clip530)\" style=\"stroke:#000000; stroke-linecap:butt; stroke-linejoin:round; stroke-width:4; stroke-opacity:1; fill:none\" points=\"\n",
       "  249.542,1386.4 274.781,1386.4 \n",
       "  \"/>\n",
       "<polyline clip-path=\"url(#clip530)\" style=\"stroke:#000000; stroke-linecap:butt; stroke-linejoin:round; stroke-width:4; stroke-opacity:1; fill:none\" points=\"\n",
       "  249.542,1079.86 274.781,1079.86 \n",
       "  \"/>\n",
       "<polyline clip-path=\"url(#clip530)\" style=\"stroke:#000000; stroke-linecap:butt; stroke-linejoin:round; stroke-width:4; stroke-opacity:1; fill:none\" points=\"\n",
       "  249.542,773.326 274.781,773.326 \n",
       "  \"/>\n",
       "<polyline clip-path=\"url(#clip530)\" style=\"stroke:#000000; stroke-linecap:butt; stroke-linejoin:round; stroke-width:4; stroke-opacity:1; fill:none\" points=\"\n",
       "  249.542,466.791 274.781,466.791 \n",
       "  \"/>\n",
       "<polyline clip-path=\"url(#clip530)\" style=\"stroke:#000000; stroke-linecap:butt; stroke-linejoin:round; stroke-width:4; stroke-opacity:1; fill:none\" points=\"\n",
       "  249.542,160.256 274.781,160.256 \n",
       "  \"/>\n",
       "<path clip-path=\"url(#clip530)\" d=\"M126.205 1372.19 Q122.593 1372.19 120.765 1375.76 Q118.959 1379.3 118.959 1386.43 Q118.959 1393.54 120.765 1397.1 Q122.593 1400.64 126.205 1400.64 Q129.839 1400.64 131.644 1397.1 Q133.473 1393.54 133.473 1386.43 Q133.473 1379.3 131.644 1375.76 Q129.839 1372.19 126.205 1372.19 M126.205 1368.49 Q132.015 1368.49 135.07 1373.1 Q138.149 1377.68 138.149 1386.43 Q138.149 1395.16 135.07 1399.76 Q132.015 1404.35 126.205 1404.35 Q120.394 1404.35 117.316 1399.76 Q114.26 1395.16 114.26 1386.43 Q114.26 1377.68 117.316 1373.1 Q120.394 1368.49 126.205 1368.49 Z\" fill=\"#000000\" fill-rule=\"evenodd\" fill-opacity=\"1\" /><path clip-path=\"url(#clip530)\" d=\"M146.366 1397.8 L151.251 1397.8 L151.251 1403.68 L146.366 1403.68 L146.366 1397.8 Z\" fill=\"#000000\" fill-rule=\"evenodd\" fill-opacity=\"1\" /><path clip-path=\"url(#clip530)\" d=\"M171.436 1372.19 Q167.825 1372.19 165.996 1375.76 Q164.19 1379.3 164.19 1386.43 Q164.19 1393.54 165.996 1397.1 Q167.825 1400.64 171.436 1400.64 Q175.07 1400.64 176.876 1397.1 Q178.704 1393.54 178.704 1386.43 Q178.704 1379.3 176.876 1375.76 Q175.07 1372.19 171.436 1372.19 M171.436 1368.49 Q177.246 1368.49 180.301 1373.1 Q183.38 1377.68 183.38 1386.43 Q183.38 1395.16 180.301 1399.76 Q177.246 1404.35 171.436 1404.35 Q165.626 1404.35 162.547 1399.76 Q159.491 1395.16 159.491 1386.43 Q159.491 1377.68 162.547 1373.1 Q165.626 1368.49 171.436 1368.49 Z\" fill=\"#000000\" fill-rule=\"evenodd\" fill-opacity=\"1\" /><path clip-path=\"url(#clip530)\" d=\"M201.598 1372.19 Q197.987 1372.19 196.158 1375.76 Q194.352 1379.3 194.352 1386.43 Q194.352 1393.54 196.158 1397.1 Q197.987 1400.64 201.598 1400.64 Q205.232 1400.64 207.037 1397.1 Q208.866 1393.54 208.866 1386.43 Q208.866 1379.3 207.037 1375.76 Q205.232 1372.19 201.598 1372.19 M201.598 1368.49 Q207.408 1368.49 210.463 1373.1 Q213.542 1377.68 213.542 1386.43 Q213.542 1395.16 210.463 1399.76 Q207.408 1404.35 201.598 1404.35 Q195.787 1404.35 192.709 1399.76 Q189.653 1395.16 189.653 1386.43 Q189.653 1377.68 192.709 1373.1 Q195.787 1368.49 201.598 1368.49 Z\" fill=\"#000000\" fill-rule=\"evenodd\" fill-opacity=\"1\" /><path clip-path=\"url(#clip530)\" d=\"M127.2 1065.66 Q123.589 1065.66 121.76 1069.22 Q119.955 1072.77 119.955 1079.9 Q119.955 1087 121.76 1090.57 Q123.589 1094.11 127.2 1094.11 Q130.834 1094.11 132.64 1090.57 Q134.468 1087 134.468 1079.9 Q134.468 1072.77 132.64 1069.22 Q130.834 1065.66 127.2 1065.66 M127.2 1061.96 Q133.01 1061.96 136.066 1066.56 Q139.144 1071.15 139.144 1079.9 Q139.144 1088.62 136.066 1093.23 Q133.01 1097.81 127.2 1097.81 Q121.39 1097.81 118.311 1093.23 Q115.256 1088.62 115.256 1079.9 Q115.256 1071.15 118.311 1066.56 Q121.39 1061.96 127.2 1061.96 Z\" fill=\"#000000\" fill-rule=\"evenodd\" fill-opacity=\"1\" /><path clip-path=\"url(#clip530)\" d=\"M147.362 1091.26 L152.246 1091.26 L152.246 1097.14 L147.362 1097.14 L147.362 1091.26 Z\" fill=\"#000000\" fill-rule=\"evenodd\" fill-opacity=\"1\" /><path clip-path=\"url(#clip530)\" d=\"M166.459 1093.21 L182.778 1093.21 L182.778 1097.14 L160.834 1097.14 L160.834 1093.21 Q163.496 1090.45 168.079 1085.82 Q172.686 1081.17 173.866 1079.83 Q176.112 1077.3 176.991 1075.57 Q177.894 1073.81 177.894 1072.12 Q177.894 1069.36 175.95 1067.63 Q174.028 1065.89 170.927 1065.89 Q168.727 1065.89 166.274 1066.65 Q163.843 1067.42 161.065 1068.97 L161.065 1064.25 Q163.89 1063.11 166.343 1062.53 Q168.797 1061.96 170.834 1061.96 Q176.204 1061.96 179.399 1064.64 Q182.593 1067.33 182.593 1071.82 Q182.593 1073.95 181.783 1075.87 Q180.996 1077.77 178.889 1080.36 Q178.311 1081.03 175.209 1084.25 Q172.107 1087.44 166.459 1093.21 Z\" fill=\"#000000\" fill-rule=\"evenodd\" fill-opacity=\"1\" /><path clip-path=\"url(#clip530)\" d=\"M192.639 1062.58 L210.996 1062.58 L210.996 1066.52 L196.922 1066.52 L196.922 1074.99 Q197.94 1074.64 198.959 1074.48 Q199.977 1074.29 200.996 1074.29 Q206.783 1074.29 210.162 1077.47 Q213.542 1080.64 213.542 1086.05 Q213.542 1091.63 210.07 1094.73 Q206.598 1097.81 200.278 1097.81 Q198.102 1097.81 195.834 1097.44 Q193.588 1097.07 191.181 1096.33 L191.181 1091.63 Q193.264 1092.77 195.487 1093.32 Q197.709 1093.88 200.186 1093.88 Q204.19 1093.88 206.528 1091.77 Q208.866 1089.66 208.866 1086.05 Q208.866 1082.44 206.528 1080.34 Q204.19 1078.23 200.186 1078.23 Q198.311 1078.23 196.436 1078.65 Q194.584 1079.06 192.639 1079.94 L192.639 1062.58 Z\" fill=\"#000000\" fill-rule=\"evenodd\" fill-opacity=\"1\" /><path clip-path=\"url(#clip530)\" d=\"M126.205 759.125 Q122.593 759.125 120.765 762.689 Q118.959 766.231 118.959 773.361 Q118.959 780.467 120.765 784.032 Q122.593 787.574 126.205 787.574 Q129.839 787.574 131.644 784.032 Q133.473 780.467 133.473 773.361 Q133.473 766.231 131.644 762.689 Q129.839 759.125 126.205 759.125 M126.205 755.421 Q132.015 755.421 135.07 760.027 Q138.149 764.611 138.149 773.361 Q138.149 782.088 135.07 786.694 Q132.015 791.277 126.205 791.277 Q120.394 791.277 117.316 786.694 Q114.26 782.088 114.26 773.361 Q114.26 764.611 117.316 760.027 Q120.394 755.421 126.205 755.421 Z\" fill=\"#000000\" fill-rule=\"evenodd\" fill-opacity=\"1\" /><path clip-path=\"url(#clip530)\" d=\"M146.366 784.726 L151.251 784.726 L151.251 790.606 L146.366 790.606 L146.366 784.726 Z\" fill=\"#000000\" fill-rule=\"evenodd\" fill-opacity=\"1\" /><path clip-path=\"url(#clip530)\" d=\"M161.482 756.046 L179.839 756.046 L179.839 759.981 L165.765 759.981 L165.765 768.453 Q166.783 768.106 167.802 767.944 Q168.82 767.759 169.839 767.759 Q175.626 767.759 179.005 770.93 Q182.385 774.101 182.385 779.518 Q182.385 785.097 178.913 788.199 Q175.44 791.277 169.121 791.277 Q166.945 791.277 164.677 790.907 Q162.431 790.537 160.024 789.796 L160.024 785.097 Q162.107 786.231 164.329 786.787 Q166.552 787.342 169.028 787.342 Q173.033 787.342 175.371 785.236 Q177.709 783.129 177.709 779.518 Q177.709 775.907 175.371 773.801 Q173.033 771.694 169.028 771.694 Q167.153 771.694 165.278 772.111 Q163.427 772.527 161.482 773.407 L161.482 756.046 Z\" fill=\"#000000\" fill-rule=\"evenodd\" fill-opacity=\"1\" /><path clip-path=\"url(#clip530)\" d=\"M201.598 759.125 Q197.987 759.125 196.158 762.689 Q194.352 766.231 194.352 773.361 Q194.352 780.467 196.158 784.032 Q197.987 787.574 201.598 787.574 Q205.232 787.574 207.037 784.032 Q208.866 780.467 208.866 773.361 Q208.866 766.231 207.037 762.689 Q205.232 759.125 201.598 759.125 M201.598 755.421 Q207.408 755.421 210.463 760.027 Q213.542 764.611 213.542 773.361 Q213.542 782.088 210.463 786.694 Q207.408 791.277 201.598 791.277 Q195.787 791.277 192.709 786.694 Q189.653 782.088 189.653 773.361 Q189.653 764.611 192.709 760.027 Q195.787 755.421 201.598 755.421 Z\" fill=\"#000000\" fill-rule=\"evenodd\" fill-opacity=\"1\" /><path clip-path=\"url(#clip530)\" d=\"M127.2 452.59 Q123.589 452.59 121.76 456.155 Q119.955 459.696 119.955 466.826 Q119.955 473.932 121.76 477.497 Q123.589 481.039 127.2 481.039 Q130.834 481.039 132.64 477.497 Q134.468 473.932 134.468 466.826 Q134.468 459.696 132.64 456.155 Q130.834 452.59 127.2 452.59 M127.2 448.886 Q133.01 448.886 136.066 453.493 Q139.144 458.076 139.144 466.826 Q139.144 475.553 136.066 480.159 Q133.01 484.742 127.2 484.742 Q121.39 484.742 118.311 480.159 Q115.256 475.553 115.256 466.826 Q115.256 458.076 118.311 453.493 Q121.39 448.886 127.2 448.886 Z\" fill=\"#000000\" fill-rule=\"evenodd\" fill-opacity=\"1\" /><path clip-path=\"url(#clip530)\" d=\"M147.362 478.192 L152.246 478.192 L152.246 484.071 L147.362 484.071 L147.362 478.192 Z\" fill=\"#000000\" fill-rule=\"evenodd\" fill-opacity=\"1\" /><path clip-path=\"url(#clip530)\" d=\"M161.251 449.511 L183.473 449.511 L183.473 451.502 L170.927 484.071 L166.042 484.071 L177.848 453.446 L161.251 453.446 L161.251 449.511 Z\" fill=\"#000000\" fill-rule=\"evenodd\" fill-opacity=\"1\" /><path clip-path=\"url(#clip530)\" d=\"M192.639 449.511 L210.996 449.511 L210.996 453.446 L196.922 453.446 L196.922 461.918 Q197.94 461.571 198.959 461.409 Q199.977 461.224 200.996 461.224 Q206.783 461.224 210.162 464.395 Q213.542 467.567 213.542 472.983 Q213.542 478.562 210.07 481.664 Q206.598 484.742 200.278 484.742 Q198.102 484.742 195.834 484.372 Q193.588 484.002 191.181 483.261 L191.181 478.562 Q193.264 479.696 195.487 480.252 Q197.709 480.807 200.186 480.807 Q204.19 480.807 206.528 478.701 Q208.866 476.594 208.866 472.983 Q208.866 469.372 206.528 467.266 Q204.19 465.159 200.186 465.159 Q198.311 465.159 196.436 465.576 Q194.584 465.993 192.639 466.872 L192.639 449.511 Z\" fill=\"#000000\" fill-rule=\"evenodd\" fill-opacity=\"1\" /><path clip-path=\"url(#clip530)\" d=\"M117.015 173.601 L124.654 173.601 L124.654 147.236 L116.343 148.902 L116.343 144.643 L124.607 142.976 L129.283 142.976 L129.283 173.601 L136.922 173.601 L136.922 177.536 L117.015 177.536 L117.015 173.601 Z\" fill=\"#000000\" fill-rule=\"evenodd\" fill-opacity=\"1\" /><path clip-path=\"url(#clip530)\" d=\"M146.366 171.657 L151.251 171.657 L151.251 177.536 L146.366 177.536 L146.366 171.657 Z\" fill=\"#000000\" fill-rule=\"evenodd\" fill-opacity=\"1\" /><path clip-path=\"url(#clip530)\" d=\"M171.436 146.055 Q167.825 146.055 165.996 149.62 Q164.19 153.161 164.19 160.291 Q164.19 167.397 165.996 170.962 Q167.825 174.504 171.436 174.504 Q175.07 174.504 176.876 170.962 Q178.704 167.397 178.704 160.291 Q178.704 153.161 176.876 149.62 Q175.07 146.055 171.436 146.055 M171.436 142.351 Q177.246 142.351 180.301 146.958 Q183.38 151.541 183.38 160.291 Q183.38 169.018 180.301 173.624 Q177.246 178.208 171.436 178.208 Q165.626 178.208 162.547 173.624 Q159.491 169.018 159.491 160.291 Q159.491 151.541 162.547 146.958 Q165.626 142.351 171.436 142.351 Z\" fill=\"#000000\" fill-rule=\"evenodd\" fill-opacity=\"1\" /><path clip-path=\"url(#clip530)\" d=\"M201.598 146.055 Q197.987 146.055 196.158 149.62 Q194.352 153.161 194.352 160.291 Q194.352 167.397 196.158 170.962 Q197.987 174.504 201.598 174.504 Q205.232 174.504 207.037 170.962 Q208.866 167.397 208.866 160.291 Q208.866 153.161 207.037 149.62 Q205.232 146.055 201.598 146.055 M201.598 142.351 Q207.408 142.351 210.463 146.958 Q213.542 151.541 213.542 160.291 Q213.542 169.018 210.463 173.624 Q207.408 178.208 201.598 178.208 Q195.787 178.208 192.709 173.624 Q189.653 169.018 189.653 160.291 Q189.653 151.541 192.709 146.958 Q195.787 142.351 201.598 142.351 Z\" fill=\"#000000\" fill-rule=\"evenodd\" fill-opacity=\"1\" /><path clip-path=\"url(#clip530)\" d=\"M20.1444 754.165 L26.9239 754.165 Q23.9002 757.412 22.4043 761.104 Q20.9083 764.764 20.9083 768.902 Q20.9083 777.05 25.9054 781.379 Q30.8707 785.707 40.2919 785.707 Q49.6813 785.707 54.6784 781.379 Q59.6436 777.05 59.6436 768.902 Q59.6436 764.764 58.1477 761.104 Q56.6518 757.412 53.6281 754.165 L60.3439 754.165 Q62.6355 757.539 63.7814 761.327 Q64.9272 765.082 64.9272 769.284 Q64.9272 780.074 58.3387 786.28 Q51.7183 792.487 40.2919 792.487 Q28.8336 792.487 22.2451 786.28 Q15.6248 780.074 15.6248 769.284 Q15.6248 765.019 16.7706 761.263 Q17.8846 757.475 20.1444 754.165 Z\" fill=\"#000000\" fill-rule=\"evenodd\" fill-opacity=\"1\" /><path clip-path=\"url(#clip530)\" d=\"M1014.14 14.0809 L1014.14 22.0612 Q1009.48 19.8332 1005.35 18.7395 Q1001.22 17.6457 997.372 17.6457 Q990.688 17.6457 987.042 20.2383 Q983.437 22.8309 983.437 27.611 Q983.437 31.6214 985.827 33.6873 Q988.257 35.7128 994.982 36.9686 L999.924 37.9813 Q1009.08 39.7232 1013.41 44.1387 Q1017.79 48.5136 1017.79 55.8863 Q1017.79 64.6767 1011.87 69.2137 Q1006 73.7508 994.617 73.7508 Q990.323 73.7508 985.462 72.7785 Q980.641 71.8063 975.456 69.9024 L975.456 61.4765 Q980.439 64.2716 985.219 65.6895 Q989.999 67.1073 994.617 67.1073 Q1001.63 67.1073 1005.43 64.3527 Q1009.24 61.598 1009.24 56.4939 Q1009.24 52.0379 1006.49 49.5264 Q1003.77 47.0148 997.534 45.759 L992.551 44.7868 Q983.396 42.9639 979.305 39.075 Q975.213 35.1862 975.213 28.2591 Q975.213 20.2383 980.844 15.6203 Q986.515 11.0023 996.44 11.0023 Q1000.69 11.0023 1005.11 11.7719 Q1009.52 12.5416 1014.14 14.0809 Z\" fill=\"#000000\" fill-rule=\"evenodd\" fill-opacity=\"1\" /><path clip-path=\"url(#clip530)\" d=\"M1069.03 48.0275 L1069.03 51.6733 L1034.76 51.6733 Q1035.25 59.3701 1039.38 63.421 Q1043.55 67.4314 1050.97 67.4314 Q1055.26 67.4314 1059.27 66.3781 Q1063.32 65.3249 1067.29 63.2184 L1067.29 70.267 Q1063.28 71.9684 1059.07 72.8596 Q1054.85 73.7508 1050.52 73.7508 Q1039.66 73.7508 1033.3 67.4314 Q1026.98 61.1119 1026.98 50.3365 Q1026.98 39.1965 1032.98 32.6746 Q1039.01 26.1121 1049.22 26.1121 Q1058.38 26.1121 1063.68 32.0264 Q1069.03 37.9003 1069.03 48.0275 M1061.58 45.84 Q1061.5 39.7232 1058.14 36.0774 Q1054.81 32.4315 1049.3 32.4315 Q1043.07 32.4315 1039.3 35.9558 Q1035.57 39.4801 1035 45.8805 L1061.58 45.84 Z\" fill=\"#000000\" fill-rule=\"evenodd\" fill-opacity=\"1\" /><path clip-path=\"url(#clip530)\" d=\"M1088.64 14.324 L1088.64 27.2059 L1103.99 27.2059 L1103.99 32.9987 L1088.64 32.9987 L1088.64 57.6282 Q1088.64 63.1779 1090.14 64.7578 Q1091.68 66.3376 1096.34 66.3376 L1103.99 66.3376 L1103.99 72.576 L1096.34 72.576 Q1087.71 72.576 1084.43 69.3758 Q1081.14 66.1351 1081.14 57.6282 L1081.14 32.9987 L1075.68 32.9987 L1075.68 27.2059 L1081.14 27.2059 L1081.14 14.324 L1088.64 14.324 Z\" fill=\"#000000\" fill-rule=\"evenodd\" fill-opacity=\"1\" /><path clip-path=\"url(#clip530)\" d=\"M1105.73 12.096 L1156.9 12.096 L1156.9 18.9825 L1135.43 18.9825 L1135.43 72.576 L1127.2 72.576 L1127.2 18.9825 L1105.73 18.9825 L1105.73 12.096 Z\" fill=\"#000000\" fill-rule=\"evenodd\" fill-opacity=\"1\" /><path clip-path=\"url(#clip530)\" d=\"M1189.18 48.0275 L1189.18 51.6733 L1154.91 51.6733 Q1155.4 59.3701 1159.53 63.421 Q1163.7 67.4314 1171.11 67.4314 Q1175.41 67.4314 1179.42 66.3781 Q1183.47 65.3249 1187.44 63.2184 L1187.44 70.267 Q1183.43 71.9684 1179.22 72.8596 Q1175 73.7508 1170.67 73.7508 Q1159.81 73.7508 1153.45 67.4314 Q1147.13 61.1119 1147.13 50.3365 Q1147.13 39.1965 1153.13 32.6746 Q1159.16 26.1121 1169.37 26.1121 Q1178.53 26.1121 1183.83 32.0264 Q1189.18 37.9003 1189.18 48.0275 M1181.73 45.84 Q1181.65 39.7232 1178.29 36.0774 Q1174.96 32.4315 1169.45 32.4315 Q1163.22 32.4315 1159.45 35.9558 Q1155.72 39.4801 1155.15 45.8805 L1181.73 45.84 Z\" fill=\"#000000\" fill-rule=\"evenodd\" fill-opacity=\"1\" /><path clip-path=\"url(#clip530)\" d=\"M1236.74 35.9153 Q1239.53 30.8922 1243.42 28.5022 Q1247.31 26.1121 1252.58 26.1121 Q1259.67 26.1121 1263.52 31.0947 Q1267.36 36.0368 1267.36 45.1919 L1267.36 72.576 L1259.87 72.576 L1259.87 45.4349 Q1259.87 38.913 1257.56 35.7533 Q1255.25 32.5936 1250.51 32.5936 Q1244.72 32.5936 1241.36 36.4419 Q1238 40.2903 1238 46.9338 L1238 72.576 L1230.5 72.576 L1230.5 45.4349 Q1230.5 38.8725 1228.19 35.7533 Q1225.88 32.5936 1221.06 32.5936 Q1215.35 32.5936 1211.99 36.4824 Q1208.63 40.3308 1208.63 46.9338 L1208.63 72.576 L1201.13 72.576 L1201.13 27.2059 L1208.63 27.2059 L1208.63 34.2544 Q1211.18 30.082 1214.74 28.0971 Q1218.31 26.1121 1223.21 26.1121 Q1228.15 26.1121 1231.59 28.6237 Q1235.08 31.1352 1236.74 35.9153 Z\" fill=\"#000000\" fill-rule=\"evenodd\" fill-opacity=\"1\" /><path clip-path=\"url(#clip530)\" d=\"M1289.44 65.7705 L1289.44 89.8329 L1281.95 89.8329 L1281.95 27.2059 L1289.44 27.2059 L1289.44 34.0924 Q1291.79 30.0415 1295.36 28.0971 Q1298.96 26.1121 1303.94 26.1121 Q1312.21 26.1121 1317.35 32.6746 Q1322.54 39.2371 1322.54 49.9314 Q1322.54 60.6258 1317.35 67.1883 Q1312.21 73.7508 1303.94 73.7508 Q1298.96 73.7508 1295.36 71.8063 Q1291.79 69.8214 1289.44 65.7705 M1314.8 49.9314 Q1314.8 41.7081 1311.4 37.0496 Q1308.04 32.3505 1302.12 32.3505 Q1296.21 32.3505 1292.8 37.0496 Q1289.44 41.7081 1289.44 49.9314 Q1289.44 58.1548 1292.8 62.8538 Q1296.21 67.5124 1302.12 67.5124 Q1308.04 67.5124 1311.4 62.8538 Q1314.8 58.1548 1314.8 49.9314 Z\" fill=\"#000000\" fill-rule=\"evenodd\" fill-opacity=\"1\" /><path clip-path=\"url(#clip530)\" d=\"M1373.7 48.0275 L1373.7 51.6733 L1339.43 51.6733 Q1339.92 59.3701 1344.05 63.421 Q1348.22 67.4314 1355.63 67.4314 Q1359.93 67.4314 1363.94 66.3781 Q1367.99 65.3249 1371.96 63.2184 L1371.96 70.267 Q1367.95 71.9684 1363.74 72.8596 Q1359.52 73.7508 1355.19 73.7508 Q1344.33 73.7508 1337.97 67.4314 Q1331.65 61.1119 1331.65 50.3365 Q1331.65 39.1965 1337.65 32.6746 Q1343.68 26.1121 1353.89 26.1121 Q1363.05 26.1121 1368.35 32.0264 Q1373.7 37.9003 1373.7 48.0275 M1366.25 45.84 Q1366.17 39.7232 1362.8 36.0774 Q1359.48 32.4315 1353.97 32.4315 Q1347.73 32.4315 1343.97 35.9558 Q1340.24 39.4801 1339.67 45.8805 L1366.25 45.84 Z\" fill=\"#000000\" fill-rule=\"evenodd\" fill-opacity=\"1\" /><path clip-path=\"url(#clip530)\" d=\"M1412.22 34.1734 Q1410.97 33.4443 1409.47 33.1202 Q1408.01 32.7556 1406.23 32.7556 Q1399.91 32.7556 1396.51 36.8875 Q1393.15 40.9789 1393.15 48.6757 L1393.15 72.576 L1385.65 72.576 L1385.65 27.2059 L1393.15 27.2059 L1393.15 34.2544 Q1395.49 30.1225 1399.26 28.1376 Q1403.03 26.1121 1408.42 26.1121 Q1409.19 26.1121 1410.12 26.2337 Q1411.05 26.3147 1412.18 26.5172 L1412.22 34.1734 Z\" fill=\"#000000\" fill-rule=\"evenodd\" fill-opacity=\"1\" /><path clip-path=\"url(#clip530)\" d=\"M1440.66 49.7694 Q1431.63 49.7694 1428.14 51.8354 Q1424.66 53.9013 1424.66 58.8839 Q1424.66 62.8538 1427.25 65.2034 Q1429.89 67.5124 1434.38 67.5124 Q1440.58 67.5124 1444.31 63.1374 Q1448.08 58.7219 1448.08 51.4303 L1448.08 49.7694 L1440.66 49.7694 M1455.53 46.6907 L1455.53 72.576 L1448.08 72.576 L1448.08 65.6895 Q1445.52 69.8214 1441.72 71.8063 Q1437.91 73.7508 1432.4 73.7508 Q1425.43 73.7508 1421.3 69.8619 Q1417.21 65.9325 1417.21 59.3701 Q1417.21 51.7138 1422.31 47.825 Q1427.46 43.9361 1437.62 43.9361 L1448.08 43.9361 L1448.08 43.2069 Q1448.08 38.0623 1444.67 35.2672 Q1441.31 32.4315 1435.19 32.4315 Q1431.3 32.4315 1427.62 33.3632 Q1423.93 34.295 1420.53 36.1584 L1420.53 29.2718 Q1424.62 27.692 1428.47 26.9223 Q1432.32 26.1121 1435.96 26.1121 Q1445.81 26.1121 1450.67 31.2163 Q1455.53 36.3204 1455.53 46.6907 Z\" fill=\"#000000\" fill-rule=\"evenodd\" fill-opacity=\"1\" /><path clip-path=\"url(#clip530)\" d=\"M1478.25 14.324 L1478.25 27.2059 L1493.61 27.2059 L1493.61 32.9987 L1478.25 32.9987 L1478.25 57.6282 Q1478.25 63.1779 1479.75 64.7578 Q1481.29 66.3376 1485.95 66.3376 L1493.61 66.3376 L1493.61 72.576 L1485.95 72.576 Q1477.32 72.576 1474.04 69.3758 Q1470.76 66.1351 1470.76 57.6282 L1470.76 32.9987 L1465.29 32.9987 L1465.29 27.2059 L1470.76 27.2059 L1470.76 14.324 L1478.25 14.324 Z\" fill=\"#000000\" fill-rule=\"evenodd\" fill-opacity=\"1\" /><path clip-path=\"url(#clip530)\" d=\"M1502.64 54.671 L1502.64 27.2059 L1510.09 27.2059 L1510.09 54.3874 Q1510.09 60.8284 1512.61 64.0691 Q1515.12 67.2693 1520.14 67.2693 Q1526.18 67.2693 1529.66 63.421 Q1533.18 59.5726 1533.18 52.9291 L1533.18 27.2059 L1540.64 27.2059 L1540.64 72.576 L1533.18 72.576 L1533.18 65.6084 Q1530.47 69.7404 1526.87 71.7658 Q1523.3 73.7508 1518.56 73.7508 Q1510.74 73.7508 1506.69 68.8897 Q1502.64 64.0286 1502.64 54.671 M1521.4 26.1121 L1521.4 26.1121 Z\" fill=\"#000000\" fill-rule=\"evenodd\" fill-opacity=\"1\" /><path clip-path=\"url(#clip530)\" d=\"M1582.28 34.1734 Q1581.03 33.4443 1579.53 33.1202 Q1578.07 32.7556 1576.29 32.7556 Q1569.97 32.7556 1566.56 36.8875 Q1563.2 40.9789 1563.2 48.6757 L1563.2 72.576 L1555.71 72.576 L1555.71 27.2059 L1563.2 27.2059 L1563.2 34.2544 Q1565.55 30.1225 1569.32 28.1376 Q1573.09 26.1121 1578.47 26.1121 Q1579.24 26.1121 1580.18 26.2337 Q1581.11 26.3147 1582.24 26.5172 L1582.28 34.1734 Z\" fill=\"#000000\" fill-rule=\"evenodd\" fill-opacity=\"1\" /><path clip-path=\"url(#clip530)\" d=\"M1627.08 48.0275 L1627.08 51.6733 L1592.81 51.6733 Q1593.3 59.3701 1597.43 63.421 Q1601.6 67.4314 1609.02 67.4314 Q1613.31 67.4314 1617.32 66.3781 Q1621.37 65.3249 1625.34 63.2184 L1625.34 70.267 Q1621.33 71.9684 1617.12 72.8596 Q1612.91 73.7508 1608.57 73.7508 Q1597.72 73.7508 1591.36 67.4314 Q1585.04 61.1119 1585.04 50.3365 Q1585.04 39.1965 1591.03 32.6746 Q1597.07 26.1121 1607.28 26.1121 Q1616.43 26.1121 1621.74 32.0264 Q1627.08 37.9003 1627.08 48.0275 M1619.63 45.84 Q1619.55 39.7232 1616.19 36.0774 Q1612.87 32.4315 1607.36 32.4315 Q1601.12 32.4315 1597.35 35.9558 Q1593.62 39.4801 1593.06 45.8805 L1619.63 45.84 Z\" fill=\"#000000\" fill-rule=\"evenodd\" fill-opacity=\"1\" /><polyline clip-path=\"url(#clip532)\" style=\"stroke:#009af9; stroke-linecap:butt; stroke-linejoin:round; stroke-width:4; stroke-opacity:1; fill:none\" points=\"\n",
       "  309.067,1386.4 395.335,160.256 481.603,160.256 567.871,160.256 654.139,160.256 740.407,160.256 826.675,160.256 912.943,160.256 999.211,160.256 1085.48,160.256 \n",
       "  1171.75,160.256 1258.01,160.256 1344.28,160.256 1430.55,160.256 1516.82,160.256 1603.09,160.256 1689.35,160.256 1775.62,160.256 1861.89,160.256 1948.16,160.256 \n",
       "  2034.43,160.256 2120.69,160.256 2206.96,160.256 2293.23,160.256 \n",
       "  \"/>\n",
       "<path clip-path=\"url(#clip530)\" d=\"\n",
       "M1996.53 287.756 L2282.65 287.756 L2282.65 166.796 L1996.53 166.796  Z\n",
       "  \" fill=\"#ffffff\" fill-rule=\"evenodd\" fill-opacity=\"1\"/>\n",
       "<polyline clip-path=\"url(#clip530)\" style=\"stroke:#000000; stroke-linecap:butt; stroke-linejoin:round; stroke-width:4; stroke-opacity:1; fill:none\" points=\"\n",
       "  1996.53,287.756 2282.65,287.756 2282.65,166.796 1996.53,166.796 1996.53,287.756 \n",
       "  \"/>\n",
       "<polyline clip-path=\"url(#clip530)\" style=\"stroke:#009af9; stroke-linecap:butt; stroke-linejoin:round; stroke-width:4; stroke-opacity:1; fill:none\" points=\"\n",
       "  2019.9,227.276 2160.11,227.276 \n",
       "  \"/>\n",
       "<path clip-path=\"url(#clip530)\" d=\"M2197.32 246.963 Q2195.52 251.593 2193.8 253.005 Q2192.09 254.417 2189.22 254.417 L2185.82 254.417 L2185.82 250.852 L2188.32 250.852 Q2190.08 250.852 2191.05 250.019 Q2192.02 249.185 2193.2 246.083 L2193.97 244.139 L2183.48 218.63 L2187.99 218.63 L2196.1 238.908 L2204.2 218.63 L2208.71 218.63 L2197.32 246.963 Z\" fill=\"#000000\" fill-rule=\"evenodd\" fill-opacity=\"1\" /><path clip-path=\"url(#clip530)\" d=\"M2216 240.621 L2223.64 240.621 L2223.64 214.255 L2215.33 215.922 L2215.33 211.662 L2223.6 209.996 L2228.27 209.996 L2228.27 240.621 L2235.91 240.621 L2235.91 244.556 L2216 244.556 L2216 240.621 Z\" fill=\"#000000\" fill-rule=\"evenodd\" fill-opacity=\"1\" /></svg>\n"
      ]
     },
     "execution_count": 583,
     "metadata": {},
     "output_type": "execute_result"
    }
   ],
   "source": [
    "using Plots\n",
    "x = 1:Hours\n",
    "plot(x,OnOff_Opt, title = \"SetTemperature\")\n",
    "xlabel!(\"Hours\")\n",
    "ylabel!(\"C\")"
   ]
  },
  {
   "cell_type": "code",
   "execution_count": null,
   "id": "9760ad4f",
   "metadata": {},
   "outputs": [],
   "source": [
    "plot(x, P_Grid_Optimized)\n",
    "xlabel!(\"Hours\")\n",
    "ylabel!(\"kW\")"
   ]
  },
  {
   "cell_type": "code",
   "execution_count": null,
   "id": "2e9d5f27",
   "metadata": {},
   "outputs": [],
   "source": [
    "##checking that demand is met\n",
    "plot(x, ElecDemand, alpha =0.5)\n",
    "check = P_Grid_Optimized + P_Batt_Optimized + PV\n",
    "plot!(x,check, alpha=0.5)\n",
    "xlabel!(\"Hours\")\n",
    "ylabel!(\"kW\")"
   ]
  },
  {
   "cell_type": "code",
   "execution_count": null,
   "id": "9a877e82",
   "metadata": {},
   "outputs": [],
   "source": [
    "using DataFrames\n",
    "df = DataFrame( E_Batt = E_Batt_Optimized,\n",
    "                P_Batt = P_Batt_Optimized,\n",
    "                P_Grid = P_Grid_Optimized,\n",
    "                P_Buy = P_Buy_Optimized,\n",
    "                P_Sell = P_Sell_Optimized,\n",
    "                Demand = ElecDemand,\n",
    "                PV = PV,\n",
    "                Binary = JuMP.value.(mu)\n",
    "               )"
   ]
  },
  {
   "cell_type": "code",
   "execution_count": null,
   "id": "f204a791",
   "metadata": {},
   "outputs": [],
   "source": [
    "using CSV\n",
    "CSV.write(\"Desktop\\\\OTESoutputnew.csv\", df)"
   ]
  },
  {
   "cell_type": "code",
   "execution_count": null,
   "id": "ef0eeb99",
   "metadata": {},
   "outputs": [],
   "source": []
  }
 ],
 "metadata": {
  "kernelspec": {
   "display_name": "JuliaPro_v1.5.3-1 1.5.3",
   "language": "julia",
   "name": "juliapro_v1.5.3-1-1.5"
  },
  "language_info": {
   "file_extension": ".jl",
   "mimetype": "application/julia",
   "name": "julia",
   "version": "1.5.3"
  }
 },
 "nbformat": 4,
 "nbformat_minor": 5
}
