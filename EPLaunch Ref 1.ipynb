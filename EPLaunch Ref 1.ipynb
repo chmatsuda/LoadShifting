{
 "cells": [
  {
   "cell_type": "markdown",
   "id": "74218085",
   "metadata": {},
   "source": [
    "Imports and Initializations"
   ]
  },
  {
   "cell_type": "code",
   "execution_count": 132,
   "id": "52f763aa",
   "metadata": {},
   "outputs": [
    {
     "name": "stdout",
     "output_type": "stream",
     "text": [
      "C:\\Users\\chmat\\Desktop\\THESIS\n",
      "EnergyPlus, Version 9.6.0-f420c06a69, YMD=2022.04.08 10:54\n",
      "EnergyPlus, Version 9.6.0-f420c06a69, YMD=2022.04.08 10:54\n",
      "PythonLinkage: Linked to Python Version: \"3.9.7 (tags/v3.9.7:1016ef3, Aug 30 2021, 20:19:38) [MSC v.1929 64 bit (AMD64)]\"\n",
      "Built on Platform: Windows_x86_64\n",
      "Usage: energyplus [options] [input-file]\n",
      "Options:\n",
      "  -a, --annual                 Force annual simulation\n",
      "  -c, --convert                Output IDF->epJSON or epJSON->IDF, dependent on\n",
      "                               input file type\n",
      "  -d, --output-directory ARG   Output directory path (default: current\n",
      "                               directory)\n",
      "  -D, --design-day             Force design-day-only simulation\n",
      "  -h, --help                   Display help information\n",
      "  -i, --idd ARG                Input data dictionary path (default: Energy+.idd\n",
      "                               in executable directory)\n",
      "  -j, --jobs ARG               Multi-thread with N threads; 1 thread with no\n",
      "                               arg. (Currently only for G-Function generation)\n",
      "  -m, --epmacro                Run EPMacro prior to simulation\n",
      "  -p, --output-prefix ARG      Prefix for output file names (default: eplus)\n",
      "  -r, --readvars               Run ReadVarsESO after simulation\n",
      "  -s, --output-suffix ARG      Suffix style for output file names (default: L)\n",
      "                                  L: Legacy (e.g., eplustbl.csv)\n",
      "                                  C: Capital (e.g., eplusTable.csv)\n",
      "                                  D: Dash (e.g., eplus-table.csv)\n",
      "  -v, --version                Display version information\n",
      "  -w, --weather ARG            Weather file path (default: in.epw in current\n",
      "                               directory)\n",
      "  -x, --expandobjects          Run ExpandObjects prior to simulation\n",
      "--convert-only                 Only convert IDF->epJSON or epJSON->IDF,\n",
      "                               dependent on input file type. No simulation\n",
      "Example: energyplus -w weather.epw -r input.idf\n"
     ]
    }
   ],
   "source": [
    "!cd\n",
    "!C:\\EnergyPlusV9-6-0\\EnergyPlus -v\n",
    "!C:\\EnergyPlusV9-6-0\\EnergyPlus -h\n",
    "import os\n",
    "import opyplus as op\n",
    "import numpy as np\n",
    "import matplotlib.pyplot as plt\n",
    "import scipy.sparse as sp\n",
    "import pandas as pd\n",
    "eplus_dir_path = op.get_eplus_base_dir_path((9, 6, 0))\n",
    "# print(\"Baseline Filepath:\")\n",
    "# filepath1 = input()\n",
    "# print(\"Optimized Filepath:\")\n",
    "# filepath2 = input()\n",
    "idf_path = \"C:\\\\Users\\\\chmat\\\\Documents\\\\GenOpt\\\\1\\\\backup\\\\REFBLDG1.expidf\"\n",
    "idf_path2 = \"C:\\\\Users\\\\chmat\\\\Documents\\\\GenOpt\\\\1\\\\output\\\\output.expidf\"\n",
    "idf_path3 = \"C:\\\\Users\\\\chmat\\\\Documents\\\\GenOpt\\\\1\\\\test\\\\test.expidf\"\n",
    "epw_path = os.path.join(\"-w\",\n",
    "    eplus_dir_path,\n",
    "    \"WeatherData\",\n",
    "    \"USA_CO_Denver-Aurora-Buckley.AFB.724695_TMY3.epw\")\n",
    "\n",
    "PricePerKwh = pd.read_excel (r'C:\\\\Users\\\\chmat\\\\Desktop\\\\THESIS\\\\Optimization Files\\\\TimeofDayPricing - Copy.xlsx')"
   ]
  },
  {
   "cell_type": "markdown",
   "id": "b304ba92",
   "metadata": {},
   "source": [
    "BASELINE"
   ]
  },
  {
   "cell_type": "code",
   "execution_count": 133,
   "id": "c2eccffc",
   "metadata": {},
   "outputs": [
    {
     "name": "stderr",
     "output_type": "stream",
     "text": [
      "called Simulation.from_input on a simulation directory that is not empty (Baseline)\n"
     ]
    },
    {
     "name": "stdout",
     "output_type": "stream",
     "text": [
      "status: finished\n",
      "\n"
     ]
    }
   ],
   "source": [
    "# # run simulation\n",
    "s = op.simulate(idf_path, epw_path, \"Baseline\")\n",
    "print(f\"status: {s.get_status()}\\n\")\n",
    "print(f\"Eplus .err file:\\n{s.get_out_err().get_content()}\")\n",
    "# eso = s.get_out_eso()\n",
    "# print(eso.get_info())"
   ]
  },
  {
   "cell_type": "markdown",
   "id": "f1658733",
   "metadata": {},
   "source": [
    "OPTIMIZED"
   ]
  },
  {
   "cell_type": "code",
   "execution_count": null,
   "id": "7af1e241",
   "metadata": {},
   "outputs": [],
   "source": [
    "# # run simulation\n",
    "s2 = op.simulate(idf_path2, epw_path, \"Optimized\")\n",
    "print(f\"status: {s2.get_status()}\\n\")\n",
    "print(f\"Eplus .err file:\\n{s2.get_out_err().get_content()}\")"
   ]
  },
  {
   "cell_type": "markdown",
   "id": "02fe4296",
   "metadata": {},
   "source": [
    "TEST"
   ]
  },
  {
   "cell_type": "code",
   "execution_count": 137,
   "id": "569d88ba",
   "metadata": {},
   "outputs": [],
   "source": [
    "# # # run simulation\n",
    "# s3 = op.simulate(idf_path3, epw_path, \"Test\")\n",
    "# print(f\"status: {s3.get_status()}\\n\")\n",
    "# print(f\"Eplus .err file:\\n{s3.get_out_err().get_content()}\")"
   ]
  },
  {
   "cell_type": "markdown",
   "id": "b03d30cf",
   "metadata": {},
   "source": [
    "PULL DATA"
   ]
  },
  {
   "cell_type": "code",
   "execution_count": 164,
   "id": "49e33416",
   "metadata": {},
   "outputs": [],
   "source": [
    "df = pd.read_csv('C:\\\\Users\\\\chmat\\\\Documents\\\\GenOpt\\\\1\\\\backup\\\\REFBLDG1.csv')\n",
    "df2 = pd.read_csv('C:\\\\Users\\\\chmat\\\\Documents\\\\GenOpt\\\\1\\\\output\\\\output.csv')\n",
    "#df3 = pd.read_csv('C:\\\\Users\\\\chmat\\\\Documents\\\\GenOpt\\\\1\\\\test\\\\REFBLDG1.csv')"
   ]
  },
  {
   "cell_type": "code",
   "execution_count": 165,
   "id": "fbe13529",
   "metadata": {},
   "outputs": [],
   "source": [
    "df = df[48:72]\n",
    "df2 = df2[48:72]\n",
    "#df3 = df3[48:72]"
   ]
  },
  {
   "cell_type": "code",
   "execution_count": 166,
   "id": "e41fed93",
   "metadata": {},
   "outputs": [
    {
     "data": {
      "text/plain": [
       "Index(['Date/Time',\n",
       "       'Environment:Site Outdoor Air Drybulb Temperature [C](Hourly)',\n",
       "       'LIVING_UNIT1:Zone Mean Air Temperature [C](Hourly)',\n",
       "       'ATTIC_UNIT1:Zone Mean Air Temperature [C](Hourly)',\n",
       "       'LIVING_UNIT1:Zone Air Temperature [C](Hourly)',\n",
       "       'LIVING_UNIT1:Zone Thermostat Heating Setpoint Temperature [C](Hourly)',\n",
       "       'ATTIC_UNIT1:Zone Air Temperature [C](Hourly)',\n",
       "       'ATTIC_UNIT1:Zone Thermostat Heating Setpoint Temperature [C](Hourly)',\n",
       "       'Heating:Electricity [J](Hourly) '],\n",
       "      dtype='object')"
      ]
     },
     "execution_count": 166,
     "metadata": {},
     "output_type": "execute_result"
    }
   ],
   "source": [
    "df2.keys()"
   ]
  },
  {
   "cell_type": "code",
   "execution_count": 167,
   "id": "4ec1f2ad",
   "metadata": {
    "scrolled": true
   },
   "outputs": [],
   "source": [
    "ZoneT = df[[\"LIVING_UNIT1:Zone Mean Air Temperature [C](Hourly)\"]]\n",
    "OutsideT = df[\"Environment:Site Outdoor Air Drybulb Temperature [C](Hourly)\"]\n",
    "Heating = df[\"General:Heating:Electricity [J](Hourly) \"]\n",
    "Setpoint = df[\"LIVING_UNIT1:Zone Thermostat Heating Setpoint Temperature [C](Hourly)\"]\n",
    "\n",
    "ZoneT2 = df2[[\"LIVING_UNIT1:Zone Mean Air Temperature [C](Hourly)\"]]\n",
    "OutsideT2 = df2[\"Environment:Site Outdoor Air Drybulb Temperature [C](Hourly)\"]\n",
    "Heating2 = df2[\"Heating:Electricity [J](Hourly) \"]\n",
    "Setpoint2 = df2[\"LIVING_UNIT1:Zone Thermostat Heating Setpoint Temperature [C](Hourly)\"]\n",
    "\n",
    "# ZoneT3 = df3[[\"LIVING_UNIT1:Zone Mean Air Temperature [C](Hourly)\"]]\n",
    "# OutsideT3 = df3[\"Environment:Site Outdoor Air Drybulb Temperature [C](Hourly)\"]\n",
    "# Heating3 = df3[\"General:Heating:Electricity [J](Hourly) \"]\n",
    "# Setpoint3 = df3[\"LIVING_UNIT1:Zone Thermostat Heating Setpoint Temperature [C](Hourly)\"]\n"
   ]
  },
  {
   "cell_type": "code",
   "execution_count": 168,
   "id": "44d09ecf",
   "metadata": {},
   "outputs": [
    {
     "data": {
      "text/plain": [
       "48    1.484245e+07\n",
       "49    1.253520e+07\n",
       "50    1.290767e+07\n",
       "51    1.251578e+07\n",
       "52    1.250329e+07\n",
       "53    1.193156e+07\n",
       "54    1.331642e+07\n",
       "55    1.421791e+07\n",
       "56    9.121921e+06\n",
       "57    6.560330e+06\n",
       "58    5.883402e+06\n",
       "59    6.521893e+06\n",
       "60    4.939703e+06\n",
       "61    4.886129e+06\n",
       "62    9.144205e+06\n",
       "63    8.195346e+06\n",
       "64    6.388103e+06\n",
       "65    8.983909e+06\n",
       "66    1.216807e+07\n",
       "67    1.330557e+07\n",
       "68    1.325031e+07\n",
       "69    1.527999e+07\n",
       "70    1.922212e+07\n",
       "71    1.859294e+07\n",
       "Name: General:Heating:Electricity [J](Hourly) , dtype: float64"
      ]
     },
     "execution_count": 168,
     "metadata": {},
     "output_type": "execute_result"
    }
   ],
   "source": [
    "Heating"
   ]
  },
  {
   "cell_type": "code",
   "execution_count": 169,
   "id": "e86ca7d5",
   "metadata": {},
   "outputs": [],
   "source": [
    "hours =24"
   ]
  },
  {
   "cell_type": "code",
   "execution_count": 171,
   "id": "04ad3a84",
   "metadata": {},
   "outputs": [
    {
     "name": "stdout",
     "output_type": "stream",
     "text": [
      "BASELINE: 0.26721421115285565 GJ\n",
      "OPTIMIZE: 0.18520935767121702 GJ\n"
     ]
    }
   ],
   "source": [
    "print( 'BASELINE: ' + str(sum (Heating[0:hours]/1000000000)) + ' GJ')\n",
    "#print( str(sum (Heating[0:hours]/3.6e6)) + 'kWh')\n",
    "print( 'OPTIMIZE: ' + str(sum (Heating2[0:hours]/1000000000)) + ' GJ')\n",
    "#print( 'TEST: ' + str(sum (Heating3[0:hours]/1000000000)) + ' GJ')"
   ]
  },
  {
   "cell_type": "code",
   "execution_count": 177,
   "id": "6eb51e2d",
   "metadata": {
    "scrolled": true
   },
   "outputs": [
    {
     "data": {
      "image/png": "[encoded data removed]",
      "text/plain": [
       "<Figure size 432x288 with 2 Axes>"
      ]
     },
     "metadata": {
      "needs_background": "light"
     },
     "output_type": "display_data"
    },
    {
     "data": {
      "image/png": "[encoded data removed]",
      "text/plain": [
       "<Figure size 432x288 with 2 Axes>"
      ]
     },
     "metadata": {
      "needs_background": "light"
     },
     "output_type": "display_data"
    }
   ],
   "source": [
    "## Baseline\n",
    "t = np.arange(0, hours, 1)\n",
    "data1 = ZoneT[0:hours]\n",
    "data2 = Setpoint[0:hours]\n",
    "\n",
    "fig, ax1 = plt.subplots()\n",
    "\n",
    "color = 'tab:red'\n",
    "title = \"Temperature Setpoint & Actual\"\n",
    "ax1.set_xlabel('time (h)')\n",
    "ax1.set_ylabel('Zone T', color=color)\n",
    "ax1.plot(t, data1, color=color)\n",
    "ax1.tick_params(axis='y', labelcolor=color)\n",
    "ax1.set_ylim([17, 24])\n",
    "\n",
    "ax2 = ax1.twinx()  # instantiate a second axes that shares the same x-axis\n",
    "\n",
    "color = 'tab:blue'\n",
    "ax2.set_ylabel('Setpoint T', color=color)  # we already handled the x-label with ax1\n",
    "ax2.plot(t, data2, color=color)\n",
    "ax2.tick_params(axis='y', labelcolor=color)\n",
    "ax2.set_ylim([17, 24])\n",
    "plt.title('Baseline')\n",
    "fig.tight_layout()  # otherwise the right y-label is slightly clipped\n",
    "plt.show()\n",
    "\n",
    "## Optimized\n",
    "t = np.arange(0, hours, 1)\n",
    "data1 = ZoneT2[0:hours]\n",
    "data2 = Setpoint2[0:hours]\n",
    "\n",
    "fig, ax1 = plt.subplots()\n",
    "\n",
    "color = 'tab:red'\n",
    "title = \"Temperature Setpoint & Actual\"\n",
    "ax1.set_xlabel('time (h)')\n",
    "ax1.set_ylabel('Zone T', color=color)\n",
    "ax1.plot(t, data1, color=color)\n",
    "ax1.tick_params(axis='y', labelcolor=color)\n",
    "ax1.set_ylim([17, 24])\n",
    "\n",
    "ax2 = ax1.twinx()  # instantiate a second axes that shares the same x-axis\n",
    "\n",
    "color = 'tab:blue'\n",
    "ax2.set_ylabel('Setpoint T', color=color)  # we already handled the x-label with ax1\n",
    "ax2.plot(t, data2, color=color)\n",
    "ax2.tick_params(axis='y', labelcolor=color)\n",
    "ax2.set_ylim([17, 24])\n",
    "plt.title('Optimized')\n",
    "fig.tight_layout()  # otherwise the right y-label is slightly clipped\n",
    "plt.show()\n",
    "\n",
    "## Test\n",
    "t = np.arange(0, hours, 1)\n",
    "data1 = ZoneT2[0:hours]\n",
    "data2 = Setpoint2[0:hours]\n",
    "\n",
    "fig, ax1 = plt.subplots()\n",
    "\n",
    "color = 'tab:red'\n",
    "title = \"Temperature Setpoint & Actual\"\n",
    "ax1.set_xlabel('time (h)')\n",
    "ax1.set_ylabel('Zone T', color=color)\n",
    "ax1.plot(t, data1, color=color)\n",
    "ax1.tick_params(axis='y', labelcolor=color)\n",
    "ax1.set_ylim([17, 24])\n",
    "\n",
    "ax2 = ax1.twinx()  # instantiate a second axes that shares the same x-axis\n",
    "\n",
    "color = 'tab:blue'\n",
    "ax2.set_ylabel('Setpoint T', color=color)  # we already handled the x-label with ax1\n",
    "ax2.plot(t, data2, color=color)\n",
    "ax2.tick_params(axis='y', labelcolor=color)\n",
    "ax2.set_ylim([17, 24])\n",
    "plt.title('Optimized')\n",
    "fig.tight_layout()  # otherwise the right y-label is slightly clipped\n",
    "plt.show()\n",
    "\n"
   ]
  },
  {
   "cell_type": "code",
   "execution_count": 84,
   "id": "5d96d80d",
   "metadata": {},
   "outputs": [
    {
     "data": {
      "image/png": "[encoded data removed]",
      "text/plain": [
       "<Figure size 432x288 with 2 Axes>"
      ]
     },
     "metadata": {
      "needs_background": "light"
     },
     "output_type": "display_data"
    }
   ],
   "source": [
    "# Create some mock data\n",
    "t = np.arange(1, hours, 1)\n",
    "data1 = Heating[0:hours-1]/3.6E6 ##J to kWh\n",
    "data2 = PricePerKwh[0:hours-1]*3.4E6\n",
    "\n",
    "fig, ax1 = plt.subplots()\n",
    "\n",
    "color = 'tab:red'\n",
    "title = \"Temperature and Prices\"\n",
    "ax1.set_xlabel('time (h)')\n",
    "ax1.set_ylabel('Heating kWh', color=color)\n",
    "ax1.plot(t, data1, color=color)\n",
    "ax1.tick_params(axis='y', labelcolor=color)\n",
    "\n",
    "ax2 = ax1.twinx()  # instantiate a second axes that shares the same x-axis\n",
    "color = 'tab:blue'\n",
    "ax2.set_ylabel('$/kWh', color=color)  # we already handled the x-label with ax1\n",
    "ax2.plot(t, data2, color=color)\n",
    "ax2.tick_params(axis='y', labelcolor=color)\n",
    "\n",
    "fig.tight_layout()  # otherwise the right y-label is slightly clipped\n",
    "plt.show()"
   ]
  },
  {
   "cell_type": "code",
   "execution_count": 85,
   "id": "d7c6afd5",
   "metadata": {},
   "outputs": [
    {
     "data": {
      "text/plain": [
       "48    1.484245e+07\n",
       "49    1.253520e+07\n",
       "50    1.290767e+07\n",
       "51    1.251578e+07\n",
       "52    1.250329e+07\n",
       "53    1.193156e+07\n",
       "54    1.331642e+07\n",
       "55    1.421791e+07\n",
       "56    9.121921e+06\n",
       "57    6.560330e+06\n",
       "58    5.883402e+06\n",
       "59    6.521893e+06\n",
       "60    4.939703e+06\n",
       "61    4.886129e+06\n",
       "62    9.144205e+06\n",
       "63    8.195346e+06\n",
       "64    6.388103e+06\n",
       "65    8.983909e+06\n",
       "66    1.216807e+07\n",
       "67    1.330557e+07\n",
       "68    1.325031e+07\n",
       "69    1.527999e+07\n",
       "70    1.922212e+07\n",
       "71    1.859294e+07\n",
       "Name: General:Heating:Electricity [J](Hourly) , dtype: float64"
      ]
     },
     "execution_count": 85,
     "metadata": {},
     "output_type": "execute_result"
    }
   ],
   "source": [
    "Heating[0:hours]\n"
   ]
  },
  {
   "cell_type": "code",
   "execution_count": 87,
   "id": "b7b6532a",
   "metadata": {},
   "outputs": [
    {
     "name": "stdout",
     "output_type": "stream",
     "text": [
      "8.622318226021264\n"
     ]
    }
   ],
   "source": [
    "### Total Price for Time Period\n",
    "TotPrice = np.vdot(PricePerKwh[0:hours], Heating[0:hours])+5.60/31\n",
    "print(TotPrice)"
   ]
  },
  {
   "cell_type": "code",
   "execution_count": 88,
   "id": "e9271b40",
   "metadata": {},
   "outputs": [],
   "source": [
    "# # Create some mock data\n",
    "# t = np.arange(0, hours, 1)\n",
    "# data1 = Heating[0:hours]/3.6e6\n",
    "# data2 = PricePerKwh[0:hours]\n",
    "\n",
    "# fig, ax1 = plt.subplots()\n",
    "\n",
    "# color = 'tab:red'\n",
    "# title = \"Temperature and Prices\"\n",
    "# ax1.set_xlabel('time (h)')\n",
    "# ax1.set_ylabel('Heating kWh', color=color)\n",
    "# ax1.plot(t, data1, color=color)\n",
    "# ax1.tick_params(axis='y', labelcolor=color)\n",
    "\n",
    "# ax2 = ax1.twinx()  # instantiate a second axes that shares the same x-axis\n",
    "\n",
    "# color = 'tab:blue'\n",
    "# ax2.set_ylabel('$/kWh', color=color)  # we already handled the x-label with ax1\n",
    "# ax2.plot(t, data2, color=color)\n",
    "# ax2.tick_params(axis='y', labelcolor=color)\n",
    "\n",
    "# fig.tight_layout()  # otherwise the right y-label is slightly clipped\n",
    "# plt.show()"
   ]
  },
  {
   "cell_type": "code",
   "execution_count": null,
   "id": "2894c47f",
   "metadata": {},
   "outputs": [],
   "source": []
  },
  {
   "cell_type": "code",
   "execution_count": 40,
   "id": "742c1a4c",
   "metadata": {},
   "outputs": [],
   "source": [
    "idf_path2 = 'C:\\\\Users\\\\chmat\\\\Documents\\\\GenOpt\\\\1\\\\output\\\\output.expidf'\n",
    "epw_path2 = os.path.join(\"-w\",\n",
    "    eplus_dir_path,\n",
    "    \"WeatherData\",\n",
    "    \"USA_CO_Denver-Aurora-Buckley.AFB.724695_TMY3.epw\")\n"
   ]
  },
  {
   "cell_type": "code",
   "execution_count": 41,
   "id": "216c433d",
   "metadata": {},
   "outputs": [
    {
     "name": "stdout",
     "output_type": "stream",
     "text": [
      "C:\\Users\\chmat\\Documents\\GenOpt\\1\\output\\output.expidf\n"
     ]
    }
   ],
   "source": [
    "print(idf_path2)"
   ]
  },
  {
   "cell_type": "code",
   "execution_count": 112,
   "id": "cacf193d",
   "metadata": {},
   "outputs": [
    {
     "name": "stderr",
     "output_type": "stream",
     "text": [
      "called Simulation.from_input on a simulation directory that is not empty (Optimized)\n"
     ]
    },
    {
     "name": "stdout",
     "output_type": "stream",
     "text": [
      "status: finished\n",
      "\n",
      "Eplus .err file:\n",
      "Program Version,EnergyPlus, Version 9.6.0-f420c06a69, YMD=2022.04.07 14:37,\n",
      "   ** Warning ** Output:PreprocessorMessage=\"GroundTempCalc - Slab\" has the following Warning condition:\n",
      "   **   ~~~   ** Slab thickness [0.100 m] reset to 0.122 m  for computational stability.\n",
      "   ************* Beginning Zone Sizing Calculations\n",
      "   ** Warning ** CalculateZoneVolume: 1 zone is not fully enclosed. For more details use:  Output:Diagnostics,DisplayExtrawarnings; \n",
      "   ** Warning ** CheckUsedConstructions: There are 13 nominally unused constructions in input.\n",
      "   **   ~~~   ** For explicit details on each unused construction, use Output:Diagnostics,DisplayExtraWarnings;\n",
      "   ** Warning ** GetAirflowNetworkInput: AirflowNetwork:SimulationControl object, \n",
      "   **   ~~~   ** ..Specified AirflowNetwork Control = \"MultizoneWithDistribution\" and ZoneVentilation:* objects are present.\n",
      "   **   ~~~   ** ..ZoneVentilation objects will not be simulated.\n",
      "   ************* Beginning System Sizing Calculations\n",
      "   ** Warning ** The Standard Ratings is calculated for Coil:Cooling:DX:SingleSpeed = DX COOLING COIL_UNIT1 but not at the AHRI test condition due to curve out of bound.\n",
      "   **   ~~~   **  Review the Standard Ratings calculations in the Engineering Reference for this coil type. Also, use Output:Diagnostics, DisplayExtraWarnings for further guidance.\n",
      "   ** Warning ** Coil:WaterHeating:AirToWaterHeatPump:Wrapped \"HEAT PUMP WATER HEATER EVAPORATOR_UNIT1\": Rated air volume flow rate per watt of rated total water heating capacity is out of range\n",
      "   **   ~~~   ** Min Rated Vol Flow Per Watt=[4.027E-005], Rated Vol Flow Per Watt=[1.260E-004], Max Rated Vol Flow Per Watt=[8.056E-005]. See Input-Output Reference Manual for valid range.\n",
      "   ** Warning ** Water heater = WATER HEATER_TANK_UNIT1:  Recovery Efficiency and Energy Factor could not be calculated during the test for standard ratings\n",
      "   **   ~~~   ** Setpoint was never recovered and/or heater never turned on\n",
      "   ** Warning ** Check input. Pump nominal power or motor efficiency is set to 0, for pump=MAINS PRESSURE_UNIT1\n",
      "   ** Warning ** ValidateDistributionSystem: Heat pump water heater is simulated along with an AirflowNetwork but is not included in the AirflowNetwork.\n",
      "   ** Warning ** ValidateDistributionSystem: A ZoneHVAC:EnergyRecoveryVentilator is simulated along with an AirflowNetwork but is not included in the AirflowNetwork.\n",
      "   ************* Testing Individual Branch Integrity\n",
      "   ************* All Branches passed integrity testing\n",
      "   ************* Testing Individual Supply Air Path Integrity\n",
      "   ************* All Supply Air Paths passed integrity testing\n",
      "   ************* Testing Individual Return Air Path Integrity\n",
      "   ************* All Return Air Paths passed integrity testing\n",
      "   ************* No node connection errors were found.\n",
      "   ************* Beginning Simulation\n",
      "   ** Warning ** CalcEquipmentFlowRates: Target water temperature is greater than the hot water temperature\n",
      "   **   ~~~   **  During Warmup, Environment=DENVER-AURORA-BUCKLEY.AFB_CO_USA ANN HTG 99.6% CONDNS DB, at Simulation time=12/21 06:10 - 06:20\n",
      "   **   ~~~   ** ...target water temperature       = 48.889 C\n",
      "   **   ~~~   ** ...hot water temperature       = 48.871 C\n",
      "   **   ~~~   ** ...Note: target water temperature should be less than or equal to the hot water temperature\n",
      "   **   ~~~   ** ...Target water temperature should be less than or equal to the hot water temperature. Verify temperature setpoints and schedules.\n",
      "   ** Warning ** CalcEquipmentFlowRates: Target water temperature is greater than the hot water temperature\n",
      "   **   ~~~   **  During Warmup, Environment=DENVER-AURORA-BUCKLEY.AFB_CO_USA ANN HTG 99.6% CONDNS DB, at Simulation time=12/21 06:10 - 06:20\n",
      "   **   ~~~   ** ...target water temperature       = 48.889 C\n",
      "   **   ~~~   ** ...hot water temperature       = 48.871 C\n",
      "   **   ~~~   ** ...Note: target water temperature should be less than or equal to the hot water temperature\n",
      "   **   ~~~   ** ...Target water temperature should be less than or equal to the hot water temperature. Verify temperature setpoints and schedules.\n",
      "   ** Warning ** In Output:Table:Monthly 'COILLOADS' invalid Variable or Meter Name 'HEATING COIL AIR HEATING RATE'\n",
      "   ** Warning ** In Output:Table:Monthly 'WATER HEATER: LOADS' invalid Variable or Meter Name 'WATER HEATER TOTAL DEMAND RATE'\n",
      "   ** Warning ** In Output:Table:Monthly 'WATER HEATER: LOADS' invalid Variable or Meter Name 'WATER HEATER TOTAL DEMAND ENERGY'\n",
      "   ** Warning ** In Output:Table:Monthly 'LIGHTING LOADS' invalid Variable or Meter Name 'ZONE LIGHTS ELECTRIC CONSUMPTION'\n",
      "   ** Warning ** In Output:Table:Monthly 'LIGHTING LOADS' invalid Variable or Meter Name 'EXTERIOR LIGHTS ELECTRIC CONSUMPTION'\n",
      "   ** Warning ** In Output:Table:Monthly 'INTERNALGAINS' invalid Variable or Meter Name 'ZONE PEOPLE TOTAL HEAT GAIN'\n",
      "   ** Warning ** In Output:Table:Monthly 'INTERNALGAINS' invalid Variable or Meter Name 'ZONE LIGHTS TOTAL HEAT GAIN'\n",
      "   ** Warning ** In Output:Table:Monthly 'INTERNALGAINS' invalid Variable or Meter Name 'ZONE ELECTRIC EQUIPMENT TOTAL HEAT GAIN'\n",
      "   ** Warning ** In Output:Table:Monthly 'INTERNALGAINS' invalid Variable or Meter Name 'ZONE GAS EQUIPMENT TOTAL HEAT GAIN'\n",
      "   ** Warning ** In Output:Table:Monthly 'INTERNALGAINS' invalid Variable or Meter Name 'ZONE OTHER EQUIPMENT TOTAL HEAT GAIN'\n",
      "   ** Warning ** In Output:Table:Monthly 'INTERNALGAINS' invalid Variable or Meter Name 'ZONE TOTAL INTERNAL TOTAL HEAT GAIN'\n",
      "   ************* Simulation Error Summary *************\n",
      "   ************* There are 23 unused schedules in input.\n",
      "   ************* There are 18 unused week schedules in input.\n",
      "   ************* There are 26 unused day schedules in input.\n",
      "   ************* Use Output:Diagnostics,DisplayUnusedSchedules; to see them.\n",
      "   *************\n",
      "   ************* ===== Recurring Error Summary =====\n",
      "   ************* The following recurring error messages occurred.\n",
      "   *************\n",
      "   *************  ** Warning ** CLOTHES WASHER_UNIT1\" - Target water temperature should be less than or equal to the hot water temperature error continues...\n",
      "   *************  **   ~~~   **   This error occurred 59575 total times;\n",
      "   *************  **   ~~~   **   during Warmup 52095 times;\n",
      "   *************  **   ~~~   **   during Sizing 0 times.\n",
      "   *************  **   ~~~   **   Max=48.887323  Min=9.271447\n",
      "   *************\n",
      "   *************  ** Warning ** DISHWASHER_UNIT1\" - Target water temperature should be less than or equal to the hot water temperature error continues...\n",
      "   *************  **   ~~~   **   This error occurred 59575 total times;\n",
      "   *************  **   ~~~   **   during Warmup 52095 times;\n",
      "   *************  **   ~~~   **   during Sizing 0 times.\n",
      "   *************  **   ~~~   **   Max=48.887323  Min=9.271447\n",
      "   *************\n",
      "   *************\n",
      "   ************* ===== Final Error Summary =====\n",
      "   ************* The following error categories occurred.  Consider correcting or noting.\n",
      "   ************* Nominally Unused Constructions\n",
      "   ************* ..The nominally unused constructions warning is provided to alert you to potential conditions that can cause\n",
      "   ************* ..extra time during simulation. Each construction is calculated by the algorithm indicated in the HeatBalanceAlgorithm\n",
      "   ************* ..object. You may remove the constructions indicated (when you use the DisplayExtraWarnings option).\n",
      "   *************\n",
      "   ************* EnergyPlus Warmup Error Summary. During Warmup: 2 Warning; 0 Severe Errors.\n",
      "   ************* EnergyPlus Sizing Error Summary. During Sizing: 3 Warning; 0 Severe Errors.\n",
      "   ************* EnergyPlus Completed Successfully-- 119173 Warning; 0 Severe Errors; Elapsed Time=00hr 00min 18.10sec\n",
      "\n"
     ]
    }
   ],
   "source": [
    "# # run simulation\n",
    "s2 = op.simulate(idf_path2, epw_path2, \"Optimized\")\n",
    "print(f\"status: {s.get_status()}\\n\")\n",
    "print(f\"Eplus .err file:\\n{s.get_out_err().get_content()}\")"
   ]
  },
  {
   "cell_type": "code",
   "execution_count": 113,
   "id": "c19dcc9c",
   "metadata": {},
   "outputs": [
    {
     "data": {
      "text/html": [
       "<div>\n",
       "<style scoped>\n",
       "    .dataframe tbody tr th:only-of-type {\n",
       "        vertical-align: middle;\n",
       "    }\n",
       "\n",
       "    .dataframe tbody tr th {\n",
       "        vertical-align: top;\n",
       "    }\n",
       "\n",
       "    .dataframe thead th {\n",
       "        text-align: right;\n",
       "    }\n",
       "</style>\n",
       "<table border=\"1\" class=\"dataframe\">\n",
       "  <thead>\n",
       "    <tr style=\"text-align: right;\">\n",
       "      <th></th>\n",
       "      <th>Date/Time</th>\n",
       "      <th>Environment:Site Outdoor Air Drybulb Temperature [C](Hourly)</th>\n",
       "      <th>LIVING_UNIT1:Zone Mean Air Temperature [C](Hourly)</th>\n",
       "      <th>ATTIC_UNIT1:Zone Mean Air Temperature [C](Hourly)</th>\n",
       "      <th>LIVING_UNIT1:Zone Air Temperature [C](Hourly)</th>\n",
       "      <th>LIVING_UNIT1:Zone Thermostat Heating Setpoint Temperature [C](Hourly)</th>\n",
       "      <th>ATTIC_UNIT1:Zone Air Temperature [C](Hourly)</th>\n",
       "      <th>ATTIC_UNIT1:Zone Thermostat Heating Setpoint Temperature [C](Hourly)</th>\n",
       "      <th>Heating:Electricity [J](Hourly)</th>\n",
       "    </tr>\n",
       "  </thead>\n",
       "  <tbody>\n",
       "    <tr>\n",
       "      <th>48</th>\n",
       "      <td>01/01  01:00:00</td>\n",
       "      <td>-4.666667</td>\n",
       "      <td>19.644313</td>\n",
       "      <td>-2.360221</td>\n",
       "      <td>19.644313</td>\n",
       "      <td>19.70</td>\n",
       "      <td>-2.360221</td>\n",
       "      <td>0.0</td>\n",
       "      <td>1.631484e+07</td>\n",
       "    </tr>\n",
       "    <tr>\n",
       "      <th>49</th>\n",
       "      <td>01/01  02:00:00</td>\n",
       "      <td>-3.000000</td>\n",
       "      <td>19.407451</td>\n",
       "      <td>-0.451383</td>\n",
       "      <td>19.407451</td>\n",
       "      <td>19.40</td>\n",
       "      <td>-0.451383</td>\n",
       "      <td>0.0</td>\n",
       "      <td>1.006297e+07</td>\n",
       "    </tr>\n",
       "    <tr>\n",
       "      <th>50</th>\n",
       "      <td>01/01  03:00:00</td>\n",
       "      <td>-3.583333</td>\n",
       "      <td>18.517892</td>\n",
       "      <td>-0.903570</td>\n",
       "      <td>18.517892</td>\n",
       "      <td>18.50</td>\n",
       "      <td>-0.903570</td>\n",
       "      <td>0.0</td>\n",
       "      <td>6.907064e+06</td>\n",
       "    </tr>\n",
       "    <tr>\n",
       "      <th>51</th>\n",
       "      <td>01/01  04:00:00</td>\n",
       "      <td>-2.833333</td>\n",
       "      <td>18.500346</td>\n",
       "      <td>-0.492963</td>\n",
       "      <td>18.500346</td>\n",
       "      <td>18.50</td>\n",
       "      <td>-0.492963</td>\n",
       "      <td>0.0</td>\n",
       "      <td>7.594447e+06</td>\n",
       "    </tr>\n",
       "    <tr>\n",
       "      <th>52</th>\n",
       "      <td>01/01  05:00:00</td>\n",
       "      <td>-2.000000</td>\n",
       "      <td>18.500237</td>\n",
       "      <td>-0.249949</td>\n",
       "      <td>18.500237</td>\n",
       "      <td>18.50</td>\n",
       "      <td>-0.249949</td>\n",
       "      <td>0.0</td>\n",
       "      <td>7.875685e+06</td>\n",
       "    </tr>\n",
       "    <tr>\n",
       "      <th>53</th>\n",
       "      <td>01/01  06:00:00</td>\n",
       "      <td>-1.416667</td>\n",
       "      <td>18.500211</td>\n",
       "      <td>0.905201</td>\n",
       "      <td>18.500211</td>\n",
       "      <td>18.50</td>\n",
       "      <td>0.905201</td>\n",
       "      <td>0.0</td>\n",
       "      <td>7.516552e+06</td>\n",
       "    </tr>\n",
       "    <tr>\n",
       "      <th>54</th>\n",
       "      <td>01/01  07:00:00</td>\n",
       "      <td>-1.000000</td>\n",
       "      <td>18.002244</td>\n",
       "      <td>1.239194</td>\n",
       "      <td>18.002244</td>\n",
       "      <td>18.00</td>\n",
       "      <td>1.239194</td>\n",
       "      <td>0.0</td>\n",
       "      <td>7.672643e+06</td>\n",
       "    </tr>\n",
       "    <tr>\n",
       "      <th>55</th>\n",
       "      <td>01/01  08:00:00</td>\n",
       "      <td>-1.000000</td>\n",
       "      <td>18.495718</td>\n",
       "      <td>1.164350</td>\n",
       "      <td>18.495718</td>\n",
       "      <td>18.50</td>\n",
       "      <td>1.164350</td>\n",
       "      <td>0.0</td>\n",
       "      <td>1.021037e+07</td>\n",
       "    </tr>\n",
       "    <tr>\n",
       "      <th>56</th>\n",
       "      <td>01/01  09:00:00</td>\n",
       "      <td>-0.416667</td>\n",
       "      <td>18.500016</td>\n",
       "      <td>2.412507</td>\n",
       "      <td>18.500016</td>\n",
       "      <td>18.50</td>\n",
       "      <td>2.412507</td>\n",
       "      <td>0.0</td>\n",
       "      <td>6.270686e+06</td>\n",
       "    </tr>\n",
       "    <tr>\n",
       "      <th>57</th>\n",
       "      <td>01/01  10:00:00</td>\n",
       "      <td>1.166667</td>\n",
       "      <td>18.501964</td>\n",
       "      <td>3.320411</td>\n",
       "      <td>18.501964</td>\n",
       "      <td>18.50</td>\n",
       "      <td>3.320411</td>\n",
       "      <td>0.0</td>\n",
       "      <td>4.521347e+06</td>\n",
       "    </tr>\n",
       "    <tr>\n",
       "      <th>58</th>\n",
       "      <td>01/01  11:00:00</td>\n",
       "      <td>2.000000</td>\n",
       "      <td>18.595144</td>\n",
       "      <td>5.047053</td>\n",
       "      <td>18.595144</td>\n",
       "      <td>18.60</td>\n",
       "      <td>5.047053</td>\n",
       "      <td>0.0</td>\n",
       "      <td>3.831730e+06</td>\n",
       "    </tr>\n",
       "    <tr>\n",
       "      <th>59</th>\n",
       "      <td>01/01  12:00:00</td>\n",
       "      <td>1.416667</td>\n",
       "      <td>18.598516</td>\n",
       "      <td>4.453772</td>\n",
       "      <td>18.598516</td>\n",
       "      <td>18.60</td>\n",
       "      <td>4.453772</td>\n",
       "      <td>0.0</td>\n",
       "      <td>4.851467e+06</td>\n",
       "    </tr>\n",
       "    <tr>\n",
       "      <th>60</th>\n",
       "      <td>01/01  13:00:00</td>\n",
       "      <td>2.166667</td>\n",
       "      <td>19.982943</td>\n",
       "      <td>4.284438</td>\n",
       "      <td>19.982943</td>\n",
       "      <td>20.00</td>\n",
       "      <td>4.284438</td>\n",
       "      <td>0.0</td>\n",
       "      <td>6.134001e+06</td>\n",
       "    </tr>\n",
       "    <tr>\n",
       "      <th>61</th>\n",
       "      <td>01/01  14:00:00</td>\n",
       "      <td>2.416667</td>\n",
       "      <td>19.996919</td>\n",
       "      <td>4.191938</td>\n",
       "      <td>19.996919</td>\n",
       "      <td>20.00</td>\n",
       "      <td>4.191938</td>\n",
       "      <td>0.0</td>\n",
       "      <td>4.593703e+06</td>\n",
       "    </tr>\n",
       "    <tr>\n",
       "      <th>62</th>\n",
       "      <td>01/01  15:00:00</td>\n",
       "      <td>1.416667</td>\n",
       "      <td>18.207411</td>\n",
       "      <td>2.539667</td>\n",
       "      <td>18.207411</td>\n",
       "      <td>18.00</td>\n",
       "      <td>2.539667</td>\n",
       "      <td>0.0</td>\n",
       "      <td>2.919160e+06</td>\n",
       "    </tr>\n",
       "    <tr>\n",
       "      <th>63</th>\n",
       "      <td>01/01  16:00:00</td>\n",
       "      <td>1.000000</td>\n",
       "      <td>18.003883</td>\n",
       "      <td>2.358853</td>\n",
       "      <td>18.003883</td>\n",
       "      <td>18.00</td>\n",
       "      <td>2.358853</td>\n",
       "      <td>0.0</td>\n",
       "      <td>4.756741e+06</td>\n",
       "    </tr>\n",
       "    <tr>\n",
       "      <th>64</th>\n",
       "      <td>01/01  17:00:00</td>\n",
       "      <td>0.416667</td>\n",
       "      <td>17.998526</td>\n",
       "      <td>1.730244</td>\n",
       "      <td>17.998526</td>\n",
       "      <td>18.00</td>\n",
       "      <td>1.730244</td>\n",
       "      <td>0.0</td>\n",
       "      <td>3.745894e+06</td>\n",
       "    </tr>\n",
       "    <tr>\n",
       "      <th>65</th>\n",
       "      <td>01/01  18:00:00</td>\n",
       "      <td>-0.583333</td>\n",
       "      <td>18.997259</td>\n",
       "      <td>0.955424</td>\n",
       "      <td>18.997259</td>\n",
       "      <td>19.00</td>\n",
       "      <td>0.955424</td>\n",
       "      <td>0.0</td>\n",
       "      <td>6.620698e+06</td>\n",
       "    </tr>\n",
       "    <tr>\n",
       "      <th>66</th>\n",
       "      <td>01/01  19:00:00</td>\n",
       "      <td>-1.583333</td>\n",
       "      <td>18.488669</td>\n",
       "      <td>0.028905</td>\n",
       "      <td>18.488669</td>\n",
       "      <td>18.50</td>\n",
       "      <td>0.028905</td>\n",
       "      <td>0.0</td>\n",
       "      <td>6.683762e+06</td>\n",
       "    </tr>\n",
       "    <tr>\n",
       "      <th>67</th>\n",
       "      <td>01/01  20:00:00</td>\n",
       "      <td>-3.166667</td>\n",
       "      <td>18.500222</td>\n",
       "      <td>-1.563857</td>\n",
       "      <td>18.500222</td>\n",
       "      <td>18.50</td>\n",
       "      <td>-1.563857</td>\n",
       "      <td>0.0</td>\n",
       "      <td>9.620555e+06</td>\n",
       "    </tr>\n",
       "    <tr>\n",
       "      <th>68</th>\n",
       "      <td>01/01  21:00:00</td>\n",
       "      <td>-4.583333</td>\n",
       "      <td>18.500084</td>\n",
       "      <td>-2.854524</td>\n",
       "      <td>18.500084</td>\n",
       "      <td>18.50</td>\n",
       "      <td>-2.854524</td>\n",
       "      <td>0.0</td>\n",
       "      <td>9.733632e+06</td>\n",
       "    </tr>\n",
       "    <tr>\n",
       "      <th>69</th>\n",
       "      <td>01/01  22:00:00</td>\n",
       "      <td>-5.583333</td>\n",
       "      <td>18.743189</td>\n",
       "      <td>-3.137124</td>\n",
       "      <td>18.743189</td>\n",
       "      <td>18.75</td>\n",
       "      <td>-3.137124</td>\n",
       "      <td>0.0</td>\n",
       "      <td>1.007191e+07</td>\n",
       "    </tr>\n",
       "    <tr>\n",
       "      <th>70</th>\n",
       "      <td>01/01  23:00:00</td>\n",
       "      <td>-6.583333</td>\n",
       "      <td>18.501591</td>\n",
       "      <td>-4.412091</td>\n",
       "      <td>18.501591</td>\n",
       "      <td>18.50</td>\n",
       "      <td>-4.412091</td>\n",
       "      <td>0.0</td>\n",
       "      <td>1.218884e+07</td>\n",
       "    </tr>\n",
       "    <tr>\n",
       "      <th>71</th>\n",
       "      <td>01/01  24:00:00</td>\n",
       "      <td>-7.000000</td>\n",
       "      <td>18.004650</td>\n",
       "      <td>-5.327637</td>\n",
       "      <td>18.004650</td>\n",
       "      <td>18.00</td>\n",
       "      <td>-5.327637</td>\n",
       "      <td>0.0</td>\n",
       "      <td>1.451067e+07</td>\n",
       "    </tr>\n",
       "  </tbody>\n",
       "</table>\n",
       "</div>"
      ],
      "text/plain": [
       "           Date/Time  \\\n",
       "48   01/01  01:00:00   \n",
       "49   01/01  02:00:00   \n",
       "50   01/01  03:00:00   \n",
       "51   01/01  04:00:00   \n",
       "52   01/01  05:00:00   \n",
       "53   01/01  06:00:00   \n",
       "54   01/01  07:00:00   \n",
       "55   01/01  08:00:00   \n",
       "56   01/01  09:00:00   \n",
       "57   01/01  10:00:00   \n",
       "58   01/01  11:00:00   \n",
       "59   01/01  12:00:00   \n",
       "60   01/01  13:00:00   \n",
       "61   01/01  14:00:00   \n",
       "62   01/01  15:00:00   \n",
       "63   01/01  16:00:00   \n",
       "64   01/01  17:00:00   \n",
       "65   01/01  18:00:00   \n",
       "66   01/01  19:00:00   \n",
       "67   01/01  20:00:00   \n",
       "68   01/01  21:00:00   \n",
       "69   01/01  22:00:00   \n",
       "70   01/01  23:00:00   \n",
       "71   01/01  24:00:00   \n",
       "\n",
       "    Environment:Site Outdoor Air Drybulb Temperature [C](Hourly)  \\\n",
       "48                                          -4.666667              \n",
       "49                                          -3.000000              \n",
       "50                                          -3.583333              \n",
       "51                                          -2.833333              \n",
       "52                                          -2.000000              \n",
       "53                                          -1.416667              \n",
       "54                                          -1.000000              \n",
       "55                                          -1.000000              \n",
       "56                                          -0.416667              \n",
       "57                                           1.166667              \n",
       "58                                           2.000000              \n",
       "59                                           1.416667              \n",
       "60                                           2.166667              \n",
       "61                                           2.416667              \n",
       "62                                           1.416667              \n",
       "63                                           1.000000              \n",
       "64                                           0.416667              \n",
       "65                                          -0.583333              \n",
       "66                                          -1.583333              \n",
       "67                                          -3.166667              \n",
       "68                                          -4.583333              \n",
       "69                                          -5.583333              \n",
       "70                                          -6.583333              \n",
       "71                                          -7.000000              \n",
       "\n",
       "    LIVING_UNIT1:Zone Mean Air Temperature [C](Hourly)  \\\n",
       "48                                          19.644313    \n",
       "49                                          19.407451    \n",
       "50                                          18.517892    \n",
       "51                                          18.500346    \n",
       "52                                          18.500237    \n",
       "53                                          18.500211    \n",
       "54                                          18.002244    \n",
       "55                                          18.495718    \n",
       "56                                          18.500016    \n",
       "57                                          18.501964    \n",
       "58                                          18.595144    \n",
       "59                                          18.598516    \n",
       "60                                          19.982943    \n",
       "61                                          19.996919    \n",
       "62                                          18.207411    \n",
       "63                                          18.003883    \n",
       "64                                          17.998526    \n",
       "65                                          18.997259    \n",
       "66                                          18.488669    \n",
       "67                                          18.500222    \n",
       "68                                          18.500084    \n",
       "69                                          18.743189    \n",
       "70                                          18.501591    \n",
       "71                                          18.004650    \n",
       "\n",
       "    ATTIC_UNIT1:Zone Mean Air Temperature [C](Hourly)  \\\n",
       "48                                          -2.360221   \n",
       "49                                          -0.451383   \n",
       "50                                          -0.903570   \n",
       "51                                          -0.492963   \n",
       "52                                          -0.249949   \n",
       "53                                           0.905201   \n",
       "54                                           1.239194   \n",
       "55                                           1.164350   \n",
       "56                                           2.412507   \n",
       "57                                           3.320411   \n",
       "58                                           5.047053   \n",
       "59                                           4.453772   \n",
       "60                                           4.284438   \n",
       "61                                           4.191938   \n",
       "62                                           2.539667   \n",
       "63                                           2.358853   \n",
       "64                                           1.730244   \n",
       "65                                           0.955424   \n",
       "66                                           0.028905   \n",
       "67                                          -1.563857   \n",
       "68                                          -2.854524   \n",
       "69                                          -3.137124   \n",
       "70                                          -4.412091   \n",
       "71                                          -5.327637   \n",
       "\n",
       "    LIVING_UNIT1:Zone Air Temperature [C](Hourly)  \\\n",
       "48                                      19.644313   \n",
       "49                                      19.407451   \n",
       "50                                      18.517892   \n",
       "51                                      18.500346   \n",
       "52                                      18.500237   \n",
       "53                                      18.500211   \n",
       "54                                      18.002244   \n",
       "55                                      18.495718   \n",
       "56                                      18.500016   \n",
       "57                                      18.501964   \n",
       "58                                      18.595144   \n",
       "59                                      18.598516   \n",
       "60                                      19.982943   \n",
       "61                                      19.996919   \n",
       "62                                      18.207411   \n",
       "63                                      18.003883   \n",
       "64                                      17.998526   \n",
       "65                                      18.997259   \n",
       "66                                      18.488669   \n",
       "67                                      18.500222   \n",
       "68                                      18.500084   \n",
       "69                                      18.743189   \n",
       "70                                      18.501591   \n",
       "71                                      18.004650   \n",
       "\n",
       "    LIVING_UNIT1:Zone Thermostat Heating Setpoint Temperature [C](Hourly)  \\\n",
       "48                                              19.70                       \n",
       "49                                              19.40                       \n",
       "50                                              18.50                       \n",
       "51                                              18.50                       \n",
       "52                                              18.50                       \n",
       "53                                              18.50                       \n",
       "54                                              18.00                       \n",
       "55                                              18.50                       \n",
       "56                                              18.50                       \n",
       "57                                              18.50                       \n",
       "58                                              18.60                       \n",
       "59                                              18.60                       \n",
       "60                                              20.00                       \n",
       "61                                              20.00                       \n",
       "62                                              18.00                       \n",
       "63                                              18.00                       \n",
       "64                                              18.00                       \n",
       "65                                              19.00                       \n",
       "66                                              18.50                       \n",
       "67                                              18.50                       \n",
       "68                                              18.50                       \n",
       "69                                              18.75                       \n",
       "70                                              18.50                       \n",
       "71                                              18.00                       \n",
       "\n",
       "    ATTIC_UNIT1:Zone Air Temperature [C](Hourly)  \\\n",
       "48                                     -2.360221   \n",
       "49                                     -0.451383   \n",
       "50                                     -0.903570   \n",
       "51                                     -0.492963   \n",
       "52                                     -0.249949   \n",
       "53                                      0.905201   \n",
       "54                                      1.239194   \n",
       "55                                      1.164350   \n",
       "56                                      2.412507   \n",
       "57                                      3.320411   \n",
       "58                                      5.047053   \n",
       "59                                      4.453772   \n",
       "60                                      4.284438   \n",
       "61                                      4.191938   \n",
       "62                                      2.539667   \n",
       "63                                      2.358853   \n",
       "64                                      1.730244   \n",
       "65                                      0.955424   \n",
       "66                                      0.028905   \n",
       "67                                     -1.563857   \n",
       "68                                     -2.854524   \n",
       "69                                     -3.137124   \n",
       "70                                     -4.412091   \n",
       "71                                     -5.327637   \n",
       "\n",
       "    ATTIC_UNIT1:Zone Thermostat Heating Setpoint Temperature [C](Hourly)  \\\n",
       "48                                                0.0                      \n",
       "49                                                0.0                      \n",
       "50                                                0.0                      \n",
       "51                                                0.0                      \n",
       "52                                                0.0                      \n",
       "53                                                0.0                      \n",
       "54                                                0.0                      \n",
       "55                                                0.0                      \n",
       "56                                                0.0                      \n",
       "57                                                0.0                      \n",
       "58                                                0.0                      \n",
       "59                                                0.0                      \n",
       "60                                                0.0                      \n",
       "61                                                0.0                      \n",
       "62                                                0.0                      \n",
       "63                                                0.0                      \n",
       "64                                                0.0                      \n",
       "65                                                0.0                      \n",
       "66                                                0.0                      \n",
       "67                                                0.0                      \n",
       "68                                                0.0                      \n",
       "69                                                0.0                      \n",
       "70                                                0.0                      \n",
       "71                                                0.0                      \n",
       "\n",
       "    Heating:Electricity [J](Hourly)   \n",
       "48                      1.631484e+07  \n",
       "49                      1.006297e+07  \n",
       "50                      6.907064e+06  \n",
       "51                      7.594447e+06  \n",
       "52                      7.875685e+06  \n",
       "53                      7.516552e+06  \n",
       "54                      7.672643e+06  \n",
       "55                      1.021037e+07  \n",
       "56                      6.270686e+06  \n",
       "57                      4.521347e+06  \n",
       "58                      3.831730e+06  \n",
       "59                      4.851467e+06  \n",
       "60                      6.134001e+06  \n",
       "61                      4.593703e+06  \n",
       "62                      2.919160e+06  \n",
       "63                      4.756741e+06  \n",
       "64                      3.745894e+06  \n",
       "65                      6.620698e+06  \n",
       "66                      6.683762e+06  \n",
       "67                      9.620555e+06  \n",
       "68                      9.733632e+06  \n",
       "69                      1.007191e+07  \n",
       "70                      1.218884e+07  \n",
       "71                      1.451067e+07  "
      ]
     },
     "execution_count": 113,
     "metadata": {},
     "output_type": "execute_result"
    }
   ],
   "source": [
    "opt_df = pd.read_csv('C:\\\\Users\\\\chmat\\\\Documents\\\\GenOpt\\\\1\\\\output\\\\output.csv')\n",
    "opt_df[48:72]\n",
    "#opt_df.keys()"
   ]
  },
  {
   "cell_type": "code",
   "execution_count": 114,
   "id": "21a1401a",
   "metadata": {},
   "outputs": [
    {
     "name": "stdout",
     "output_type": "stream",
     "text": [
      "48    1.623497e+07\n",
      "49    1.001451e+07\n",
      "50    6.875631e+06\n",
      "51    7.566954e+06\n",
      "52    7.854073e+06\n",
      "53    7.499698e+06\n",
      "54    7.661720e+06\n",
      "55    1.019925e+07\n",
      "56    6.261655e+06\n",
      "57    4.518071e+06\n",
      "58    3.829304e+06\n",
      "59    4.849901e+06\n",
      "60    3.691578e+06\n",
      "61    3.203965e+06\n",
      "62    6.392093e+06\n",
      "63    8.762676e+06\n",
      "64    6.231487e+06\n",
      "65    4.850577e+06\n",
      "66    5.761203e+06\n",
      "67    9.081010e+06\n",
      "68    9.413741e+06\n",
      "69    9.871161e+06\n",
      "70    1.206212e+07\n",
      "Name: Heating:Electricity [J](Hourly) , dtype: float64\n"
     ]
    }
   ],
   "source": [
    "ZoneT2 = opt_df[[\"LIVING_UNIT1:Zone Mean Air Temperature [C](Hourly)\"]]\n",
    "OutsideT2 = opt_df[\"Environment:Site Outdoor Air Drybulb Temperature [C](Hourly)\"]\n",
    "Heating2 = opt_df[\"Heating:Electricity [J](Hourly) \"][48:72]\n",
    "Setpoint2 = opt_df[\"LIVING_UNIT1:Zone Thermostat Heating Setpoint Temperature [C](Hourly)\"]\n",
    "#Notmet = sum (df[\"living_unit1,Zone Heating Setpoint Not Met While Occupied Time\"])\n",
    "#PeopleE= df['living_unit1,Zone People Total Heating Energy']\n",
    "# monthly resample and display\n",
    "# print(df[[\n",
    "#     \"living_unit1,Zone Mean Air Temperature\",\n",
    "# ]])\n",
    "print(Heating)"
   ]
  },
  {
   "cell_type": "code",
   "execution_count": 115,
   "id": "0e70a79e",
   "metadata": {},
   "outputs": [
    {
     "name": "stdout",
     "output_type": "stream",
     "text": [
      "0.1726873582413589GJ\n",
      "47.9687106225997kWh\n"
     ]
    }
   ],
   "source": [
    "print( str(sum (Heating[0:hours]/1000000000)) + 'GJ')\n",
    "print( str(sum (Heating[0:hours]/3.6e6)) + 'kWh')"
   ]
  },
  {
   "cell_type": "code",
   "execution_count": 116,
   "id": "180a39f2",
   "metadata": {},
   "outputs": [
    {
     "data": {
      "text/plain": [
       "(24,)"
      ]
     },
     "execution_count": 116,
     "metadata": {},
     "output_type": "execute_result"
    }
   ],
   "source": [
    "np.shape(Heating2)"
   ]
  },
  {
   "cell_type": "code",
   "execution_count": null,
   "id": "7831b623",
   "metadata": {},
   "outputs": [],
   "source": []
  },
  {
   "cell_type": "code",
   "execution_count": 117,
   "id": "15cb3151",
   "metadata": {},
   "outputs": [
    {
     "data": {
      "image/png": "[encoded data removed]",
      "text/plain": [
       "<Figure size 432x288 with 2 Axes>"
      ]
     },
     "metadata": {
      "needs_background": "light"
     },
     "output_type": "display_data"
    }
   ],
   "source": [
    "# Create som mock data\n",
    "hours = 24\n",
    "t = np.arange(0, hours, 1)\n",
    "data1 = ZoneT2[0:hours]\n",
    "data2 = Setpoint2[0:hours]\n",
    "\n",
    "fig, ax1 = plt.subplots()\n",
    "\n",
    "color = 'tab:red'\n",
    "title = \"Temperature Setpoint & Actual\"\n",
    "ax1.set_xlabel('time (h)')\n",
    "ax1.set_ylabel('Zone T', color=color)\n",
    "ax1.plot(t, data1, color=color)\n",
    "ax1.tick_params(axis='y', labelcolor=color)\n",
    "ax1.set_ylim([17, 24])\n",
    "\n",
    "ax2 = ax1.twinx()  # instantiate a second axes that shares the same x-axis\n",
    "\n",
    "color = 'tab:blue'\n",
    "ax2.set_ylabel('Setpoint T', color=color)  # we already handled the x-label with ax1\n",
    "ax2.plot(t, data2, color=color)\n",
    "ax2.tick_params(axis='y', labelcolor=color)\n",
    "ax2.set_ylim([17, 24])\n",
    "\n",
    "fig.tight_layout()  # otherwise the right y-label is slightly clipped\n",
    "plt.show()\n"
   ]
  },
  {
   "cell_type": "code",
   "execution_count": 119,
   "id": "f21ba716",
   "metadata": {},
   "outputs": [
    {
     "data": {
      "image/png": "[encoded data removed]",
      "text/plain": [
       "<Figure size 432x288 with 2 Axes>"
      ]
     },
     "metadata": {
      "needs_background": "light"
     },
     "output_type": "display_data"
    }
   ],
   "source": [
    "# Create some mock data\n",
    "t = np.arange(0, hours, 1)\n",
    "data1 = Heating2[0:hours]/3.6e6\n",
    "data2 = PricePerKwh[0:hours]*3.6E6\n",
    "\n",
    "fig, ax1 = plt.subplots()\n",
    "\n",
    "color = 'tab:red'\n",
    "title = \"Temperature and Prices\"\n",
    "ax1.set_xlabel('time (h)')\n",
    "ax1.set_ylabel('Heating kWh', color=color)\n",
    "ax1.plot(t, data1, color=color)\n",
    "ax1.tick_params(axis='y', labelcolor=color)\n",
    "\n",
    "ax2 = ax1.twinx()  # instantiate a second axes that shares the same x-axis\n",
    "\n",
    "color = 'tab:blue'\n",
    "ax2.set_ylabel('$/kWh', color=color)  # we already handled the x-label with ax1\n",
    "ax2.plot(t, data2, color=color)\n",
    "ax2.tick_params(axis='y', labelcolor=color)\n",
    "\n",
    "fig.tight_layout()  # otherwise the right y-label is slightly clipped\n",
    "plt.show()"
   ]
  },
  {
   "cell_type": "code",
   "execution_count": 123,
   "id": "aa5d812c",
   "metadata": {},
   "outputs": [
    {
     "name": "stdout",
     "output_type": "stream",
     "text": [
      "5.951924716026955\n"
     ]
    }
   ],
   "source": [
    "### Total Price for Time Period\n",
    "TotPrice2 = np.vdot(PricePerKwh[0:hours], Heating2[0:hours])+5.60/31\n",
    "print(TotPrice2)"
   ]
  },
  {
   "cell_type": "code",
   "execution_count": 122,
   "id": "0d72310b",
   "metadata": {},
   "outputs": [
    {
     "name": "stdout",
     "output_type": "stream",
     "text": [
      "MINIMUM PRICE $ 5.951924716026955\n",
      "BASELINE PRICE $ 8.622318226021264\n"
     ]
    }
   ],
   "source": [
    "#TotPrice2 = np.vdot(PricePerKwh[1:hours], Heating2[1:hours]/3.6e6)\n",
    "print(\"MINIMUM PRICE $ \" + str(TotPrice2))\n",
    "print(\"BASELINE PRICE $ \" + str(TotPrice))\n"
   ]
  },
  {
   "cell_type": "code",
   "execution_count": 124,
   "id": "6096a66c",
   "metadata": {},
   "outputs": [
    {
     "name": "stdout",
     "output_type": "stream",
     "text": [
      "47.96871062259969\n",
      "51.447043797560276\n"
     ]
    }
   ],
   "source": [
    "#Energy Comparison\n",
    "print (sum(Heating[0:hours])/3.6e6)\n",
    "print (sum(Heating2[0:hours])/3.6e6)"
   ]
  },
  {
   "cell_type": "markdown",
   "id": "d60aca57",
   "metadata": {},
   "source": [
    "# RATING ANOTHER SCHEDULE"
   ]
  },
  {
   "cell_type": "code",
   "execution_count": 151,
   "id": "b7b44791",
   "metadata": {},
   "outputs": [
    {
     "name": "stdout",
     "output_type": "stream",
     "text": [
      "4.642317879508776\n",
      "0\n",
      "5.0\n"
     ]
    }
   ],
   "source": [
    "#Schedule Rating\n",
    "MaxP = TotPrice\n",
    "MinP = TotPrice2\n",
    "DayPrice = 1.2\n",
    "PriceRating = (1-(DayPrice-MinP)/(MaxP-MinP))*5\n",
    "if (PriceRating > 5):\n",
    "    PriceRating=5\n",
    "    \n",
    "print(PriceRating)\n",
    "\n",
    "##Comfort Rating\n",
    "## Preffered point not met while occupied \n",
    "PrefT = 21\n",
    "count =0\n",
    "\n",
    "for i in range (23):\n",
    "    T = ZoneT2['living_unit1,Zone Mean Air Temperature'][i]\n",
    "    if (i <7 or i>17):\n",
    "        if ((T-PrefT)> 1.25):\n",
    "            count = count+1\n",
    "print(count)  \n",
    "\n",
    "TRating = (1-(count/24))*5\n",
    "if (TRating > 5):\n",
    "    TRating=5\n",
    "    \n",
    "print(TRating)"
   ]
  },
  {
   "cell_type": "code",
   "execution_count": null,
   "id": "63cbfef9",
   "metadata": {},
   "outputs": [],
   "source": []
  },
  {
   "cell_type": "code",
   "execution_count": 153,
   "id": "6b850110",
   "metadata": {},
   "outputs": [
    {
     "name": "stdout",
     "output_type": "stream",
     "text": [
      "RATING:4.821158939754389\n"
     ]
    }
   ],
   "source": [
    "Rating = 0.5*PriceRating + 0.5*TRating\n",
    "print('RATING:' +str(Rating))"
   ]
  },
  {
   "cell_type": "markdown",
   "id": "33e6eb36",
   "metadata": {},
   "source": [
    "TEST BELOW"
   ]
  },
  {
   "cell_type": "code",
   "execution_count": null,
   "id": "a8e7a4b7",
   "metadata": {},
   "outputs": [],
   "source": []
  },
  {
   "cell_type": "code",
   "execution_count": null,
   "id": "bf5f97c3",
   "metadata": {},
   "outputs": [],
   "source": []
  },
  {
   "cell_type": "markdown",
   "id": "3654c8eb",
   "metadata": {},
   "source": [
    "Add Constraints"
   ]
  },
  {
   "cell_type": "code",
   "execution_count": null,
   "id": "db2b8110",
   "metadata": {},
   "outputs": [],
   "source": [
    "# s = op.simulate(idf_path, epw_path, \"Baseline\")\n",
    "# print(f\"status: {s.get_status()}\\n\")\n",
    "# print(f\"Eplus .err file:\\n{s.get_out_err().get_content()}\")\n",
    "\n",
    "ZoneT = df[[\"living_unit1,Zone Mean Air Temperature\"]][1:hours]\n",
    "Heating = df[\"heating:electricity,Meter\"][1:hours]\n",
    "print(ZoneT['living_unit1,Zone Mean Air Temperature'][9])"
   ]
  },
  {
   "cell_type": "code",
   "execution_count": null,
   "id": "0844c422",
   "metadata": {},
   "outputs": [],
   "source": [
    "model.addConstrs((ZoneT['living_unit1,Zone Mean Air Temperature'][i] <= 24.0 for i in range(hours)), name='T_max')\n",
    "model.addConstrs((ZoneT['living_unit1,Zone Mean Air Temperature'][i] >= 18.0 for i in range(hours)), name='T_min')\n",
    "\n",
    "##Maybe the setpoint can be higher... as long as the actual temperature is within comfort"
   ]
  },
  {
   "cell_type": "code",
   "execution_count": null,
   "id": "ae77f92e",
   "metadata": {},
   "outputs": [],
   "source": [
    "\n",
    "Cost = PricePerKwh.values.flatten()\n",
    "a = Cost[0:hours]\n",
    "A = sp.diags(a)"
   ]
  },
  {
   "cell_type": "code",
   "execution_count": null,
   "id": "af9e68e7",
   "metadata": {},
   "outputs": [],
   "source": [
    "\n",
    "\n",
    "# Solve\n",
    "model.optimize()\n",
    "printSolution()\n"
   ]
  },
  {
   "cell_type": "code",
   "execution_count": null,
   "id": "6041ec30",
   "metadata": {},
   "outputs": [],
   "source": [
    " # plotting the points\n",
    "Opt_T = model.printAttr('T_Setpoints')\n",
    "t = np.arange(1, hours, 1)\n",
    "print(Opt_T[1])\n",
    "# plt.plot(t,t)"
   ]
  },
  {
   "cell_type": "code",
   "execution_count": null,
   "id": "f7e7e989",
   "metadata": {},
   "outputs": [],
   "source": [
    "##Convert J to kWh\n",
    "Heating = Heating / 3.6E6"
   ]
  },
  {
   "cell_type": "code",
   "execution_count": null,
   "id": "f3fa59e5",
   "metadata": {},
   "outputs": [],
   "source": [
    "# Create some mock data\n",
    "t = np.arange(1, 24*30, 1)\n",
    "data1 = Heating[1:24*30]\n",
    "data2 = ZoneT[1:24*30]\n",
    "\n",
    "fig, ax1 = plt.subplots()\n",
    "\n",
    "color = 'tab:red'\n",
    "ax1.set_xlabel('time (h)')\n",
    "ax1.set_ylabel('Heating Elec (Kwh)', color=color)\n",
    "ax1.plot(t, data1, color=color)\n",
    "ax1.tick_params(axis='y', labelcolor=color)\n",
    "\n",
    "ax2 = ax1.twinx()  # instantiate a second axes that shares the same x-axis\n",
    "\n",
    "color = 'tab:blue'\n",
    "ax2.set_ylabel('ZoneT', color=color)  # we already handled the x-label with ax1\n",
    "ax2.plot(t, data2, color=color)\n",
    "ax2.tick_params(axis='y', labelcolor=color)\n",
    "\n",
    "fig.tight_layout()  # otherwise the right y-label is slightly clipped\n",
    "plt.show()\n"
   ]
  },
  {
   "cell_type": "code",
   "execution_count": null,
   "id": "8fb59bd7",
   "metadata": {},
   "outputs": [],
   "source": [
    "## Just January to Test ####\n",
    "## Elec Heating\n",
    "plt.plot(ZoneT[1:24*60])\n",
    "# naming the x axis\n",
    "plt.xlabel('Date')\n",
    "# naming the y axis\n",
    "plt.ylabel('Heating Electricity (kWh)')\n",
    " \n",
    "# giving a title to my graph\n",
    "plt.title('Zone Temperature')"
   ]
  },
  {
   "cell_type": "code",
   "execution_count": null,
   "id": "ef7e9a51",
   "metadata": {},
   "outputs": [],
   "source": []
  }
 ],
 "metadata": {
  "kernelspec": {
   "display_name": "Python 3",
   "language": "python",
   "name": "python3"
  },
  "language_info": {
   "codemirror_mode": {
    "name": "ipython",
    "version": 3
   },
   "file_extension": ".py",
   "mimetype": "text/x-python",
   "name": "python",
   "nbconvert_exporter": "python",
   "pygments_lexer": "ipython3",
   "version": "3.8.8"
  }
 },
 "nbformat": 4,
 "nbformat_minor": 5
}
